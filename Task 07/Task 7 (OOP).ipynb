{
 "cells": [
  {
   "cell_type": "markdown",
   "metadata": {},
   "source": [
    "# Object Oriented Programming\n",
    "\n",
    "#### What is OOP ?\n",
    " \n",
    "Object-oriented programming is a programming paradigm that provides a means of structuring programs so that properties and behaviors are bundled into individual objects. For example, an object could represent a person with properties like a name, age, and address and behaviors such as walking, talking, breathing, and running.\n",
    "\n",
    "#### Why OOP is used ?\n",
    "\n",
    "Object-oriented programming (OOP) is a programming paradigm that allows you to package together data states and functionality to modify those data states, while keeping the details hidden away (like with the lightbulb). As a result, code with OOP design is <span style = \"color : green; font-weight : bold\">flexible</span>, <span style = \"color : darkorange; font-weight : bold\">modular</span>, and <span style = \"color : blueviolet; font-weight : bold\">abstract</span>."
   ]
  },
  {
   "cell_type": "markdown",
   "metadata": {},
   "source": [
    "## Classes And Objects\n",
    "\n",
    "### Class\n",
    "A class is a template for creating objects. It defines a set of attributes and methods that the objects created from the class will have. Class can be created using `'class'` keyword with the class name afterward.\n",
    "\n",
    "All classes must need constructors.\n",
    "\n",
    "#### What are constructor ?\n",
    "A constructor is a special member function of a class that is automatically called when an object of that class is created. We can create a constructor using   \n",
    "`def __init__(self)`"
   ]
  },
  {
   "cell_type": "code",
   "execution_count": 1,
   "metadata": {},
   "outputs": [],
   "source": [
    "class Car:\n",
    "    def __init__(self, carName , brand): # In this line after self we write carName and brand which are the attributes of class Car.\n",
    "        self.carName = carName # self.carName is an instance attribute, and carName is the parameter value passed during instantiation\n",
    "        self.brand = brand # # self.brand is an instance attribute, and brand is the parameter value passed during instantiation \n",
    "    \n",
    "    def showDetails(self): # This is an class method\n",
    "        print(f\"{self.carName} is an sports car, made by {self.brand}\")\n"
   ]
  },
  {
   "cell_type": "markdown",
   "metadata": {},
   "source": [
    "### Objects\n",
    "Objects are instances of a class, created by calling the class itself like a function. They encapsulate both data (attributes) and behaviors (methods) defined in the class. Objects access these attributes and methods using dot notation.Here i am using above Car class for example"
   ]
  },
  {
   "cell_type": "code",
   "execution_count": 3,
   "metadata": {},
   "outputs": [
    {
     "name": "stdout",
     "output_type": "stream",
     "text": [
      "RX7\n",
      "Mazda\n",
      "RX7 is an sports car, made by Mazda\n"
     ]
    }
   ],
   "source": [
    "class Car:\n",
    "    def __init__(self, carName , brand): # In this line after self we write carName and brand which are the attributes of class Car.\n",
    "        self.carName = carName # self.carName is an instance attribute, and carName is the parameter value passed during instantiation\n",
    "        self.brand = brand # # self.brand is an instance attribute, and brand is the parameter value passed during instantiation \n",
    "    \n",
    "    def showDetails(self): # This is an class method\n",
    "        print(f\"{self.carName} is an sports car, made by {self.brand}\")\n",
    "\n",
    "\n",
    "if __name__ == \"__main__\":\n",
    "    car1 = Car(\"RX7\", \"Mazda\")  # Here \"RX7\" and \"Mazda\" are arguments passed to the Car class constructor (__init__) to initialize the object.\n",
    "    print(car1.carName)# \n",
    "    print(car1.brand)\n",
    "    car1.showDetails()  # This calls the showDetails() method on the car1 object, which is an instance of the Car class.\n"
   ]
  },
  {
   "cell_type": "markdown",
   "metadata": {},
   "source": [
    "### Attributes and methods\n",
    "- Instance Attributes: Variables specific to each instance, defined in `__init__`.\n",
    "- Class Attributes: Variables shared among all instances, defined outside methods.\n",
    "- Instance Methods: Functions operating on instances, using self to access instance data.\n",
    "- Class Methods: Bound to the class itself, using `@classmethod` with `cls` parameter. It can modify class level data\n",
    "- Static Methods: Independent of instances and classes, using `@staticmethod`.\n",
    "\n",
    "Below is the implementation of all of the above . I am continuing my above Car class example. We already used Instance attributes and instance methods"
   ]
  },
  {
   "cell_type": "code",
   "execution_count": 4,
   "metadata": {},
   "outputs": [
    {
     "name": "stdout",
     "output_type": "stream",
     "text": [
      "RX7\n",
      "Mazda\n",
      "RX7 is an sports car, made by Mazda\n",
      "Metal\n"
     ]
    }
   ],
   "source": [
    "class Car:\n",
    "\n",
    "    body_material = \"Metal\" # Class Instance \n",
    "    def __init__(self, carName , brand): # In this line after self we write carName and brand which are the attributes of class Car.\n",
    "        self.carName = carName # self.carName is an instance attribute, and carName is the parameter value passed during instantiation\n",
    "        self.brand = brand # # self.brand is an instance attribute, and brand is the parameter value passed during instantiation \n",
    "    \n",
    "    def showDetails(self): # This is an instance method\n",
    "        print(f\"{self.carName} is an sports car, made by {self.brand}\")\n",
    "    \n",
    "    @classmethod\n",
    "    def displayMaterial(cls):\n",
    "        return cls.body_material\n",
    "    \n",
    "\n",
    "\n",
    "\n",
    "if __name__ == \"__main__\":\n",
    "    car1 = Car(\"RX7\", \"Mazda\")  # Here \"RX7\" and \"Mazda\" are arguments passed to the Car class constructor (__init__) to initialize the object.\n",
    "    print(car1.carName)# \n",
    "    print(car1.brand)\n",
    "    car1.showDetails() # This calls the showDetails() method on the car1 object, which is an instance of the Car class.\n",
    "    print(car1.displayMaterial())\n"
   ]
  },
  {
   "cell_type": "markdown",
   "metadata": {},
   "source": [
    "### Destructors \n",
    "A destructor is a special method in a class that is invoked when an object of that class is destroyed.In Python, the destructor method is defined as    `__del__(self)`. Destructors are primarily used for cleaning up resources that an object may have acquired during its lifetime. This includes closing files, releasing network connections, freeing up memory, or other cleanup tasks. I am again using my above example class code here"
   ]
  },
  {
   "cell_type": "code",
   "execution_count": 8,
   "metadata": {},
   "outputs": [
    {
     "name": "stdout",
     "output_type": "stream",
     "text": [
      "RX7\n",
      "Mazda\n",
      "RX7 is an sports car, made by Mazda\n",
      "Metal\n",
      "Destructor Called , RX7 Deleted.\n"
     ]
    },
    {
     "ename": "NameError",
     "evalue": "name 'car1' is not defined",
     "output_type": "error",
     "traceback": [
      "\u001b[1;31m---------------------------------------------------------------------------\u001b[0m",
      "\u001b[1;31mNameError\u001b[0m                                 Traceback (most recent call last)",
      "Cell \u001b[1;32mIn[8], line 31\u001b[0m\n\u001b[0;32m     29\u001b[0m \u001b[38;5;28mprint\u001b[39m(car1\u001b[38;5;241m.\u001b[39mdisplayMaterial())\n\u001b[0;32m     30\u001b[0m \u001b[38;5;28;01mdel\u001b[39;00m car1 \u001b[38;5;66;03m# This calls the __del__ method on the car1 object, which is an instance of the Car class.\u001b[39;00m\n\u001b[1;32m---> 31\u001b[0m \u001b[43mcar1\u001b[49m\u001b[38;5;241m.\u001b[39mshowDetails() \u001b[38;5;66;03m# This calls the showDetails() method on the car1 object\u001b[39;00m\n",
      "\u001b[1;31mNameError\u001b[0m: name 'car1' is not defined"
     ]
    }
   ],
   "source": [
    "class Car:\n",
    "\n",
    "    body_material = \"Metal\" # Class Instance \n",
    "    def __init__(self, carName , brand): # In this line after self we write carName and brand which are the attributes of class Car.\n",
    "        self.carName = carName # self.carName is an instance attribute, and carName is the parameter value passed during instantiation\n",
    "        self.brand = brand # # self.brand is an instance attribute, and brand is the parameter value passed during instantiation \n",
    "    \n",
    "    def __del__ (self):\n",
    "        print(f\"Destructor Called , {self.carName} Deleted.\")\n",
    "        del self\n",
    "    \n",
    "    def showDetails(self): # This is an instance method\n",
    "        print(f\"{self.carName} is an sports car, made by {self.brand}\")\n",
    "    \n",
    "\n",
    "    \n",
    "    @classmethod\n",
    "    def displayMaterial(cls):\n",
    "        return cls.body_material\n",
    "    \n",
    "\n",
    "\n",
    "\n",
    "if __name__ == \"__main__\":\n",
    "    car1 = Car(\"RX7\", \"Mazda\")  # Here \"RX7\" and \"Mazda\" are arguments passed to the Car class constructor (__init__) to initialize the object.\n",
    "    print(car1.carName)# \n",
    "    print(car1.brand)\n",
    "    car1.showDetails() # This calls the showDetails() method on the car1 object, which is an instance of the Car class.\n",
    "    print(car1.displayMaterial())\n",
    "    del car1 # This calls the __del__ method on the car1 object, which is an instance of the Car class.\n",
    "    car1.showDetails() # This calls the showDetails() method on the car1 object\n"
   ]
  },
  {
   "cell_type": "markdown",
   "metadata": {},
   "source": [
    "Above error shows that the car1 is undefined which means car1 object deleted successfully"
   ]
  },
  {
   "cell_type": "markdown",
   "metadata": {},
   "source": [
    "## OOP's 4 Pillars\n",
    "\n",
    "# 1. Encapsulation \n",
    "Encapsulation means keeping data (attributes) and actions (methods) together in one unit, called an object, and controlling access to some parts of it. This makes programs simpler and more organized.\n",
    "\n",
    "# 2. Abstraction\n",
    "Abstraction is the process of hiding the details of an object from the user. This allows the user to focus on the essential features of the object.\n",
    "\n",
    "# 3. Inheritance\n",
    "Creating new classes based on existing ones, inheriting attributes and methods, which promotes code reuse and hierarchical relationships.\n",
    "\n",
    "# 4. Polymorphism\n",
    "Polymorphism allows objects to be treated as instances of their parent class, letting one interface represent multiple forms, such as through method overriding and overloading."
   ]
  },
  {
   "cell_type": "markdown",
   "metadata": {},
   "source": []
  }
 ],
 "metadata": {
  "kernelspec": {
   "display_name": "Python 3",
   "language": "python",
   "name": "python3"
  },
  "language_info": {
   "codemirror_mode": {
    "name": "ipython",
    "version": 3
   },
   "file_extension": ".py",
   "mimetype": "text/x-python",
   "name": "python",
   "nbconvert_exporter": "python",
   "pygments_lexer": "ipython3",
   "version": "3.12.2"
  }
 },
 "nbformat": 4,
 "nbformat_minor": 2
}
