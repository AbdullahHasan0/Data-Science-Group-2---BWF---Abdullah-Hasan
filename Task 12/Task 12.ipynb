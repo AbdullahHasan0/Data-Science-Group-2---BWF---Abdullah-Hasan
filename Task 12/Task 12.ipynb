{
 "cells": [
  {
   "cell_type": "markdown",
   "metadata": {},
   "source": [
    "# Introduction to Pandas (Series, DataFrame basics)\n"
   ]
  },
  {
   "cell_type": "code",
   "execution_count": 128,
   "metadata": {},
   "outputs": [],
   "source": [
    "import pandas as pd\n",
    "import numpy as np\n",
    "import random "
   ]
  },
  {
   "cell_type": "markdown",
   "metadata": {},
   "source": [
    "1. **Create a Pandas Series from a Python list, numpy array, and a dictionary.**"
   ]
  },
  {
   "cell_type": "code",
   "execution_count": 8,
   "metadata": {},
   "outputs": [
    {
     "name": "stdout",
     "output_type": "stream",
     "text": [
      "\n",
      " Pandas Series from Python List\n",
      "==================== \n",
      "\n",
      "0     1\n",
      "1     2\n",
      "2     3\n",
      "3     4\n",
      "4     5\n",
      "5     6\n",
      "6     7\n",
      "7     8\n",
      "8     9\n",
      "9    10\n",
      "dtype: int64\n",
      "\n",
      " Pandas Series from Numpy Array\n",
      "==================== \n",
      "\n",
      "0    0\n",
      "1    1\n",
      "2    2\n",
      "3    3\n",
      "4    4\n",
      "5    5\n",
      "6    6\n",
      "7    7\n",
      "8    8\n",
      "9    9\n",
      "dtype: int64\n",
      "\n",
      " Pandas Series from Dictionary\n",
      "==================== \n",
      "\n",
      "red      1\n",
      "green    2\n",
      "blue     3\n",
      "dtype: int64\n",
      "1\n"
     ]
    }
   ],
   "source": [
    "# 1. Making Pandas Series from Python List\n",
    "\n",
    "print(f\"\\n Pandas Series from Python List\")\n",
    "print(\"=\"*20,\"\\n\")\n",
    "\n",
    "pythonList = [1,2,3,4,5,6,7,8,9,10]\n",
    "ser1 = pd.Series(pythonList)\n",
    "print(ser1)\n",
    "\n",
    "# 2. Making Pandas Series from Numpy Array\n",
    "\n",
    "print(f\"\\n Pandas Series from Numpy Array\")\n",
    "print(\"=\"*20,\"\\n\")\n",
    "\n",
    "numpyArray = np.arange(10)\n",
    "ser2 = pd.Series(numpyArray)\n",
    "print(ser2)\n",
    "\n",
    "# 3. Making Pandas Series from Dictionary\n",
    "\n",
    "print(f\"\\n Pandas Series from Dictionary\")\n",
    "print(\"=\"*20,\"\\n\")\n",
    "dictionary = {\"red\":1,\"green\":2,\"blue\":3,}\n",
    "ser3 = pd.Series(dictionary)\n",
    "print(ser3)\n",
    "# print(ser3.iloc[0]) # Another way to access dictionary element using index\n"
   ]
  },
  {
   "cell_type": "markdown",
   "metadata": {},
   "source": [
    "2. **Assign a custom index to the Series.**"
   ]
  },
  {
   "cell_type": "code",
   "execution_count": 20,
   "metadata": {},
   "outputs": [
    {
     "name": "stdout",
     "output_type": "stream",
     "text": [
      "a    1\n",
      "b    2\n",
      "c    3\n",
      "d    4\n",
      "e    5\n",
      "dtype: int64\n",
      "\n",
      "The Value At Index C :3\n"
     ]
    }
   ],
   "source": [
    "randomList = [1,2,3,4,5]\n",
    "\n",
    "labelledSeries = pd.Series(randomList , index = ['a','b','c','d','e'])\n",
    "#NOTE : The lenght of index should match the lenght of elements in Series\n",
    "print(labelledSeries) #printing whole sereis\n",
    "print(f\"\\nThe Value At Index C :{labelledSeries[\"c\"]}\") #printing using custom label"
   ]
  },
  {
   "cell_type": "markdown",
   "metadata": {},
   "source": [
    "3. **Perform basic arithmetic operations on Series.**"
   ]
  },
  {
   "cell_type": "code",
   "execution_count": 28,
   "metadata": {},
   "outputs": [
    {
     "name": "stdout",
     "output_type": "stream",
     "text": [
      "\n",
      "Sum Operation on 2 series\n",
      "\n",
      "0     7\n",
      "1     9\n",
      "2    11\n",
      "3    13\n",
      "4    15\n",
      "dtype: int64\n",
      "\n",
      "Subtraction Operation on 2 series\n",
      "\n",
      "0   -5\n",
      "1   -5\n",
      "2   -5\n",
      "3   -5\n",
      "4   -5\n",
      "dtype: int64\n",
      "\n",
      "Multiplication Operation on 2 series\n",
      "\n",
      "0     6\n",
      "1    14\n",
      "2    24\n",
      "3    36\n",
      "4    50\n",
      "dtype: int64\n",
      "\n",
      "Division Operation on 2 series\n",
      "\n",
      "0    0.166667\n",
      "1    0.285714\n",
      "2    0.375000\n",
      "3    0.444444\n",
      "4    0.500000\n",
      "dtype: float64\n"
     ]
    }
   ],
   "source": [
    "series1 = pd.Series([1,2,3,4,5])\n",
    "series2 = pd.Series ([6,7,8,9,10])\n",
    "\n",
    "# Adding 2 Series\n",
    "print(f\"\\nSum Operation on 2 series\\n\")\n",
    "add_series = series1+series2\n",
    "print(add_series)\n",
    "\n",
    "# Subtracting 2 Series\n",
    "print(f\"\\nSubtraction Operation on 2 series\\n\")\n",
    "sub_series = series1-series2\n",
    "print(sub_series)\n",
    "\n",
    "# Multiplying 2 Series\n",
    "print(f\"\\nMultiplication Operation on 2 series\\n\")\n",
    "mul_series = series1*series2\n",
    "print(mul_series)\n",
    "\n",
    "# Dividing 2 Series\n",
    "print(f\"\\nDivision Operation on 2 series\\n\")\n",
    "div_series = series1/series2\n",
    "print(div_series)\n",
    "\n"
   ]
  },
  {
   "cell_type": "markdown",
   "metadata": {},
   "source": [
    "4. ***Access elements using index labels and positions.***"
   ]
  },
  {
   "cell_type": "code",
   "execution_count": 40,
   "metadata": {},
   "outputs": [
    {
     "name": "stdout",
     "output_type": "stream",
     "text": [
      "a    2\n",
      "b    7\n",
      "c    2\n",
      "d    7\n",
      "e    8\n",
      "f    9\n",
      "g    9\n",
      "h    2\n",
      "i    4\n",
      "j    1\n",
      "dtype: int32\n",
      "\n",
      "Print By First Method:2\n",
      "\n",
      "Print By Second Method: 2\n",
      "\n",
      "\n",
      "Print By First Method: 2\n",
      "\n",
      "Print By First Method: 2\n"
     ]
    },
    {
     "name": "stderr",
     "output_type": "stream",
     "text": [
      "C:\\Users\\Syed Abdullah\\AppData\\Local\\Temp\\ipykernel_18036\\938444375.py:11: FutureWarning: Series.__getitem__ treating keys as positions is deprecated. In a future version, integer keys will always be treated as labels (consistent with DataFrame behavior). To access a value by position, use `ser.iloc[pos]`\n",
      "  print(f\"\\nPrint By First Method: {series1[0]}\") #Second Method (Going to depreciated)\n"
     ]
    }
   ],
   "source": [
    "array = np.random.randint(1,10,10)\n",
    "series1 = pd.Series(array, index = [\"a\",\"b\",\"c\",\"d\",\"e\",\"f\",\"g\",\"h\",\"i\",\"j\"])\n",
    "print(series1)\n",
    "\n",
    "# Using .loc[] function to access element using label\n",
    "print(f\"\\nPrint By First Method:{series1.loc[\"c\"]}\") # First Method\n",
    "print(f\"\\nPrint By Second Method: {series1[\"c\"]}\\n\") #2nd Method\n",
    "\n",
    "#Using .iloc function to access element using index\n",
    "print(f\"\\nPrint By First Method: {series1.iloc[0]}\") #First Method (Recommended)\n",
    "print(f\"\\nPrint By First Method: {series1[0]}\") #Second Method (Going to depreciated)"
   ]
  },
  {
   "cell_type": "markdown",
   "metadata": {},
   "source": [
    "5. ***Filter the Series to include only values greater than a specific threshold.***\n"
   ]
  },
  {
   "cell_type": "code",
   "execution_count": 44,
   "metadata": {},
   "outputs": [
    {
     "name": "stdout",
     "output_type": "stream",
     "text": [
      "\n",
      "Origrnal Series\n",
      "\n",
      "0      9\n",
      "1      8\n",
      "2     11\n",
      "3      9\n",
      "4     14\n",
      "5      5\n",
      "6     12\n",
      "7      7\n",
      "8     10\n",
      "9      9\n",
      "10     5\n",
      "11    12\n",
      "12     8\n",
      "13     8\n",
      "14    13\n",
      "15     7\n",
      "16     8\n",
      "17     8\n",
      "18     9\n",
      "19     6\n",
      "dtype: int32\n",
      "\n",
      "Filtered Series (Number >= 10)\n",
      "\n",
      "2     11\n",
      "4     14\n",
      "6     12\n",
      "8     10\n",
      "11    12\n",
      "14    13\n",
      "dtype: int32\n"
     ]
    }
   ],
   "source": [
    "print(f\"\\nOrigrnal Series\\n\")\n",
    "array = np.random.randint(5,15,20)\n",
    "series = pd.Series(array)\n",
    "print(series)\n",
    "print(f\"\\nFiltered Series (Number >= 10)\\n\")\n",
    "\n",
    "filteredSeries = series[series >= 10]\n",
    "print(filteredSeries)"
   ]
  },
  {
   "cell_type": "markdown",
   "metadata": {},
   "source": [
    "6. ***Create a DataFrame from a dictionary of lists.***"
   ]
  },
  {
   "cell_type": "code",
   "execution_count": 55,
   "metadata": {},
   "outputs": [
    {
     "name": "stdout",
     "output_type": "stream",
     "text": [
      "\n",
      " Method 1\n",
      "\n",
      "   Names         Cars\n",
      "0  Ahsan  Lamborghini\n",
      "1   Umer      Bugatti\n",
      "2   Anas  Rolls Royce\n",
      "\n",
      " Method 2\n",
      "\n",
      "          Cars  Names\n",
      "a  Lamborghini  Ahsan\n",
      "b      Bugatti   Umer\n",
      "c  Rolls Royce   Anas\n"
     ]
    }
   ],
   "source": [
    "#Dictionary Of Lists\n",
    "listDictionary = {\"Names\":[\"Ahsan\",\"Umer\",\"Anas\"],\n",
    "                 \"Cars\":[\"Lamborghini\",\"Bugatti\",\"Rolls Royce\"]\n",
    "                 }\n",
    "print(f\"\\n Method 1\\n\")\n",
    "dataframe = pd.DataFrame.from_dict(listDictionary) #Method 1\n",
    "print(dataframe)\n",
    "\n",
    "print(f\"\\n Method 2\\n\")\n",
    "dataframe = pd.DataFrame.from_records(listDictionary , index = ['a','b','c']) #Method 2\n",
    "print(dataframe)"
   ]
  },
  {
   "cell_type": "markdown",
   "metadata": {},
   "source": [
    "7. ***Create a DataFrame from a numpy array, specifying column and index names.***"
   ]
  },
  {
   "cell_type": "code",
   "execution_count": 67,
   "metadata": {},
   "outputs": [
    {
     "name": "stdout",
     "output_type": "stream",
     "text": [
      "\n",
      "Printing Whole Dataframe\n",
      "           Class 1 Avg.  Class2 Avg.  Class3 Avg  Class4 Avg.\n",
      "Phy Test              6            5           5            7\n",
      "Eng Test              5            8           6            9\n",
      "Math Test             8            7           7            6\n",
      "Chem Test             9            7           8            9\n",
      "\n",
      "Printing Only Phy Test Avg of class 2\n",
      "5\n"
     ]
    }
   ],
   "source": [
    "print(\"\\nPrinting Whole Dataframe\")\n",
    "nparray = np.random.randint(5,10,16).reshape(4,4)\n",
    "df = pd.DataFrame.from_records(nparray,index=['Phy Test','Eng Test','Math Test','Chem Test'],columns = [\"Class 1 Avg.\",\"Class2 Avg.\",\"Class3 Avg\",\"Class4 Avg.\"])\n",
    "print(df) #Printing Whole Dataframe\n",
    "\n",
    "print(\"\\nPrinting Only Phy Test Avg of class 2\")\n",
    "print(df.loc['Phy Test','Class2 Avg.'])"
   ]
  },
  {
   "cell_type": "markdown",
   "metadata": {},
   "source": [
    "8. ***Load a DataFrame from a CSV file.***  \n",
    "I found an Student_Performance dataset from internet.It includes features like Hours Studied,Previous Scores,Extracurricular Activities,Sleep Hours,Sample Question Papers "
   ]
  },
  {
   "cell_type": "code",
   "execution_count": 70,
   "metadata": {},
   "outputs": [
    {
     "name": "stdout",
     "output_type": "stream",
     "text": [
      "      Hours Studied  Previous Scores Extracurricular Activities  Sleep Hours  \\\n",
      "0                 7               99                        Yes            9   \n",
      "1                 4               82                         No            4   \n",
      "2                 8               51                        Yes            7   \n",
      "3                 5               52                        Yes            5   \n",
      "4                 7               75                         No            8   \n",
      "...             ...              ...                        ...          ...   \n",
      "9995              1               49                        Yes            4   \n",
      "9996              7               64                        Yes            8   \n",
      "9997              6               83                        Yes            8   \n",
      "9998              9               97                        Yes            7   \n",
      "9999              7               74                         No            8   \n",
      "\n",
      "      Sample Question Papers Practiced  Performance Index  \n",
      "0                                    1               91.0  \n",
      "1                                    2               65.0  \n",
      "2                                    2               45.0  \n",
      "3                                    2               36.0  \n",
      "4                                    5               66.0  \n",
      "...                                ...                ...  \n",
      "9995                                 2               23.0  \n",
      "9996                                 5               58.0  \n",
      "9997                                 5               74.0  \n",
      "9998                                 0               95.0  \n",
      "9999                                 1               64.0  \n",
      "\n",
      "[10000 rows x 6 columns]\n"
     ]
    }
   ],
   "source": [
    "data = pd.read_csv(\"Student_Performance.csv\")\n",
    "print(data)"
   ]
  },
  {
   "cell_type": "markdown",
   "metadata": {},
   "source": [
    "9. ***Display the first and last five rows of the DataFrame.***"
   ]
  },
  {
   "cell_type": "code",
   "execution_count": 73,
   "metadata": {},
   "outputs": [
    {
     "name": "stdout",
     "output_type": "stream",
     "text": [
      "\n",
      " First Five Rows\n",
      "\n",
      "   Hours Studied  Previous Scores Extracurricular Activities  Sleep Hours  \\\n",
      "0              7               99                        Yes            9   \n",
      "1              4               82                         No            4   \n",
      "2              8               51                        Yes            7   \n",
      "3              5               52                        Yes            5   \n",
      "4              7               75                         No            8   \n",
      "\n",
      "   Sample Question Papers Practiced  Performance Index  \n",
      "0                                 1               91.0  \n",
      "1                                 2               65.0  \n",
      "2                                 2               45.0  \n",
      "3                                 2               36.0  \n",
      "4                                 5               66.0  \n",
      "\n",
      " Last Five Rows\n",
      "\n",
      "      Hours Studied  Previous Scores Extracurricular Activities  Sleep Hours  \\\n",
      "9995              1               49                        Yes            4   \n",
      "9996              7               64                        Yes            8   \n",
      "9997              6               83                        Yes            8   \n",
      "9998              9               97                        Yes            7   \n",
      "9999              7               74                         No            8   \n",
      "\n",
      "      Sample Question Papers Practiced  Performance Index  \n",
      "9995                                 2               23.0  \n",
      "9996                                 5               58.0  \n",
      "9997                                 5               74.0  \n",
      "9998                                 0               95.0  \n",
      "9999                                 1               64.0  \n"
     ]
    }
   ],
   "source": [
    "print(\"\\n First Five Rows\\n\")\n",
    "print(data.head())\n",
    "print(\"\\n Last Five Rows\\n\")\n",
    "print(data.tail())"
   ]
  },
  {
   "cell_type": "markdown",
   "metadata": {},
   "source": [
    "10. **Get a summary of the DataFrame including the mean, median, and standard deviation of numeric columns.**"
   ]
  },
  {
   "cell_type": "code",
   "execution_count": 90,
   "metadata": {},
   "outputs": [
    {
     "name": "stdout",
     "output_type": "stream",
     "text": [
      "\n",
      " Using Describe Function \n",
      "\n",
      "       Hours Studied  Previous Scores   Sleep Hours  \\\n",
      "count   10000.000000     10000.000000  10000.000000   \n",
      "mean        4.992900        69.445700      6.530600   \n",
      "std         2.589309        17.343152      1.695863   \n",
      "min         1.000000        40.000000      4.000000   \n",
      "25%         3.000000        54.000000      5.000000   \n",
      "50%         5.000000        69.000000      7.000000   \n",
      "75%         7.000000        85.000000      8.000000   \n",
      "max         9.000000        99.000000      9.000000   \n",
      "\n",
      "       Sample Question Papers Practiced  Performance Index  \n",
      "count                      10000.000000       10000.000000  \n",
      "mean                           4.583300          55.224800  \n",
      "std                            2.867348          19.212558  \n",
      "min                            0.000000          10.000000  \n",
      "25%                            2.000000          40.000000  \n",
      "50%                            5.000000          55.000000  \n",
      "75%                            7.000000          71.000000  \n",
      "max                            9.000000         100.000000  \n",
      "\n",
      "Using Median Funciton To Find Median Seperately\n",
      "\n",
      "Hours Studied                        5.0\n",
      "Previous Scores                     69.0\n",
      "Sleep Hours                          7.0\n",
      "Sample Question Papers Practiced     5.0\n",
      "Performance Index                   55.0\n",
      "dtype: float64\n"
     ]
    }
   ],
   "source": [
    "#Method 1\n",
    "print(\"\\n Using Describe Function \\n\")\n",
    "print(data.describe()) #Note 50% in Describe Function output is also median\n",
    "\n",
    "\n",
    "#Method 2\n",
    "print(\"\\nUsing Median Funciton To Find Median Seperately\\n\")\n",
    "# Seperating Numeric Data From My Dataset So That I Can Find Median\n",
    "numericData = data.select_dtypes(include = 'number')\n",
    "print(numericData.median())"
   ]
  },
  {
   "cell_type": "markdown",
   "metadata": {},
   "source": [
    "11. ***Extract a specific column as a Series.***"
   ]
  },
  {
   "cell_type": "code",
   "execution_count": 99,
   "metadata": {},
   "outputs": [
    {
     "name": "stdout",
     "output_type": "stream",
     "text": [
      "\n",
      " Orignal Column\n",
      "\n",
      "0       7\n",
      "1       4\n",
      "2       8\n",
      "3       5\n",
      "4       7\n",
      "       ..\n",
      "9995    1\n",
      "9996    7\n",
      "9997    6\n",
      "9998    9\n",
      "9999    7\n",
      "Name: Hours Studied, Length: 10000, dtype: int64\n",
      "\n",
      " Series\n",
      "\n",
      "0        7.0\n",
      "1        4.0\n",
      "2        8.0\n",
      "3        5.0\n",
      "4        7.0\n",
      "        ... \n",
      "9996     7.0\n",
      "9997     6.0\n",
      "9998     9.0\n",
      "9999     7.0\n",
      "10000    NaN\n",
      "Name: Hours Studied, Length: 10001, dtype: float64\n"
     ]
    }
   ],
   "source": [
    "#Using Student Performance Dataset\n",
    "# Making Series of Column \"Hours Studied\"\n",
    "print(\"\\n Orignal Column\\n\")\n",
    "print(data[\"Hours Studied\"])\n",
    "print(\"\\n Series\\n\")\n",
    "series = pd.Series(data[\"Hours Studied\"])\n",
    "print(series)"
   ]
  },
  {
   "cell_type": "markdown",
   "metadata": {},
   "source": [
    "12. ***Filter rows based on column values.***"
   ]
  },
  {
   "cell_type": "code",
   "execution_count": 107,
   "metadata": {},
   "outputs": [
    {
     "name": "stdout",
     "output_type": "stream",
     "text": [
      "\n",
      " Filtered Data \n",
      "\n",
      "      Hours Studied  Previous Scores Extracurricular Activities  Sleep Hours  \\\n",
      "3                 5               52                        Yes            5   \n",
      "6                 7               73                        Yes            5   \n",
      "23                1               85                         No            5   \n",
      "39                9               68                         No            5   \n",
      "57                2               70                        Yes            5   \n",
      "...             ...              ...                        ...          ...   \n",
      "9936              7               58                         No            5   \n",
      "9940              8               95                         No            5   \n",
      "9982              8               51                         No            5   \n",
      "9985              8               99                         No            5   \n",
      "9989              3               46                         No            5   \n",
      "\n",
      "      Sample Question Papers Practiced  Performance Index  \n",
      "3                                    2               36.0  \n",
      "6                                    6               63.0  \n",
      "23                                   6               57.0  \n",
      "39                                   3               64.0  \n",
      "57                                   8               47.0  \n",
      "...                                ...                ...  \n",
      "9936                                 5               49.0  \n",
      "9940                                 2               90.0  \n",
      "9982                                 1               44.0  \n",
      "9985                                 5               92.0  \n",
      "9989                                 8               27.0  \n",
      "\n",
      "[1606 rows x 6 columns]\n"
     ]
    }
   ],
   "source": [
    "#Using Student Performance Dataset\n",
    "# Filterd Rows based on columns value (Condition : Sleep Hours is equal to 5)\n",
    "print(f\"\\n Filtered Data \\n\")\n",
    "filteredData = data[data[\"Sleep Hours\"]==5] #This will bring all the records in which sleep hours == 5\n",
    "\n",
    "print(filteredData)"
   ]
  },
  {
   "cell_type": "markdown",
   "metadata": {},
   "source": [
    "13. **Select rows based on multiple conditions.**\n"
   ]
  },
  {
   "cell_type": "code",
   "execution_count": 122,
   "metadata": {},
   "outputs": [
    {
     "name": "stdout",
     "output_type": "stream",
     "text": [
      "\n",
      "Filtered Data\n",
      "\n",
      "      Hours Studied  Previous Scores Extracurricular Activities  Sleep Hours  \\\n",
      "72                9               82                        Yes            5   \n",
      "131               9               89                        Yes            5   \n",
      "135               7               96                         No            5   \n",
      "256               6               93                        Yes            5   \n",
      "310               8               91                         No            5   \n",
      "...             ...              ...                        ...          ...   \n",
      "9847              5               94                        Yes            5   \n",
      "9851              5               94                         No            5   \n",
      "9889              8               88                         No            5   \n",
      "9940              8               95                         No            5   \n",
      "9985              8               99                         No            5   \n",
      "\n",
      "      Sample Question Papers Practiced  Performance Index  \n",
      "72                                   5               81.0  \n",
      "131                                  3               86.0  \n",
      "135                                  3               84.0  \n",
      "256                                  6               81.0  \n",
      "310                                  8               86.0  \n",
      "...                                ...                ...  \n",
      "9847                                 5               82.0  \n",
      "9851                                 6               81.0  \n",
      "9889                                 7               82.0  \n",
      "9940                                 2               90.0  \n",
      "9985                                 5               92.0  \n",
      "\n",
      "[168 rows x 6 columns]\n"
     ]
    }
   ],
   "source": [
    "#Using Student Performance Dataset\n",
    "print(\"\\nFiltered Data\\n\")\n",
    "# This Line will filtered data on basis of sleep hours and performance index\n",
    "filteredData = data[(data[\"Sleep Hours\"]==5) & (data[\"Performance Index\"]>80)] \n",
    "print(filteredData)"
   ]
  },
  {
   "cell_type": "markdown",
   "metadata": {},
   "source": [
    "14. **Add a new column to the DataFrame.**\n"
   ]
  },
  {
   "cell_type": "code",
   "execution_count": 136,
   "metadata": {},
   "outputs": [
    {
     "name": "stdout",
     "output_type": "stream",
     "text": [
      "\n",
      " Updated Data\n",
      "      Hours Studied  Previous Scores Extracurricular Activities  Sleep Hours  \\\n",
      "0                 7               99                        Yes            9   \n",
      "1                 4               82                         No            4   \n",
      "2                 8               51                        Yes            7   \n",
      "3                 5               52                        Yes            5   \n",
      "4                 7               75                         No            8   \n",
      "...             ...              ...                        ...          ...   \n",
      "9995              1               49                        Yes            4   \n",
      "9996              7               64                        Yes            8   \n",
      "9997              6               83                        Yes            8   \n",
      "9998              9               97                        Yes            7   \n",
      "9999              7               74                         No            8   \n",
      "\n",
      "      Sample Question Papers Practiced  Performance Index  Gender  \n",
      "0                                    1               91.0  female  \n",
      "1                                    2               65.0    male  \n",
      "2                                    2               45.0  female  \n",
      "3                                    2               36.0    male  \n",
      "4                                    5               66.0    male  \n",
      "...                                ...                ...     ...  \n",
      "9995                                 2               23.0    male  \n",
      "9996                                 5               58.0  female  \n",
      "9997                                 5               74.0    male  \n",
      "9998                                 0               95.0  female  \n",
      "9999                                 1               64.0  female  \n",
      "\n",
      "[10000 rows x 7 columns]\n"
     ]
    }
   ],
   "source": [
    "print(\"\\n Updated Data\")\n",
    "# Now this line will add another column of name 'Gender'\n",
    "data[\"Gender\"] = ['male' if random.random() > 0.5 else 'female' for i in range (len(data))] # This line will randomly select male and female (probablity of selection is 50%)\n",
    "print(data)"
   ]
  },
  {
   "cell_type": "markdown",
   "metadata": {},
   "source": [
    "14. **Delete a column from the DataFrame.**"
   ]
  },
  {
   "cell_type": "code",
   "execution_count": 142,
   "metadata": {},
   "outputs": [
    {
     "data": {
      "text/html": [
       "<div>\n",
       "<style scoped>\n",
       "    .dataframe tbody tr th:only-of-type {\n",
       "        vertical-align: middle;\n",
       "    }\n",
       "\n",
       "    .dataframe tbody tr th {\n",
       "        vertical-align: top;\n",
       "    }\n",
       "\n",
       "    .dataframe thead th {\n",
       "        text-align: right;\n",
       "    }\n",
       "</style>\n",
       "<table border=\"1\" class=\"dataframe\">\n",
       "  <thead>\n",
       "    <tr style=\"text-align: right;\">\n",
       "      <th></th>\n",
       "      <th>Hours Studied</th>\n",
       "      <th>Previous Scores</th>\n",
       "      <th>Extracurricular Activities</th>\n",
       "      <th>Sleep Hours</th>\n",
       "      <th>Sample Question Papers Practiced</th>\n",
       "      <th>Performance Index</th>\n",
       "    </tr>\n",
       "  </thead>\n",
       "  <tbody>\n",
       "    <tr>\n",
       "      <th>0</th>\n",
       "      <td>7</td>\n",
       "      <td>99</td>\n",
       "      <td>Yes</td>\n",
       "      <td>9</td>\n",
       "      <td>1</td>\n",
       "      <td>91.0</td>\n",
       "    </tr>\n",
       "    <tr>\n",
       "      <th>1</th>\n",
       "      <td>4</td>\n",
       "      <td>82</td>\n",
       "      <td>No</td>\n",
       "      <td>4</td>\n",
       "      <td>2</td>\n",
       "      <td>65.0</td>\n",
       "    </tr>\n",
       "    <tr>\n",
       "      <th>2</th>\n",
       "      <td>8</td>\n",
       "      <td>51</td>\n",
       "      <td>Yes</td>\n",
       "      <td>7</td>\n",
       "      <td>2</td>\n",
       "      <td>45.0</td>\n",
       "    </tr>\n",
       "    <tr>\n",
       "      <th>3</th>\n",
       "      <td>5</td>\n",
       "      <td>52</td>\n",
       "      <td>Yes</td>\n",
       "      <td>5</td>\n",
       "      <td>2</td>\n",
       "      <td>36.0</td>\n",
       "    </tr>\n",
       "    <tr>\n",
       "      <th>4</th>\n",
       "      <td>7</td>\n",
       "      <td>75</td>\n",
       "      <td>No</td>\n",
       "      <td>8</td>\n",
       "      <td>5</td>\n",
       "      <td>66.0</td>\n",
       "    </tr>\n",
       "  </tbody>\n",
       "</table>\n",
       "</div>"
      ],
      "text/plain": [
       "   Hours Studied  Previous Scores Extracurricular Activities  Sleep Hours  \\\n",
       "0              7               99                        Yes            9   \n",
       "1              4               82                         No            4   \n",
       "2              8               51                        Yes            7   \n",
       "3              5               52                        Yes            5   \n",
       "4              7               75                         No            8   \n",
       "\n",
       "   Sample Question Papers Practiced  Performance Index  \n",
       "0                                 1               91.0  \n",
       "1                                 2               65.0  \n",
       "2                                 2               45.0  \n",
       "3                                 2               36.0  \n",
       "4                                 5               66.0  "
      ]
     },
     "execution_count": 142,
     "metadata": {},
     "output_type": "execute_result"
    }
   ],
   "source": [
    "\n",
    "data = data.drop(\"Gender\",axis=1)# This Line will drop the column named \"Gender\". Axis=1 tells that the whole column should be dropped\n",
    "data.head()"
   ]
  },
  {
   "cell_type": "markdown",
   "metadata": {},
   "source": [
    "16. **Rename columns in the DataFrame.**"
   ]
  },
  {
   "cell_type": "code",
   "execution_count": 150,
   "metadata": {},
   "outputs": [
    {
     "name": "stdout",
     "output_type": "stream",
     "text": [
      "\n",
      " Before Renaming the 'Hours Studied' column\n",
      "\n",
      "   Hours Studied  Previous Scores Extracurricular Activities  Sleep Hours  \\\n",
      "0              7               99                        Yes            9   \n",
      "1              4               82                         No            4   \n",
      "2              8               51                        Yes            7   \n",
      "3              5               52                        Yes            5   \n",
      "4              7               75                         No            8   \n",
      "\n",
      "   Sample Question Papers Practiced  Performance Index  \n",
      "0                                 1               91.0  \n",
      "1                                 2               65.0  \n",
      "2                                 2               45.0  \n",
      "3                                 2               36.0  \n",
      "4                                 5               66.0  \n",
      "\n",
      " After Renaming the 'Hours Studied' column\n",
      "\n",
      "   Studied Hours  Previous Scores Extracurricular Activities  Sleep Hours  \\\n",
      "0              7               99                        Yes            9   \n",
      "1              4               82                         No            4   \n",
      "2              8               51                        Yes            7   \n",
      "3              5               52                        Yes            5   \n",
      "4              7               75                         No            8   \n",
      "\n",
      "   Sample Question Papers Practiced  Performance Index  \n",
      "0                                 1               91.0  \n",
      "1                                 2               65.0  \n",
      "2                                 2               45.0  \n",
      "3                                 2               36.0  \n",
      "4                                 5               66.0  \n"
     ]
    }
   ],
   "source": [
    "print(\"\\nBefore Renaming the 'Hours Studied' column\\n\")\n",
    "print(data.head())\n",
    "\n",
    "print(\"\\nAfter Renaming the 'Hours Studied' column\\n\")\n",
    "data.rename(columns = {\"Hours Studied\":\"Studied Hours\"},inplace = True)# Inplace tells the modification should done in copy of dataset(inplace = False) or orignal dataset (inplace = True)\n",
    "print(data.head())"
   ]
  },
  {
   "cell_type": "markdown",
   "metadata": {},
   "source": [
    "# Student Grade Analysis"
   ]
  },
  {
   "cell_type": "code",
   "execution_count": 211,
   "metadata": {},
   "outputs": [
    {
     "name": "stdout",
     "output_type": "stream",
     "text": [
      "[74 56 46 50 60 78 49 44 72 89]\n",
      "      Names  Marks Assignments\n",
      "0     Ahsan     74          no\n",
      "1      Umer     56         yes\n",
      "2  Abdullah     46         yes\n",
      "3      Anas     50         yes\n",
      "4     Arqam     60         yes\n",
      "\n",
      " After Giving Extra 5 Marks to Those Who Complete Assignments\n",
      "\n",
      "      Names  Marks Assignments\n",
      "0     Ahsan     74          no\n",
      "1      Umer     61         yes\n",
      "2  Abdullah     51         yes\n",
      "3      Anas     55         yes\n",
      "4     Arqam     65         yes\n",
      "\n",
      " Now Finding the top performers , whose marks are greater than 90\n",
      "\n",
      "    Names  Marks Assignments\n",
      "9  Hassan     94         yes\n"
     ]
    }
   ],
   "source": [
    "#randomly producing Marks Array\n",
    "marksArray = np.random.randint(40,90,10)\n",
    "print(marksArray)\n",
    "#Creating Name Array\n",
    "namesArray = [\"Ahsan\",\"Umer\",\"Abdullah\",\"Anas\",\"Arqam\",\"Ashir\",\"Abdur Rehman\",\"Habib\",\"Rauhan\",\"Hassan\"]\n",
    "#Making Dataframe\n",
    "customData = pd.DataFrame(namesArray,columns = [\"Names\"])\n",
    "customData[\"Marks\"] = marksArray \n",
    "customData.head()\n",
    "\n",
    "# Randomly producing Assignments columns\n",
    "customData[\"Assignments\"] = [\"yes\" if random.random()>0.5 else \"no\" for i in range(len(customData))]\n",
    "print(customData.head())\n",
    "\n",
    "print(\"\\n After Giving Extra 5 Marks to Those Who Complete Assignments\\n\")\n",
    "# Now Adding 5 Marks Extra if they done Assignments . I am using lambda funciton for this\n",
    "customData[\"Marks\"] = customData.apply(lambda record : record[\"Marks\"]+5 if record[\"Assignments\"]=='yes' else record['Marks'],axis=1)\n",
    "print(customData.head())\n",
    "\n",
    "print(\"\\n Now Finding the top performers , whose marks are greater than 90\\n\")\n",
    "filteredData = customData[customData[\"Marks\"] > 90]\n",
    "if (len(filteredData)>0):\n",
    "    print(filteredData)\n",
    "else:\n",
    "    print(\"No Student in this category\")\n"
   ]
  },
  {
   "cell_type": "code",
   "execution_count": null,
   "metadata": {},
   "outputs": [],
   "source": []
  }
 ],
 "metadata": {
  "kernelspec": {
   "display_name": "Python 3 (ipykernel)",
   "language": "python",
   "name": "python3"
  },
  "language_info": {
   "codemirror_mode": {
    "name": "ipython",
    "version": 3
   },
   "file_extension": ".py",
   "mimetype": "text/x-python",
   "name": "python",
   "nbconvert_exporter": "python",
   "pygments_lexer": "ipython3",
   "version": "3.12.2"
  }
 },
 "nbformat": 4,
 "nbformat_minor": 4
}
