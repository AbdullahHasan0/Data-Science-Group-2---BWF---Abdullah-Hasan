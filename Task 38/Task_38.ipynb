{
  "cells": [
    {
      "cell_type": "markdown",
      "metadata": {
        "id": "_ynSTeeGp5Yb"
      },
      "source": [
        "<h1 align = center> Advance NLP Techniques(NER) </h1>"
      ]
    },
    {
      "cell_type": "markdown",
      "metadata": {
        "id": "LnsobYQ4p5Yd"
      },
      "source": [
        "#### What is NER in NLP ?\n",
        "\n",
        "NER stands for Named Entity Recognition. It is the process of identifying and categorizing named entities in text into pre-defined categories such as names of persons, organizations, locations, expressions of times, quantities, monetary values, percentages, etc.\n",
        "\n",
        "#### Applications of NER in NLP\n",
        "\n",
        "- Customer Support: NER helps in identifying and categorizing customer queries, making it easier for agents to respond effectively.\n",
        "- Medical Diagnosis: NER can be used to extract patient names, diseases, symptoms, and medications from medical reports.\n",
        "- Legal Documents: NER can be used to extract names of individuals, organizations, and places from legal documents.\n",
        "- Search Engine Optimization: NER helps in indexing and searching relevant documents by identifying and categorizing named entities.\n",
        "- Chatbots: NER can be used to extract relevant information from user queries and generate appropriate responses.\n",
        "- Information Retrieval: NER can be used to retrieve relevant documents or articles based on named entities.\n",
        "\n",
        "#### Techniques for NER\n",
        "\n",
        "- Rule-based Systems: Simple rule-based systems can be used to identify named entities based on predefined patterns and rules.\n",
        "- Machine Learning Algorithms: Various machine learning algorithms, such as Hidden Markov Models (HMMs) and Conditional Random Fields (CRFs), can be used to train and improve NER models.\n",
        "- Deep Learning Techniques: Deep learning models, such as Recurrent Neural Networks (RNNs) and Transformers, can be used to capture contextual information and improve NER accuracy.\n",
        "\n",
        "#### NER Evaluation Metrics\n",
        "\n",
        "- Precision: Precision measures the accuracy of correctly identified named entities out of all identified named entities.\n",
        "- Recall: Recall measures the accuracy of correctly identified named entities out of all relevant named entities.\n",
        "- F1 Score: F1 Score is the harmonic mean of precision and recall, providing a balanced evaluation metric.\n",
        "- Accuracy: Accuracy measures the overall accuracy of the NER model, considering both precision and recall.\n",
        "\n",
        "#### NER Challenges and Solutions\n",
        "\n",
        "- Limited Training Data: NER models require large amounts of labeled training data to achieve high accuracy. Overfitting can occur if the model is trained on too few examples or if it memorizes the training data instead of learning the underlying patterns. To overcome this challenge, techniques like data augmentation, transfer learning, and ensemble methods can be used.\n",
        "- Contextual Information: NER models often struggle to capture contextual information, such as the relationship between different named entities. To address this challenge, techniques like bidirectional LSTM models, attention mechanisms, and contextual embeddings can be used.\n",
        "- Ambiguity: Named entities can be ambiguous, and different interpretations of the same entity can occur. To handle this challenge, techniques like named entity disambiguation, knowledge bases, and contextual information can be used.\n",
        "- Noisy Data: NER models may encounter noisy data, such as incorrect annotations, spelling errors, or incomplete information.\n",
        "\n"
      ]
    },
    {
      "cell_type": "markdown",
      "metadata": {
        "id": "jNqTeUyqp5Ye"
      },
      "source": [
        "<h2 align = center> Importing Necessary Libraries </h2>\n"
      ]
    },
    {
      "cell_type": "code",
      "execution_count": 1,
      "metadata": {
        "id": "qIvpLwljp5Ye"
      },
      "outputs": [
        {
          "name": "stderr",
          "output_type": "stream",
          "text": [
            "c:\\Python312\\Lib\\site-packages\\threadpoolctl.py:1214: RuntimeWarning: \n",
            "Found Intel OpenMP ('libiomp') and LLVM OpenMP ('libomp') loaded at\n",
            "the same time. Both libraries are known to be incompatible and this\n",
            "can cause random crashes or deadlocks on Linux when loaded in the\n",
            "same Python program.\n",
            "Using threadpoolctl may cause crashes or deadlocks. For more\n",
            "information and possible workarounds, please see\n",
            "    https://github.com/joblib/threadpoolctl/blob/master/multiple_openmp.md\n",
            "\n",
            "  warnings.warn(msg, RuntimeWarning)\n"
          ]
        }
      ],
      "source": [
        "import pandas as pd\n",
        "import numpy as np\n",
        "import matplotlib.pyplot as plt\n",
        "\n",
        "import spacy\n",
        "from spacy import displacy\n",
        "from spacy.tokens import DocBin\n",
        "from spacy.util import filter_spans\n",
        "\n",
        "\n",
        "\n",
        "from sklearn.model_selection import train_test_split\n",
        "from sklearn.feature_extraction.text import CountVectorizer\n",
        "from sklearn.naive_bayes import MultinomialNB\n",
        "from sklearn.metrics import accuracy_score, classification_report\n"
      ]
    },
    {
      "cell_type": "markdown",
      "metadata": {
        "id": "Du48QxIbp5Yg"
      },
      "source": [
        "<h1 align = center> Building Custom Named Entity Recognization Model Using Spacy </h1>"
      ]
    },
    {
      "cell_type": "markdown",
      "metadata": {
        "id": "2XEZuo3CqGfT"
      },
      "source": [
        "<h2 align = center> Downloading Spacy Built-in Model </h2>"
      ]
    },
    {
      "cell_type": "code",
      "execution_count": 7,
      "metadata": {
        "colab": {
          "base_uri": "https://localhost:8080/"
        },
        "id": "pIG6R_SAp5Yg",
        "outputId": "9ba99d19-789f-482d-c81f-f96edd30346c"
      },
      "outputs": [
        {
          "name": "stdout",
          "output_type": "stream",
          "text": [
            "\n",
            "\u001b[38;5;1m✘ No compatible package found for 'en_code_web_lg' (spaCy v3.7.6)\u001b[0m\n",
            "\n",
            "Collecting en-core-web-sm==3.7.1\n",
            "  Downloading https://github.com/explosion/spacy-models/releases/download/en_core_web_sm-3.7.1/en_core_web_sm-3.7.1-py3-none-any.whl (12.8 MB)\n",
            "\u001b[2K     \u001b[90m━━━━━━━━━━━━━━━━━━━━━━━━━━━━━━━━━━━━━━━━\u001b[0m \u001b[32m12.8/12.8 MB\u001b[0m \u001b[31m84.3 MB/s\u001b[0m eta \u001b[36m0:00:00\u001b[0m\n",
            "\u001b[?25hRequirement already satisfied: spacy<3.8.0,>=3.7.2 in /usr/local/lib/python3.10/dist-packages (from en-core-web-sm==3.7.1) (3.7.6)\n",
            "Requirement already satisfied: spacy-legacy<3.1.0,>=3.0.11 in /usr/local/lib/python3.10/dist-packages (from spacy<3.8.0,>=3.7.2->en-core-web-sm==3.7.1) (3.0.12)\n",
            "Requirement already satisfied: spacy-loggers<2.0.0,>=1.0.0 in /usr/local/lib/python3.10/dist-packages (from spacy<3.8.0,>=3.7.2->en-core-web-sm==3.7.1) (1.0.5)\n",
            "Requirement already satisfied: murmurhash<1.1.0,>=0.28.0 in /usr/local/lib/python3.10/dist-packages (from spacy<3.8.0,>=3.7.2->en-core-web-sm==3.7.1) (1.0.10)\n",
            "Requirement already satisfied: cymem<2.1.0,>=2.0.2 in /usr/local/lib/python3.10/dist-packages (from spacy<3.8.0,>=3.7.2->en-core-web-sm==3.7.1) (2.0.8)\n",
            "Requirement already satisfied: preshed<3.1.0,>=3.0.2 in /usr/local/lib/python3.10/dist-packages (from spacy<3.8.0,>=3.7.2->en-core-web-sm==3.7.1) (3.0.9)\n",
            "Requirement already satisfied: thinc<8.3.0,>=8.2.2 in /usr/local/lib/python3.10/dist-packages (from spacy<3.8.0,>=3.7.2->en-core-web-sm==3.7.1) (8.2.5)\n",
            "Requirement already satisfied: wasabi<1.2.0,>=0.9.1 in /usr/local/lib/python3.10/dist-packages (from spacy<3.8.0,>=3.7.2->en-core-web-sm==3.7.1) (1.1.3)\n",
            "Requirement already satisfied: srsly<3.0.0,>=2.4.3 in /usr/local/lib/python3.10/dist-packages (from spacy<3.8.0,>=3.7.2->en-core-web-sm==3.7.1) (2.4.8)\n",
            "Requirement already satisfied: catalogue<2.1.0,>=2.0.6 in /usr/local/lib/python3.10/dist-packages (from spacy<3.8.0,>=3.7.2->en-core-web-sm==3.7.1) (2.0.10)\n",
            "Requirement already satisfied: weasel<0.5.0,>=0.1.0 in /usr/local/lib/python3.10/dist-packages (from spacy<3.8.0,>=3.7.2->en-core-web-sm==3.7.1) (0.4.1)\n",
            "Requirement already satisfied: typer<1.0.0,>=0.3.0 in /usr/local/lib/python3.10/dist-packages (from spacy<3.8.0,>=3.7.2->en-core-web-sm==3.7.1) (0.12.4)\n",
            "Requirement already satisfied: tqdm<5.0.0,>=4.38.0 in /usr/local/lib/python3.10/dist-packages (from spacy<3.8.0,>=3.7.2->en-core-web-sm==3.7.1) (4.66.5)\n",
            "Requirement already satisfied: requests<3.0.0,>=2.13.0 in /usr/local/lib/python3.10/dist-packages (from spacy<3.8.0,>=3.7.2->en-core-web-sm==3.7.1) (2.32.3)\n",
            "Requirement already satisfied: pydantic!=1.8,!=1.8.1,<3.0.0,>=1.7.4 in /usr/local/lib/python3.10/dist-packages (from spacy<3.8.0,>=3.7.2->en-core-web-sm==3.7.1) (2.8.2)\n",
            "Requirement already satisfied: jinja2 in /usr/local/lib/python3.10/dist-packages (from spacy<3.8.0,>=3.7.2->en-core-web-sm==3.7.1) (3.1.4)\n",
            "Requirement already satisfied: setuptools in /usr/local/lib/python3.10/dist-packages (from spacy<3.8.0,>=3.7.2->en-core-web-sm==3.7.1) (71.0.4)\n",
            "Requirement already satisfied: packaging>=20.0 in /usr/local/lib/python3.10/dist-packages (from spacy<3.8.0,>=3.7.2->en-core-web-sm==3.7.1) (24.1)\n",
            "Requirement already satisfied: langcodes<4.0.0,>=3.2.0 in /usr/local/lib/python3.10/dist-packages (from spacy<3.8.0,>=3.7.2->en-core-web-sm==3.7.1) (3.4.0)\n",
            "Requirement already satisfied: numpy>=1.19.0 in /usr/local/lib/python3.10/dist-packages (from spacy<3.8.0,>=3.7.2->en-core-web-sm==3.7.1) (1.26.4)\n",
            "Requirement already satisfied: language-data>=1.2 in /usr/local/lib/python3.10/dist-packages (from langcodes<4.0.0,>=3.2.0->spacy<3.8.0,>=3.7.2->en-core-web-sm==3.7.1) (1.2.0)\n",
            "Requirement already satisfied: annotated-types>=0.4.0 in /usr/local/lib/python3.10/dist-packages (from pydantic!=1.8,!=1.8.1,<3.0.0,>=1.7.4->spacy<3.8.0,>=3.7.2->en-core-web-sm==3.7.1) (0.7.0)\n",
            "Requirement already satisfied: pydantic-core==2.20.1 in /usr/local/lib/python3.10/dist-packages (from pydantic!=1.8,!=1.8.1,<3.0.0,>=1.7.4->spacy<3.8.0,>=3.7.2->en-core-web-sm==3.7.1) (2.20.1)\n",
            "Requirement already satisfied: typing-extensions>=4.6.1 in /usr/local/lib/python3.10/dist-packages (from pydantic!=1.8,!=1.8.1,<3.0.0,>=1.7.4->spacy<3.8.0,>=3.7.2->en-core-web-sm==3.7.1) (4.12.2)\n",
            "Requirement already satisfied: charset-normalizer<4,>=2 in /usr/local/lib/python3.10/dist-packages (from requests<3.0.0,>=2.13.0->spacy<3.8.0,>=3.7.2->en-core-web-sm==3.7.1) (3.3.2)\n",
            "Requirement already satisfied: idna<4,>=2.5 in /usr/local/lib/python3.10/dist-packages (from requests<3.0.0,>=2.13.0->spacy<3.8.0,>=3.7.2->en-core-web-sm==3.7.1) (3.7)\n",
            "Requirement already satisfied: urllib3<3,>=1.21.1 in /usr/local/lib/python3.10/dist-packages (from requests<3.0.0,>=2.13.0->spacy<3.8.0,>=3.7.2->en-core-web-sm==3.7.1) (2.0.7)\n",
            "Requirement already satisfied: certifi>=2017.4.17 in /usr/local/lib/python3.10/dist-packages (from requests<3.0.0,>=2.13.0->spacy<3.8.0,>=3.7.2->en-core-web-sm==3.7.1) (2024.7.4)\n",
            "Requirement already satisfied: blis<0.8.0,>=0.7.8 in /usr/local/lib/python3.10/dist-packages (from thinc<8.3.0,>=8.2.2->spacy<3.8.0,>=3.7.2->en-core-web-sm==3.7.1) (0.7.11)\n",
            "Requirement already satisfied: confection<1.0.0,>=0.0.1 in /usr/local/lib/python3.10/dist-packages (from thinc<8.3.0,>=8.2.2->spacy<3.8.0,>=3.7.2->en-core-web-sm==3.7.1) (0.1.5)\n",
            "Requirement already satisfied: click>=8.0.0 in /usr/local/lib/python3.10/dist-packages (from typer<1.0.0,>=0.3.0->spacy<3.8.0,>=3.7.2->en-core-web-sm==3.7.1) (8.1.7)\n",
            "Requirement already satisfied: shellingham>=1.3.0 in /usr/local/lib/python3.10/dist-packages (from typer<1.0.0,>=0.3.0->spacy<3.8.0,>=3.7.2->en-core-web-sm==3.7.1) (1.5.4)\n",
            "Requirement already satisfied: rich>=10.11.0 in /usr/local/lib/python3.10/dist-packages (from typer<1.0.0,>=0.3.0->spacy<3.8.0,>=3.7.2->en-core-web-sm==3.7.1) (13.7.1)\n",
            "Requirement already satisfied: cloudpathlib<1.0.0,>=0.7.0 in /usr/local/lib/python3.10/dist-packages (from weasel<0.5.0,>=0.1.0->spacy<3.8.0,>=3.7.2->en-core-web-sm==3.7.1) (0.18.1)\n",
            "Requirement already satisfied: smart-open<8.0.0,>=5.2.1 in /usr/local/lib/python3.10/dist-packages (from weasel<0.5.0,>=0.1.0->spacy<3.8.0,>=3.7.2->en-core-web-sm==3.7.1) (7.0.4)\n",
            "Requirement already satisfied: MarkupSafe>=2.0 in /usr/local/lib/python3.10/dist-packages (from jinja2->spacy<3.8.0,>=3.7.2->en-core-web-sm==3.7.1) (2.1.5)\n",
            "Requirement already satisfied: marisa-trie>=0.7.7 in /usr/local/lib/python3.10/dist-packages (from language-data>=1.2->langcodes<4.0.0,>=3.2.0->spacy<3.8.0,>=3.7.2->en-core-web-sm==3.7.1) (1.2.0)\n",
            "Requirement already satisfied: markdown-it-py>=2.2.0 in /usr/local/lib/python3.10/dist-packages (from rich>=10.11.0->typer<1.0.0,>=0.3.0->spacy<3.8.0,>=3.7.2->en-core-web-sm==3.7.1) (3.0.0)\n",
            "Requirement already satisfied: pygments<3.0.0,>=2.13.0 in /usr/local/lib/python3.10/dist-packages (from rich>=10.11.0->typer<1.0.0,>=0.3.0->spacy<3.8.0,>=3.7.2->en-core-web-sm==3.7.1) (2.16.1)\n",
            "Requirement already satisfied: wrapt in /usr/local/lib/python3.10/dist-packages (from smart-open<8.0.0,>=5.2.1->weasel<0.5.0,>=0.1.0->spacy<3.8.0,>=3.7.2->en-core-web-sm==3.7.1) (1.16.0)\n",
            "Requirement already satisfied: mdurl~=0.1 in /usr/local/lib/python3.10/dist-packages (from markdown-it-py>=2.2.0->rich>=10.11.0->typer<1.0.0,>=0.3.0->spacy<3.8.0,>=3.7.2->en-core-web-sm==3.7.1) (0.1.2)\n",
            "\u001b[38;5;2m✔ Download and installation successful\u001b[0m\n",
            "You can now load the package via spacy.load('en_core_web_sm')\n",
            "\u001b[38;5;3m⚠ Restart to reload dependencies\u001b[0m\n",
            "If you are in a Jupyter or Colab notebook, you may need to restart Python in\n",
            "order to load all the package's dependencies. You can do this by selecting the\n",
            "'Restart kernel' or 'Restart runtime' option.\n"
          ]
        }
      ],
      "source": [
        "!python -m spacy download en_code_web_lg\n",
        "!python -m spacy download en_core_web_sm"
      ]
    },
    {
      "cell_type": "markdown",
      "metadata": {
        "id": "WEsSe1GerAo8"
      },
      "source": [
        "### Loading Model"
      ]
    },
    {
      "cell_type": "code",
      "execution_count": 9,
      "metadata": {
        "colab": {
          "base_uri": "https://localhost:8080/"
        },
        "id": "-iTajqM7qdQ8",
        "outputId": "e2d379ba-1c75-42a0-95d1-2869162f6d59"
      },
      "outputs": [
        {
          "data": {
            "text/plain": [
              "<spacy.lang.en.English at 0x7c0904d95b70>"
            ]
          },
          "execution_count": 9,
          "metadata": {},
          "output_type": "execute_result"
        }
      ],
      "source": [
        "nlp = spacy.load(\"en_core_web_sm\")\n",
        "nlp"
      ]
    },
    {
      "cell_type": "markdown",
      "metadata": {
        "id": "dRCh7GiurXeT"
      },
      "source": [
        "### Loading Text in our model"
      ]
    },
    {
      "cell_type": "code",
      "execution_count": 10,
      "metadata": {
        "id": "XYu1ufiRrHaZ"
      },
      "outputs": [],
      "source": [
        "text = \"Pakistan is a muslim country that is founded by Quid-e-Azam Muhammad Ali Jinnah in 1947\"\n",
        "text = nlp(text)"
      ]
    },
    {
      "cell_type": "markdown",
      "metadata": {
        "id": "Xdher7Y0rwKM"
      },
      "source": [
        "### Printing Entities in our text"
      ]
    },
    {
      "cell_type": "code",
      "execution_count": 12,
      "metadata": {
        "colab": {
          "base_uri": "https://localhost:8080/"
        },
        "id": "05IhXeAOraTd",
        "outputId": "55608998-71f9-46cc-e3f4-25052dca2284"
      },
      "outputs": [
        {
          "data": {
            "text/plain": [
              "(Pakistan, muslim, Ali Jinnah, 1947)"
            ]
          },
          "execution_count": 12,
          "metadata": {},
          "output_type": "execute_result"
        }
      ],
      "source": [
        "text.ents"
      ]
    },
    {
      "cell_type": "markdown",
      "metadata": {
        "id": "6hF5Yxldr9jE"
      },
      "source": [
        "### Showing Entities With Text"
      ]
    },
    {
      "cell_type": "code",
      "execution_count": 14,
      "metadata": {
        "colab": {
          "base_uri": "https://localhost:8080/",
          "height": 87
        },
        "id": "G4DiYpwjr3i8",
        "outputId": "ae8ef0af-3dda-48c2-ecff-2a60a7f14a98"
      },
      "outputs": [
        {
          "data": {
            "text/html": [
              "<span class=\"tex2jax_ignore\"><div class=\"entities\" style=\"line-height: 2.5; direction: ltr\">\n",
              "<mark class=\"entity\" style=\"background: #feca74; padding: 0.45em 0.6em; margin: 0 0.25em; line-height: 1; border-radius: 0.35em;\">\n",
              "    Pakistan\n",
              "    <span style=\"font-size: 0.8em; font-weight: bold; line-height: 1; border-radius: 0.35em; vertical-align: middle; margin-left: 0.5rem\">GPE</span>\n",
              "</mark>\n",
              " is a \n",
              "<mark class=\"entity\" style=\"background: #c887fb; padding: 0.45em 0.6em; margin: 0 0.25em; line-height: 1; border-radius: 0.35em;\">\n",
              "    muslim\n",
              "    <span style=\"font-size: 0.8em; font-weight: bold; line-height: 1; border-radius: 0.35em; vertical-align: middle; margin-left: 0.5rem\">NORP</span>\n",
              "</mark>\n",
              " country that is founded by Quid-e-Azam Muhammad \n",
              "<mark class=\"entity\" style=\"background: #aa9cfc; padding: 0.45em 0.6em; margin: 0 0.25em; line-height: 1; border-radius: 0.35em;\">\n",
              "    Ali Jinnah\n",
              "    <span style=\"font-size: 0.8em; font-weight: bold; line-height: 1; border-radius: 0.35em; vertical-align: middle; margin-left: 0.5rem\">PERSON</span>\n",
              "</mark>\n",
              " in \n",
              "<mark class=\"entity\" style=\"background: #bfe1d9; padding: 0.45em 0.6em; margin: 0 0.25em; line-height: 1; border-radius: 0.35em;\">\n",
              "    1947\n",
              "    <span style=\"font-size: 0.8em; font-weight: bold; line-height: 1; border-radius: 0.35em; vertical-align: middle; margin-left: 0.5rem\">DATE</span>\n",
              "</mark>\n",
              "</div></span>"
            ],
            "text/plain": [
              "<IPython.core.display.HTML object>"
            ]
          },
          "metadata": {},
          "output_type": "display_data"
        }
      ],
      "source": [
        "displacy.render(text , style = \"ent\" , jupyter = True)"
      ]
    },
    {
      "cell_type": "markdown",
      "metadata": {
        "id": "OoliS_pfsppv"
      },
      "source": [
        "### Interpretation\n",
        "\n",
        "in above text\n",
        "\n",
        "GPE = Geopolitical Entity\n",
        "\n",
        "NORP = Nationalities or Religious or Political Groups\n",
        "\n",
        "PERSON = Refers to the name of a person or individual.\n",
        "\n",
        "DATE =  Refers to a specific calendar date\n"
      ]
    },
    {
      "cell_type": "markdown",
      "metadata": {
        "id": "FaTTAbL8xjPT"
      },
      "source": [
        "<h2 align = center> Making Custom Model Using Spacy </h2>"
      ]
    },
    {
      "cell_type": "markdown",
      "metadata": {
        "id": "4dsTbQAd7Dc-"
      },
      "source": [
        " I am training an NER model that can extract the name of the ingredient, the quantity and units of ingredient."
      ]
    },
    {
      "cell_type": "markdown",
      "metadata": {
        "id": "BYNMpcbf3UVb"
      },
      "source": [
        "### Importing Dataset"
      ]
    },
    {
      "cell_type": "code",
      "execution_count": 19,
      "metadata": {
        "colab": {
          "base_uri": "https://localhost:8080/",
          "height": 206
        },
        "id": "016EgxVfsnLl",
        "outputId": "14c9762a-8324-47e6-e598-8e4516fb1b32"
      },
      "outputs": [
        {
          "data": {
            "application/vnd.google.colaboratory.intrinsic+json": {
              "summary": "{\n  \"name\": \"data\",\n  \"rows\": 37240,\n  \"fields\": [\n    {\n      \"column\": \"source\",\n      \"properties\": {\n        \"dtype\": \"category\",\n        \"num_unique_values\": 2,\n        \"samples\": [\n          \"gk\",\n          \"ar\"\n        ],\n        \"semantic_type\": \"\",\n        \"description\": \"\"\n      }\n    },\n    {\n      \"column\": \"ingredient_id\",\n      \"properties\": {\n        \"dtype\": \"number\",\n        \"std\": 1555,\n        \"min\": 0,\n        \"max\": 5141,\n        \"num_unique_values\": 5142,\n        \"samples\": [\n          4169,\n          4151\n        ],\n        \"semantic_type\": \"\",\n        \"description\": \"\"\n      }\n    },\n    {\n      \"column\": \"token_id\",\n      \"properties\": {\n        \"dtype\": \"number\",\n        \"std\": 3,\n        \"min\": 0,\n        \"max\": 28,\n        \"num_unique_values\": 29,\n        \"samples\": [\n          27,\n          16\n        ],\n        \"semantic_type\": \"\",\n        \"description\": \"\"\n      }\n    },\n    {\n      \"column\": \"token\",\n      \"properties\": {\n        \"dtype\": \"category\",\n        \"num_unique_values\": 2353,\n        \"samples\": [\n          \"pesto\",\n          \"debearded\"\n        ],\n        \"semantic_type\": \"\",\n        \"description\": \"\"\n      }\n    },\n    {\n      \"column\": \"label\",\n      \"properties\": {\n        \"dtype\": \"category\",\n        \"num_unique_values\": 8,\n        \"samples\": [\n          \"UNIT\",\n          \"DF\"\n        ],\n        \"semantic_type\": \"\",\n        \"description\": \"\"\n      }\n    }\n  ]\n}",
              "type": "dataframe",
              "variable_name": "data"
            },
            "text/html": [
              "\n",
              "  <div id=\"df-57ee9efa-3da7-4508-8bf0-c919f5e09277\" class=\"colab-df-container\">\n",
              "    <div>\n",
              "<style scoped>\n",
              "    .dataframe tbody tr th:only-of-type {\n",
              "        vertical-align: middle;\n",
              "    }\n",
              "\n",
              "    .dataframe tbody tr th {\n",
              "        vertical-align: top;\n",
              "    }\n",
              "\n",
              "    .dataframe thead th {\n",
              "        text-align: right;\n",
              "    }\n",
              "</style>\n",
              "<table border=\"1\" class=\"dataframe\">\n",
              "  <thead>\n",
              "    <tr style=\"text-align: right;\">\n",
              "      <th></th>\n",
              "      <th>source</th>\n",
              "      <th>ingredient_id</th>\n",
              "      <th>token_id</th>\n",
              "      <th>token</th>\n",
              "      <th>label</th>\n",
              "    </tr>\n",
              "  </thead>\n",
              "  <tbody>\n",
              "    <tr>\n",
              "      <th>0</th>\n",
              "      <td>ar</td>\n",
              "      <td>0</td>\n",
              "      <td>0</td>\n",
              "      <td>4</td>\n",
              "      <td>QUANTITY</td>\n",
              "    </tr>\n",
              "    <tr>\n",
              "      <th>1</th>\n",
              "      <td>ar</td>\n",
              "      <td>0</td>\n",
              "      <td>1</td>\n",
              "      <td>cloves</td>\n",
              "      <td>UNIT</td>\n",
              "    </tr>\n",
              "    <tr>\n",
              "      <th>2</th>\n",
              "      <td>ar</td>\n",
              "      <td>0</td>\n",
              "      <td>2</td>\n",
              "      <td>garlic</td>\n",
              "      <td>NAME</td>\n",
              "    </tr>\n",
              "    <tr>\n",
              "      <th>3</th>\n",
              "      <td>ar</td>\n",
              "      <td>1</td>\n",
              "      <td>0</td>\n",
              "      <td>2</td>\n",
              "      <td>QUANTITY</td>\n",
              "    </tr>\n",
              "    <tr>\n",
              "      <th>4</th>\n",
              "      <td>ar</td>\n",
              "      <td>1</td>\n",
              "      <td>1</td>\n",
              "      <td>tablespoons</td>\n",
              "      <td>UNIT</td>\n",
              "    </tr>\n",
              "  </tbody>\n",
              "</table>\n",
              "</div>\n",
              "    <div class=\"colab-df-buttons\">\n",
              "\n",
              "  <div class=\"colab-df-container\">\n",
              "    <button class=\"colab-df-convert\" onclick=\"convertToInteractive('df-57ee9efa-3da7-4508-8bf0-c919f5e09277')\"\n",
              "            title=\"Convert this dataframe to an interactive table.\"\n",
              "            style=\"display:none;\">\n",
              "\n",
              "  <svg xmlns=\"http://www.w3.org/2000/svg\" height=\"24px\" viewBox=\"0 -960 960 960\">\n",
              "    <path d=\"M120-120v-720h720v720H120Zm60-500h600v-160H180v160Zm220 220h160v-160H400v160Zm0 220h160v-160H400v160ZM180-400h160v-160H180v160Zm440 0h160v-160H620v160ZM180-180h160v-160H180v160Zm440 0h160v-160H620v160Z\"/>\n",
              "  </svg>\n",
              "    </button>\n",
              "\n",
              "  <style>\n",
              "    .colab-df-container {\n",
              "      display:flex;\n",
              "      gap: 12px;\n",
              "    }\n",
              "\n",
              "    .colab-df-convert {\n",
              "      background-color: #E8F0FE;\n",
              "      border: none;\n",
              "      border-radius: 50%;\n",
              "      cursor: pointer;\n",
              "      display: none;\n",
              "      fill: #1967D2;\n",
              "      height: 32px;\n",
              "      padding: 0 0 0 0;\n",
              "      width: 32px;\n",
              "    }\n",
              "\n",
              "    .colab-df-convert:hover {\n",
              "      background-color: #E2EBFA;\n",
              "      box-shadow: 0px 1px 2px rgba(60, 64, 67, 0.3), 0px 1px 3px 1px rgba(60, 64, 67, 0.15);\n",
              "      fill: #174EA6;\n",
              "    }\n",
              "\n",
              "    .colab-df-buttons div {\n",
              "      margin-bottom: 4px;\n",
              "    }\n",
              "\n",
              "    [theme=dark] .colab-df-convert {\n",
              "      background-color: #3B4455;\n",
              "      fill: #D2E3FC;\n",
              "    }\n",
              "\n",
              "    [theme=dark] .colab-df-convert:hover {\n",
              "      background-color: #434B5C;\n",
              "      box-shadow: 0px 1px 3px 1px rgba(0, 0, 0, 0.15);\n",
              "      filter: drop-shadow(0px 1px 2px rgba(0, 0, 0, 0.3));\n",
              "      fill: #FFFFFF;\n",
              "    }\n",
              "  </style>\n",
              "\n",
              "    <script>\n",
              "      const buttonEl =\n",
              "        document.querySelector('#df-57ee9efa-3da7-4508-8bf0-c919f5e09277 button.colab-df-convert');\n",
              "      buttonEl.style.display =\n",
              "        google.colab.kernel.accessAllowed ? 'block' : 'none';\n",
              "\n",
              "      async function convertToInteractive(key) {\n",
              "        const element = document.querySelector('#df-57ee9efa-3da7-4508-8bf0-c919f5e09277');\n",
              "        const dataTable =\n",
              "          await google.colab.kernel.invokeFunction('convertToInteractive',\n",
              "                                                    [key], {});\n",
              "        if (!dataTable) return;\n",
              "\n",
              "        const docLinkHtml = 'Like what you see? Visit the ' +\n",
              "          '<a target=\"_blank\" href=https://colab.research.google.com/notebooks/data_table.ipynb>data table notebook</a>'\n",
              "          + ' to learn more about interactive tables.';\n",
              "        element.innerHTML = '';\n",
              "        dataTable['output_type'] = 'display_data';\n",
              "        await google.colab.output.renderOutput(dataTable, element);\n",
              "        const docLink = document.createElement('div');\n",
              "        docLink.innerHTML = docLinkHtml;\n",
              "        element.appendChild(docLink);\n",
              "      }\n",
              "    </script>\n",
              "  </div>\n",
              "\n",
              "\n",
              "<div id=\"df-2ba9b95c-151b-449e-9792-db628fc93b52\">\n",
              "  <button class=\"colab-df-quickchart\" onclick=\"quickchart('df-2ba9b95c-151b-449e-9792-db628fc93b52')\"\n",
              "            title=\"Suggest charts\"\n",
              "            style=\"display:none;\">\n",
              "\n",
              "<svg xmlns=\"http://www.w3.org/2000/svg\" height=\"24px\"viewBox=\"0 0 24 24\"\n",
              "     width=\"24px\">\n",
              "    <g>\n",
              "        <path d=\"M19 3H5c-1.1 0-2 .9-2 2v14c0 1.1.9 2 2 2h14c1.1 0 2-.9 2-2V5c0-1.1-.9-2-2-2zM9 17H7v-7h2v7zm4 0h-2V7h2v10zm4 0h-2v-4h2v4z\"/>\n",
              "    </g>\n",
              "</svg>\n",
              "  </button>\n",
              "\n",
              "<style>\n",
              "  .colab-df-quickchart {\n",
              "      --bg-color: #E8F0FE;\n",
              "      --fill-color: #1967D2;\n",
              "      --hover-bg-color: #E2EBFA;\n",
              "      --hover-fill-color: #174EA6;\n",
              "      --disabled-fill-color: #AAA;\n",
              "      --disabled-bg-color: #DDD;\n",
              "  }\n",
              "\n",
              "  [theme=dark] .colab-df-quickchart {\n",
              "      --bg-color: #3B4455;\n",
              "      --fill-color: #D2E3FC;\n",
              "      --hover-bg-color: #434B5C;\n",
              "      --hover-fill-color: #FFFFFF;\n",
              "      --disabled-bg-color: #3B4455;\n",
              "      --disabled-fill-color: #666;\n",
              "  }\n",
              "\n",
              "  .colab-df-quickchart {\n",
              "    background-color: var(--bg-color);\n",
              "    border: none;\n",
              "    border-radius: 50%;\n",
              "    cursor: pointer;\n",
              "    display: none;\n",
              "    fill: var(--fill-color);\n",
              "    height: 32px;\n",
              "    padding: 0;\n",
              "    width: 32px;\n",
              "  }\n",
              "\n",
              "  .colab-df-quickchart:hover {\n",
              "    background-color: var(--hover-bg-color);\n",
              "    box-shadow: 0 1px 2px rgba(60, 64, 67, 0.3), 0 1px 3px 1px rgba(60, 64, 67, 0.15);\n",
              "    fill: var(--button-hover-fill-color);\n",
              "  }\n",
              "\n",
              "  .colab-df-quickchart-complete:disabled,\n",
              "  .colab-df-quickchart-complete:disabled:hover {\n",
              "    background-color: var(--disabled-bg-color);\n",
              "    fill: var(--disabled-fill-color);\n",
              "    box-shadow: none;\n",
              "  }\n",
              "\n",
              "  .colab-df-spinner {\n",
              "    border: 2px solid var(--fill-color);\n",
              "    border-color: transparent;\n",
              "    border-bottom-color: var(--fill-color);\n",
              "    animation:\n",
              "      spin 1s steps(1) infinite;\n",
              "  }\n",
              "\n",
              "  @keyframes spin {\n",
              "    0% {\n",
              "      border-color: transparent;\n",
              "      border-bottom-color: var(--fill-color);\n",
              "      border-left-color: var(--fill-color);\n",
              "    }\n",
              "    20% {\n",
              "      border-color: transparent;\n",
              "      border-left-color: var(--fill-color);\n",
              "      border-top-color: var(--fill-color);\n",
              "    }\n",
              "    30% {\n",
              "      border-color: transparent;\n",
              "      border-left-color: var(--fill-color);\n",
              "      border-top-color: var(--fill-color);\n",
              "      border-right-color: var(--fill-color);\n",
              "    }\n",
              "    40% {\n",
              "      border-color: transparent;\n",
              "      border-right-color: var(--fill-color);\n",
              "      border-top-color: var(--fill-color);\n",
              "    }\n",
              "    60% {\n",
              "      border-color: transparent;\n",
              "      border-right-color: var(--fill-color);\n",
              "    }\n",
              "    80% {\n",
              "      border-color: transparent;\n",
              "      border-right-color: var(--fill-color);\n",
              "      border-bottom-color: var(--fill-color);\n",
              "    }\n",
              "    90% {\n",
              "      border-color: transparent;\n",
              "      border-bottom-color: var(--fill-color);\n",
              "    }\n",
              "  }\n",
              "</style>\n",
              "\n",
              "  <script>\n",
              "    async function quickchart(key) {\n",
              "      const quickchartButtonEl =\n",
              "        document.querySelector('#' + key + ' button');\n",
              "      quickchartButtonEl.disabled = true;  // To prevent multiple clicks.\n",
              "      quickchartButtonEl.classList.add('colab-df-spinner');\n",
              "      try {\n",
              "        const charts = await google.colab.kernel.invokeFunction(\n",
              "            'suggestCharts', [key], {});\n",
              "      } catch (error) {\n",
              "        console.error('Error during call to suggestCharts:', error);\n",
              "      }\n",
              "      quickchartButtonEl.classList.remove('colab-df-spinner');\n",
              "      quickchartButtonEl.classList.add('colab-df-quickchart-complete');\n",
              "    }\n",
              "    (() => {\n",
              "      let quickchartButtonEl =\n",
              "        document.querySelector('#df-2ba9b95c-151b-449e-9792-db628fc93b52 button');\n",
              "      quickchartButtonEl.style.display =\n",
              "        google.colab.kernel.accessAllowed ? 'block' : 'none';\n",
              "    })();\n",
              "  </script>\n",
              "</div>\n",
              "\n",
              "    </div>\n",
              "  </div>\n"
            ],
            "text/plain": [
              "  source  ingredient_id  token_id        token     label\n",
              "0     ar              0         0            4  QUANTITY\n",
              "1     ar              0         1       cloves      UNIT\n",
              "2     ar              0         2       garlic      NAME\n",
              "3     ar              1         0            2  QUANTITY\n",
              "4     ar              1         1  tablespoons      UNIT"
            ]
          },
          "execution_count": 19,
          "metadata": {},
          "output_type": "execute_result"
        }
      ],
      "source": [
        "data = pd.read_csv('train.csv')\n",
        "data.head()"
      ]
    },
    {
      "cell_type": "markdown",
      "metadata": {
        "id": "bnmtUUQY3ZGG"
      },
      "source": [
        "### Converting CSV to Spacy Format"
      ]
    },
    {
      "cell_type": "code",
      "execution_count": 24,
      "metadata": {
        "id": "1Pez5JKM3eiO"
      },
      "outputs": [],
      "source": [
        "grouped = data.groupby(['source' , 'ingredient_id'])"
      ]
    },
    {
      "cell_type": "code",
      "execution_count": 32,
      "metadata": {
        "colab": {
          "base_uri": "https://localhost:8080/"
        },
        "id": "-El3fvMU4Mkn",
        "outputId": "142dd3ac-4ec5-4ae5-bce9-7fe7ad377ef1"
      },
      "outputs": [
        {
          "data": {
            "text/plain": [
              "('4 cloves garlic',\n",
              " {'entities': [(0, 1, 'QUANTITY'), (2, 8, 'UNIT'), (9, 15, 'NAME')]})"
            ]
          },
          "execution_count": 32,
          "metadata": {},
          "output_type": "execute_result"
        }
      ],
      "source": [
        "training_data = []\n",
        "\n",
        "for name, group in grouped:\n",
        "    tokens = group['token'].tolist()\n",
        "    labels = group['label'].tolist()\n",
        "\n",
        "    sentence = ' '.join([str(token) for token in tokens])\n",
        "\n",
        "    # Calculating the start and end of entities\n",
        "\n",
        "    entities = []\n",
        "    start = 0\n",
        "    for token , label in zip(tokens , labels):\n",
        "        token_str = str(token)\n",
        "        end = start + len(token_str)\n",
        "        if label != 'O':\n",
        "            entities.append((start , end , label))\n",
        "        start = end + 1\n",
        "\n",
        "    training_data.append((sentence, {'entities': entities}))\n",
        "\n",
        "training_data[0]"
      ]
    },
    {
      "cell_type": "markdown",
      "metadata": {
        "id": "-jYrlCKX6lmr"
      },
      "source": [
        "### Interpretation\n",
        "\n",
        "in sentence '4 cloves garlic' there are 3 entities. 1st from 0-1 which is Quantity. 2nd entity starts from 2-8 which is Unit and the last is starts from 9-15 and it is ingredient name"
      ]
    },
    {
      "cell_type": "markdown",
      "metadata": {
        "id": "H8CcrQEo7Rx1"
      },
      "source": [
        "<h2> NER Model Training </h2>"
      ]
    },
    {
      "cell_type": "markdown",
      "metadata": {
        "id": "CVbpzmxnABqH"
      },
      "source": [
        "### Creating a Spacy DocBin File"
      ]
    },
    {
      "cell_type": "code",
      "execution_count": 33,
      "metadata": {
        "id": "gCnx_e9E7WdG"
      },
      "outputs": [],
      "source": [
        "\n",
        "nlp = spacy.blank(\"en\")\n",
        "doc_bin = DocBin()"
      ]
    },
    {
      "cell_type": "code",
      "execution_count": 37,
      "metadata": {
        "id": "sLzrYAN17mZ9"
      },
      "outputs": [],
      "source": [
        "\n",
        "for text,annotation in training_data:\n",
        "  doc = nlp.make_doc(text)\n",
        "  entities = []\n",
        "  for start , end , label in annotation['entities']:\n",
        "    span = doc.char_span(start , end , label = label)\n",
        "    if span is not None:\n",
        "      entities.append(span)\n",
        "  doc.ents = filter_spans(entities)\n",
        "  doc_bin.add(doc)\n",
        "\n",
        "doc_bin.to_disk(\"train.spacy\")"
      ]
    },
    {
      "cell_type": "markdown",
      "metadata": {
        "id": "ylWv6BElAG7v"
      },
      "source": [
        "### Setting Up Config File"
      ]
    },
    {
      "cell_type": "code",
      "execution_count": 38,
      "metadata": {
        "colab": {
          "base_uri": "https://localhost:8080/"
        },
        "id": "LKJJMRYy_PM7",
        "outputId": "15fdcd06-f459-4e81-c629-9cae63a20ed4"
      },
      "outputs": [
        {
          "name": "stdout",
          "output_type": "stream",
          "text": [
            "\u001b[38;5;2m✔ Auto-filled config with all values\u001b[0m\n",
            "\u001b[38;5;2m✔ Saved config\u001b[0m\n",
            "config.cfg\n",
            "You can now add your data and train your pipeline:\n",
            "python -m spacy train config.cfg --paths.train ./train.spacy --paths.dev ./dev.spacy\n"
          ]
        }
      ],
      "source": [
        "!python -m spacy init fill-config base_config.cfg config.cfg"
      ]
    },
    {
      "cell_type": "markdown",
      "metadata": {
        "id": "fR59mUXRAaOU"
      },
      "source": [
        "### Training Model Using DocBin File"
      ]
    },
    {
      "cell_type": "code",
      "execution_count": 39,
      "metadata": {
        "colab": {
          "base_uri": "https://localhost:8080/"
        },
        "id": "0m38v-DZ_cp9",
        "outputId": "911d03a5-cad8-404f-9c0a-817b88fef5c0"
      },
      "outputs": [
        {
          "name": "stdout",
          "output_type": "stream",
          "text": [
            "\u001b[38;5;4mℹ Saving to output directory: .\u001b[0m\n",
            "\u001b[38;5;4mℹ Using CPU\u001b[0m\n",
            "\u001b[1m\n",
            "=========================== Initializing pipeline ===========================\u001b[0m\n",
            "\u001b[38;5;2m✔ Initialized pipeline\u001b[0m\n",
            "\u001b[1m\n",
            "============================= Training pipeline =============================\u001b[0m\n",
            "\u001b[38;5;4mℹ Pipeline: ['tok2vec', 'ner']\u001b[0m\n",
            "\u001b[38;5;4mℹ Initial learn rate: 0.001\u001b[0m\n",
            "E    #       LOSS TOK2VEC  LOSS NER  ENTS_F  ENTS_P  ENTS_R  SCORE \n",
            "---  ------  ------------  --------  ------  ------  ------  ------\n",
            "  0       0          0.00     84.20   18.15   15.46   21.98    0.18\n",
            "  0     200        209.45   4782.43   96.31   95.64   96.99    0.96\n",
            "  1     400        220.98   2121.00   97.49   97.72   97.26    0.97\n",
            "  2     600        258.34   1947.15   97.92   97.59   98.26    0.98\n",
            "  3     800        313.60   1894.40   98.27   97.39   99.17    0.98\n",
            "  4    1000        367.46   1827.87   98.77   98.70   98.85    0.99\n",
            "  5    1200        469.11   1818.99   99.17   99.01   99.33    0.99\n",
            "  7    1400        601.53   1735.42   99.35   99.23   99.47    0.99\n",
            "  9    1600        690.54   1745.22   99.47   99.16   99.78    0.99\n",
            " 12    1800        817.11   1579.86   99.62   99.55   99.69    1.00\n",
            " 16    2000        975.82   1651.31   99.72   99.68   99.75    1.00\n",
            " 20    2200       1114.73   1670.38   99.80   99.78   99.81    1.00\n",
            " 25    2400       1045.01   1455.11   99.81   99.74   99.89    1.00\n",
            " 30    2600       1000.31   1365.89   99.82   99.76   99.88    1.00\n",
            " 35    2800       1033.39   1222.83   99.83   99.79   99.86    1.00\n",
            " 40    3000        970.05   1112.72   99.85   99.86   99.85    1.00\n",
            "\n",
            "\u001b[31mAborted.\u001b[0m\n",
            "^C\n"
          ]
        }
      ],
      "source": [
        "!python -m spacy train config.cfg --output ./ --paths.train ./train.spacy --paths.dev ./train.spacy"
      ]
    },
    {
      "cell_type": "markdown",
      "metadata": {
        "id": "gDfBn9CBBpdu"
      },
      "source": [
        "#### We already got 100% score so ,we are interupting the further training process"
      ]
    },
    {
      "cell_type": "markdown",
      "metadata": {
        "id": "l3Cdhr2kByn9"
      },
      "source": [
        "<h2 align = center> Loading And Testing Model </h2>"
      ]
    },
    {
      "cell_type": "markdown",
      "metadata": {
        "id": "btP0R2t2C8SZ"
      },
      "source": [
        "#### Loading Best Trained Model"
      ]
    },
    {
      "cell_type": "code",
      "execution_count": 40,
      "metadata": {
        "id": "cyYyGmSrB4eq"
      },
      "outputs": [],
      "source": [
        "ner = spacy.load(\"model-best\")"
      ]
    },
    {
      "cell_type": "markdown",
      "metadata": {
        "id": "YiwR-F1jDDiY"
      },
      "source": [
        "#### Giving Text To Model"
      ]
    },
    {
      "cell_type": "code",
      "execution_count": 41,
      "metadata": {
        "id": "UzGyuFmnCVka"
      },
      "outputs": [],
      "source": [
        "doc = ner('aute the veggies. Dice an onion and red bell pepper and add that to a sauté pan with a little olive oil over medium heat. Stir the veggies for about 5 minutes, or until the onions become translucent. Then add the garlic and spices and stir for another minute, until the mixture is nice and fragrant.Pour in a 28-ounce can of whole peeled tomatoes and use your spatula to break up the tomatoes into smaller pieces. Once this entire mixture is lightly simmering, you can crack your eggs on top. Use your spatula to make little holes for the eggs, then crack an egg into each hole. I use six eggs, though depending on the size of your pan you may use more or less. Reduce the heat to low, and cook for another 5 to 8 minutes or until the eggs are done to your liking.Before serving, season the eggs with salt and a generous amount of freshly chopped parsley and cilantro. Enjoy!')"
      ]
    },
    {
      "cell_type": "markdown",
      "metadata": {
        "id": "_TeT3IAXDr4h"
      },
      "source": [
        "#### Giving Color To Each Category"
      ]
    },
    {
      "cell_type": "code",
      "execution_count": 46,
      "metadata": {
        "id": "ZH2iW7JADwuA"
      },
      "outputs": [],
      "source": [
        "colors = {'NAME':\"#f67de3\",\n",
        "          'STATE' : \"#765ABE\",\n",
        "          'QUANTITY' : \"#AA23B3\",\n",
        "          'UNIT' : '#98734A'}\n",
        "\n",
        "options = {'colors':colors}"
      ]
    },
    {
      "cell_type": "markdown",
      "metadata": {
        "id": "uYDmDuILDJ-4"
      },
      "source": [
        "#### Rendering Result"
      ]
    },
    {
      "cell_type": "code",
      "execution_count": 47,
      "metadata": {
        "colab": {
          "base_uri": "https://localhost:8080/",
          "height": 422
        },
        "id": "OqeGfzt7C4xi",
        "outputId": "55e108fb-03ec-40d9-9c24-fc0e82e2e64d"
      },
      "outputs": [
        {
          "data": {
            "text/html": [
              "<span class=\"tex2jax_ignore\"><div class=\"entities\" style=\"line-height: 2.5; direction: ltr\">\n",
              "<mark class=\"entity\" style=\"background: #f67de3; padding: 0.45em 0.6em; margin: 0 0.25em; line-height: 1; border-radius: 0.35em;\">\n",
              "    aute\n",
              "    <span style=\"font-size: 0.8em; font-weight: bold; line-height: 1; border-radius: 0.35em; vertical-align: middle; margin-left: 0.5rem\">NAME</span>\n",
              "</mark>\n",
              " the veggies. Dice an onion and red \n",
              "<mark class=\"entity\" style=\"background: #f67de3; padding: 0.45em 0.6em; margin: 0 0.25em; line-height: 1; border-radius: 0.35em;\">\n",
              "    bell\n",
              "    <span style=\"font-size: 0.8em; font-weight: bold; line-height: 1; border-radius: 0.35em; vertical-align: middle; margin-left: 0.5rem\">NAME</span>\n",
              "</mark>\n",
              " \n",
              "<mark class=\"entity\" style=\"background: #f67de3; padding: 0.45em 0.6em; margin: 0 0.25em; line-height: 1; border-radius: 0.35em;\">\n",
              "    pepper\n",
              "    <span style=\"font-size: 0.8em; font-weight: bold; line-height: 1; border-radius: 0.35em; vertical-align: middle; margin-left: 0.5rem\">NAME</span>\n",
              "</mark>\n",
              " and \n",
              "<mark class=\"entity\" style=\"background: #765ABE; padding: 0.45em 0.6em; margin: 0 0.25em; line-height: 1; border-radius: 0.35em;\">\n",
              "    add\n",
              "    <span style=\"font-size: 0.8em; font-weight: bold; line-height: 1; border-radius: 0.35em; vertical-align: middle; margin-left: 0.5rem\">STATE</span>\n",
              "</mark>\n",
              " that to a sauté pan with a little olive oil over medium heat. Stir the veggies for about 5 minutes, or until the onions become translucent. Then add the \n",
              "<mark class=\"entity\" style=\"background: #f67de3; padding: 0.45em 0.6em; margin: 0 0.25em; line-height: 1; border-radius: 0.35em;\">\n",
              "    garlic\n",
              "    <span style=\"font-size: 0.8em; font-weight: bold; line-height: 1; border-radius: 0.35em; vertical-align: middle; margin-left: 0.5rem\">NAME</span>\n",
              "</mark>\n",
              " and \n",
              "<mark class=\"entity\" style=\"background: #98734A; padding: 0.45em 0.6em; margin: 0 0.25em; line-height: 1; border-radius: 0.35em;\">\n",
              "    spices\n",
              "    <span style=\"font-size: 0.8em; font-weight: bold; line-height: 1; border-radius: 0.35em; vertical-align: middle; margin-left: 0.5rem\">UNIT</span>\n",
              "</mark>\n",
              " and stir for another minute, until the mixture is nice and fragrant.Pour in a \n",
              "<mark class=\"entity\" style=\"background: #AA23B3; padding: 0.45em 0.6em; margin: 0 0.25em; line-height: 1; border-radius: 0.35em;\">\n",
              "    28-ounce\n",
              "    <span style=\"font-size: 0.8em; font-weight: bold; line-height: 1; border-radius: 0.35em; vertical-align: middle; margin-left: 0.5rem\">QUANTITY</span>\n",
              "</mark>\n",
              " \n",
              "<mark class=\"entity\" style=\"background: #98734A; padding: 0.45em 0.6em; margin: 0 0.25em; line-height: 1; border-radius: 0.35em;\">\n",
              "    can\n",
              "    <span style=\"font-size: 0.8em; font-weight: bold; line-height: 1; border-radius: 0.35em; vertical-align: middle; margin-left: 0.5rem\">UNIT</span>\n",
              "</mark>\n",
              " of whole \n",
              "<mark class=\"entity\" style=\"background: #765ABE; padding: 0.45em 0.6em; margin: 0 0.25em; line-height: 1; border-radius: 0.35em;\">\n",
              "    peeled\n",
              "    <span style=\"font-size: 0.8em; font-weight: bold; line-height: 1; border-radius: 0.35em; vertical-align: middle; margin-left: 0.5rem\">STATE</span>\n",
              "</mark>\n",
              " \n",
              "<mark class=\"entity\" style=\"background: #f67de3; padding: 0.45em 0.6em; margin: 0 0.25em; line-height: 1; border-radius: 0.35em;\">\n",
              "    tomatoes\n",
              "    <span style=\"font-size: 0.8em; font-weight: bold; line-height: 1; border-radius: 0.35em; vertical-align: middle; margin-left: 0.5rem\">NAME</span>\n",
              "</mark>\n",
              " and use your spatula to break up the tomatoes into smaller pieces. Once this entire \n",
              "<mark class=\"entity\" style=\"background: #f67de3; padding: 0.45em 0.6em; margin: 0 0.25em; line-height: 1; border-radius: 0.35em;\">\n",
              "    mixture\n",
              "    <span style=\"font-size: 0.8em; font-weight: bold; line-height: 1; border-radius: 0.35em; vertical-align: middle; margin-left: 0.5rem\">NAME</span>\n",
              "</mark>\n",
              " is lightly simmering, you can crack your \n",
              "<mark class=\"entity\" style=\"background: #f67de3; padding: 0.45em 0.6em; margin: 0 0.25em; line-height: 1; border-radius: 0.35em;\">\n",
              "    eggs\n",
              "    <span style=\"font-size: 0.8em; font-weight: bold; line-height: 1; border-radius: 0.35em; vertical-align: middle; margin-left: 0.5rem\">NAME</span>\n",
              "</mark>\n",
              " on top. Use your spatula to make little holes for the \n",
              "<mark class=\"entity\" style=\"background: #f67de3; padding: 0.45em 0.6em; margin: 0 0.25em; line-height: 1; border-radius: 0.35em;\">\n",
              "    eggs\n",
              "    <span style=\"font-size: 0.8em; font-weight: bold; line-height: 1; border-radius: 0.35em; vertical-align: middle; margin-left: 0.5rem\">NAME</span>\n",
              "</mark>\n",
              ", then crack an egg into each hole. I use six eggs, though depending on the size of your pan you may use more or less. Reduce the heat to \n",
              "<mark class=\"entity\" style=\"background: #765ABE; padding: 0.45em 0.6em; margin: 0 0.25em; line-height: 1; border-radius: 0.35em;\">\n",
              "    low\n",
              "    <span style=\"font-size: 0.8em; font-weight: bold; line-height: 1; border-radius: 0.35em; vertical-align: middle; margin-left: 0.5rem\">STATE</span>\n",
              "</mark>\n",
              ", and cook for another 5 to 8 minutes or until the eggs are done to your liking.Before serving, season the eggs with salt and a generous amount of \n",
              "<mark class=\"entity\" style=\"background: #ddd; padding: 0.45em 0.6em; margin: 0 0.25em; line-height: 1; border-radius: 0.35em;\">\n",
              "    freshly\n",
              "    <span style=\"font-size: 0.8em; font-weight: bold; line-height: 1; border-radius: 0.35em; vertical-align: middle; margin-left: 0.5rem\">DF</span>\n",
              "</mark>\n",
              " \n",
              "<mark class=\"entity\" style=\"background: #765ABE; padding: 0.45em 0.6em; margin: 0 0.25em; line-height: 1; border-radius: 0.35em;\">\n",
              "    chopped\n",
              "    <span style=\"font-size: 0.8em; font-weight: bold; line-height: 1; border-radius: 0.35em; vertical-align: middle; margin-left: 0.5rem\">STATE</span>\n",
              "</mark>\n",
              " \n",
              "<mark class=\"entity\" style=\"background: #f67de3; padding: 0.45em 0.6em; margin: 0 0.25em; line-height: 1; border-radius: 0.35em;\">\n",
              "    parsley\n",
              "    <span style=\"font-size: 0.8em; font-weight: bold; line-height: 1; border-radius: 0.35em; vertical-align: middle; margin-left: 0.5rem\">NAME</span>\n",
              "</mark>\n",
              " and \n",
              "<mark class=\"entity\" style=\"background: #765ABE; padding: 0.45em 0.6em; margin: 0 0.25em; line-height: 1; border-radius: 0.35em;\">\n",
              "    cilantro\n",
              "    <span style=\"font-size: 0.8em; font-weight: bold; line-height: 1; border-radius: 0.35em; vertical-align: middle; margin-left: 0.5rem\">STATE</span>\n",
              "</mark>\n",
              ". Enjoy!</div></span>"
            ],
            "text/plain": [
              "<IPython.core.display.HTML object>"
            ]
          },
          "metadata": {},
          "output_type": "display_data"
        }
      ],
      "source": [
        "displacy.render(doc , style = \"ent\" , options=options, jupyter = True)"
      ]
    },
    {
      "cell_type": "markdown",
      "metadata": {},
      "source": [
        "<h2 align = center> Sentiment Analysis </h2>"
      ]
    },
    {
      "cell_type": "markdown",
      "metadata": {},
      "source": [
        "#### What is Sentiment Analysis ?\n",
        "\n",
        "Sentiment analysis is the process of determining the sentiment or emotional tone of a piece of text, such as a tweet, review, or product description. It involves identifying the presence of positive, negative, or neutral emotions within the text, as well as quantifying the intensity of these emotions.\n",
        "\n",
        "Sentiment analysis can be used to analyze customer feedback, market trends, and improve product or service quality. It can also be used to detect biased or manipulative language, detect fake news, or monitor the spread of misinformation.\n",
        "\n",
        "There are various algorithms and techniques available for sentiment analysis, such as Naive Bayes, Support Vector Machines (SVM), Recurrent Neural Networks (RNNs), and Transformers. Some popular libraries and frameworks for sentiment analysis include NLTK, TextBlob, and spaCy.\n",
        "\n",
        "#### Steps for Sentiment Analysis\n",
        "\n",
        "1. Data Collection: Gather a large dataset of positive and negative reviews or tweets related to the topic of interest. This dataset should be labeled with the sentiment (positive, negative, or neutral).\n",
        "\n",
        "2. Preprocessing: Clean and preprocess the text data by removing stop words, removing punctuation, converting all text to lowercase, and tokenizing the text into individual words or tokens.\n",
        "\n",
        "3. Feature Extraction: Extract relevant features from the text data, such as word frequencies, n-grams, or sentiment-specific features (e.g., presence of positive or negative words).\n",
        "\n",
        "4. Model Selection: Choose an appropriate sentiment analysis algorithm or model based on the characteristics of your dataset and the desired accuracy and performance requirements. Some popular algorithms for sentiment analysis include Naive Bayes, Support Vector Machines (SVM), Recurrent Neural Networks (RNNs), and Transformers.\n",
        "\n",
        "5. Training: Train the chosen model using the preprocessed text data and labeled sentiments. This step involves adjusting the model's parameters to minimize the error between the predicted sentiments and the actual sentiments.\n",
        "\n",
        "6. Evaluation: Evaluate the trained model using a separate dataset to measure its accuracy, precision, recall, and F1 score. This evaluation helps determine the performance of the sentiment analysis system.\n"
      ]
    },
    {
      "cell_type": "markdown",
      "metadata": {},
      "source": [
        "<h2 align = center> Implementation </h2>"
      ]
    },
    {
      "cell_type": "markdown",
      "metadata": {},
      "source": [
        "<h3 align = center> Importing Dataset </h3>"
      ]
    },
    {
      "cell_type": "code",
      "execution_count": 2,
      "metadata": {},
      "outputs": [],
      "source": [
        "train_df = pd.read_csv('data.csv', encoding='ISO-8859-1')"
      ]
    },
    {
      "cell_type": "markdown",
      "metadata": {},
      "source": [
        "#### Selecting Only 2 Columns to keep the analysis simple"
      ]
    },
    {
      "cell_type": "code",
      "execution_count": 3,
      "metadata": {},
      "outputs": [],
      "source": [
        "\n",
        "train_df = train_df[['text', 'sentiment']]\n",
        "\n"
      ]
    },
    {
      "cell_type": "markdown",
      "metadata": {},
      "source": [
        "#### Dropping Any Null Value\n",
        "\n"
      ]
    },
    {
      "cell_type": "code",
      "execution_count": 4,
      "metadata": {},
      "outputs": [],
      "source": [
        "train_df.dropna(inplace=True)"
      ]
    },
    {
      "cell_type": "markdown",
      "metadata": {},
      "source": [
        "#### Encoding the sentiment categories to numeric values"
      ]
    },
    {
      "cell_type": "code",
      "execution_count": 5,
      "metadata": {},
      "outputs": [],
      "source": [
        "label_mapping = {'positive': 2, 'neutral': 1, 'negative': 0}\n",
        "train_df['sentiment'] = train_df['sentiment'].map(label_mapping)"
      ]
    },
    {
      "cell_type": "markdown",
      "metadata": {},
      "source": [
        "### Model Training"
      ]
    },
    {
      "cell_type": "markdown",
      "metadata": {},
      "source": [
        "#### Splitting Data Into Training and Testing Data"
      ]
    },
    {
      "cell_type": "code",
      "execution_count": 7,
      "metadata": {},
      "outputs": [],
      "source": [
        "X_train, X_test, y_train, y_test = train_test_split(\n",
        "    train_df['text'], \n",
        "    train_df['sentiment'], \n",
        "    test_size=0.2, \n",
        "    random_state=42\n",
        ")"
      ]
    },
    {
      "cell_type": "markdown",
      "metadata": {},
      "source": [
        "####  Convert the text data to feature vectors using CountVectorizer\n"
      ]
    },
    {
      "cell_type": "code",
      "execution_count": 8,
      "metadata": {},
      "outputs": [],
      "source": [
        "vectorizer = CountVectorizer(stop_words='english')\n",
        "X_train_vectors = vectorizer.fit_transform(X_train)\n",
        "X_test_vectors = vectorizer.transform(X_test)"
      ]
    },
    {
      "cell_type": "markdown",
      "metadata": {},
      "source": [
        "#### Training Model"
      ]
    },
    {
      "cell_type": "code",
      "execution_count": 9,
      "metadata": {},
      "outputs": [],
      "source": [
        "model = MultinomialNB()\n",
        "model.fit(X_train_vectors, y_train)\n",
        "y_pred = model.predict(X_test_vectors)"
      ]
    },
    {
      "cell_type": "markdown",
      "metadata": {},
      "source": [
        "#### Evaluate the model's performance\n"
      ]
    },
    {
      "cell_type": "code",
      "execution_count": 10,
      "metadata": {},
      "outputs": [
        {
          "name": "stdout",
          "output_type": "stream",
          "text": [
            "Accuracy: 0.64\n",
            "Classification Report:\n",
            "              precision    recall  f1-score   support\n",
            "\n",
            "    negative       0.67      0.56      0.61      1572\n",
            "     neutral       0.60      0.66      0.63      2236\n",
            "    positive       0.69      0.69      0.69      1688\n",
            "\n",
            "    accuracy                           0.64      5496\n",
            "   macro avg       0.65      0.64      0.64      5496\n",
            "weighted avg       0.65      0.64      0.64      5496\n",
            "\n"
          ]
        }
      ],
      "source": [
        "accuracy = accuracy_score(y_test, y_pred)\n",
        "print(f'Accuracy: {accuracy:.2f}')\n",
        "\n",
        "print('Classification Report:')\n",
        "print(classification_report(y_test, y_pred, target_names=['negative', 'neutral', 'positive']))"
      ]
    },
    {
      "cell_type": "markdown",
      "metadata": {},
      "source": [
        "### Interpretation \n",
        "\n",
        "The sentiment analysis model has an accuracy of 64.00%. The classification report shows that the model performs well in classifying positive sentiments better than neutral and negative sentiments. This could be due to the limited training data and the presence of biased or offensive language. "
      ]
    },
    {
      "cell_type": "markdown",
      "metadata": {},
      "source": [
        "### Prediction Funciton "
      ]
    },
    {
      "cell_type": "code",
      "execution_count": 19,
      "metadata": {},
      "outputs": [],
      "source": [
        "def predict_sentiment(text):\n",
        "    vectorized_text = vectorizer.transform([text])\n",
        "    prediction = model.predict(vectorized_text)\n",
        "    sentiment_label = {0: 'negative', 1: 'neutral', 2: 'positive'}\n",
        "    return sentiment_label[prediction[0]]\n",
        "\n"
      ]
    },
    {
      "cell_type": "markdown",
      "metadata": {},
      "source": [
        "### Testing"
      ]
    },
    {
      "cell_type": "code",
      "execution_count": 20,
      "metadata": {},
      "outputs": [
        {
          "name": "stdout",
          "output_type": "stream",
          "text": [
            "The sentiment of the input text is: positive\n"
          ]
        }
      ],
      "source": [
        "user_input = \"he acts like a good student\"\n",
        "predicted_sentiment = predict_sentiment(user_input)\n",
        "print(f'The sentiment of the input text is: {predicted_sentiment}')"
      ]
    }
  ],
  "metadata": {
    "colab": {
      "provenance": []
    },
    "kernelspec": {
      "display_name": "Python 3",
      "language": "python",
      "name": "python3"
    },
    "language_info": {
      "codemirror_mode": {
        "name": "ipython",
        "version": 3
      },
      "file_extension": ".py",
      "mimetype": "text/x-python",
      "name": "python",
      "nbconvert_exporter": "python",
      "pygments_lexer": "ipython3",
      "version": "3.12.2"
    }
  },
  "nbformat": 4,
  "nbformat_minor": 0
}
