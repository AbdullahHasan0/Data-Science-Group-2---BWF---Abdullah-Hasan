{
 "cells": [
  {
   "cell_type": "markdown",
   "metadata": {},
   "source": [
    "<h1 align = 'center'> <font color = \"#EE3BA\">Linear Regression From Sctrach </h1>"
   ]
  },
  {
   "cell_type": "markdown",
   "metadata": {},
   "source": [
    "<h2 align = center> <font color = '#FF1234'>What is linear regression ?</font></h2>\n",
    "\n",
    "<h3 align = center> <font color = '#76BBAA'>Linear regression is a statistical approach used to model the relationship between a dependent variable (y) and one or more independent variables (x). It assumes a linear relationship between the variables, meaning that the change in the dependent variable is directly proportional to the change in the independent variable.</h3>"
   ]
  },
  {
   "cell_type": "markdown",
   "metadata": {},
   "source": [
    "<h2 align = left><font color = #3FF2A > Formula </h2>"
   ]
  },
  {
   "cell_type": "markdown",
   "metadata": {},
   "source": [
    "$\\huge y = \\beta_1 x + \\beta_0 $\n",
    "\n",
    "Where:\n",
    "\n",
    "- \\( y \\) is the dependent variable\n",
    "\n",
    "- \\( m \\) is the slope of the line, representing the rate of change in \\( y \\) for a one-unit increase in \\( x \\)\n",
    "\n",
    "- \\( b \\) is the y-intercept, representing the value of \\( y \\) when \\( x \\) is zero.\n",
    "\n"
   ]
  },
  {
   "cell_type": "markdown",
   "metadata": {},
   "source": [
    "<h2 align = center><font color = \"#679823\"> Main Goal </h2>"
   ]
  },
  {
   "cell_type": "markdown",
   "metadata": {},
   "source": [
    "<h3 align = center> <font color = '#76BBFF'>\n",
    "\n",
    "Linear regression aims to find the best-fitting line that can explain the relationship between the independent variables and the dependent variable. The goal is to minimize the sum of the squared differences between the observed and predicted values of the dependent variable. This process helps to establish a relationship between the variables and predict the value of the dependent variable for new, unseen data.</h3>\n",
    "\n",
    "</h3>"
   ]
  },
  {
   "cell_type": "markdown",
   "metadata": {},
   "source": [
    "<h2 align = center><font color = \"#6711FF\"> How To Find The Coefficients ?</h2>"
   ]
  },
  {
   "cell_type": "markdown",
   "metadata": {},
   "source": [
    "\n",
    "<h3 align = center> <font color = '#76BBFF'>\n",
    "\n",
    "We can find these using different approaches. One is the Ordinary Least Mean Square Method approach and the Gradient Descent approach.\n",
    "\n",
    "</font></h3>\n",
    "\n",
    "\n",
    "<h2><font color = \"FF00FF\">The Ordinary Least Mean Square:</font></h2>\n",
    " (OLS) method involves minimizing the sum of squared errors between the observed and predicted values of the dependent variable. The method finds the values of m  and b  that minimize this sum.\n",
    "\n",
    "<h2><font color = \"FF00AA\">The Gradient Descent:</h2></font>\n",
    "This approach uses an iterative approach to find the values of m and b that minimize the sum of squared errors. It starts with an initial guess for m and b, and then iteratively updates these values using the gradient of the sum of squared errors with respect to m and b to move closer to the minimum.\n"
   ]
  },
  {
   "cell_type": "markdown",
   "metadata": {},
   "source": [
    "<h1 align = center> <font color = '#FFFFFF'> Ordinary Least Mean Square </h1>\n",
    "\n"
   ]
  },
  {
   "cell_type": "markdown",
   "metadata": {},
   "source": [
    "<h2 align = center> <font color = 'orange'>Error</font></h2>"
   ]
  },
  {
   "cell_type": "markdown",
   "metadata": {},
   "source": [
    "<center>\n",
    "\n",
    "$ \\sum_{i=1}^n r_i^2 $\n",
    "\n",
    "</center>\n",
    "\n",
    "Where:\n",
    "\n",
    "- \\( ri \\) is the difference between the observed value \\( yi \\) and the predicted value \\( y'i \\)\n",
    "\n",
    "- \\( n \\) is the number of observations."
   ]
  },
  {
   "cell_type": "markdown",
   "metadata": {},
   "source": [
    "<h2 align = center> <font color = 'AA55EE'>To Find &beta;1 and &beta;2 </font></h2>"
   ]
  },
  {
   "cell_type": "markdown",
   "metadata": {},
   "source": [
    "<p align=\"center\">\n",
    "  <img src=\"image.jpg\" alt=\"Local Image\" width=\"300\" height=\"200\"/>\n",
    "</p>\n",
    "\n",
    "\n",
    "Where: \n",
    "\n",
    "- \\( X \\) is the independent variable\n",
    "\n",
    "- \\( Y \\) is the dependent variable\n",
    "\n",
    "- \\( n \\) is the number of observations"
   ]
  },
  {
   "cell_type": "markdown",
   "metadata": {},
   "source": [
    "<h1 align = center> <font color = \"CC4400\">Implementation </h1>"
   ]
  },
  {
   "cell_type": "markdown",
   "metadata": {},
   "source": [
    "<h2 align = center><font color = \"blurple\">Importing Libraries</h2></font>"
   ]
  },
  {
   "cell_type": "code",
   "execution_count": 325,
   "metadata": {},
   "outputs": [],
   "source": [
    "import pandas as pd\n",
    "import numpy as np\n",
    "import matplotlib.pyplot as plt"
   ]
  },
  {
   "cell_type": "markdown",
   "metadata": {},
   "source": [
    "<h2 align = center><font color = \"olive\">Importing Dataset</h2></font>"
   ]
  },
  {
   "cell_type": "code",
   "execution_count": 326,
   "metadata": {},
   "outputs": [],
   "source": [
    "data = pd.read_csv('dataset.csv')"
   ]
  },
  {
   "cell_type": "markdown",
   "metadata": {},
   "source": [
    "<h2 align = center><font color = \"yellow\">Exploring Data</h2></font>"
   ]
  },
  {
   "cell_type": "code",
   "execution_count": 327,
   "metadata": {},
   "outputs": [
    {
     "data": {
      "text/html": [
       "<div>\n",
       "<style scoped>\n",
       "    .dataframe tbody tr th:only-of-type {\n",
       "        vertical-align: middle;\n",
       "    }\n",
       "\n",
       "    .dataframe tbody tr th {\n",
       "        vertical-align: top;\n",
       "    }\n",
       "\n",
       "    .dataframe thead th {\n",
       "        text-align: right;\n",
       "    }\n",
       "</style>\n",
       "<table border=\"1\" class=\"dataframe\">\n",
       "  <thead>\n",
       "    <tr style=\"text-align: right;\">\n",
       "      <th></th>\n",
       "      <th>Gender</th>\n",
       "      <th>Age Range</th>\n",
       "      <th>Head Size(cm^3)</th>\n",
       "      <th>Brain Weight(grams)</th>\n",
       "    </tr>\n",
       "  </thead>\n",
       "  <tbody>\n",
       "    <tr>\n",
       "      <th>0</th>\n",
       "      <td>1</td>\n",
       "      <td>1</td>\n",
       "      <td>4512</td>\n",
       "      <td>1530</td>\n",
       "    </tr>\n",
       "    <tr>\n",
       "      <th>1</th>\n",
       "      <td>1</td>\n",
       "      <td>1</td>\n",
       "      <td>3738</td>\n",
       "      <td>1297</td>\n",
       "    </tr>\n",
       "    <tr>\n",
       "      <th>2</th>\n",
       "      <td>1</td>\n",
       "      <td>1</td>\n",
       "      <td>4261</td>\n",
       "      <td>1335</td>\n",
       "    </tr>\n",
       "    <tr>\n",
       "      <th>3</th>\n",
       "      <td>1</td>\n",
       "      <td>1</td>\n",
       "      <td>3777</td>\n",
       "      <td>1282</td>\n",
       "    </tr>\n",
       "    <tr>\n",
       "      <th>4</th>\n",
       "      <td>1</td>\n",
       "      <td>1</td>\n",
       "      <td>4177</td>\n",
       "      <td>1590</td>\n",
       "    </tr>\n",
       "  </tbody>\n",
       "</table>\n",
       "</div>"
      ],
      "text/plain": [
       "   Gender  Age Range  Head Size(cm^3)  Brain Weight(grams)\n",
       "0       1          1             4512                 1530\n",
       "1       1          1             3738                 1297\n",
       "2       1          1             4261                 1335\n",
       "3       1          1             3777                 1282\n",
       "4       1          1             4177                 1590"
      ]
     },
     "execution_count": 327,
     "metadata": {},
     "output_type": "execute_result"
    }
   ],
   "source": [
    "data.head()"
   ]
  },
  {
   "cell_type": "markdown",
   "metadata": {},
   "source": [
    "<h3> Let's find relationship between Head Size  and Brain weights\n"
   ]
  },
  {
   "cell_type": "code",
   "execution_count": 502,
   "metadata": {},
   "outputs": [
    {
     "name": "stdout",
     "output_type": "stream",
     "text": [
      "m = 0.26342933948939945\n",
      "b = 325.57342104944223\n"
     ]
    }
   ],
   "source": [
    "X = data['Head Size(cm^3)'].values\n",
    "Y = data['Brain Weight(grams)'].values\n",
    "\n",
    "Xmean = np.mean(X)\n",
    "YMean = np.mean(Y)\n",
    "\n",
    "# Total Rows in Dataset\n",
    "noOfRows = len(data)\n",
    "\n",
    "# Calculating B1\n",
    "numerator = 0\n",
    "denominator = 0\n",
    "\n",
    "for i in range (noOfRows):\n",
    "    numerator += (X[i] - Xmean)*(Y[i]-YMean)\n",
    "    denominator += (X[i] - Xmean)**2\n",
    "\n",
    "b1 = numerator/denominator\n",
    "\n",
    "print(f'm = {b1}')\n",
    "\n",
    "\n",
    "# Calculating B0\n",
    "\n",
    "b0 = YMean - (b1*Xmean)\n",
    "\n",
    "print(f'b = {b0}')\n",
    "\n"
   ]
  },
  {
   "cell_type": "markdown",
   "metadata": {},
   "source": [
    "Since , we already found the coefficients. So we can write the equation like this:\n",
    "\n",
    "Salary = 325.57 + (0.263229 * Head Size)"
   ]
  },
  {
   "cell_type": "markdown",
   "metadata": {},
   "source": [
    "<h2 align = center><font color = \"Pink\">Plotting</h2></font>"
   ]
  },
  {
   "cell_type": "code",
   "execution_count": 329,
   "metadata": {},
   "outputs": [
    {
     "data": {
      "image/png": "[encoded data removed]",
      "text/plain": [
       "<Figure size 640x480 with 1 Axes>"
      ]
     },
     "metadata": {},
     "output_type": "display_data"
    }
   ],
   "source": [
    "# Plotting line\n",
    "x = np.linspace(np.min(X),np.max(X),1000)\n",
    "plt.plot(x, b0 + b1 * x,color = \"black\" , label = \"Linear Regression\")\n",
    "\n",
    "#plot the data point\n",
    "plt.scatter(X, Y, color='crimson', label='Data')\n",
    "# x-axis label\n",
    "plt.xlabel(\"Head Size (cm^3)\")\n",
    "#y-axis label\n",
    "plt.ylabel('Brain Weight (grams)')\n",
    "plt.legend()\n",
    "plt.show()"
   ]
  },
  {
   "cell_type": "markdown",
   "metadata": {},
   "source": [
    "<h2 align = center><font color = \"#1589FF\">Model Evaluation Using RMSE</h2></font>"
   ]
  },
  {
   "cell_type": "markdown",
   "metadata": {},
   "source": [
    "## Formula :\n",
    "\n",
    "$ RMSE = \\sqrt{\\frac{1}{n} \\sum_{i=1}^n (y_i - \\hat{y}_i)^2} $\n",
    "\n",
    "Where:\n",
    "\n",
    "- \\( yi \\) is the actual value of the dependent variable for the \\( i \\)th observation"
   ]
  },
  {
   "cell_type": "markdown",
   "metadata": {},
   "source": [
    "### Implementation"
   ]
  },
  {
   "cell_type": "code",
   "execution_count": 330,
   "metadata": {},
   "outputs": [
    {
     "name": "stdout",
     "output_type": "stream",
     "text": [
      "Root Mean Squared Error (RMSE) = 72.1206213783709\n"
     ]
    }
   ],
   "source": [
    "rmse = 0\n",
    "\n",
    "for i in range(len(data)):\n",
    "    yPredicted = b0 + b1*X[i]\n",
    "    rmse +=  (Y[i] - yPredicted) ** 2\n",
    "\n",
    "rmse = np.sqrt(rmse/len(data))\n",
    "\n",
    "print(f'Root Mean Squared Error (RMSE) = {rmse}')\n",
    "\n"
   ]
  },
  {
   "cell_type": "markdown",
   "metadata": {},
   "source": [
    "### Interpretation\n",
    "\n",
    "The Root Mean Squared Error (RMSE) is a measure of the average magnitude of the error in a set of predictions. A lower RMSE indicates better predictions. In this case, the RMSE is approximately 3152.52. This means that, on average, the predicted salaries are 3152.52 away from the actual salaries.\n",
    "\n",
    "\n"
   ]
  },
  {
   "cell_type": "markdown",
   "metadata": {},
   "source": [
    "<h2 align = center><font color = \"#158900\">Finding R^2</h2></font>"
   ]
  },
  {
   "cell_type": "markdown",
   "metadata": {},
   "source": [
    "### Formula:\n",
    "\n",
    "$ R^2 = 1 - \\frac{\\sum_{i=1}^n (y_i - \\hat{y}_i)^2}{\\sum_{i=1}^n (y_i - \\bar{y})^2} $\n",
    "\n",
    "Where:\n",
    "\n",
    "- \\( yi \\) is the actual value of the dependent variable for the \\( i \\)th observation"
   ]
  },
  {
   "cell_type": "markdown",
   "metadata": {},
   "source": [
    "### Implementation"
   ]
  },
  {
   "cell_type": "code",
   "execution_count": 331,
   "metadata": {},
   "outputs": [
    {
     "name": "stdout",
     "output_type": "stream",
     "text": [
      "R-squared (R^2) = 0.6393117199570003\n"
     ]
    }
   ],
   "source": [
    "\n",
    "rSquareNum  = 0\n",
    "rSquareDen = 0 \n",
    "\n",
    "for i in range(len(data)):\n",
    "    yPredicted = b0 +b1 * X[i]\n",
    "\n",
    "    rSquareNum +=  (Y[i] - yPredicted) ** 2\n",
    "    rSquareDen +=  (Y[i] - YMean) ** 2\n",
    "\n",
    "score = rSquareNum / rSquareDen\n",
    "\n",
    "print(f'R-squared (R^2) = {1-score}')\n",
    "\n",
    "\n",
    "\n"
   ]
  },
  {
   "cell_type": "markdown",
   "metadata": {},
   "source": [
    "### Interpretation\n",
    "\n",
    "An R-Squared value of 0.9569 indicates that approximately 95.69% of the variance in the dependent variable is explained by the model.\n",
    "\n",
    "This means that the model explains the salaries of the employees well, considering the independent variables provided. The model is a good fit for the data."
   ]
  },
  {
   "cell_type": "markdown",
   "metadata": {},
   "source": [
    "### Testing \n"
   ]
  },
  {
   "cell_type": "code",
   "execution_count": 332,
   "metadata": {},
   "outputs": [
    {
     "name": "stdout",
     "output_type": "stream",
     "text": [
      "\n",
      "25\n",
      "\n",
      "Real Value Of Y:1530\n",
      "Predicted Value of Y : 1514.1666008256125\n",
      "Error = 15.833399174387523\n",
      "\n",
      "14\n",
      "\n",
      "Real Value Of Y:1297\n",
      "Predicted Value of Y : 1310.2722920608173\n",
      "Error = -13.272292060817335\n",
      "\n",
      "29\n",
      "\n",
      "Real Value Of Y:1335\n",
      "Predicted Value of Y : 1448.0458366137732\n",
      "Error = -113.04583661377319\n",
      "\n",
      "14\n",
      "\n",
      "Real Value Of Y:1282\n",
      "Predicted Value of Y : 1320.546036300904\n",
      "Error = -38.54603630090401\n",
      "\n",
      "18\n",
      "\n",
      "Real Value Of Y:1590\n",
      "Predicted Value of Y : 1425.9177720966638\n",
      "Error = 164.08222790333616\n",
      "\n",
      "24\n",
      "\n",
      "Real Value Of Y:1300\n",
      "Predicted Value of Y : 1269.9676031189392\n",
      "Error = 30.032396881060777\n",
      "\n",
      "19\n",
      "\n",
      "Real Value Of Y:1400\n",
      "Predicted Value of Y : 1322.6534710168191\n",
      "Error = 77.34652898318086\n",
      "\n",
      "8\n",
      "\n",
      "Real Value Of Y:1255\n",
      "Predicted Value of Y : 1263.118440292215\n",
      "Error = -8.118440292214927\n",
      "\n",
      "12\n",
      "\n",
      "Real Value Of Y:1355\n",
      "Predicted Value of Y : 1277.3436246246424\n",
      "Error = 77.65637537535758\n",
      "\n",
      "28\n",
      "\n",
      "Real Value Of Y:1375\n",
      "Predicted Value of Y : 1374.549050896231\n",
      "Error = 0.4509491037690623\n"
     ]
    }
   ],
   "source": [
    "# Predicting the values from data\n",
    "\n",
    "randomRows = np.random.randint(0,31,10)\n",
    "\n",
    "for i in range(len(randomRows)):\n",
    "    print(f\"\\n{randomRows[i]}\\n\")\n",
    "    print(f\"Real Value Of Y:{Y[i]}\") \n",
    "    print(f\"Predicted Value of Y : {b0 + b1 * X[i]}\")\n",
    "    print(f\"Error = {Y[i] - (b0 + b1 * X[i] )}\")\n"
   ]
  },
  {
   "cell_type": "markdown",
   "metadata": {},
   "source": [
    "<h1 align = center> <font color = '#FFFFFF'> Gradient Decent </h1>\n"
   ]
  },
  {
   "cell_type": "markdown",
   "metadata": {},
   "source": [
    "Video Link : https://www.youtube.com/watch?v=ORyfPJypKuU"
   ]
  },
  {
   "cell_type": "markdown",
   "metadata": {},
   "source": [
    "#### What is Gradient Decent ?\n",
    "\n",
    "Gradient descent is an optimization algorithm used to find the minimum of a function. It works by iteratively adjusting the coefficients (m and b) of a model to minimize the cost function (sum of squared errors in the case of linear regression).\n",
    "\n",
    "#### What are defination of Hyperparameter ?\n",
    "\n",
    "\n",
    "Hyperparameters are parameters that are not directly learned within the model training process but are set beforehand. They can significantly impact the model's performance, including the convergence speed, the quality of the predictions, and the ability to generalize to unseen data.\n",
    "\n",
    "#### How do we choose Hyperparameters?\n",
    "\n",
    "Choosing hyperparameters requires a careful and systematic approach. Here are some strategies:\n",
    "\n",
    "- Grid Search: This method involves systematically testing different combinations of hyperparameters and selecting the combination that produces the best performance.\n",
    "\n",
    "- Random Search: This method also involves testing different combinations of hyperparameters, but it randomly selects combinations instead of systematically testing them.\n",
    "\n",
    "- Cross-Validation: This method involves dividing the dataset into k subsets, training the model on k-1 subsets, and evaluating its performance on the remaining subset. The performance is then averaged over the k iterations.\n",
    "\n",
    "\n",
    "\n",
    "\n",
    "#### What are Some Hyperparameters in Gradient Decent ?\n",
    "\n",
    "\n",
    "- Learning Rate (alpha): This is a small positive value that determines the size of the steps taken in the direction of the gradient. A smaller learning rate may require more iterations to converge, but it may also lead to higher training time.\n",
    "\n",
    "\n",
    "- Number of Iterations: This is the maximum number of times the algorithm will update the coefficients. If the algorithm doesn't converge within the specified number of iterations, it may be necessary to increase the learning rate or decrease the number of iterations.\n",
    "\n",
    "- Batch Size: This is the number of training examples used to calculate the gradient in each iteration. A smaller batch size may result in faster convergence, but it may also lead to higher variance in the model's predictions.\n",
    "\n",
    "\n",
    "#### Steps of Gradient Descent\n",
    "\n",
    "- Choose an initial set of coefficients (m and b).\n",
    "\n",
    "- Set epochs and learning rate\n",
    "\n",
    "- Calculate the gradient of the cost function with respect to m and b.\n",
    "\n",
    "- Update the coefficients by subtracting the product of the learning rate and the gradient from the current coefficients.\n",
    "\n"
   ]
  },
  {
   "cell_type": "markdown",
   "metadata": {},
   "source": [
    "### Formula:\n",
    "\n",
    "$ \\text{Cost Function} =\\sum_{i=1}^n (y_i - (m \\cdot x_i + b))^2 $\n",
    "\n",
    "$ \\frac{\\partial \\text{Cost Function}}{\\partial m} = -2 \\sum_{i=1}^n x_i(y_i - (m \\cdot x_i - b)) $\n",
    "\n",
    "$ \\frac{\\partial \\text{Cost Function}}{\\partial b} = -2 \\sum_{i=1}^n (y_i - (m \\cdot x_i - b)) $"
   ]
  },
  {
   "cell_type": "markdown",
   "metadata": {},
   "source": [
    "### Implementation"
   ]
  },
  {
   "cell_type": "code",
   "execution_count": 506,
   "metadata": {},
   "outputs": [
    {
     "name": "stdout",
     "output_type": "stream",
     "text": [
      "m = 31.733880954434117\n",
      "b = -0.8482093565589488\n",
      "R^2 = 0.7500507456384217\n"
     ]
    }
   ],
   "source": [
    "from sklearn.linear_model import LinearRegression\n",
    "from sklearn.model_selection import train_test_split\n",
    "from sklearn.metrics import r2_score\n",
    "\n",
    "\n",
    "# Generate a random regression problem.\n",
    "X,y = make_regression(n_samples=1000, n_features=1, n_informative=1, n_targets=1,noise=20,random_state=15)\n",
    "\n",
    "# Split the data into training and test sets.\n",
    "X_train,X_test,y_train,y_test = train_test_split(X,y,test_size=0.2,random_state=2)\n",
    "\n",
    "\n",
    "model = LinearRegression()\n",
    "model.fit(X_train,y_train)\n",
    "\n",
    "print(f\"m = {model.coef_[0]}\")\n",
    "print(f\"b = {model.intercept_}\")\n",
    "\n",
    "y_pred = model.predict(X_test)\n",
    "print(f\"R^2 = {r2_score(y_test,y_pred)}\")\n"
   ]
  },
  {
   "cell_type": "markdown",
   "metadata": {},
   "source": [
    "## Gradient Descent"
   ]
  },
  {
   "cell_type": "code",
   "execution_count": 499,
   "metadata": {},
   "outputs": [],
   "source": [
    "class GDRegressor:\n",
    "    \n",
    "    def __init__(self,learning_rate,epochs):\n",
    "        self.m = 0\n",
    "        self.b = 0\n",
    "        self.lr = learning_rate\n",
    "        self.epochs = epochs\n",
    "        \n",
    "    def fit(self,X,y):\n",
    "        # calcualte the b using GD\n",
    "        for i in range(self.epochs):\n",
    "            loss_slope_b = -2 * np.sum(y - self.m*X.ravel() - self.b)\n",
    "            loss_slope_m = -2 * np.sum((y - self.m*X.ravel() - self.b)*X.ravel())\n",
    "            \n",
    "            self.b = self.b - (self.lr * loss_slope_b)\n",
    "            self.m = self.m - (self.lr * loss_slope_m)\n",
    "        print(self.m,self.b)\n",
    "        \n",
    "    def predict(self,X):\n",
    "        return self.m * X + self.b\n",
    "    "
   ]
  },
  {
   "cell_type": "code",
   "execution_count": 500,
   "metadata": {},
   "outputs": [
    {
     "name": "stdout",
     "output_type": "stream",
     "text": [
      "31.7338809544341 -0.8482093565589482\n"
     ]
    }
   ],
   "source": [
    "gd = GDRegressor(0.001,1000)\n",
    "gd.fit(X_train,y_train)\n"
   ]
  },
  {
   "cell_type": "code",
   "execution_count": 501,
   "metadata": {},
   "outputs": [
    {
     "name": "stdout",
     "output_type": "stream",
     "text": [
      "R^2 Value Using Gradient Descent = 0.7500507456384217\n"
     ]
    }
   ],
   "source": [
    "y_pred = gd.predict(X_test)\n",
    "print(f\"R^2 Value Using Gradient Descent = {r2_score(y_test,y_pred)}\")"
   ]
  },
  {
   "cell_type": "markdown",
   "metadata": {},
   "source": [
    "### Interpretation\n",
    "\n",
    "\n",
    "Gradient Descent is a powerful optimization algorithm for finding the minimum of a cost function. In this case, we used it to train a linear regression model on a randomly generated regression problem. The trained model's coefficients (m and b) are approximately [31.733, -0.84].\n",
    "\n",
    "The R-squared value using Gradient Descent is approximately 0.7500, which indicates that the model explains the variance in the test data well."
   ]
  }
 ],
 "metadata": {
  "kernelspec": {
   "display_name": "Python 3",
   "language": "python",
   "name": "python3"
  },
  "language_info": {
   "codemirror_mode": {
    "name": "ipython",
    "version": 3
   },
   "file_extension": ".py",
   "mimetype": "text/x-python",
   "name": "python",
   "nbconvert_exporter": "python",
   "pygments_lexer": "ipython3",
   "version": "3.12.2"
  }
 },
 "nbformat": 4,
 "nbformat_minor": 2
}
