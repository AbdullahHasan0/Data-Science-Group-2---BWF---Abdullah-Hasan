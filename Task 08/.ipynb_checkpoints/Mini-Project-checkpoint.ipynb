{
 "cells": [
  {
   "cell_type": "markdown",
   "id": "347e1fae-1757-4b4e-91a0-e487f3364872",
   "metadata": {},
   "source": [
    "# Movie Recommendation System\n",
    "In this program, I am storing the movie collection in a list and storing movie details ('title', 'genre', 'main_leads', 'rating') in dictionaries. Ratings are stored in a list of tuples with the user who gave it, like ('user name', 'rating'). User preferred genres are stored in a set to avoid duplication. I gathered dummy data from ChatGPT, so there may be errors in the names of actors and actresses."
   ]
  },
  {
   "cell_type": "code",
   "execution_count": 17,
   "id": "597a3278-6976-41d1-a6d8-25be0baabeb8",
   "metadata": {},
   "outputs": [
    {
     "name": "stdout",
     "output_type": "stream",
     "text": [
      "1.Add Movie\n",
      "2.Rate Movie\n",
      "3.Display Movie\n",
      "4.Recommend Movie\n",
      "5.Watch Movie\n",
      "6 Show Prefered Genres And Artists\n",
      "7.Exit\n"
     ]
    },
    {
     "name": "stdin",
     "output_type": "stream",
     "text": [
      "Enter Your Choice\n",
      " 1\n",
      "Enter The Title Of The Movie :\n",
      " 300\n",
      "Enter The Genres Of The Movie seperated By Comma If Multiple:\n",
      " Action,Adventure\n",
      "Enter Actor and Actress Name seperated by Comma:\n",
      " Gerard Butler,Lena Headey\n",
      "Enter The Release Year Of The Movie:\n",
      " 2006\n",
      "Enter any key to continue \n"
     ]
    },
    {
     "name": "stdout",
     "output_type": "stream",
     "text": [
      "1.Add Movie\n",
      "2.Rate Movie\n",
      "3.Display Movie\n",
      "4.Recommend Movie\n",
      "5.Watch Movie\n",
      "6 Show Prefered Genres And Artists\n",
      "7.Exit\n"
     ]
    },
    {
     "name": "stdin",
     "output_type": "stream",
     "text": [
      "Enter Your Choice\n",
      " 3\n",
      "Enter The Title Of The Movie :\n",
      " 300\n"
     ]
    },
    {
     "name": "stdout",
     "output_type": "stream",
     "text": [
      "Title :  300\n",
      "Genre :  Action,Adventure\n",
      "Main Actor :  Gerard Butler\n",
      "Main Actress :  Lena Headey\n",
      "Release Year :  2006\n",
      "Ratings : \n",
      "No Ratings Yet\n",
      "\n"
     ]
    },
    {
     "name": "stdin",
     "output_type": "stream",
     "text": [
      "Enter any key to continue \n"
     ]
    },
    {
     "name": "stdout",
     "output_type": "stream",
     "text": [
      "1.Add Movie\n",
      "2.Rate Movie\n",
      "3.Display Movie\n",
      "4.Recommend Movie\n",
      "5.Watch Movie\n",
      "6 Show Prefered Genres And Artists\n",
      "7.Exit\n"
     ]
    },
    {
     "name": "stdin",
     "output_type": "stream",
     "text": [
      "Enter Your Choice\n",
      " 2\n",
      "Enter The Title Of The Movie :\n",
      " 300\n",
      "Enter Your Name:\n",
      " Abdullah\n",
      "Enter Your Rating:\n",
      " 4\n"
     ]
    },
    {
     "name": "stdout",
     "output_type": "stream",
     "text": [
      "Rating Added\n"
     ]
    },
    {
     "name": "stdin",
     "output_type": "stream",
     "text": [
      "Enter any key to continue \n"
     ]
    },
    {
     "name": "stdout",
     "output_type": "stream",
     "text": [
      "1.Add Movie\n",
      "2.Rate Movie\n",
      "3.Display Movie\n",
      "4.Recommend Movie\n",
      "5.Watch Movie\n",
      "6 Show Prefered Genres And Artists\n",
      "7.Exit\n"
     ]
    },
    {
     "name": "stdin",
     "output_type": "stream",
     "text": [
      "Enter Your Choice\n",
      " 3\n",
      "Enter The Title Of The Movie :\n",
      " 300\n"
     ]
    },
    {
     "name": "stdout",
     "output_type": "stream",
     "text": [
      "Title :  300\n",
      "Genre :  Action,Adventure\n",
      "Main Actor :  Gerard Butler\n",
      "Main Actress :  Lena Headey\n",
      "Release Year :  2006\n",
      "Ratings : \n",
      "Abdullah : 4 Stars\n",
      "\n",
      "Overall rating : 4.00 Stars\n"
     ]
    },
    {
     "name": "stdin",
     "output_type": "stream",
     "text": [
      "Enter any key to continue 4\n"
     ]
    },
    {
     "name": "stdout",
     "output_type": "stream",
     "text": [
      "1.Add Movie\n",
      "2.Rate Movie\n",
      "3.Display Movie\n",
      "4.Recommend Movie\n",
      "5.Watch Movie\n",
      "6 Show Prefered Genres And Artists\n",
      "7.Exit\n"
     ]
    },
    {
     "name": "stdin",
     "output_type": "stream",
     "text": [
      "Enter Your Choice\n",
      " 6\n"
     ]
    },
    {
     "name": "stdout",
     "output_type": "stream",
     "text": [
      "\n",
      "Prefered Genres:\n",
      "Sci-Fi\n",
      "Horror\n",
      "\n",
      "Prefered Artists\n",
      "Leonardo DiCaprio\n",
      "Jim Carrey\n",
      "Emma Stone\n",
      "Morgan Freeman\n"
     ]
    },
    {
     "name": "stdin",
     "output_type": "stream",
     "text": [
      "Enter any key to continue \n"
     ]
    },
    {
     "name": "stdout",
     "output_type": "stream",
     "text": [
      "1.Add Movie\n",
      "2.Rate Movie\n",
      "3.Display Movie\n",
      "4.Recommend Movie\n",
      "5.Watch Movie\n",
      "6 Show Prefered Genres And Artists\n",
      "7.Exit\n"
     ]
    },
    {
     "name": "stdin",
     "output_type": "stream",
     "text": [
      "Enter Your Choice\n",
      " 4\n"
     ]
    },
    {
     "name": "stdout",
     "output_type": "stream",
     "text": [
      "1.Recommendation According to Preferred Genre\n",
      "2.Recommendation According to Preferred Artists\n",
      "3.Recommendation According to Preferred Genre and Artists\n"
     ]
    },
    {
     "name": "stdin",
     "output_type": "stream",
     "text": [
      "How do you want to recommend\n",
      " 1\n"
     ]
    },
    {
     "name": "stdout",
     "output_type": "stream",
     "text": [
      "\n",
      "Recommendation According to Preferred Genre:\n",
      "\n",
      "Title :  Smile\n",
      "Genre :  Horror,Mystery,Suspense\n",
      "Main Actor :  Kyle Gallner\n",
      "Main Actress :  Sosie Bacon\n",
      "Release Year :  2022\n",
      "Ratings : \n",
      "User1 : 4 Stars\n",
      "User2 : 2 Stars\n",
      "User3 : 1 Stars\n",
      "\n",
      "Overall rating : 2.33 Stars\n",
      "\n",
      "Title :  Inception\n",
      "Genre :  Action,Sci-Fi\n",
      "Main Actor :  Leonardo DiCaprio\n",
      "Main Actress :  Marion Cotillard\n",
      "Release Year :  2010\n",
      "Ratings : \n",
      "No Ratings Yet\n",
      "\n",
      "Title :  Interstellar\n",
      "Genre :  Adventure,Drama,Sci-Fi\n",
      "Main Actor :  Matthew McConaughey\n",
      "Main Actress :  Anne Hathaway\n",
      "Release Year :  2014\n",
      "Ratings : \n",
      "No Ratings Yet\n",
      "\n",
      "Title :  The Matrix\n",
      "Genre :  Action,Sci-Fi\n",
      "Main Actor :  Keanu Reeves\n",
      "Main Actress :  Carrie-Anne Moss\n",
      "Release Year :  1999\n",
      "Ratings : \n",
      "No Ratings Yet\n",
      "\n",
      "Title :  The Prestige\n",
      "Genre :  Drama,Mystery,Sci-Fi\n",
      "Main Actor :  Christian Bale\n",
      "Main Actress :  Hugh Jackman\n",
      "Release Year :  2006\n",
      "Ratings : \n",
      "No Ratings Yet\n",
      "\n",
      "Title :  The Shining\n",
      "Genre :  Drama,Horror\n",
      "Main Actor :  Jack Nicholson\n",
      "Main Actress :  Shelley Duvall\n",
      "Release Year :  1980\n",
      "Ratings : \n",
      "No Ratings Yet\n",
      "\n",
      "Title :  Eternal Sunshine of the Spotless Mind\n",
      "Genre :  Drama,Romance,Sci-Fi\n",
      "Main Actor :  Jim Carrey\n",
      "Main Actress :  Kate Winslet\n",
      "Release Year :  2004\n",
      "Ratings : \n",
      "No Ratings Yet\n",
      "\n",
      "Title :  The Truman Show\n",
      "Genre :  Comedy,Drama,Sci-Fi\n",
      "Main Actor :  Jim Carrey\n",
      "Main Actress :  Laura Linney\n",
      "Release Year :  1998\n",
      "Ratings : \n",
      "No Ratings Yet\n",
      "\n"
     ]
    },
    {
     "name": "stdin",
     "output_type": "stream",
     "text": [
      "Enter any key to continue \n"
     ]
    },
    {
     "name": "stdout",
     "output_type": "stream",
     "text": [
      "1.Add Movie\n",
      "2.Rate Movie\n",
      "3.Display Movie\n",
      "4.Recommend Movie\n",
      "5.Watch Movie\n",
      "6 Show Prefered Genres And Artists\n",
      "7.Exit\n"
     ]
    },
    {
     "name": "stdin",
     "output_type": "stream",
     "text": [
      "Enter Your Choice\n",
      " 4\n"
     ]
    },
    {
     "name": "stdout",
     "output_type": "stream",
     "text": [
      "1.Recommendation According to Preferred Genre\n",
      "2.Recommendation According to Preferred Artists\n",
      "3.Recommendation According to Preferred Genre and Artists\n"
     ]
    },
    {
     "name": "stdin",
     "output_type": "stream",
     "text": [
      "How do you want to recommend\n",
      " 2\n"
     ]
    },
    {
     "name": "stdout",
     "output_type": "stream",
     "text": [
      "\n",
      "Recommendation According to Prefered Artists:\n",
      "\n",
      "Title :  Inception\n",
      "Genre :  Action,Sci-Fi\n",
      "Main Actor :  Leonardo DiCaprio\n",
      "Main Actress :  Marion Cotillard\n",
      "Release Year :  2010\n",
      "Ratings : \n",
      "No Ratings Yet\n",
      "\n",
      "Title :  The Shawshank Redemption\n",
      "Genre :  Drama\n",
      "Main Actor :  Tim Robbins\n",
      "Main Actress :  Morgan Freeman\n",
      "Release Year :  1994\n",
      "Ratings : \n",
      "No Ratings Yet\n",
      "\n",
      "Title :  Titanic\n",
      "Genre :  Drama,Romance\n",
      "Main Actor :  Leonardo DiCaprio\n",
      "Main Actress :  Kate Winslet\n",
      "Release Year :  1997\n",
      "Ratings : \n",
      "No Ratings Yet\n",
      "\n",
      "Title :  Se7en\n",
      "Genre :  Crime,Drama,Mystery\n",
      "Main Actor :  Brad Pitt\n",
      "Main Actress :  Morgan Freeman\n",
      "Release Year :  1995\n",
      "Ratings : \n",
      "No Ratings Yet\n",
      "\n",
      "Title :  La La Land\n",
      "Genre :  Comedy,Drama,Music\n",
      "Main Actor :  Ryan Gosling\n",
      "Main Actress :  Emma Stone\n",
      "Release Year :  2016\n",
      "Ratings : \n",
      "No Ratings Yet\n",
      "\n",
      "Title :  The Revenant\n",
      "Genre :  Action,Adventure,Drama\n",
      "Main Actor :  Leonardo DiCaprio\n",
      "Main Actress :  Grace Dove\n",
      "Release Year :  2015\n",
      "Ratings : \n",
      "No Ratings Yet\n",
      "\n",
      "Title :  Shutter Island\n",
      "Genre :  Mystery,Thriller\n",
      "Main Actor :  Leonardo DiCaprio\n",
      "Main Actress :  Emily Mortimer\n",
      "Release Year :  2010\n",
      "Ratings : \n",
      "No Ratings Yet\n",
      "\n",
      "Title :  Eternal Sunshine of the Spotless Mind\n",
      "Genre :  Drama,Romance,Sci-Fi\n",
      "Main Actor :  Jim Carrey\n",
      "Main Actress :  Kate Winslet\n",
      "Release Year :  2004\n",
      "Ratings : \n",
      "No Ratings Yet\n",
      "\n",
      "Title :  The Departed\n",
      "Genre :  Crime,Drama,Thriller\n",
      "Main Actor :  Leonardo DiCaprio\n",
      "Main Actress :  Vera Farmiga\n",
      "Release Year :  2006\n",
      "Ratings : \n",
      "No Ratings Yet\n",
      "\n",
      "Title :  The Truman Show\n",
      "Genre :  Comedy,Drama,Sci-Fi\n",
      "Main Actor :  Jim Carrey\n",
      "Main Actress :  Laura Linney\n",
      "Release Year :  1998\n",
      "Ratings : \n",
      "No Ratings Yet\n",
      "\n"
     ]
    },
    {
     "name": "stdin",
     "output_type": "stream",
     "text": [
      "Enter any key to continue \n"
     ]
    },
    {
     "name": "stdout",
     "output_type": "stream",
     "text": [
      "1.Add Movie\n",
      "2.Rate Movie\n",
      "3.Display Movie\n",
      "4.Recommend Movie\n",
      "5.Watch Movie\n",
      "6 Show Prefered Genres And Artists\n",
      "7.Exit\n"
     ]
    },
    {
     "name": "stdin",
     "output_type": "stream",
     "text": [
      "Enter Your Choice\n",
      " 4\n"
     ]
    },
    {
     "name": "stdout",
     "output_type": "stream",
     "text": [
      "1.Recommendation According to Preferred Genre\n",
      "2.Recommendation According to Preferred Artists\n",
      "3.Recommendation According to Preferred Genre and Artists\n"
     ]
    },
    {
     "name": "stdin",
     "output_type": "stream",
     "text": [
      "How do you want to recommend\n",
      " 3\n"
     ]
    },
    {
     "name": "stdout",
     "output_type": "stream",
     "text": [
      "\n",
      "Highly Recommended:\n",
      "\n",
      "Title :  Inception\n",
      "Genre :  Action,Sci-Fi\n",
      "Main Actor :  Leonardo DiCaprio\n",
      "Main Actress :  Marion Cotillard\n",
      "Release Year :  2010\n",
      "Ratings : \n",
      "No Ratings Yet\n",
      "\n",
      "Title :  The Truman Show\n",
      "Genre :  Comedy,Drama,Sci-Fi\n",
      "Main Actor :  Jim Carrey\n",
      "Main Actress :  Laura Linney\n",
      "Release Year :  1998\n",
      "Ratings : \n",
      "No Ratings Yet\n",
      "\n",
      "Title :  Eternal Sunshine of the Spotless Mind\n",
      "Genre :  Drama,Romance,Sci-Fi\n",
      "Main Actor :  Jim Carrey\n",
      "Main Actress :  Kate Winslet\n",
      "Release Year :  2004\n",
      "Ratings : \n",
      "No Ratings Yet\n",
      "\n"
     ]
    },
    {
     "name": "stdin",
     "output_type": "stream",
     "text": [
      "Enter any key to continue \n"
     ]
    },
    {
     "name": "stdout",
     "output_type": "stream",
     "text": [
      "1.Add Movie\n",
      "2.Rate Movie\n",
      "3.Display Movie\n",
      "4.Recommend Movie\n",
      "5.Watch Movie\n",
      "6 Show Prefered Genres And Artists\n",
      "7.Exit\n"
     ]
    },
    {
     "name": "stdin",
     "output_type": "stream",
     "text": [
      "Enter Your Choice\n",
      " 5\n",
      "Enter Movie Title:\n",
      " Gone Girl\n",
      "Enter any key to continue \n"
     ]
    },
    {
     "name": "stdout",
     "output_type": "stream",
     "text": [
      "1.Add Movie\n",
      "2.Rate Movie\n",
      "3.Display Movie\n",
      "4.Recommend Movie\n",
      "5.Watch Movie\n",
      "6 Show Prefered Genres And Artists\n",
      "7.Exit\n"
     ]
    },
    {
     "name": "stdin",
     "output_type": "stream",
     "text": [
      "Enter Your Choice\n",
      " 6\n"
     ]
    },
    {
     "name": "stdout",
     "output_type": "stream",
     "text": [
      "\n",
      "Prefered Genres:\n",
      "Mystery\n",
      "Sci-Fi\n",
      "Horror\n",
      "Drama\n",
      "Thriller\n",
      "\n",
      "Prefered Artists\n",
      "Leonardo DiCaprio\n",
      "Jim Carrey\n",
      "Emma Stone\n",
      "Morgan Freeman\n"
     ]
    },
    {
     "name": "stdin",
     "output_type": "stream",
     "text": [
      "Enter any key to continue \n"
     ]
    },
    {
     "name": "stdout",
     "output_type": "stream",
     "text": [
      "1.Add Movie\n",
      "2.Rate Movie\n",
      "3.Display Movie\n",
      "4.Recommend Movie\n",
      "5.Watch Movie\n",
      "6 Show Prefered Genres And Artists\n",
      "7.Exit\n"
     ]
    },
    {
     "name": "stdin",
     "output_type": "stream",
     "text": [
      "Enter Your Choice\n",
      " 7\n"
     ]
    },
    {
     "name": "stdout",
     "output_type": "stream",
     "text": [
      "Closing the Program...\n"
     ]
    }
   ],
   "source": [
    "all_movies = [\n",
    "    {'title': 'Smile', 'genre': 'Horror,Mystery,Suspense', 'cast': 'Kyle Gallner,Sosie Bacon' , \"release_year\": 2022, \"rating\": [(\"User1\", 4),(\"User2\", 2),(\"User3\", 1)]},\n",
    "    {'title': 'Inception', 'genre': 'Action,Sci-Fi', 'cast': 'Leonardo DiCaprio,Marion Cotillard', \"release_year\": 2010, \"rating\": []},\n",
    "    {'title': 'The Dark Knight', 'genre': 'Action,Crime,Drama', 'cast': 'Christian Bale,Brie Larson', \"release_year\": 2008, \"rating\": []},\n",
    "    {'title': 'Joker', 'genre': 'Crime,Drama,Thriller', 'cast': 'Joaquin Phoenix,Jennifer Lawrence', \"release_year\": 2019, \"rating\": []},\n",
    "    {'title': 'Interstellar', 'genre': 'Adventure,Drama,Sci-Fi', 'cast': 'Matthew McConaughey,Anne Hathaway', \"release_year\": 2014, \"rating\": []},\n",
    "    {'title': 'The Matrix', 'genre': 'Action,Sci-Fi', 'cast': 'Keanu Reeves,Carrie-Anne Moss', \"release_year\": 1999, \"rating\": []},\n",
    "    {'title': 'The Godfather', 'genre': 'Crime,Drama', 'cast': 'Marlon Brando,Diane Keaton', \"release_year\": 1972, \"rating\": []},\n",
    "    {'title': 'The Shawshank Redemption', 'genre': 'Drama', 'cast': 'Tim Robbins,Morgan Freeman', \"release_year\": 1994, \"rating\": []},\n",
    "    {'title': 'Pulp Fiction', 'genre': 'Crime,Drama', 'cast': 'John Travolta,Uma Thurman', \"release_year\": 1994, \"rating\": []},\n",
    "    {'title': 'Fight Club', 'genre': 'Drama', 'cast': 'Brad Pitt,Helena Bonham Carter', \"release_year\": 1999, \"rating\": []},\n",
    "    {'title': 'Forrest Gump', 'genre': 'Drama,Romance', 'cast': 'Tom Hanks,Robin Wright', \"release_year\": 1994, \"rating\": []},\n",
    "    {'title': 'The Lord of the Rings: The Fellowship of the Ring', 'genre': 'Adventure,Drama,Fantasy', 'cast': 'Elijah Wood,Liv Tyler', \"release_year\": 2001, \"rating\": []},\n",
    "    {'title': 'The Lord of the Rings: The Two Towers', 'genre': 'Adventure,Drama,Fantasy', 'cast': 'Elijah Wood,Liv Tyler', \"release_year\": 2002, \"rating\": []},\n",
    "    {'title': 'The Lord of the Rings: The Return of the King', 'genre': 'Adventure,Drama,Fantasy', 'cast': 'Elijah Wood,Liv Tyler', \"release_year\": 2003, \"rating\": []},\n",
    "    {'title': 'Star Wars: Episode IV - A New Hope', 'genre': 'Action,Adventure,Fantasy', 'cast': 'Mark Hamill,Carrie Fisher', \"release_year\": 1977, \"rating\": []},\n",
    "    {'title': 'Star Wars: Episode V - The Empire Strikes Back', 'genre': 'Action,Adventure,Fantasy', 'cast': 'Mark Hamill,Carrie Fisher', \"release_year\": 1980, \"rating\": []},\n",
    "    {'title': 'Star Wars: Episode VI - Return of the Jedi', 'genre': 'Action,Adventure,Fantasy', 'cast': 'Mark Hamill,Carrie Fisher', \"release_year\": 1983, \"rating\": []},\n",
    "    {'title': 'The Lion King', 'genre': 'Animation,Adventure,Drama', 'cast': 'Matthew Broderick,Moira Kelly', \"release_year\": 1994, \"rating\": []},\n",
    "    {'title': 'Gladiator', 'genre': 'Action,Adventure,Drama', 'cast': 'Russell Crowe,Connie Nielsen', \"release_year\": 2000, \"rating\": []},\n",
    "    {'title': 'Titanic', 'genre': 'Drama,Romance', 'cast': 'Leonardo DiCaprio,Kate Winslet', \"release_year\": 1997, \"rating\": []},\n",
    "    {'title': 'Saving Private Ryan', 'genre': 'Drama,War', 'cast': 'Tom Hanks,Tom Sizemore', \"release_year\": 1998, \"rating\": []},\n",
    "    {'title': 'Schindler\\'s List', 'genre': 'Biography,Drama,History', 'cast': 'Liam Neeson,Ben Kingsley', \"release_year\": 1993, \"rating\": []},\n",
    "    {'title': 'The Green Mile', 'genre': 'Crime,Drama,Fantasy', 'cast': 'Tom Hanks,David Morse', \"release_year\": 1999, \"rating\": []},\n",
    "    {'title': 'Braveheart', 'genre': 'Biography,Drama,History', 'cast': 'Mel Gibson,Sophie Marceau', \"release_year\": 1995, \"rating\": []},\n",
    "    {'title': 'The Silence of the Lambs', 'genre': 'Crime,Drama,Thriller', 'cast': 'Anthony Hopkins,Jodie Foster', \"release_year\": 1991, \"rating\": []},\n",
    "    {'title': 'Se7en', 'genre': 'Crime,Drama,Mystery', 'cast': 'Brad Pitt,Morgan Freeman', \"release_year\": 1995, \"rating\": []},\n",
    "    {'title': 'The Usual Suspects', 'genre': 'Crime,Drama,Mystery', 'cast': 'Kevin Spacey,Gabriel Byrne', \"release_year\": 1995, \"rating\": []},\n",
    "    {'title': 'The Prestige', 'genre': 'Drama,Mystery,Sci-Fi', 'cast': 'Christian Bale,Hugh Jackman', \"release_year\": 2006, \"rating\": []},\n",
    "    {'title': 'The Sixth Sense', 'genre': 'Drama,Mystery,Thriller', 'cast': 'Bruce Willis,Haley Joel Osment', \"release_year\": 1999, \"rating\": []},\n",
    "    {'title': 'The Pianist', 'genre': 'Biography,Drama,Music', 'cast': 'Adrien Brody,Thomas Kretschmann', \"release_year\": 2002, \"rating\": []},\n",
    "    {'title': 'Whiplash', 'genre': 'Drama,Music', 'cast': 'Miles Teller,J.K. Simmons', \"release_year\": 2014, \"rating\": []},\n",
    "    {'title': 'La La Land', 'genre': 'Comedy,Drama,Music', 'cast': 'Ryan Gosling,Emma Stone', \"release_year\": 2016, \"rating\": []},\n",
    "    {'title': 'A Beautiful Mind', 'genre': 'Biography,Drama', 'cast': 'Russell Crowe,Jennifer Connelly', \"release_year\": 2001, \"rating\": []},\n",
    "    {'title': 'The Social Network', 'genre': 'Biography,Drama', 'cast': 'Jesse Eisenberg,Andrew Garfield', \"release_year\": 2010, \"rating\": []},\n",
    "    {'title': 'Django Unchained', 'genre': 'Drama,Western', 'cast': 'Jamie Foxx,Christoph Waltz', \"release_year\": 2012, \"rating\": []},\n",
    "    {'title': 'Inglourious Basterds', 'genre': 'Adventure,Drama,War', 'cast': 'Brad Pitt,Diane Kruger', \"release_year\": 2009, \"rating\": []},\n",
    "    {'title': 'The Godfather Part II', 'genre': 'Crime,Drama', 'cast': 'Al Pacino,Diane Keaton', 'release_year': 1974, 'rating': []},\n",
    "    {'title': 'Goodfellas', 'genre': 'Biography,Crime,Drama', 'cast': 'Robert De Niro,Lorraine Bracco', 'release_year': 1990, 'rating': []},\n",
    "    {'title': 'Inglourious Basterds', 'genre': 'Adventure,Drama,War', 'cast': 'Brad Pitt,Mélanie Laurent', 'release_year': 2009, 'rating': []},\n",
    "    {'title': 'The Grand Budapest Hotel', 'genre': 'Adventure,Comedy,Crime', 'cast': 'Ralph Fiennes,Saoirse Ronan', 'release_year': 2014, 'rating': []},\n",
    "    {'title': 'No Country for Old Men', 'genre': 'Crime,Drama,Thriller', 'cast': 'Tommy Lee Jones,Kelly Macdonald', 'release_year': 2007, 'rating': []},\n",
    "    {'title': 'The Silence of the Lambs', 'genre': 'Crime,Drama,Thriller', 'cast': 'Anthony Hopkins,Jodie Foster', 'release_year': 1991, 'rating': []},\n",
    "    {'title': 'The Green Mile', 'genre': 'Crime,Drama,Fantasy', 'cast': 'Tom Hanks,Patricia Clarkson', 'release_year': 1999, 'rating': []},\n",
    "    {'title': '12 Angry Men', 'genre': 'Drama', 'cast': 'Henry Fonda,Lee J. Cobb', 'release_year': 1957, 'rating': []},\n",
    "    {'title': 'The Intouchables', 'genre': 'Biography,Comedy,Drama', 'cast': 'François Cluzet,Audrey Fleurot', 'release_year': 2011, 'rating': []},\n",
    "    {'title': 'The Revenant', 'genre': 'Action,Adventure,Drama', 'cast': 'Leonardo DiCaprio,Grace Dove', 'release_year': 2015, 'rating': []},\n",
    "    {'title': 'The Shining', 'genre': 'Drama,Horror', 'cast': 'Jack Nicholson,Shelley Duvall', 'release_year': 1980, 'rating': []},\n",
    "    {'title': 'Gone Girl', 'genre': 'Drama,Mystery,Thriller', 'cast': 'Ben Affleck,Rosamund Pike', 'release_year': 2014, 'rating': []},\n",
    "    {'title': 'Shutter Island', 'genre': 'Mystery,Thriller', 'cast': 'Leonardo DiCaprio,Emily Mortimer', 'release_year': 2010, 'rating': []},\n",
    "    {'title': 'Oldboy', 'genre': 'Action,Drama,Mystery', 'cast': 'Min-sik Choi,Ji-tae Yu', 'release_year': 2003, 'rating': []},\n",
    "    {'title': 'City of God', 'genre': 'Crime,Drama', 'cast': 'Alexandre Rodrigues,Leandro Firmino', 'release_year': 2002, 'rating': []},\n",
    "    {'title': 'The Pursuit of Happyness', 'genre': 'Biography,Drama', 'cast': 'Will Smith,Thandie Newton', 'release_year': 2006, 'rating': []},\n",
    "    {'title': 'Good Will Hunting', 'genre': 'Drama,Romance', 'cast': 'Robin Williams,Matt Damon', 'release_year': 1997, 'rating': []},\n",
    "    {'title': 'Eternal Sunshine of the Spotless Mind', 'genre': 'Drama,Romance,Sci-Fi', 'cast': 'Jim Carrey,Kate Winslet', 'release_year': 2004, 'rating': []},\n",
    "    {'title': 'Memento', 'genre': 'Mystery,Thriller', 'cast': 'Guy Pearce,Carrie-Anne Moss', 'release_year': 2000, 'rating': []},\n",
    "    {'title': 'The Usual Suspects', 'genre': 'Crime,Drama,Mystery', 'cast': 'Kevin Spacey,Gabriel Byrne', 'release_year': 1995, 'rating': []},\n",
    "    {'title': 'American History X', 'genre': 'Drama', 'cast': 'Edward Norton,Beverly D\\'Angelo', 'release_year': 1998, 'rating': []},\n",
    "    {'title': 'Requiem for a Dream', 'genre': 'Drama', 'cast': 'Ellen Burstyn,Jared Leto', 'release_year': 2000, 'rating': []},\n",
    "    {'title': 'The Sixth Sense', 'genre': 'Drama,Mystery,Thriller', 'cast': 'Bruce Willis,Haley Joel Osment', 'release_year': 1999, 'rating': []},\n",
    "    {'title': 'Blade Runner 2049', 'genre': 'Action,Drama,Mystery', 'cast': 'Harrison Ford,Ryan Gosling', 'release_year': 2017, 'rating': []},\n",
    "    {'title': 'Black Swan', 'genre': 'Drama,Thriller', 'cast': 'Natalie Portman,Mila Kunis', 'release_year': 2010, 'rating': []},\n",
    "    {'title': 'The Departed', 'genre': 'Crime,Drama,Thriller', 'cast': 'Leonardo DiCaprio,Vera Farmiga', 'release_year': 2006, 'rating': []},\n",
    "    {'title': 'The Silence of the Lambs', 'genre': 'Crime,Drama,Thriller', 'cast': 'Anthony Hopkins,Jodie Foster', 'release_year': 1991, 'rating': []},\n",
    "    {'title': 'The Green Mile', 'genre': 'Crime,Drama,Fantasy', 'cast': 'Tom Hanks,Patricia Clarkson', 'release_year': 1999, 'rating': []},\n",
    "    {'title': '12 Angry Men', 'genre': 'Drama', 'cast': 'Henry Fonda,Lee J. Cobb', 'release_year': 1957, 'rating': []},\n",
    "    {'title': 'The Intouchables', 'genre': 'Biography,Comedy,Drama', 'cast': 'François Cluzet,Audrey Fleurot', 'release_year': 2011, 'rating': []},\n",
    "    {'title': 'The Truman Show', 'genre': 'Comedy,Drama,Sci-Fi', 'cast': 'Jim Carrey,Laura Linney', 'release_year': 1998, 'rating': []},\n",
    "    {'title': 'Gone Girl', 'genre': 'Drama,Mystery,Thriller', 'cast': 'Ben Affleck,Rosamund Pike', 'release_year': 2014, 'rating': []},\n",
    "]\n",
    "\n",
    "def addMovie():\n",
    "    title = input(\"Enter The Title Of The Movie :\\n\")\n",
    "    genre = input(\"Enter The Genres Of The Movie seperated By Comma If Multiple:\\n\")\n",
    "    cast = input(\"Enter Actor and Actress Name seperated by Comma:\\n\")\n",
    "    release_year = input(\"Enter The Release Year Of The Movie:\\n\")\n",
    "    all_movies.append({'title':title,'genre':genre,'cast':cast,\"release_year\":release_year,\"rating\":[]})\n",
    "    \n",
    "\n",
    "def rateMovie(title):\n",
    "    for movie in all_movies:\n",
    "        if movie['title'] == title:\n",
    "            username = input(\"Enter Your Name:\\n\")\n",
    "            rating = int(input(\"Enter Your Rating:\\n\"))\n",
    "            if (rating < 1 or rating > 5):\n",
    "                print(\"Invalid Rating\")\n",
    "                return\n",
    "            movie['rating'].append((username,rating))\n",
    "            print(\"Rating Added\")\n",
    "            return\n",
    "    print(\"No Movie Found\\n\")\n",
    "\n",
    "\n",
    "def displayMovie(title):\n",
    "    for movie in all_movies:\n",
    "        if movie['title'] == title:\n",
    "            print(\"Title : \",movie['title'])\n",
    "            print(\"Genre : \",movie['genre'])\n",
    "            cast = movie['cast'].split(',')\n",
    "            print(\"Main Actor : \",cast[0])\n",
    "            print(\"Main Actress : \",cast[1])\n",
    "            print(\"Release Year : \",movie['release_year'])\n",
    "            print(\"Ratings : \")\n",
    "            for rating in movie['rating']:\n",
    "                print(f\"{rating[0]} : {rating[1]} Stars\")\n",
    "            total_rates = len(movie['rating'])\n",
    "            total_rating = 0\n",
    "            for rating in movie['rating']:\n",
    "                total_rating = total_rating + rating[1]\n",
    "            try:\n",
    "                print(f\"\\nOverall rating : {total_rating/total_rates :.2f} Stars\")\n",
    "                return\n",
    "            except ZeroDivisionError :\n",
    "                print(\"No Ratings Yet\\n\")\n",
    "                return\n",
    "        \n",
    "    print(\"No Movies Found. Try Using Different Name\\n\")\n",
    "\n",
    "\n",
    "def recommendMovie():\n",
    "    print(\"1.Recommendation According to Preferred Genre\")\n",
    "    print(\"2.Recommendation According to Preferred Artists\")\n",
    "    print(\"3.Recommendation According to Preferred Genre and Artists\")\n",
    "    try:\n",
    "        choice = int(input(\"How do you want to recommend\\n\"))\n",
    "        if choice < 1 or choice > 3 :\n",
    "            raise ValueError(\"Invalid Input\")\n",
    "    except ValueError as e:\n",
    "        print(e)\n",
    "        print(\"Terminating recommendation\")\n",
    "        return\n",
    "\n",
    "    movieGenre = [] # List of movies recommend according to Preferred Genre\n",
    "    movieArtist=[] # List of movies recommend according to Preferred Artists\n",
    "    \n",
    "    if(choice == 1 or choice == 3):\n",
    "        for movie in all_movies:\n",
    "            genres = []\n",
    "            genres =movie['genre'].split(\",\")\n",
    "            for  genre in genres:\n",
    "                if genre in preferedGenre:\n",
    "                    movieGenre.append(movie['title'])\n",
    "                    break\n",
    "        \n",
    "    if(choice == 2 or choice == 3):\n",
    "        for movie in all_movies:\n",
    "            cast = movie['cast'].split(\",\")\n",
    "            for actor in cast:\n",
    "                if actor in preferedArtist:\n",
    "                    movieArtist.append(movie['title'])\n",
    "                    break\n",
    "\n",
    "    if (choice == 1):\n",
    "        print(\"\\nRecommendation According to Preferred Genre:\\n\")\n",
    "        if (len(movieGenre) > 0):\n",
    "            for title in movieGenre:\n",
    "                for movie in all_movies:\n",
    "                    if movie['title'] == title:\n",
    "                        print(\"Title : \",movie['title'])\n",
    "                        print(\"Genre : \",movie['genre'])\n",
    "                        cast = movie['cast'].split(',')\n",
    "                        print(\"Main Actor : \",cast[0])\n",
    "                        print(\"Main Actress : \",cast[1])\n",
    "                        print(\"Release Year : \",movie['release_year'])\n",
    "                        print(\"Ratings : \")\n",
    "                        for rating in movie['rating']:\n",
    "                            print(f\"{rating[0]} : {rating[1]} Stars\")\n",
    "                        total_rates = len(movie['rating'])\n",
    "                        total_rating = 0\n",
    "                        for rating in movie['rating']:\n",
    "                            total_rating = total_rating + rating[1]\n",
    "                        try:\n",
    "                            print(f\"\\nOverall rating : {total_rating/total_rates :.2f} Stars\\n\")\n",
    "                        \n",
    "                        except ZeroDivisionError :\n",
    "                            print(\"No Ratings Yet\\n\")\n",
    "                        \n",
    "        else:\n",
    "            print(\"No Movies Found\\n\")\n",
    "\n",
    "        \n",
    "    \n",
    "    if choice == 2:\n",
    "        print(\"\\nRecommendation According to Prefered Artists:\\n\")\n",
    "        if (len(movieArtist) != 0):\n",
    "            for title in movieArtist:\n",
    "                for movie in all_movies:\n",
    "                    if movie['title'] == title:\n",
    "                        print(\"Title : \",movie['title'])\n",
    "                        print(\"Genre : \",movie['genre'])\n",
    "                        cast = movie['cast'].split(',')\n",
    "                        print(\"Main Actor : \",cast[0])\n",
    "                        print(\"Main Actress : \",cast[1])\n",
    "                        print(\"Release Year : \",movie['release_year'])\n",
    "                        print(\"Ratings : \")\n",
    "                        for rating in movie['rating']:\n",
    "                            print(f\"{rating[0]} : {rating[1]} Stars\")\n",
    "                        total_rates = len(movie['rating'])\n",
    "                        total_rating = 0\n",
    "                        for rating in movie['rating']:\n",
    "                            total_rating = total_rating + rating[1]\n",
    "                        try:\n",
    "                            print(f\"\\nOverall rating : {total_rating/total_rates :.2f} Stars\\n\")\n",
    "                        \n",
    "                        except ZeroDivisionError :\n",
    "                            print(\"No Ratings Yet\\n\")\n",
    "        else:\n",
    "            print(\"No Movies Found\\n\")\n",
    "                \n",
    "                        \n",
    "    if choice == 3:\n",
    "        print(\"\\nHighly Recommended:\\n\")\n",
    "        setGenre = set(movieGenre)\n",
    "        setArtist = set(movieArtist)\n",
    "        setBoth = setGenre.intersection(setArtist)\n",
    "        if (len(setBoth)>0):\n",
    "            for title in setBoth:\n",
    "                for movie in all_movies:\n",
    "                    if movie['title'] == title:\n",
    "                        print(\"Title : \",movie['title'])\n",
    "                        print(\"Genre : \",movie['genre'])\n",
    "                        cast = movie['cast'].split(',')\n",
    "                        print(\"Main Actor : \",cast[0])\n",
    "                        print(\"Main Actress : \",cast[1])\n",
    "                        print(\"Release Year : \",movie['release_year'])\n",
    "                        print(\"Ratings : \")\n",
    "                        for rating in movie['rating']:\n",
    "                            print(f\"{rating[0]} : {rating[1]} Stars\")\n",
    "                        total_rates = len(movie['rating'])\n",
    "                        total_rating = 0\n",
    "                        for rating in movie['rating']:\n",
    "                            total_rating = total_rating + rating[1]\n",
    "                        try:\n",
    "                            print(f\"\\nOverall rating : {total_rating/total_rates :.2f} Stars\\n\")\n",
    "                        \n",
    "                        except ZeroDivisionError :\n",
    "                            print(\"No Ratings Yet\\n\")\n",
    "\n",
    "        else:\n",
    "            print(\"No Movies Found\\n\")                    \n",
    "\n",
    "\n",
    "\n",
    "def watchMovie(): # This function will add the movie genre to prefered genre . And since the preferedGenre is an set , so duplicate values automatically discarded\n",
    "    title = input(\"Enter Movie Title:\\n\")\n",
    "    for movie in all_movies:\n",
    "        if title == movie['title']:\n",
    "            genres = movie['genre'].split(\",\")\n",
    "            for genre in genres:\n",
    "                preferedGenre.add(genre)\n",
    "            return    \n",
    "    print(\"Movie not found.\")\n",
    "\n",
    "def showPreferences():\n",
    "    print(\"\\nPrefered Genres:\")\n",
    "    for genre in preferedGenre:\n",
    "        print(genre)\n",
    "\n",
    "    print(\"\\nPrefered Artists:\")\n",
    "    for artist in preferedArtist:\n",
    "        print(artist)\n",
    "\n",
    "\n",
    "def mainMenu():\n",
    "    while True:\n",
    "        print(\"1.Add Movie\")\n",
    "        print(\"2.Rate Movie\")\n",
    "        print(\"3.Display Movie\")\n",
    "        print(\"4.Recommend Movie\")\n",
    "        print(\"5.Watch Movie\")\n",
    "        print(\"6 Show Prefered Genres And Artists\")\n",
    "        print(\"7.Exit\")\n",
    "        try:\n",
    "            choice = int(input(\"Enter Your Choice\\n\"))\n",
    "            if choice < 1 or choice > 7 :\n",
    "                raise ValueError(\"Invalid Input\")\n",
    "\n",
    "        except ValueError as e:\n",
    "            print(e)\n",
    "            print(\"Terminating Program\")\n",
    "            return\n",
    "        if choice == 1:\n",
    "            addMovie()\n",
    "            input(\"Enter any key to continue\")\n",
    "\n",
    "        elif choice == 2:\n",
    "            title = input(\"Enter The Title Of The Movie :\\n\")\n",
    "            rateMovie(title)\n",
    "            input(\"Enter any key to continue\")\n",
    "        elif choice == 3:\n",
    "            title = input(\"Enter The Title Of The Movie :\\n\")\n",
    "            displayMovie(title)\n",
    "            input(\"Enter any key to continue\")\n",
    "\n",
    "        elif choice == 4:\n",
    "            recommendMovie()\n",
    "            input(\"Enter any key to continue\")\n",
    "\n",
    "        elif choice == 5:\n",
    "            watchMovie()\n",
    "            input(\"Enter any key to continue\")\n",
    "        \n",
    "        elif choice == 6:\n",
    "            showPreferences()\n",
    "            input(\"Enter any key to continue\")\n",
    "            \n",
    "\n",
    "        elif choice == 7:\n",
    "            print(\"Closing the Program...\")\n",
    "            break\n",
    "\n",
    "    \n",
    "\n",
    "\n",
    "if __name__ == \"__main__\":\n",
    "    preferedGenre = {\"Horror\",\"Sci-Fi\"} # You can add multiple genres . It can also be added using watchMovie() function.\n",
    "    preferedArtist = {\"Leonardo DiCaprio\",\"Emma Stone\",\"Jim Carrey\",\"Morgan Freeman\"} # You can add multiple artists                \n",
    "    mainMenu()"
   ]
  },
  {
   "cell_type": "code",
   "execution_count": null,
   "id": "66cb462e-42dd-433d-b2b1-497d524bc03e",
   "metadata": {},
   "outputs": [],
   "source": []
  }
 ],
 "metadata": {
  "kernelspec": {
   "display_name": "Python 3 (ipykernel)",
   "language": "python",
   "name": "python3"
  },
  "language_info": {
   "codemirror_mode": {
    "name": "ipython",
    "version": 3
   },
   "file_extension": ".py",
   "mimetype": "text/x-python",
   "name": "python",
   "nbconvert_exporter": "python",
   "pygments_lexer": "ipython3",
   "version": "3.12.2"
  }
 },
 "nbformat": 4,
 "nbformat_minor": 5
}
