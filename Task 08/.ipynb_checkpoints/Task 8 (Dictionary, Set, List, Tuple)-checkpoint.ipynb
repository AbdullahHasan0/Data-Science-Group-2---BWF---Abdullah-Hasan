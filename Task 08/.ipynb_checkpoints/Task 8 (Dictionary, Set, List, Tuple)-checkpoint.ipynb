{
 "cells": [
  {
   "cell_type": "markdown",
   "id": "8eaec491-953f-47fb-92c2-5888b33e0aed",
   "metadata": {},
   "source": [
    "# Python Built-in Data Structures\n",
    "\n",
    "Python has four non-primitive inbuilt data structures namely <span style = \"color : blue ; font-weight:bold\">Lists</span>, <span style = \"color : green ; font-weight:bold\">Dictionary</span>, <span style = \"color : crimson ; font-weight:bold\">Tuple</span> and <span style = \"color : orange ; font-weight:bold\">Set</span>. These almost cover 80% of the our real world data structures. "
   ]
  },
  {
   "cell_type": "markdown",
   "id": "da32be3a-42d3-4563-9d19-6ceee5cdf004",
   "metadata": {},
   "source": [
    "# <span style = \"color : green\">Dictionary</span>\n",
    "In python, dictionary is similar to hash or maps in other languages. It consists of key value pairs. The value can be accessed by unique key in the dictionary.\n",
    "\n",
    "***A dictionary is a collection which is ordered*, changeable and do not allow duplicates.***\n",
    "\n",
    "**Syntax:** `variable = {key : value}`.\n",
    "\n",
    "### Python Dictionary Built-in Functions\n",
    "Python dictionaries have a variety of built-in methods that allow you to perform common operations easily and efficiently. Some of them are given below\n",
    "\n",
    "#### 1. `dict.clear()`\n",
    "remove all items from dictionary\n",
    "\n"
   ]
  },
  {
   "cell_type": "code",
   "execution_count": 12,
   "id": "08baba33-9110-4169-af6b-a11c9f48c383",
   "metadata": {},
   "outputs": [
    {
     "name": "stdout",
     "output_type": "stream",
     "text": [
      "{'a': 1, 'b': 2, 'c': 3}\n",
      "{}\n"
     ]
    }
   ],
   "source": [
    "# Example Code\n",
    "myDict = {'a':1 , 'b':2 , 'c':3}\n",
    "print(myDict)\n",
    "myDict.clear()\n",
    "print(myDict)"
   ]
  },
  {
   "cell_type": "markdown",
   "id": "cf3f925a-92bd-4b5b-9756-51075bc2cc80",
   "metadata": {},
   "source": [
    "#### 2. `dict.copy()`\n",
    "return shallow copy the dictionary\n",
    "\n"
   ]
  },
  {
   "cell_type": "code",
   "execution_count": 14,
   "id": "bf09cbdb-6fca-43aa-b8ec-b43e1d2fdef8",
   "metadata": {},
   "outputs": [
    {
     "name": "stdout",
     "output_type": "stream",
     "text": [
      "{'a': 1, 'b': 2, 'c': 3}\n",
      "{'a': 1, 'b': 2, 'c': 3}\n"
     ]
    }
   ],
   "source": [
    "# Example Code\n",
    "myDict = {'a':1 , 'b':2 , 'c':3}\n",
    "newDict = myDict.copy()\n",
    "print(myDict)\n",
    "print(newDict)\n"
   ]
  },
  {
   "cell_type": "markdown",
   "id": "3a4cc2ac-e66c-483a-b89d-770e7b0f1114",
   "metadata": {},
   "source": [
    "#### 3. `dict.fromkeys(iterable, value=None)`\n",
    "Creates a new dictionary with keys from iterable and values set to value."
   ]
  },
  {
   "cell_type": "code",
   "execution_count": 16,
   "id": "30e31d64-b732-4aef-9191-8a2ccc49caf1",
   "metadata": {},
   "outputs": [
    {
     "name": "stdout",
     "output_type": "stream",
     "text": [
      "{'apple': 'fruit', 'orange': 'fruit', 'banana': 'fruit'}\n"
     ]
    }
   ],
   "source": [
    "# Example Code \n",
    "fruitList = ['apple','orange','banana']\n",
    "value = 'fruit'\n",
    "myDict=dict.fromkeys(fruitList,value)\n",
    "print(myDict)"
   ]
  },
  {
   "cell_type": "markdown",
   "id": "26c14255-e592-477e-aecd-3faf846745df",
   "metadata": {},
   "source": [
    "#### 4. `dict.get(key , default = None)`\n",
    "Returns the value for key if key is in the dictionary; otherwise, returns default.\n"
   ]
  },
  {
   "cell_type": "code",
   "execution_count": 17,
   "id": "869e3c43-955d-41f1-822a-3516580789e0",
   "metadata": {},
   "outputs": [
    {
     "name": "stdout",
     "output_type": "stream",
     "text": [
      "3\n",
      "Not Found\n"
     ]
    }
   ],
   "source": [
    "myDict = {'a':1 , 'b':2 , 'c':3}\n",
    "print(myDict.get('c','Not Found'))\n",
    "print(myDict.get('d','Not Found'))\n"
   ]
  },
  {
   "cell_type": "markdown",
   "id": "4d1e9dbf-bcc3-4cea-8c04-dcf1fd94824c",
   "metadata": {},
   "source": [
    "#### 5. `dict.items()`\n",
    "Returns a view object that displays a list of dictionary's key-value tuple pairs.\n",
    "\n"
   ]
  },
  {
   "cell_type": "code",
   "execution_count": 18,
   "id": "b953bda7-9007-402c-b24d-94dac514a1dd",
   "metadata": {},
   "outputs": [
    {
     "name": "stdout",
     "output_type": "stream",
     "text": [
      "dict_items([('a', 1), ('b', 2), ('c', 3)])\n"
     ]
    }
   ],
   "source": [
    "# Example Code\n",
    "myDict = {'a':1 , 'b':2 , 'c':3}\n",
    "print(myDict.items())"
   ]
  },
  {
   "cell_type": "markdown",
   "id": "2c708d58-9bcc-4f6b-ad01-96d8da7b64b2",
   "metadata": {},
   "source": [
    "#### 6. `dict.keys()`\n",
    "Shows all the keys"
   ]
  },
  {
   "cell_type": "code",
   "execution_count": 20,
   "id": "238d5974-2b36-43a5-ba30-8b10d37f08b1",
   "metadata": {},
   "outputs": [
    {
     "name": "stdout",
     "output_type": "stream",
     "text": [
      "dict_keys(['a', 'b', 'c'])\n"
     ]
    }
   ],
   "source": [
    "# Example Code\n",
    "myDict = {'a':1 , 'b':2 , 'c':3}\n",
    "print(myDict.keys())"
   ]
  },
  {
   "cell_type": "markdown",
   "id": "4f739187-934b-4f0d-873d-8104673d8b47",
   "metadata": {},
   "source": [
    "## Count Word Frequency Using Dictionary"
   ]
  },
  {
   "cell_type": "code",
   "execution_count": 6,
   "id": "de202540-2dab-4b1e-a798-41cdf96abb2e",
   "metadata": {},
   "outputs": [
    {
     "name": "stdin",
     "output_type": "stream",
     "text": [
      "Enter a sentence Hello World, this is just a test to check whether the program working or not. this is a long message \n"
     ]
    },
    {
     "name": "stdout",
     "output_type": "stream",
     "text": [
      "Hello:1\n",
      "World,:1\n",
      "this:2\n",
      "is:2\n",
      "just:1\n",
      "a:2\n",
      "test:1\n",
      "to:1\n",
      "check:1\n",
      "whether:1\n",
      "the:1\n",
      "program:1\n",
      "working:1\n",
      "or:1\n",
      "not.:1\n",
      "long:1\n",
      "message:1\n"
     ]
    }
   ],
   "source": [
    "def countWords(userInput):\n",
    "    new_dict = {}\n",
    "    data = userInput.split()\n",
    "    for word in data:\n",
    "        if word in new_dict:\n",
    "            new_dict[word] +=1\n",
    "        else:\n",
    "            new_dict[word]=1\n",
    "    return new_dict\n",
    "\n",
    "def printCount(dictionary):\n",
    "    for key in dictionary:\n",
    "        print(f\"{key}:{dictionary[key]}\")\n",
    "\n",
    "\n",
    "userInput = input(\"Enter a sentence\")\n",
    "printCount(countWords(userInput))\n",
    "    \n",
    "    "
   ]
  },
  {
   "cell_type": "markdown",
   "id": "efbca082-60a6-47ed-8c2e-8cbebc91bdbf",
   "metadata": {},
   "source": [
    "# <span style = \"color : blue \">Lists</span>\n",
    "Lists are used to store multiple items in a single variable.List items are ordered, changeable, and allow duplicate values. List items are indexed, the first item has index [0], the second item has index [1] etc.\n"
   ]
  },
  {
   "cell_type": "markdown",
   "id": "5c786af6-4c8f-4b5f-8d2b-af72fb9876fc",
   "metadata": {},
   "source": [
    "### Python List Built-in Functions\n",
    "\n",
    "Python lists come with a variety of built-in methods that facilitate common operations such as adding, removing, and modifying elements."
   ]
  },
  {
   "cell_type": "markdown",
   "id": "8e316f3c-a355-4085-8358-f47c1990def3",
   "metadata": {},
   "source": [
    "#### 1. `list.append(x)`\n",
    "Adds an item x to the end of the list."
   ]
  },
  {
   "cell_type": "code",
   "execution_count": 22,
   "id": "c6304ed2-492a-4043-836e-8a06e1fe1b32",
   "metadata": {},
   "outputs": [
    {
     "name": "stdout",
     "output_type": "stream",
     "text": [
      "[1, 2, 3, 4, 5]\n"
     ]
    }
   ],
   "source": [
    "myList = [1,2,3,4]\n",
    "myList.append(5)\n",
    "print(myList)"
   ]
  },
  {
   "cell_type": "markdown",
   "id": "af3c4b89-9eb3-455a-98c3-54fe8211ce99",
   "metadata": {},
   "source": [
    "#### 2. `list.extend(iterable)`\n",
    "Extends the list by appending all the items from the iterable."
   ]
  },
  {
   "cell_type": "code",
   "execution_count": 23,
   "id": "4fdcb437-c5cc-42bc-85be-9e2339f8c6b3",
   "metadata": {},
   "outputs": [
    {
     "name": "stdout",
     "output_type": "stream",
     "text": [
      "[1, 2, 3, 5, 6, 7, 2]\n"
     ]
    }
   ],
   "source": [
    "myList = [1,2,3]\n",
    "myList.extend ([5,6,7,2])\n",
    "print(myList)"
   ]
  },
  {
   "cell_type": "markdown",
   "id": "8ae96ccd-b8d6-406b-a882-341eefdfc2b1",
   "metadata": {},
   "source": [
    "#### 3. `list.insert(i, x)`\n",
    "Inserts an item x at a given position i."
   ]
  },
  {
   "cell_type": "code",
   "execution_count": 25,
   "id": "dcddc6d3-30cb-46dd-a014-33359e81afdf",
   "metadata": {},
   "outputs": [
    {
     "name": "stdout",
     "output_type": "stream",
     "text": [
      "[1, 2, 2.5, 3]\n"
     ]
    }
   ],
   "source": [
    "myList = [1,2,3]\n",
    "myList.insert(2,2.5)\n",
    "print(myList)"
   ]
  },
  {
   "cell_type": "markdown",
   "id": "73ab1436-896e-4d4b-9414-05cfbb5626ef",
   "metadata": {},
   "source": [
    "#### 4. `list.remove(x)`\n",
    "Removes the first item from the list whose value is x. Raises a ValueError if there is no such item.\n"
   ]
  },
  {
   "cell_type": "code",
   "execution_count": 26,
   "id": "14e4e1cb-7337-4a1d-9192-c87e19ce175e",
   "metadata": {},
   "outputs": [
    {
     "name": "stdout",
     "output_type": "stream",
     "text": [
      "[1, 2]\n"
     ]
    }
   ],
   "source": [
    "myList = [1,2,3]\n",
    "myList.remove(3)\n",
    "print(myList)"
   ]
  },
  {
   "cell_type": "markdown",
   "id": "3d1adc65-5e8e-4f29-83e4-30cc7d0144a0",
   "metadata": {},
   "source": [
    "#### 5. `list.pop([i])`\n",
    "Removes and returns the item at the given position i. If no index is specified, pop removes and returns the last item in the list."
   ]
  },
  {
   "cell_type": "code",
   "execution_count": 27,
   "id": "3893dda4-9a79-4622-bb37-a9f58fcbf72c",
   "metadata": {},
   "outputs": [
    {
     "name": "stdout",
     "output_type": "stream",
     "text": [
      "[1, 3]\n"
     ]
    }
   ],
   "source": [
    "myList = [1,2,3]\n",
    "myList.pop(1)\n",
    "print(myList)"
   ]
  },
  {
   "cell_type": "markdown",
   "id": "7efcbe70-1384-4575-89ce-d7d257a70824",
   "metadata": {},
   "source": [
    "#### 6. `list.count(x)`\n",
    "Returns the number of times x appears in the list."
   ]
  },
  {
   "cell_type": "code",
   "execution_count": 28,
   "id": "a3eaa074-76e9-424c-99ea-47a6e9f29681",
   "metadata": {},
   "outputs": [
    {
     "name": "stdout",
     "output_type": "stream",
     "text": [
      "3\n"
     ]
    }
   ],
   "source": [
    "myList = [1,2,3,3,2,1,4,2,3,1]\n",
    "print(myList.count(2))"
   ]
  },
  {
   "cell_type": "markdown",
   "id": "f1f33e15-06bd-44f2-ab6f-e8b51a69e006",
   "metadata": {},
   "source": [
    "#### 7. `list.sort(key=None, reverse=False)`\n",
    "Sorts the items of the list in place (the arguments can be used for sort customization)."
   ]
  },
  {
   "cell_type": "code",
   "execution_count": 31,
   "id": "07af9f51-4856-4053-9ced-1757d57c6d64",
   "metadata": {},
   "outputs": [
    {
     "name": "stdout",
     "output_type": "stream",
     "text": [
      "[1, 1, 1, 2, 2, 2, 3, 3, 3, 4]\n",
      "[4, 3, 3, 3, 2, 2, 2, 1, 1, 1]\n"
     ]
    }
   ],
   "source": [
    "myList = [1,2,3,3,2,1,4,2,3,1]\n",
    "myList.sort()#Ascending Order\n",
    "print(myList)\n",
    "myList.sort(reverse=True) #Descending Order\n",
    "print(myList)"
   ]
  },
  {
   "cell_type": "markdown",
   "id": "b0e3265f-e0a7-48aa-9af2-31e91a8c1074",
   "metadata": {},
   "source": [
    "## Find Even Number From Numbers Given in List"
   ]
  },
  {
   "cell_type": "code",
   "execution_count": 34,
   "id": "f73ba1ac-3977-410f-97d5-b31f54230ca9",
   "metadata": {},
   "outputs": [
    {
     "name": "stdout",
     "output_type": "stream",
     "text": [
      "2\n",
      "4\n",
      "66\n",
      "86\n"
     ]
    }
   ],
   "source": [
    "def findEvenNumbers(inputArray):\n",
    "    evenNumbers = []\n",
    "    for i in range (len(inputArray)):\n",
    "        if inputArray[i] %2 == 0:\n",
    "            evenNumbers.append(inputArray[i])\n",
    "        else:\n",
    "            continue\n",
    "    return evenNumbers\n",
    "\n",
    "\n",
    "given_array = [1,2,3,5,7,4,66,86,81,23]\n",
    "evenNumberArray = findEvenNumbers(given_array)\n",
    "for number in (evenNumberArray):\n",
    "    print(number)\n",
    "\n"
   ]
  },
  {
   "cell_type": "markdown",
   "id": "99f3ea5f-f441-49de-b9e4-22cccdb71e31",
   "metadata": {},
   "source": [
    "# <span style = \"color : orange ;\">Set</span>\n",
    "Sets are used to store multiple items in a single variable.A set is a collection which is unordered, unchangeable*, and unindexed. Sets are written with curly brackets."
   ]
  },
  {
   "cell_type": "markdown",
   "id": "0b10a71c-d422-4621-aa87-10a9a0fe423a",
   "metadata": {},
   "source": [
    "### Python Set Built-in Functions\n",
    "Python sets have a variety of built-in methods that allow you to perform common operations such as adding, removing, and performing set operations like unions, intersections, and differences."
   ]
  },
  {
   "cell_type": "markdown",
   "id": "941f82d4-d466-4a40-8333-ce5bbce077a6",
   "metadata": {},
   "source": [
    "#### 1. `set.add(x)`\n",
    "Adds an element x to the set."
   ]
  },
  {
   "cell_type": "code",
   "execution_count": 35,
   "id": "7608ec37-f2b6-4e3b-8187-429fbc76a572",
   "metadata": {},
   "outputs": [
    {
     "name": "stdout",
     "output_type": "stream",
     "text": [
      "{1, 2, 3, 5}\n"
     ]
    }
   ],
   "source": [
    "mySet = {1,2,3}\n",
    "mySet.add(5)\n",
    "print(mySet)"
   ]
  },
  {
   "cell_type": "markdown",
   "id": "a90dc658-9a28-4b69-a4fb-91949da0238a",
   "metadata": {},
   "source": [
    "#### 2. `set.remove(x)`\n",
    "Removes an element x from the set. Raises a KeyError if the element is not found."
   ]
  },
  {
   "cell_type": "code",
   "execution_count": 36,
   "id": "dbd479f5-cfc0-4440-80cc-e90b5d60e76f",
   "metadata": {},
   "outputs": [
    {
     "name": "stdout",
     "output_type": "stream",
     "text": [
      "{2, 3}\n"
     ]
    }
   ],
   "source": [
    "mySet = {1,2,3}\n",
    "mySet.remove(1)\n",
    "print(mySet)"
   ]
  },
  {
   "cell_type": "markdown",
   "id": "bc319450-cf09-4047-acc2-360903494a34",
   "metadata": {},
   "source": [
    "#### 3. `set.pop()`\n",
    "Removes and returns an arbitrary element from the set. Raises a KeyError if the set is empty."
   ]
  },
  {
   "cell_type": "code",
   "execution_count": 39,
   "id": "97d532d7-6d5a-423f-b6cb-a22980f60568",
   "metadata": {},
   "outputs": [
    {
     "name": "stdout",
     "output_type": "stream",
     "text": [
      "{2, 3}\n"
     ]
    }
   ],
   "source": [
    "mySet = {1,2,3}\n",
    "mySet.pop()\n",
    "print(mySet)"
   ]
  },
  {
   "cell_type": "markdown",
   "id": "025f17f3-5d8e-4bbe-99b9-95f05b5d780c",
   "metadata": {},
   "source": [
    "#### 4. `set.union(*others)`\n",
    "Returns a new set with elements from the set and all others."
   ]
  },
  {
   "cell_type": "code",
   "execution_count": 42,
   "id": "6381685a-8cbd-472a-b438-037c074d2ad7",
   "metadata": {},
   "outputs": [
    {
     "name": "stdout",
     "output_type": "stream",
     "text": [
      "{1, 2, 3, 4, 5, 6}\n"
     ]
    }
   ],
   "source": [
    "mySet1 = {1,2,3}\n",
    "mySet2 = {4,5,6}\n",
    "unionSet = mySet1.union(mySet2)\n",
    "print(unionSet)"
   ]
  },
  {
   "cell_type": "markdown",
   "id": "55c920e1-394e-4624-a116-c047c3d93414",
   "metadata": {},
   "source": [
    "#### 5. `set.intersection(*others)`\n",
    "Returns a new set with elements common to the set and all others."
   ]
  },
  {
   "cell_type": "code",
   "execution_count": 43,
   "id": "a20bafd4-a7b3-46f9-9108-6b4f7922195b",
   "metadata": {},
   "outputs": [
    {
     "name": "stdout",
     "output_type": "stream",
     "text": [
      "{4}\n"
     ]
    }
   ],
   "source": [
    "mySet1 = {1,2,3,4}\n",
    "mySet2 = {4,5,6}\n",
    "intersectionSet = mySet1.intersection(mySet2)\n",
    "print(intersectionSet)"
   ]
  },
  {
   "cell_type": "markdown",
   "id": "97b80154-9923-4af8-a116-76b1d3c8f5d3",
   "metadata": {},
   "source": [
    "#### 6. `set.difference(*others)`\n",
    "Returns a new set with elements in the set that are not in the others."
   ]
  },
  {
   "cell_type": "code",
   "execution_count": 44,
   "id": "fd35eea6-2cee-4bea-ada8-5e80a49e276d",
   "metadata": {},
   "outputs": [
    {
     "name": "stdout",
     "output_type": "stream",
     "text": [
      "{1, 2, 3}\n"
     ]
    }
   ],
   "source": [
    "mySet1 = {1,2,3,4}\n",
    "mySet2 = {4,5,6}\n",
    "differenceSet = mySet1.difference(mySet2)\n",
    "print(differenceSet)"
   ]
  },
  {
   "cell_type": "markdown",
   "id": "b01bbf9c-94fa-4dc7-bff7-bdf460f10930",
   "metadata": {},
   "source": [
    "#### 7. `set.issubset(other)`\n",
    "Returns True if the set is a subset of other."
   ]
  },
  {
   "cell_type": "code",
   "execution_count": 45,
   "id": "6d1d374d-d371-424a-9390-bb9cc191a2c9",
   "metadata": {},
   "outputs": [
    {
     "name": "stdout",
     "output_type": "stream",
     "text": [
      "False\n",
      "True\n"
     ]
    }
   ],
   "source": [
    "mySet1 = {1,2,3,4}\n",
    "mySet2 = {4,5,6}\n",
    "mySet3 = {4}\n",
    "print(mySet2.issubset(mySet1)) #Should print false\n",
    "print(mySet3.issubset(mySet1)) #Should print true\n"
   ]
  },
  {
   "cell_type": "markdown",
   "id": "45b30786-87c8-4ad1-8927-f3ec6227d1d5",
   "metadata": {},
   "source": [
    "#### 8. `set.issuperset(other)`\n",
    "Returns True if the set is a superset of other."
   ]
  },
  {
   "cell_type": "code",
   "execution_count": 46,
   "id": "adec0643-d77f-43f8-9c77-033acf4127bf",
   "metadata": {},
   "outputs": [
    {
     "name": "stdout",
     "output_type": "stream",
     "text": [
      "False\n",
      "False\n",
      "True\n"
     ]
    }
   ],
   "source": [
    "mySet1 = {1,2,3,4}\n",
    "mySet2 = {4,5,6}\n",
    "mySet3 = {4}\n",
    "print(mySet2.issuperset(mySet1)) #Should print false\n",
    "print(mySet3.issuperset(mySet1)) #Should print false\n",
    "print(mySet1.issuperset(mySet3)) #Should print true\n"
   ]
  },
  {
   "cell_type": "markdown",
   "id": "329a72da-fc81-4716-a356-991232def77e",
   "metadata": {},
   "source": [
    "# <span style = \"color : crimson \">Tuple</span>\n",
    "Tuples are used to store multiple items in a single variable.A tuple is a collection which is ordered and unchangeable.Tuples are written with round brackets."
   ]
  },
  {
   "cell_type": "markdown",
   "id": "7f25540f-6d96-4637-a65b-b008e3eba019",
   "metadata": {},
   "source": [
    "### Python Tuple Built-in Functions\n",
    "Tuples in Python are immutable sequences, typically used to store collections of heterogeneous data. While tuples themselves do not have as many methods as lists or sets, there are several built-in functions and operations that we can use with tuples."
   ]
  },
  {
   "cell_type": "markdown",
   "id": "719b732e-213a-473b-a007-11ccabd62037",
   "metadata": {},
   "source": [
    "#### 1. `len()`\n",
    "Returns the number of items in the tuple."
   ]
  },
  {
   "cell_type": "code",
   "execution_count": 47,
   "id": "4e4f87a3-b72d-4f57-852e-387e294f0fc1",
   "metadata": {},
   "outputs": [
    {
     "name": "stdout",
     "output_type": "stream",
     "text": [
      "4\n"
     ]
    }
   ],
   "source": [
    "tuple1 = (1,2,3,4)\n",
    "print(len(tuple1))"
   ]
  },
  {
   "cell_type": "markdown",
   "id": "7607fbac-4dc1-4c45-b9fd-92458a8d509c",
   "metadata": {},
   "source": [
    "#### 2. `max() & min()`\n",
    "Returns the largest and the smallest item in the tuple respectively."
   ]
  },
  {
   "cell_type": "code",
   "execution_count": 49,
   "id": "e0b785de-394b-4dbc-9553-8f46c5a2934c",
   "metadata": {},
   "outputs": [
    {
     "name": "stdout",
     "output_type": "stream",
     "text": [
      "4\n",
      "1\n"
     ]
    }
   ],
   "source": [
    "tuple1 = (1,2,3,4)\n",
    "print(max(tuple1))\n",
    "print(min(tuple1))"
   ]
  },
  {
   "cell_type": "markdown",
   "id": "45d3d245-8b5f-4bf8-9ef0-f7ce01472ec4",
   "metadata": {},
   "source": [
    "#### 4. `sum()`\n",
    "Returns the sum of all items in the tuple."
   ]
  },
  {
   "cell_type": "code",
   "execution_count": 50,
   "id": "f936491e-16c0-4587-807b-1081131c1951",
   "metadata": {},
   "outputs": [
    {
     "name": "stdout",
     "output_type": "stream",
     "text": [
      "10\n"
     ]
    }
   ],
   "source": [
    "tuple1 = (1,2,3,4)\n",
    "print(sum(tuple1))\n"
   ]
  },
  {
   "cell_type": "markdown",
   "id": "39093f05-f30a-453a-8f42-935311d8168b",
   "metadata": {},
   "source": [
    "#### 7. `sorted()`\n",
    "Returns a sorted list of the tuple’s elements."
   ]
  },
  {
   "cell_type": "code",
   "execution_count": 53,
   "id": "8e8731b5-5a4c-454d-a9e7-3c268d049f0d",
   "metadata": {},
   "outputs": [
    {
     "name": "stdout",
     "output_type": "stream",
     "text": [
      "[5, 5, 3, 3, 2, 2, 1]\n",
      "[1, 2, 2, 3, 3, 5, 5]\n"
     ]
    }
   ],
   "source": [
    "tuple1 = (3,5,2,5,1,2,3)\n",
    "print(sorted(tuple1 , reverse = True)) # Descending\n",
    "print(sorted(tuple1)) # Ascending\n"
   ]
  },
  {
   "cell_type": "code",
   "execution_count": null,
   "id": "9439ee86-87ec-4f75-8003-da1502b2ee38",
   "metadata": {},
   "outputs": [],
   "source": []
  }
 ],
 "metadata": {
  "kernelspec": {
   "display_name": "Python 3 (ipykernel)",
   "language": "python",
   "name": "python3"
  },
  "language_info": {
   "codemirror_mode": {
    "name": "ipython",
    "version": 3
   },
   "file_extension": ".py",
   "mimetype": "text/x-python",
   "name": "python",
   "nbconvert_exporter": "python",
   "pygments_lexer": "ipython3",
   "version": "3.12.2"
  }
 },
 "nbformat": 4,
 "nbformat_minor": 5
}
