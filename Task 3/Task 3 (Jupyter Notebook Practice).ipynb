{
 "cells": [
  {
   "cell_type": "markdown",
   "id": "a1dbee44-438b-40da-a1f0-b170acd7710c",
   "metadata": {},
   "source": [
    "# Types of Headings\n",
    "\n",
    "**Headings in Markdown allow you to structure your document efficiently. Below are examples of different heading levels:**\n",
    "\n",
    "---\n",
    "# Heading 1\n",
    "*This is the biggest heading used as a main heading.*\n",
    "## Heading 2 \n",
    "*This is used in section headings*\n",
    "### Heading 3\n",
    "*This is used in sub-sections of* **Heading 2** \n",
    "#### Heading 4 \n",
    "*This is used in sub-sections of* **Heading 3** \n",
    "##### Heading 5\n",
    "*This is used in sub-section of* **Heading 4**\n",
    "###### Heading 6\n",
    "*This is smallest Heading"
   ]
  },
  {
   "cell_type": "markdown",
   "id": "542f03d0-9e91-4bc1-a247-67afc3ba46e8",
   "metadata": {},
   "source": [
    "# Font Styling\n",
    "---\n",
    "\n",
    "**Bold Text:** `Can be apply using **Bold Text**`  \n",
    "*Italic Text:* `Can be apply using *Italic Text*`  \n",
    "***Bold & Italic:*** `Can be apply using ***Bold & Italic***`\n",
    "\n",
    "\n"
   ]
  },
  {
   "cell_type": "markdown",
   "id": "3dfe38e6-c74a-4fe7-a0e6-d8965e5f8e41",
   "metadata": {},
   "source": [
    "# Bullet Point"
   ]
  },
  {
   "cell_type": "markdown",
   "id": "d7bafe23-478d-4c46-8554-01f18435f7cf",
   "metadata": {},
   "source": [
    "- Bullet 1\n",
    "- Bullet 2\n",
    "- Bullet 3\n",
    "- Sub Bullet\n",
    "    "
   ]
  },
  {
   "cell_type": "markdown",
   "id": "57976a9d-d59a-4d69-b97d-88c774e5618a",
   "metadata": {},
   "source": [
    "# Numbered Bullets\n",
    "1. Number 1\n",
    "2. Number 2\n",
    "3. Number 3\n",
    "    1. Number 3 sub 1\n",
    "    2. Number 3 sub 2\n",
    "   "
   ]
  },
  {
   "cell_type": "markdown",
   "id": "6ceac62c-6873-4a01-801a-8b7d255a9ee9",
   "metadata": {},
   "source": [
    "# Colored Text\n",
    "\n",
    "<span style = \"color :red ;\"> ***This is an colored string***</span>: Using HTML `<span style = \"color :{COLOR NAME WITHOUT CURLY BRACKETS} ;\"> ***Example String***</span>`"
   ]
  },
  {
   "cell_type": "markdown",
   "id": "21ed654c-a652-4144-8ab8-f821004c41e1",
   "metadata": {},
   "source": [
    "# Mathematical Equations\n",
    "\n",
    "Equations can be write by using `$ Equation` e.g :\n",
    "\n",
    "$Y_i = \\beta_0 + \\beta_1 + c$ = `$Y_i = \\beta_0 + \\beta_1 + c$`\n",
    "\n",
    "An underscore (_) is used to write characters in subscript."
   ]
  },
  {
   "cell_type": "code",
   "execution_count": null,
   "id": "c94d4baa-e914-47d4-8e41-b4c92cee0fd3",
   "metadata": {},
   "outputs": [],
   "source": []
  }
 ],
 "metadata": {
  "kernelspec": {
   "display_name": "Python 3 (ipykernel)",
   "language": "python",
   "name": "python3"
  },
  "language_info": {
   "codemirror_mode": {
    "name": "ipython",
    "version": 3
   },
   "file_extension": ".py",
   "mimetype": "text/x-python",
   "name": "python",
   "nbconvert_exporter": "python",
   "pygments_lexer": "ipython3",
   "version": "3.12.2"
  }
 },
 "nbformat": 4,
 "nbformat_minor": 5
}
