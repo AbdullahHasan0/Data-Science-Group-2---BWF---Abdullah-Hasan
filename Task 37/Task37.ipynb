{
 "cells": [
  {
   "cell_type": "markdown",
   "metadata": {},
   "source": [
    "<h1 align = center> Natural Language Processing Preprocessing </h1>"
   ]
  },
  {
   "cell_type": "markdown",
   "metadata": {
    "vscode": {
     "languageId": "plaintext"
    }
   },
   "source": [
    "#### What is Natural Language Processing ?\n",
    "\n",
    "Natural Language Processing (NLP) is a subfield of linguistics, computer science, and artificial intelligence concerned with the interactions between computers and human language, in particular how to program computers to process, understand, and generate human language. NLP is closely related to speech recognition, natural language understanding, and text-to-speech, but it also has other applications, such as improving search engines, analyzing social media posts, and translating languages.\n",
    "\n",
    "#### Importance of NLP in Data Science\n",
    "\n",
    "Data science plays a crucial role in NLP by enabling the analysis and interpretation of large amounts of unstructured data, such as text data. NLP techniques can help organizations extract meaningful insights from text data, improve customer service, and automate tasks such as document classification, sentiment analysis, and named entity recognition. Additionally, NLP can be used to develop applications that can interact with humans, such as chatbots and voice assistants, by understanding and responding to human language.\n",
    "\n",
    "#### Steps in NLP Preprocessing\n",
    "\n",
    "1. **Data Collection**: Gather a large dataset of text data, such as customer reviews, news articles, or social media posts.\n",
    "\n",
    "2. **Data Preprocessing**: Clean the data by removing any irrelevant information, such as HTML tags, special characters, and punctuation. Convert all text to lowercase to ensure consistency.\n",
    "\n",
    "3. **Tokenization**: Split the text into individual tokens, such as words or phrases, using techniques like word segmentation, sentence segmentation, or tokenization algorithms.\n",
    "\n",
    "4. **Stop Word Removal**: Remove common stop words, such as \"the\", \"and\", \"is\", and \"in\", from the text to reduce noise and focus on important information.\n",
    "\n",
    "5. **Stemming and Lemmatization**: Reduce words to their base or root form, such as stemming (e.g., \"running\" to \"run\") or lemmatization (e.g., \"running\" to \"run\"), to improve the accuracy of word representation and reduce the dimensionality of the data.\n",
    "\n",
    "6. **Text Normalization**: Normalize text by converting it to a standard form, such as converting all text to lowercase, removing special characters, and applying text normalization techniques like stemming or lemmatization.\n",
    "\n",
    "7. **Feature Extraction**: Extract relevant features from the text data, such as word embeddings, TF-IDF, or bag-of-words representations, to represent the text in a numeric format that can be used for machine learning algorithms.\n",
    "\n",
    "8. **Model Training**: Train a machine learning model, such as a Naive Bayes classifier, decision tree classifier, or recurrent neural network, using the preprocessed text data and corresponding labels.\n",
    "\n",
    "9. **Model Evaluation**: Evaluate the performance of the trained model using appropriate evaluation metrics, such as accuracy, precision, recall, or F1 score, to measure the effectiveness of the NLP preprocessing techniques in improving the accuracy of text analysis and understanding.\n",
    "\n",
    "By following these steps in NLP preprocessing, organizations can enhance the quality and accuracy of their data, improve customer service, and automate tasks using NLP techniques.\n",
    "\n"
   ]
  },
  {
   "cell_type": "markdown",
   "metadata": {},
   "source": [
    "<h2 align = center> Importing Necessary Libraries </h2>\n"
   ]
  },
  {
   "cell_type": "code",
   "execution_count": 122,
   "metadata": {},
   "outputs": [],
   "source": [
    "import pandas as pd\n",
    "\n",
    "import numpy as np\n",
    "\n",
    "import matplotlib.pyplot as plt\n",
    "\n",
    "import re\n",
    "\n",
    "from nltk.corpus import stopwords\n",
    "from nltk.stem import PorterStemmer\n",
    "from nltk.stem import WordNetLemmatizer\n",
    "from nltk.corpus import wordnet\n",
    "\n",
    "from sklearn.feature_extraction.text import TfidfVectorizer\n",
    "from sklearn.model_selection import train_test_split\n",
    "from sklearn.naive_bayes import MultinomialNB\n",
    "from sklearn.metrics import accuracy_score,classification_report\n"
   ]
  },
  {
   "cell_type": "markdown",
   "metadata": {},
   "source": [
    "<h2 align = center> Importing Dataset </h2>\n"
   ]
  },
  {
   "cell_type": "markdown",
   "metadata": {},
   "source": [
    "### Cyber Bullying Detection Dataset"
   ]
  },
  {
   "cell_type": "code",
   "execution_count": 89,
   "metadata": {},
   "outputs": [],
   "source": [
    "data = pd.read_csv('data.csv')"
   ]
  },
  {
   "cell_type": "markdown",
   "metadata": {},
   "source": [
    "<h2 align = center> Data Exploration </h2>\n"
   ]
  },
  {
   "cell_type": "markdown",
   "metadata": {},
   "source": [
    "#### Data Columns"
   ]
  },
  {
   "cell_type": "code",
   "execution_count": 90,
   "metadata": {},
   "outputs": [
    {
     "data": {
      "text/plain": [
       "Index(['comment', 'label', 'Race', 'Religion', 'Gender', 'Sexual Orientation',\n",
       "       'Miscellaneous'],\n",
       "      dtype='object')"
      ]
     },
     "execution_count": 90,
     "metadata": {},
     "output_type": "execute_result"
    }
   ],
   "source": [
    "data.columns"
   ]
  },
  {
   "cell_type": "markdown",
   "metadata": {},
   "source": [
    "#### Data Columns Datatype"
   ]
  },
  {
   "cell_type": "code",
   "execution_count": 91,
   "metadata": {},
   "outputs": [
    {
     "data": {
      "text/plain": [
       "comment               object\n",
       "label                 object\n",
       "Race                  object\n",
       "Religion              object\n",
       "Gender                object\n",
       "Sexual Orientation    object\n",
       "Miscellaneous         object\n",
       "dtype: object"
      ]
     },
     "execution_count": 91,
     "metadata": {},
     "output_type": "execute_result"
    }
   ],
   "source": [
    "data.dtypes"
   ]
  },
  {
   "cell_type": "markdown",
   "metadata": {},
   "source": [
    "#### First 5 Rows Of Data"
   ]
  },
  {
   "cell_type": "code",
   "execution_count": 92,
   "metadata": {},
   "outputs": [
    {
     "data": {
      "text/html": [
       "<div>\n",
       "<style scoped>\n",
       "    .dataframe tbody tr th:only-of-type {\n",
       "        vertical-align: middle;\n",
       "    }\n",
       "\n",
       "    .dataframe tbody tr th {\n",
       "        vertical-align: top;\n",
       "    }\n",
       "\n",
       "    .dataframe thead th {\n",
       "        text-align: right;\n",
       "    }\n",
       "</style>\n",
       "<table border=\"1\" class=\"dataframe\">\n",
       "  <thead>\n",
       "    <tr style=\"text-align: right;\">\n",
       "      <th></th>\n",
       "      <th>comment</th>\n",
       "      <th>label</th>\n",
       "      <th>Race</th>\n",
       "      <th>Religion</th>\n",
       "      <th>Gender</th>\n",
       "      <th>Sexual Orientation</th>\n",
       "      <th>Miscellaneous</th>\n",
       "    </tr>\n",
       "  </thead>\n",
       "  <tbody>\n",
       "    <tr>\n",
       "      <th>0</th>\n",
       "      <td>0 u0 lmao wow fuck you too 😂 😂</td>\n",
       "      <td>normal</td>\n",
       "      <td>No_race</td>\n",
       "      <td>Nonreligious</td>\n",
       "      <td>No_gender</td>\n",
       "      <td>No_orientation</td>\n",
       "      <td>NaN</td>\n",
       "    </tr>\n",
       "    <tr>\n",
       "      <th>1</th>\n",
       "      <td>1 0 th floor maybe wow cnn with the fakenews t...</td>\n",
       "      <td>offensive</td>\n",
       "      <td>No_race</td>\n",
       "      <td>Nonreligious</td>\n",
       "      <td>No_gender</td>\n",
       "      <td>No_orientation</td>\n",
       "      <td>Other</td>\n",
       "    </tr>\n",
       "    <tr>\n",
       "      <th>2</th>\n",
       "      <td>1 0 yrs &lt;number&gt; white women raped by niggers ...</td>\n",
       "      <td>hatespeech</td>\n",
       "      <td>African</td>\n",
       "      <td>Nonreligious</td>\n",
       "      <td>No_gender</td>\n",
       "      <td>No_orientation</td>\n",
       "      <td>NaN</td>\n",
       "    </tr>\n",
       "    <tr>\n",
       "      <th>3</th>\n",
       "      <td>1 2 h ago ching chong accepted your friend req...</td>\n",
       "      <td>offensive</td>\n",
       "      <td>Asian</td>\n",
       "      <td>Nonreligious</td>\n",
       "      <td>No_gender</td>\n",
       "      <td>No_orientation</td>\n",
       "      <td>NaN</td>\n",
       "    </tr>\n",
       "    <tr>\n",
       "      <th>4</th>\n",
       "      <td>1 8 th century mayhem and lawlessness had noth...</td>\n",
       "      <td>normal</td>\n",
       "      <td>No_race</td>\n",
       "      <td>Nonreligious</td>\n",
       "      <td>No_gender</td>\n",
       "      <td>No_orientation</td>\n",
       "      <td>NaN</td>\n",
       "    </tr>\n",
       "  </tbody>\n",
       "</table>\n",
       "</div>"
      ],
      "text/plain": [
       "                                             comment       label     Race  \\\n",
       "0                     0 u0 lmao wow fuck you too 😂 😂      normal  No_race   \n",
       "1  1 0 th floor maybe wow cnn with the fakenews t...   offensive  No_race   \n",
       "2  1 0 yrs <number> white women raped by niggers ...  hatespeech  African   \n",
       "3  1 2 h ago ching chong accepted your friend req...   offensive    Asian   \n",
       "4  1 8 th century mayhem and lawlessness had noth...      normal  No_race   \n",
       "\n",
       "       Religion     Gender Sexual Orientation Miscellaneous  \n",
       "0  Nonreligious  No_gender     No_orientation           NaN  \n",
       "1  Nonreligious  No_gender     No_orientation         Other  \n",
       "2  Nonreligious  No_gender     No_orientation           NaN  \n",
       "3  Nonreligious  No_gender     No_orientation           NaN  \n",
       "4  Nonreligious  No_gender     No_orientation           NaN  "
      ]
     },
     "execution_count": 92,
     "metadata": {},
     "output_type": "execute_result"
    }
   ],
   "source": [
    "data.head()"
   ]
  },
  {
   "cell_type": "markdown",
   "metadata": {},
   "source": [
    "#### Categories in 'label'"
   ]
  },
  {
   "cell_type": "code",
   "execution_count": 93,
   "metadata": {},
   "outputs": [
    {
     "data": {
      "text/plain": [
       "label\n",
       "normal        7818\n",
       "hatespeech    6484\n",
       "offensive     5807\n",
       "Name: count, dtype: int64"
      ]
     },
     "execution_count": 93,
     "metadata": {},
     "output_type": "execute_result"
    }
   ],
   "source": [
    "data['label'].value_counts()"
   ]
  },
  {
   "cell_type": "markdown",
   "metadata": {},
   "source": [
    "\n",
    "#### Categories in 'Race'"
   ]
  },
  {
   "cell_type": "code",
   "execution_count": 94,
   "metadata": {},
   "outputs": [
    {
     "data": {
      "text/plain": [
       "Race\n",
       "No_race       13579\n",
       "African        3769\n",
       "Arab           1172\n",
       "Caucasian       802\n",
       "Asian           400\n",
       "Hispanic        313\n",
       "Indigenous       42\n",
       "Indian           32\n",
       "Name: count, dtype: int64"
      ]
     },
     "execution_count": 94,
     "metadata": {},
     "output_type": "execute_result"
    }
   ],
   "source": [
    "data['Race'].value_counts()"
   ]
  },
  {
   "cell_type": "markdown",
   "metadata": {},
   "source": [
    "#### Categories in 'Religion'"
   ]
  },
  {
   "cell_type": "code",
   "execution_count": 95,
   "metadata": {},
   "outputs": [
    {
     "data": {
      "text/plain": [
       "Religion\n",
       "Nonreligious    15387\n",
       "Islam            2559\n",
       "Jewish           1950\n",
       "Christian         163\n",
       "Hindu              42\n",
       "Buddhism            8\n",
       "Name: count, dtype: int64"
      ]
     },
     "execution_count": 95,
     "metadata": {},
     "output_type": "execute_result"
    }
   ],
   "source": [
    "\n",
    "\n",
    "data['Religion'].value_counts()"
   ]
  },
  {
   "cell_type": "markdown",
   "metadata": {},
   "source": [
    "#### Categories in 'Gender'\n"
   ]
  },
  {
   "cell_type": "code",
   "execution_count": 96,
   "metadata": {},
   "outputs": [
    {
     "data": {
      "text/plain": [
       "Gender\n",
       "No_gender    16380\n",
       "Women         2262\n",
       "Men           1467\n",
       "Name: count, dtype: int64"
      ]
     },
     "execution_count": 96,
     "metadata": {},
     "output_type": "execute_result"
    }
   ],
   "source": [
    "\n",
    "data['Gender'].value_counts()\n"
   ]
  },
  {
   "cell_type": "markdown",
   "metadata": {},
   "source": [
    "#### Categories in 'Sexual Orientation'"
   ]
  },
  {
   "cell_type": "code",
   "execution_count": 97,
   "metadata": {},
   "outputs": [
    {
     "data": {
      "text/plain": [
       "Sexual Orientation\n",
       "No_orientation    17827\n",
       "Homosexual         2163\n",
       "Heterosexual        113\n",
       "Asexual               4\n",
       "Bisexual              2\n",
       "Name: count, dtype: int64"
      ]
     },
     "execution_count": 97,
     "metadata": {},
     "output_type": "execute_result"
    }
   ],
   "source": [
    "\n",
    "data['Sexual Orientation'].value_counts()"
   ]
  },
  {
   "cell_type": "markdown",
   "metadata": {},
   "source": [
    "\n",
    "#### Categories in 'Miscellaneous'"
   ]
  },
  {
   "cell_type": "code",
   "execution_count": 98,
   "metadata": {},
   "outputs": [
    {
     "data": {
      "text/plain": [
       "Miscellaneous\n",
       "Other         2017\n",
       "Refugee       1274\n",
       "Minority       107\n",
       "Disability      96\n",
       "Economic        39\n",
       "Name: count, dtype: int64"
      ]
     },
     "execution_count": 98,
     "metadata": {},
     "output_type": "execute_result"
    }
   ],
   "source": [
    "\n",
    "data['Miscellaneous'].value_counts()"
   ]
  },
  {
   "cell_type": "markdown",
   "metadata": {},
   "source": [
    "<h2 align = center> Exploratory Data Analysis </h2>"
   ]
  },
  {
   "cell_type": "markdown",
   "metadata": {},
   "source": [
    "#### Hate Speech With Respect To Religion"
   ]
  },
  {
   "cell_type": "code",
   "execution_count": 99,
   "metadata": {},
   "outputs": [
    {
     "data": {
      "text/plain": [
       "Religion\n",
       "Nonreligious    3501\n",
       "Islam           1497\n",
       "Jewish          1406\n",
       "Christian         59\n",
       "Hindu             18\n",
       "Buddhism           3\n",
       "Name: count, dtype: int64"
      ]
     },
     "execution_count": 99,
     "metadata": {},
     "output_type": "execute_result"
    }
   ],
   "source": [
    "\n",
    "religion_hate_speech = data[data['label'] == 'hatespeech']['Religion'].value_counts()\n",
    "religion_hate_speech\n",
    "\n"
   ]
  },
  {
   "cell_type": "markdown",
   "metadata": {},
   "source": [
    "#### Bar Plot"
   ]
  },
  {
   "cell_type": "code",
   "execution_count": 100,
   "metadata": {},
   "outputs": [
    {
     "data": {
      "text/plain": [
       "Text(0.5, 1.0, 'Hate Speech With Respect To Religion')"
      ]
     },
     "execution_count": 100,
     "metadata": {},
     "output_type": "execute_result"
    },
    {
     "data": {
      "image/png": "[encoded data removed]",
      "text/plain": [
       "<Figure size 640x480 with 1 Axes>"
      ]
     },
     "metadata": {},
     "output_type": "display_data"
    }
   ],
   "source": [
    "\n",
    "\n",
    "\n",
    "religion_hate_speech.plot(kind='bar',color=['r','g','b','pink','y'])\n",
    "\n",
    "plt.title('Hate Speech With Respect To Religion')"
   ]
  },
  {
   "cell_type": "markdown",
   "metadata": {},
   "source": [
    "#### Bullying With Respect To Gender"
   ]
  },
  {
   "cell_type": "code",
   "execution_count": 101,
   "metadata": {},
   "outputs": [
    {
     "data": {
      "text/plain": [
       "Gender\n",
       "No_gender    4131\n",
       "Women        1158\n",
       "Men           518\n",
       "Name: count, dtype: int64"
      ]
     },
     "execution_count": 101,
     "metadata": {},
     "output_type": "execute_result"
    }
   ],
   "source": [
    "\n",
    "gender_bullying = data[data['label'] == 'offensive']['Gender'].value_counts()\n",
    "gender_bullying\n",
    "\n"
   ]
  },
  {
   "cell_type": "markdown",
   "metadata": {},
   "source": [
    "\n",
    "#### Bar Plot\n",
    "\n"
   ]
  },
  {
   "cell_type": "code",
   "execution_count": 102,
   "metadata": {},
   "outputs": [
    {
     "data": {
      "image/png": "[encoded data removed]",
      "text/plain": [
       "<Figure size 640x480 with 1 Axes>"
      ]
     },
     "metadata": {},
     "output_type": "display_data"
    }
   ],
   "source": [
    "\n",
    "gender_bullying.plot(kind='bar')\n",
    "\n",
    "plt.title('Bullying With Respect To Gender')\n",
    "\n",
    "plt.show()"
   ]
  },
  {
   "cell_type": "markdown",
   "metadata": {},
   "source": [
    "\n",
    "\n",
    "<h2 align = center> Text Preprocessing </h2>"
   ]
  },
  {
   "cell_type": "markdown",
   "metadata": {},
   "source": [
    "### Converting To lowercase"
   ]
  },
  {
   "cell_type": "markdown",
   "metadata": {},
   "source": [
    "#### Why we convert to lowercase ?\n",
    "\n",
    "This is because machine learning algorithms often perform better when the input data is in a standard format. Lowercase letters generally have a lower numerical value than uppercase letters, which can make it easier for algorithms to understand the context of the text. Additionally, some algorithms may be case-sensitive, so converting all text to lowercase can help ensure that the preprocessing steps are consistent across different algorithms.\n"
   ]
  },
  {
   "cell_type": "code",
   "execution_count": 103,
   "metadata": {},
   "outputs": [
    {
     "data": {
      "text/html": [
       "<div>\n",
       "<style scoped>\n",
       "    .dataframe tbody tr th:only-of-type {\n",
       "        vertical-align: middle;\n",
       "    }\n",
       "\n",
       "    .dataframe tbody tr th {\n",
       "        vertical-align: top;\n",
       "    }\n",
       "\n",
       "    .dataframe thead th {\n",
       "        text-align: right;\n",
       "    }\n",
       "</style>\n",
       "<table border=\"1\" class=\"dataframe\">\n",
       "  <thead>\n",
       "    <tr style=\"text-align: right;\">\n",
       "      <th></th>\n",
       "      <th>comment</th>\n",
       "      <th>label</th>\n",
       "      <th>Race</th>\n",
       "      <th>Religion</th>\n",
       "      <th>Gender</th>\n",
       "      <th>Sexual Orientation</th>\n",
       "      <th>Miscellaneous</th>\n",
       "    </tr>\n",
       "  </thead>\n",
       "  <tbody>\n",
       "    <tr>\n",
       "      <th>0</th>\n",
       "      <td>0 u0 lmao wow fuck you too 😂 😂</td>\n",
       "      <td>normal</td>\n",
       "      <td>no_race</td>\n",
       "      <td>nonreligious</td>\n",
       "      <td>no_gender</td>\n",
       "      <td>no_orientation</td>\n",
       "      <td>NaN</td>\n",
       "    </tr>\n",
       "    <tr>\n",
       "      <th>1</th>\n",
       "      <td>1 0 th floor maybe wow cnn with the fakenews t...</td>\n",
       "      <td>offensive</td>\n",
       "      <td>no_race</td>\n",
       "      <td>nonreligious</td>\n",
       "      <td>no_gender</td>\n",
       "      <td>no_orientation</td>\n",
       "      <td>other</td>\n",
       "    </tr>\n",
       "    <tr>\n",
       "      <th>2</th>\n",
       "      <td>1 0 yrs &lt;number&gt; white women raped by niggers ...</td>\n",
       "      <td>hatespeech</td>\n",
       "      <td>african</td>\n",
       "      <td>nonreligious</td>\n",
       "      <td>no_gender</td>\n",
       "      <td>no_orientation</td>\n",
       "      <td>NaN</td>\n",
       "    </tr>\n",
       "    <tr>\n",
       "      <th>3</th>\n",
       "      <td>1 2 h ago ching chong accepted your friend req...</td>\n",
       "      <td>offensive</td>\n",
       "      <td>asian</td>\n",
       "      <td>nonreligious</td>\n",
       "      <td>no_gender</td>\n",
       "      <td>no_orientation</td>\n",
       "      <td>NaN</td>\n",
       "    </tr>\n",
       "    <tr>\n",
       "      <th>4</th>\n",
       "      <td>1 8 th century mayhem and lawlessness had noth...</td>\n",
       "      <td>normal</td>\n",
       "      <td>no_race</td>\n",
       "      <td>nonreligious</td>\n",
       "      <td>no_gender</td>\n",
       "      <td>no_orientation</td>\n",
       "      <td>NaN</td>\n",
       "    </tr>\n",
       "  </tbody>\n",
       "</table>\n",
       "</div>"
      ],
      "text/plain": [
       "                                             comment       label     Race  \\\n",
       "0                     0 u0 lmao wow fuck you too 😂 😂      normal  no_race   \n",
       "1  1 0 th floor maybe wow cnn with the fakenews t...   offensive  no_race   \n",
       "2  1 0 yrs <number> white women raped by niggers ...  hatespeech  african   \n",
       "3  1 2 h ago ching chong accepted your friend req...   offensive    asian   \n",
       "4  1 8 th century mayhem and lawlessness had noth...      normal  no_race   \n",
       "\n",
       "       Religion     Gender Sexual Orientation Miscellaneous  \n",
       "0  nonreligious  no_gender     no_orientation           NaN  \n",
       "1  nonreligious  no_gender     no_orientation         other  \n",
       "2  nonreligious  no_gender     no_orientation           NaN  \n",
       "3  nonreligious  no_gender     no_orientation           NaN  \n",
       "4  nonreligious  no_gender     no_orientation           NaN  "
      ]
     },
     "execution_count": 103,
     "metadata": {},
     "output_type": "execute_result"
    }
   ],
   "source": [
    "data = data.map(lambda x:x.lower() if isinstance(x,str) else x)\n",
    "data.head()"
   ]
  },
  {
   "cell_type": "markdown",
   "metadata": {},
   "source": [
    "### Removing URLs"
   ]
  },
  {
   "cell_type": "markdown",
   "metadata": {},
   "source": [
    "#### Why we remove URLs ?\n",
    "\n",
    "URLs can sometimes contain sensitive information or cause confusion in text analysis. Removing URLs can help reduce the noise and focus on the content of the text.\n"
   ]
  },
  {
   "cell_type": "code",
   "execution_count": 104,
   "metadata": {},
   "outputs": [],
   "source": [
    "\n",
    "\n",
    "url_regex = re.compile(r'https?://\\S+')\n",
    "\n",
    "def removeUrl (text):\n",
    "    return url_regex.sub('', text)\n",
    "\n",
    "data['comment'] = data['comment'].apply(removeUrl)"
   ]
  },
  {
   "cell_type": "markdown",
   "metadata": {},
   "source": [
    "### Removing non-word and non-whitespace characters"
   ]
  },
  {
   "cell_type": "markdown",
   "metadata": {},
   "source": [
    "#### Why we remove non-whitespace character ?\n",
    "\n",
    " Removing non-word and non-whitespace characters can help reduce the noise and focus on the content of the text.\n"
   ]
  },
  {
   "cell_type": "code",
   "execution_count": 105,
   "metadata": {},
   "outputs": [],
   "source": [
    "data = data.replace(to_replace=r'[^\\w\\s]' , value='',regex = True)"
   ]
  },
  {
   "cell_type": "markdown",
   "metadata": {},
   "source": [
    "[^...]: The ^ inside the brackets means \"not.\" So, this will match any character that is not included inside the brackets.\n",
    "\n",
    "\\w: Matches any word character (letters, digits, and underscores).\n",
    "\n",
    "\\s: Matches any whitespace character (spaces, tabs, line breaks)."
   ]
  },
  {
   "cell_type": "markdown",
   "metadata": {},
   "source": [
    "### Removing Digits "
   ]
  },
  {
   "cell_type": "markdown",
   "metadata": {},
   "source": [
    "#### Why we remove Digits ?\n",
    "\n",
    "Digits can sometimes contain sensitive information or cause confusion in text analysis. Removing digits can help reduce the noise and focus on the content of the text.\n"
   ]
  },
  {
   "cell_type": "code",
   "execution_count": 106,
   "metadata": {},
   "outputs": [],
   "source": [
    "data = data.replace(to_replace=r'\\d',value = \"\", regex=True)"
   ]
  },
  {
   "cell_type": "markdown",
   "metadata": {},
   "source": [
    "## Tokenization"
   ]
  },
  {
   "cell_type": "markdown",
   "metadata": {},
   "source": [
    "#### What is Tokenization ?\n",
    "\n",
    "Tokenization is the process of breaking down a text into individual tokens, such as words or phrases, based on the defined boundaries. This helps in preserving the original structure of the text and enabling further analysis and preprocessing steps.\n"
   ]
  },
  {
   "cell_type": "code",
   "execution_count": 107,
   "metadata": {},
   "outputs": [],
   "source": [
    "#### NLTK Tokenizer not working for some reason so iam using simple python tokenizer\n",
    "data['comment'] = data['comment'].apply(lambda x: x.split())\n"
   ]
  },
  {
   "cell_type": "markdown",
   "metadata": {},
   "source": [
    "## Stop Word Removal"
   ]
  },
  {
   "cell_type": "markdown",
   "metadata": {},
   "source": [
    "#### Why we romove Stop Word ?\n",
    "\n",
    "Stop words are common words that do not carry much meaning in the context of a text. Removing stop words can help reduce the dimensionality of the text data and improve the accuracy of word representation.\n"
   ]
  },
  {
   "cell_type": "code",
   "execution_count": 108,
   "metadata": {},
   "outputs": [
    {
     "name": "stderr",
     "output_type": "stream",
     "text": [
      "[nltk_data] Downloading package stopwords to C:\\Users\\Syed\n",
      "[nltk_data]     Abdullah\\AppData\\Roaming\\nltk_data...\n",
      "[nltk_data]   Package stopwords is already up-to-date!\n"
     ]
    }
   ],
   "source": [
    "\n",
    "\n",
    "\n",
    "nltk.download('stopwords')\n",
    "\n",
    "stop_words = set(stopwords.words('english'))\n",
    "\n",
    "data['comment'] = data['comment'].apply(lambda x : [word for word in x if word not in stop_words])\n"
   ]
  },
  {
   "cell_type": "markdown",
   "metadata": {},
   "source": [
    "### Stemming / Lemmatization"
   ]
  },
  {
   "cell_type": "markdown",
   "metadata": {},
   "source": [
    "### Stemmer"
   ]
  },
  {
   "cell_type": "code",
   "execution_count": 109,
   "metadata": {},
   "outputs": [],
   "source": [
    "\n",
    "\n",
    "stemmer = PorterStemmer()\n",
    "\n",
    "def stem_words(words):\n",
    "    return [stemmer.stem(word) for word in words]\n",
    "\n",
    "data['stemmed_comment'] = data[\"comment\"].apply(stem_words)"
   ]
  },
  {
   "cell_type": "code",
   "execution_count": 110,
   "metadata": {},
   "outputs": [
    {
     "data": {
      "text/html": [
       "<div>\n",
       "<style scoped>\n",
       "    .dataframe tbody tr th:only-of-type {\n",
       "        vertical-align: middle;\n",
       "    }\n",
       "\n",
       "    .dataframe tbody tr th {\n",
       "        vertical-align: top;\n",
       "    }\n",
       "\n",
       "    .dataframe thead th {\n",
       "        text-align: right;\n",
       "    }\n",
       "</style>\n",
       "<table border=\"1\" class=\"dataframe\">\n",
       "  <thead>\n",
       "    <tr style=\"text-align: right;\">\n",
       "      <th></th>\n",
       "      <th>comment</th>\n",
       "      <th>label</th>\n",
       "      <th>Race</th>\n",
       "      <th>Religion</th>\n",
       "      <th>Gender</th>\n",
       "      <th>Sexual Orientation</th>\n",
       "      <th>Miscellaneous</th>\n",
       "      <th>stemmed_comment</th>\n",
       "    </tr>\n",
       "  </thead>\n",
       "  <tbody>\n",
       "    <tr>\n",
       "      <th>0</th>\n",
       "      <td>[u, lmao, wow, fuck]</td>\n",
       "      <td>normal</td>\n",
       "      <td>no_race</td>\n",
       "      <td>nonreligious</td>\n",
       "      <td>no_gender</td>\n",
       "      <td>no_orientation</td>\n",
       "      <td>NaN</td>\n",
       "      <td>[u, lmao, wow, fuck]</td>\n",
       "    </tr>\n",
       "    <tr>\n",
       "      <th>1</th>\n",
       "      <td>[th, floor, maybe, wow, cnn, fakenews, body, c...</td>\n",
       "      <td>offensive</td>\n",
       "      <td>no_race</td>\n",
       "      <td>nonreligious</td>\n",
       "      <td>no_gender</td>\n",
       "      <td>no_orientation</td>\n",
       "      <td>other</td>\n",
       "      <td>[th, floor, mayb, wow, cnn, fakenew, bodi, cou...</td>\n",
       "    </tr>\n",
       "    <tr>\n",
       "      <th>2</th>\n",
       "      <td>[yrs, number, white, women, raped, niggers, nu...</td>\n",
       "      <td>hatespeech</td>\n",
       "      <td>african</td>\n",
       "      <td>nonreligious</td>\n",
       "      <td>no_gender</td>\n",
       "      <td>no_orientation</td>\n",
       "      <td>NaN</td>\n",
       "      <td>[yr, number, white, women, rape, nigger, numbe...</td>\n",
       "    </tr>\n",
       "    <tr>\n",
       "      <th>3</th>\n",
       "      <td>[h, ago, ching, chong, accepted, friend, request]</td>\n",
       "      <td>offensive</td>\n",
       "      <td>asian</td>\n",
       "      <td>nonreligious</td>\n",
       "      <td>no_gender</td>\n",
       "      <td>no_orientation</td>\n",
       "      <td>NaN</td>\n",
       "      <td>[h, ago, ching, chong, accept, friend, request]</td>\n",
       "    </tr>\n",
       "    <tr>\n",
       "      <th>4</th>\n",
       "      <td>[th, century, mayhem, lawlessness, nothing, lo...</td>\n",
       "      <td>normal</td>\n",
       "      <td>no_race</td>\n",
       "      <td>nonreligious</td>\n",
       "      <td>no_gender</td>\n",
       "      <td>no_orientation</td>\n",
       "      <td>NaN</td>\n",
       "      <td>[th, centuri, mayhem, lawless, noth, loud, mou...</td>\n",
       "    </tr>\n",
       "    <tr>\n",
       "      <th>...</th>\n",
       "      <td>...</td>\n",
       "      <td>...</td>\n",
       "      <td>...</td>\n",
       "      <td>...</td>\n",
       "      <td>...</td>\n",
       "      <td>...</td>\n",
       "      <td>...</td>\n",
       "      <td>...</td>\n",
       "    </tr>\n",
       "    <tr>\n",
       "      <th>20104</th>\n",
       "      <td>[mad, caucasians, failing, forget, blacks, sel...</td>\n",
       "      <td>offensive</td>\n",
       "      <td>african</td>\n",
       "      <td>nonreligious</td>\n",
       "      <td>no_gender</td>\n",
       "      <td>no_orientation</td>\n",
       "      <td>NaN</td>\n",
       "      <td>[mad, caucasian, fail, forget, black, sell, us]</td>\n",
       "    </tr>\n",
       "    <tr>\n",
       "      <th>20105</th>\n",
       "      <td>[mmm, yes, trebuchet, memes, much, nicer, cata...</td>\n",
       "      <td>hatespeech</td>\n",
       "      <td>arab</td>\n",
       "      <td>islam</td>\n",
       "      <td>no_gender</td>\n",
       "      <td>no_orientation</td>\n",
       "      <td>NaN</td>\n",
       "      <td>[mmm, ye, trebuchet, meme, much, nicer, catapu...</td>\n",
       "    </tr>\n",
       "    <tr>\n",
       "      <th>20106</th>\n",
       "      <td>[ghetto, ready, get, tf]</td>\n",
       "      <td>offensive</td>\n",
       "      <td>no_race</td>\n",
       "      <td>nonreligious</td>\n",
       "      <td>no_gender</td>\n",
       "      <td>no_orientation</td>\n",
       "      <td>other</td>\n",
       "      <td>[ghetto, readi, get, tf]</td>\n",
       "    </tr>\n",
       "    <tr>\n",
       "      <th>20107</th>\n",
       "      <td>[spelled, name, wrong, name, literally, front,...</td>\n",
       "      <td>hatespeech</td>\n",
       "      <td>arab</td>\n",
       "      <td>nonreligious</td>\n",
       "      <td>no_gender</td>\n",
       "      <td>no_orientation</td>\n",
       "      <td>NaN</td>\n",
       "      <td>[spell, name, wrong, name, liter, front, face,...</td>\n",
       "    </tr>\n",
       "    <tr>\n",
       "      <th>20108</th>\n",
       "      <td>[hm, six, million, yep, disarmed, ceppin, ones...</td>\n",
       "      <td>hatespeech</td>\n",
       "      <td>no_race</td>\n",
       "      <td>jewish</td>\n",
       "      <td>no_gender</td>\n",
       "      <td>no_orientation</td>\n",
       "      <td>NaN</td>\n",
       "      <td>[hm, six, million, yep, disarm, ceppin, one, w...</td>\n",
       "    </tr>\n",
       "  </tbody>\n",
       "</table>\n",
       "<p>20109 rows × 8 columns</p>\n",
       "</div>"
      ],
      "text/plain": [
       "                                                 comment       label     Race  \\\n",
       "0                                   [u, lmao, wow, fuck]      normal  no_race   \n",
       "1      [th, floor, maybe, wow, cnn, fakenews, body, c...   offensive  no_race   \n",
       "2      [yrs, number, white, women, raped, niggers, nu...  hatespeech  african   \n",
       "3      [h, ago, ching, chong, accepted, friend, request]   offensive    asian   \n",
       "4      [th, century, mayhem, lawlessness, nothing, lo...      normal  no_race   \n",
       "...                                                  ...         ...      ...   \n",
       "20104  [mad, caucasians, failing, forget, blacks, sel...   offensive  african   \n",
       "20105  [mmm, yes, trebuchet, memes, much, nicer, cata...  hatespeech     arab   \n",
       "20106                           [ghetto, ready, get, tf]   offensive  no_race   \n",
       "20107  [spelled, name, wrong, name, literally, front,...  hatespeech     arab   \n",
       "20108  [hm, six, million, yep, disarmed, ceppin, ones...  hatespeech  no_race   \n",
       "\n",
       "           Religion     Gender Sexual Orientation Miscellaneous  \\\n",
       "0      nonreligious  no_gender     no_orientation           NaN   \n",
       "1      nonreligious  no_gender     no_orientation         other   \n",
       "2      nonreligious  no_gender     no_orientation           NaN   \n",
       "3      nonreligious  no_gender     no_orientation           NaN   \n",
       "4      nonreligious  no_gender     no_orientation           NaN   \n",
       "...             ...        ...                ...           ...   \n",
       "20104  nonreligious  no_gender     no_orientation           NaN   \n",
       "20105         islam  no_gender     no_orientation           NaN   \n",
       "20106  nonreligious  no_gender     no_orientation         other   \n",
       "20107  nonreligious  no_gender     no_orientation           NaN   \n",
       "20108        jewish  no_gender     no_orientation           NaN   \n",
       "\n",
       "                                         stemmed_comment  \n",
       "0                                   [u, lmao, wow, fuck]  \n",
       "1      [th, floor, mayb, wow, cnn, fakenew, bodi, cou...  \n",
       "2      [yr, number, white, women, rape, nigger, numbe...  \n",
       "3        [h, ago, ching, chong, accept, friend, request]  \n",
       "4      [th, centuri, mayhem, lawless, noth, loud, mou...  \n",
       "...                                                  ...  \n",
       "20104    [mad, caucasian, fail, forget, black, sell, us]  \n",
       "20105  [mmm, ye, trebuchet, meme, much, nicer, catapu...  \n",
       "20106                           [ghetto, readi, get, tf]  \n",
       "20107  [spell, name, wrong, name, liter, front, face,...  \n",
       "20108  [hm, six, million, yep, disarm, ceppin, one, w...  \n",
       "\n",
       "[20109 rows x 8 columns]"
      ]
     },
     "execution_count": 110,
     "metadata": {},
     "output_type": "execute_result"
    }
   ],
   "source": [
    "data"
   ]
  },
  {
   "cell_type": "markdown",
   "metadata": {},
   "source": [
    "### Lemmatization"
   ]
  },
  {
   "cell_type": "markdown",
   "metadata": {},
   "source": [
    "#### What is Lemmatization ?\n",
    "\n",
    "Lemmatization is similar to stemming, but it aims to reduce words to their base or root form, which can help in preserving the meaning of the text while reducing the dimensionality.\n"
   ]
  },
  {
   "cell_type": "code",
   "execution_count": null,
   "metadata": {},
   "outputs": [],
   "source": [
    "\n",
    "\n",
    "\n",
    "lemmatizer = WordNetLemmatizer()\n",
    "\n",
    "def lemmatize_words(words):\n",
    "    def get_wordnet_pos(word):\n",
    "        tag = nltk.pos_tag([word])[0][1][0].upper()\n",
    "        tag_dict = {\"J\": wordnet.ADJ,\n",
    "                    \"N\": wordnet.NOUN,\n",
    "                    \"V\": wordnet.VERB,\n",
    "                    \"R\": wordnet.ADV}\n",
    "        return tag_dict.get(tag,wordnet.NOUN)\n",
    "\n",
    "    lemmas = [lemmatizer.lemmatize(words,get_wordnet_pos(words)) for word in words]\n",
    "\n",
    "    return lemmas\n",
    "\n",
    "data['lemmatized_message'] = data[\"comment\"].apply(lemmatize_words)\n",
    "\n",
    "\n"
   ]
  },
  {
   "cell_type": "markdown",
   "metadata": {},
   "source": [
    "## Model Training"
   ]
  },
  {
   "cell_type": "markdown",
   "metadata": {},
   "source": [
    "#### Now i want to predict label using the comment , for this i am just taking 2 columns label and stemmed_comment"
   ]
  },
  {
   "cell_type": "markdown",
   "metadata": {},
   "source": [
    "### Converting Text Data Into Numeric Format"
   ]
  },
  {
   "cell_type": "code",
   "execution_count": 115,
   "metadata": {},
   "outputs": [],
   "source": [
    "\n",
    "vectorizer = TfidfVectorizer()"
   ]
  },
  {
   "cell_type": "markdown",
   "metadata": {},
   "source": [
    "#### What is TfidfVectorizer ?\n",
    "\n",
    "A tf-idf score is a decimal number that measures the importance of a word in any document. It Convert a collection of raw documents to a matrix of TF-IDF features. Equivalent to CountVectorizer followed by TfidfTransformer .\n",
    "\n",
    "\n"
   ]
  },
  {
   "cell_type": "markdown",
   "metadata": {},
   "source": [
    "#### Converting stemmed_comment array into String"
   ]
  },
  {
   "cell_type": "markdown",
   "metadata": {},
   "source": [
    "Since TF-IDF need string as input , so we need to convert array of string into single string"
   ]
  },
  {
   "cell_type": "code",
   "execution_count": 117,
   "metadata": {},
   "outputs": [
    {
     "data": {
      "text/html": [
       "<div>\n",
       "<style scoped>\n",
       "    .dataframe tbody tr th:only-of-type {\n",
       "        vertical-align: middle;\n",
       "    }\n",
       "\n",
       "    .dataframe tbody tr th {\n",
       "        vertical-align: top;\n",
       "    }\n",
       "\n",
       "    .dataframe thead th {\n",
       "        text-align: right;\n",
       "    }\n",
       "</style>\n",
       "<table border=\"1\" class=\"dataframe\">\n",
       "  <thead>\n",
       "    <tr style=\"text-align: right;\">\n",
       "      <th></th>\n",
       "      <th>comment</th>\n",
       "      <th>label</th>\n",
       "      <th>Race</th>\n",
       "      <th>Religion</th>\n",
       "      <th>Gender</th>\n",
       "      <th>Sexual Orientation</th>\n",
       "      <th>Miscellaneous</th>\n",
       "      <th>stemmed_comment</th>\n",
       "      <th>processed_comment</th>\n",
       "    </tr>\n",
       "  </thead>\n",
       "  <tbody>\n",
       "    <tr>\n",
       "      <th>0</th>\n",
       "      <td>[u, lmao, wow, fuck]</td>\n",
       "      <td>normal</td>\n",
       "      <td>no_race</td>\n",
       "      <td>nonreligious</td>\n",
       "      <td>no_gender</td>\n",
       "      <td>no_orientation</td>\n",
       "      <td>NaN</td>\n",
       "      <td>[u, lmao, wow, fuck]</td>\n",
       "      <td>u lmao wow fuck</td>\n",
       "    </tr>\n",
       "    <tr>\n",
       "      <th>1</th>\n",
       "      <td>[th, floor, maybe, wow, cnn, fakenews, body, c...</td>\n",
       "      <td>offensive</td>\n",
       "      <td>no_race</td>\n",
       "      <td>nonreligious</td>\n",
       "      <td>no_gender</td>\n",
       "      <td>no_orientation</td>\n",
       "      <td>other</td>\n",
       "      <td>[th, floor, mayb, wow, cnn, fakenew, bodi, cou...</td>\n",
       "      <td>th floor mayb wow cnn fakenew bodi count go wa...</td>\n",
       "    </tr>\n",
       "    <tr>\n",
       "      <th>2</th>\n",
       "      <td>[yrs, number, white, women, raped, niggers, nu...</td>\n",
       "      <td>hatespeech</td>\n",
       "      <td>african</td>\n",
       "      <td>nonreligious</td>\n",
       "      <td>no_gender</td>\n",
       "      <td>no_orientation</td>\n",
       "      <td>NaN</td>\n",
       "      <td>[yr, number, white, women, rape, nigger, numbe...</td>\n",
       "      <td>yr number white women rape nigger number negre...</td>\n",
       "    </tr>\n",
       "    <tr>\n",
       "      <th>3</th>\n",
       "      <td>[h, ago, ching, chong, accepted, friend, request]</td>\n",
       "      <td>offensive</td>\n",
       "      <td>asian</td>\n",
       "      <td>nonreligious</td>\n",
       "      <td>no_gender</td>\n",
       "      <td>no_orientation</td>\n",
       "      <td>NaN</td>\n",
       "      <td>[h, ago, ching, chong, accept, friend, request]</td>\n",
       "      <td>h ago ching chong accept friend request</td>\n",
       "    </tr>\n",
       "    <tr>\n",
       "      <th>4</th>\n",
       "      <td>[th, century, mayhem, lawlessness, nothing, lo...</td>\n",
       "      <td>normal</td>\n",
       "      <td>no_race</td>\n",
       "      <td>nonreligious</td>\n",
       "      <td>no_gender</td>\n",
       "      <td>no_orientation</td>\n",
       "      <td>NaN</td>\n",
       "      <td>[th, centuri, mayhem, lawless, noth, loud, mou...</td>\n",
       "      <td>th centuri mayhem lawless noth loud mouth dona...</td>\n",
       "    </tr>\n",
       "    <tr>\n",
       "      <th>...</th>\n",
       "      <td>...</td>\n",
       "      <td>...</td>\n",
       "      <td>...</td>\n",
       "      <td>...</td>\n",
       "      <td>...</td>\n",
       "      <td>...</td>\n",
       "      <td>...</td>\n",
       "      <td>...</td>\n",
       "      <td>...</td>\n",
       "    </tr>\n",
       "    <tr>\n",
       "      <th>20104</th>\n",
       "      <td>[mad, caucasians, failing, forget, blacks, sel...</td>\n",
       "      <td>offensive</td>\n",
       "      <td>african</td>\n",
       "      <td>nonreligious</td>\n",
       "      <td>no_gender</td>\n",
       "      <td>no_orientation</td>\n",
       "      <td>NaN</td>\n",
       "      <td>[mad, caucasian, fail, forget, black, sell, us]</td>\n",
       "      <td>mad caucasian fail forget black sell us</td>\n",
       "    </tr>\n",
       "    <tr>\n",
       "      <th>20105</th>\n",
       "      <td>[mmm, yes, trebuchet, memes, much, nicer, cata...</td>\n",
       "      <td>hatespeech</td>\n",
       "      <td>arab</td>\n",
       "      <td>islam</td>\n",
       "      <td>no_gender</td>\n",
       "      <td>no_orientation</td>\n",
       "      <td>NaN</td>\n",
       "      <td>[mmm, ye, trebuchet, meme, much, nicer, catapu...</td>\n",
       "      <td>mmm ye trebuchet meme much nicer catapult meme...</td>\n",
       "    </tr>\n",
       "    <tr>\n",
       "      <th>20106</th>\n",
       "      <td>[ghetto, ready, get, tf]</td>\n",
       "      <td>offensive</td>\n",
       "      <td>no_race</td>\n",
       "      <td>nonreligious</td>\n",
       "      <td>no_gender</td>\n",
       "      <td>no_orientation</td>\n",
       "      <td>other</td>\n",
       "      <td>[ghetto, readi, get, tf]</td>\n",
       "      <td>ghetto readi get tf</td>\n",
       "    </tr>\n",
       "    <tr>\n",
       "      <th>20107</th>\n",
       "      <td>[spelled, name, wrong, name, literally, front,...</td>\n",
       "      <td>hatespeech</td>\n",
       "      <td>arab</td>\n",
       "      <td>nonreligious</td>\n",
       "      <td>no_gender</td>\n",
       "      <td>no_orientation</td>\n",
       "      <td>NaN</td>\n",
       "      <td>[spell, name, wrong, name, liter, front, face,...</td>\n",
       "      <td>spell name wrong name liter front face nation ...</td>\n",
       "    </tr>\n",
       "    <tr>\n",
       "      <th>20108</th>\n",
       "      <td>[hm, six, million, yep, disarmed, ceppin, ones...</td>\n",
       "      <td>hatespeech</td>\n",
       "      <td>no_race</td>\n",
       "      <td>jewish</td>\n",
       "      <td>no_gender</td>\n",
       "      <td>no_orientation</td>\n",
       "      <td>NaN</td>\n",
       "      <td>[hm, six, million, yep, disarm, ceppin, one, w...</td>\n",
       "      <td>hm six million yep disarm ceppin one warsaw gh...</td>\n",
       "    </tr>\n",
       "  </tbody>\n",
       "</table>\n",
       "<p>20109 rows × 9 columns</p>\n",
       "</div>"
      ],
      "text/plain": [
       "                                                 comment       label     Race  \\\n",
       "0                                   [u, lmao, wow, fuck]      normal  no_race   \n",
       "1      [th, floor, maybe, wow, cnn, fakenews, body, c...   offensive  no_race   \n",
       "2      [yrs, number, white, women, raped, niggers, nu...  hatespeech  african   \n",
       "3      [h, ago, ching, chong, accepted, friend, request]   offensive    asian   \n",
       "4      [th, century, mayhem, lawlessness, nothing, lo...      normal  no_race   \n",
       "...                                                  ...         ...      ...   \n",
       "20104  [mad, caucasians, failing, forget, blacks, sel...   offensive  african   \n",
       "20105  [mmm, yes, trebuchet, memes, much, nicer, cata...  hatespeech     arab   \n",
       "20106                           [ghetto, ready, get, tf]   offensive  no_race   \n",
       "20107  [spelled, name, wrong, name, literally, front,...  hatespeech     arab   \n",
       "20108  [hm, six, million, yep, disarmed, ceppin, ones...  hatespeech  no_race   \n",
       "\n",
       "           Religion     Gender Sexual Orientation Miscellaneous  \\\n",
       "0      nonreligious  no_gender     no_orientation           NaN   \n",
       "1      nonreligious  no_gender     no_orientation         other   \n",
       "2      nonreligious  no_gender     no_orientation           NaN   \n",
       "3      nonreligious  no_gender     no_orientation           NaN   \n",
       "4      nonreligious  no_gender     no_orientation           NaN   \n",
       "...             ...        ...                ...           ...   \n",
       "20104  nonreligious  no_gender     no_orientation           NaN   \n",
       "20105         islam  no_gender     no_orientation           NaN   \n",
       "20106  nonreligious  no_gender     no_orientation         other   \n",
       "20107  nonreligious  no_gender     no_orientation           NaN   \n",
       "20108        jewish  no_gender     no_orientation           NaN   \n",
       "\n",
       "                                         stemmed_comment  \\\n",
       "0                                   [u, lmao, wow, fuck]   \n",
       "1      [th, floor, mayb, wow, cnn, fakenew, bodi, cou...   \n",
       "2      [yr, number, white, women, rape, nigger, numbe...   \n",
       "3        [h, ago, ching, chong, accept, friend, request]   \n",
       "4      [th, centuri, mayhem, lawless, noth, loud, mou...   \n",
       "...                                                  ...   \n",
       "20104    [mad, caucasian, fail, forget, black, sell, us]   \n",
       "20105  [mmm, ye, trebuchet, meme, much, nicer, catapu...   \n",
       "20106                           [ghetto, readi, get, tf]   \n",
       "20107  [spell, name, wrong, name, liter, front, face,...   \n",
       "20108  [hm, six, million, yep, disarm, ceppin, one, w...   \n",
       "\n",
       "                                       processed_comment  \n",
       "0                                        u lmao wow fuck  \n",
       "1      th floor mayb wow cnn fakenew bodi count go wa...  \n",
       "2      yr number white women rape nigger number negre...  \n",
       "3                h ago ching chong accept friend request  \n",
       "4      th centuri mayhem lawless noth loud mouth dona...  \n",
       "...                                                  ...  \n",
       "20104            mad caucasian fail forget black sell us  \n",
       "20105  mmm ye trebuchet meme much nicer catapult meme...  \n",
       "20106                                ghetto readi get tf  \n",
       "20107  spell name wrong name liter front face nation ...  \n",
       "20108  hm six million yep disarm ceppin one warsaw gh...  \n",
       "\n",
       "[20109 rows x 9 columns]"
      ]
     },
     "execution_count": 117,
     "metadata": {},
     "output_type": "execute_result"
    }
   ],
   "source": [
    "data['processed_comment'] = data['stemmed_comment'].apply(lambda x : ' '.join(x))\n",
    "data"
   ]
  },
  {
   "cell_type": "code",
   "execution_count": 120,
   "metadata": {},
   "outputs": [
    {
     "data": {
      "text/html": [
       "<style>#sk-container-id-1 {\n",
       "  /* Definition of color scheme common for light and dark mode */\n",
       "  --sklearn-color-text: black;\n",
       "  --sklearn-color-line: gray;\n",
       "  /* Definition of color scheme for unfitted estimators */\n",
       "  --sklearn-color-unfitted-level-0: #fff5e6;\n",
       "  --sklearn-color-unfitted-level-1: #f6e4d2;\n",
       "  --sklearn-color-unfitted-level-2: #ffe0b3;\n",
       "  --sklearn-color-unfitted-level-3: chocolate;\n",
       "  /* Definition of color scheme for fitted estimators */\n",
       "  --sklearn-color-fitted-level-0: #f0f8ff;\n",
       "  --sklearn-color-fitted-level-1: #d4ebff;\n",
       "  --sklearn-color-fitted-level-2: #b3dbfd;\n",
       "  --sklearn-color-fitted-level-3: cornflowerblue;\n",
       "\n",
       "  /* Specific color for light theme */\n",
       "  --sklearn-color-text-on-default-background: var(--sg-text-color, var(--theme-code-foreground, var(--jp-content-font-color1, black)));\n",
       "  --sklearn-color-background: var(--sg-background-color, var(--theme-background, var(--jp-layout-color0, white)));\n",
       "  --sklearn-color-border-box: var(--sg-text-color, var(--theme-code-foreground, var(--jp-content-font-color1, black)));\n",
       "  --sklearn-color-icon: #696969;\n",
       "\n",
       "  @media (prefers-color-scheme: dark) {\n",
       "    /* Redefinition of color scheme for dark theme */\n",
       "    --sklearn-color-text-on-default-background: var(--sg-text-color, var(--theme-code-foreground, var(--jp-content-font-color1, white)));\n",
       "    --sklearn-color-background: var(--sg-background-color, var(--theme-background, var(--jp-layout-color0, #111)));\n",
       "    --sklearn-color-border-box: var(--sg-text-color, var(--theme-code-foreground, var(--jp-content-font-color1, white)));\n",
       "    --sklearn-color-icon: #878787;\n",
       "  }\n",
       "}\n",
       "\n",
       "#sk-container-id-1 {\n",
       "  color: var(--sklearn-color-text);\n",
       "}\n",
       "\n",
       "#sk-container-id-1 pre {\n",
       "  padding: 0;\n",
       "}\n",
       "\n",
       "#sk-container-id-1 input.sk-hidden--visually {\n",
       "  border: 0;\n",
       "  clip: rect(1px 1px 1px 1px);\n",
       "  clip: rect(1px, 1px, 1px, 1px);\n",
       "  height: 1px;\n",
       "  margin: -1px;\n",
       "  overflow: hidden;\n",
       "  padding: 0;\n",
       "  position: absolute;\n",
       "  width: 1px;\n",
       "}\n",
       "\n",
       "#sk-container-id-1 div.sk-dashed-wrapped {\n",
       "  border: 1px dashed var(--sklearn-color-line);\n",
       "  margin: 0 0.4em 0.5em 0.4em;\n",
       "  box-sizing: border-box;\n",
       "  padding-bottom: 0.4em;\n",
       "  background-color: var(--sklearn-color-background);\n",
       "}\n",
       "\n",
       "#sk-container-id-1 div.sk-container {\n",
       "  /* jupyter's `normalize.less` sets `[hidden] { display: none; }`\n",
       "     but bootstrap.min.css set `[hidden] { display: none !important; }`\n",
       "     so we also need the `!important` here to be able to override the\n",
       "     default hidden behavior on the sphinx rendered scikit-learn.org.\n",
       "     See: https://github.com/scikit-learn/scikit-learn/issues/21755 */\n",
       "  display: inline-block !important;\n",
       "  position: relative;\n",
       "}\n",
       "\n",
       "#sk-container-id-1 div.sk-text-repr-fallback {\n",
       "  display: none;\n",
       "}\n",
       "\n",
       "div.sk-parallel-item,\n",
       "div.sk-serial,\n",
       "div.sk-item {\n",
       "  /* draw centered vertical line to link estimators */\n",
       "  background-image: linear-gradient(var(--sklearn-color-text-on-default-background), var(--sklearn-color-text-on-default-background));\n",
       "  background-size: 2px 100%;\n",
       "  background-repeat: no-repeat;\n",
       "  background-position: center center;\n",
       "}\n",
       "\n",
       "/* Parallel-specific style estimator block */\n",
       "\n",
       "#sk-container-id-1 div.sk-parallel-item::after {\n",
       "  content: \"\";\n",
       "  width: 100%;\n",
       "  border-bottom: 2px solid var(--sklearn-color-text-on-default-background);\n",
       "  flex-grow: 1;\n",
       "}\n",
       "\n",
       "#sk-container-id-1 div.sk-parallel {\n",
       "  display: flex;\n",
       "  align-items: stretch;\n",
       "  justify-content: center;\n",
       "  background-color: var(--sklearn-color-background);\n",
       "  position: relative;\n",
       "}\n",
       "\n",
       "#sk-container-id-1 div.sk-parallel-item {\n",
       "  display: flex;\n",
       "  flex-direction: column;\n",
       "}\n",
       "\n",
       "#sk-container-id-1 div.sk-parallel-item:first-child::after {\n",
       "  align-self: flex-end;\n",
       "  width: 50%;\n",
       "}\n",
       "\n",
       "#sk-container-id-1 div.sk-parallel-item:last-child::after {\n",
       "  align-self: flex-start;\n",
       "  width: 50%;\n",
       "}\n",
       "\n",
       "#sk-container-id-1 div.sk-parallel-item:only-child::after {\n",
       "  width: 0;\n",
       "}\n",
       "\n",
       "/* Serial-specific style estimator block */\n",
       "\n",
       "#sk-container-id-1 div.sk-serial {\n",
       "  display: flex;\n",
       "  flex-direction: column;\n",
       "  align-items: center;\n",
       "  background-color: var(--sklearn-color-background);\n",
       "  padding-right: 1em;\n",
       "  padding-left: 1em;\n",
       "}\n",
       "\n",
       "\n",
       "/* Toggleable style: style used for estimator/Pipeline/ColumnTransformer box that is\n",
       "clickable and can be expanded/collapsed.\n",
       "- Pipeline and ColumnTransformer use this feature and define the default style\n",
       "- Estimators will overwrite some part of the style using the `sk-estimator` class\n",
       "*/\n",
       "\n",
       "/* Pipeline and ColumnTransformer style (default) */\n",
       "\n",
       "#sk-container-id-1 div.sk-toggleable {\n",
       "  /* Default theme specific background. It is overwritten whether we have a\n",
       "  specific estimator or a Pipeline/ColumnTransformer */\n",
       "  background-color: var(--sklearn-color-background);\n",
       "}\n",
       "\n",
       "/* Toggleable label */\n",
       "#sk-container-id-1 label.sk-toggleable__label {\n",
       "  cursor: pointer;\n",
       "  display: block;\n",
       "  width: 100%;\n",
       "  margin-bottom: 0;\n",
       "  padding: 0.5em;\n",
       "  box-sizing: border-box;\n",
       "  text-align: center;\n",
       "}\n",
       "\n",
       "#sk-container-id-1 label.sk-toggleable__label-arrow:before {\n",
       "  /* Arrow on the left of the label */\n",
       "  content: \"▸\";\n",
       "  float: left;\n",
       "  margin-right: 0.25em;\n",
       "  color: var(--sklearn-color-icon);\n",
       "}\n",
       "\n",
       "#sk-container-id-1 label.sk-toggleable__label-arrow:hover:before {\n",
       "  color: var(--sklearn-color-text);\n",
       "}\n",
       "\n",
       "/* Toggleable content - dropdown */\n",
       "\n",
       "#sk-container-id-1 div.sk-toggleable__content {\n",
       "  max-height: 0;\n",
       "  max-width: 0;\n",
       "  overflow: hidden;\n",
       "  text-align: left;\n",
       "  /* unfitted */\n",
       "  background-color: var(--sklearn-color-unfitted-level-0);\n",
       "}\n",
       "\n",
       "#sk-container-id-1 div.sk-toggleable__content.fitted {\n",
       "  /* fitted */\n",
       "  background-color: var(--sklearn-color-fitted-level-0);\n",
       "}\n",
       "\n",
       "#sk-container-id-1 div.sk-toggleable__content pre {\n",
       "  margin: 0.2em;\n",
       "  border-radius: 0.25em;\n",
       "  color: var(--sklearn-color-text);\n",
       "  /* unfitted */\n",
       "  background-color: var(--sklearn-color-unfitted-level-0);\n",
       "}\n",
       "\n",
       "#sk-container-id-1 div.sk-toggleable__content.fitted pre {\n",
       "  /* unfitted */\n",
       "  background-color: var(--sklearn-color-fitted-level-0);\n",
       "}\n",
       "\n",
       "#sk-container-id-1 input.sk-toggleable__control:checked~div.sk-toggleable__content {\n",
       "  /* Expand drop-down */\n",
       "  max-height: 200px;\n",
       "  max-width: 100%;\n",
       "  overflow: auto;\n",
       "}\n",
       "\n",
       "#sk-container-id-1 input.sk-toggleable__control:checked~label.sk-toggleable__label-arrow:before {\n",
       "  content: \"▾\";\n",
       "}\n",
       "\n",
       "/* Pipeline/ColumnTransformer-specific style */\n",
       "\n",
       "#sk-container-id-1 div.sk-label input.sk-toggleable__control:checked~label.sk-toggleable__label {\n",
       "  color: var(--sklearn-color-text);\n",
       "  background-color: var(--sklearn-color-unfitted-level-2);\n",
       "}\n",
       "\n",
       "#sk-container-id-1 div.sk-label.fitted input.sk-toggleable__control:checked~label.sk-toggleable__label {\n",
       "  background-color: var(--sklearn-color-fitted-level-2);\n",
       "}\n",
       "\n",
       "/* Estimator-specific style */\n",
       "\n",
       "/* Colorize estimator box */\n",
       "#sk-container-id-1 div.sk-estimator input.sk-toggleable__control:checked~label.sk-toggleable__label {\n",
       "  /* unfitted */\n",
       "  background-color: var(--sklearn-color-unfitted-level-2);\n",
       "}\n",
       "\n",
       "#sk-container-id-1 div.sk-estimator.fitted input.sk-toggleable__control:checked~label.sk-toggleable__label {\n",
       "  /* fitted */\n",
       "  background-color: var(--sklearn-color-fitted-level-2);\n",
       "}\n",
       "\n",
       "#sk-container-id-1 div.sk-label label.sk-toggleable__label,\n",
       "#sk-container-id-1 div.sk-label label {\n",
       "  /* The background is the default theme color */\n",
       "  color: var(--sklearn-color-text-on-default-background);\n",
       "}\n",
       "\n",
       "/* On hover, darken the color of the background */\n",
       "#sk-container-id-1 div.sk-label:hover label.sk-toggleable__label {\n",
       "  color: var(--sklearn-color-text);\n",
       "  background-color: var(--sklearn-color-unfitted-level-2);\n",
       "}\n",
       "\n",
       "/* Label box, darken color on hover, fitted */\n",
       "#sk-container-id-1 div.sk-label.fitted:hover label.sk-toggleable__label.fitted {\n",
       "  color: var(--sklearn-color-text);\n",
       "  background-color: var(--sklearn-color-fitted-level-2);\n",
       "}\n",
       "\n",
       "/* Estimator label */\n",
       "\n",
       "#sk-container-id-1 div.sk-label label {\n",
       "  font-family: monospace;\n",
       "  font-weight: bold;\n",
       "  display: inline-block;\n",
       "  line-height: 1.2em;\n",
       "}\n",
       "\n",
       "#sk-container-id-1 div.sk-label-container {\n",
       "  text-align: center;\n",
       "}\n",
       "\n",
       "/* Estimator-specific */\n",
       "#sk-container-id-1 div.sk-estimator {\n",
       "  font-family: monospace;\n",
       "  border: 1px dotted var(--sklearn-color-border-box);\n",
       "  border-radius: 0.25em;\n",
       "  box-sizing: border-box;\n",
       "  margin-bottom: 0.5em;\n",
       "  /* unfitted */\n",
       "  background-color: var(--sklearn-color-unfitted-level-0);\n",
       "}\n",
       "\n",
       "#sk-container-id-1 div.sk-estimator.fitted {\n",
       "  /* fitted */\n",
       "  background-color: var(--sklearn-color-fitted-level-0);\n",
       "}\n",
       "\n",
       "/* on hover */\n",
       "#sk-container-id-1 div.sk-estimator:hover {\n",
       "  /* unfitted */\n",
       "  background-color: var(--sklearn-color-unfitted-level-2);\n",
       "}\n",
       "\n",
       "#sk-container-id-1 div.sk-estimator.fitted:hover {\n",
       "  /* fitted */\n",
       "  background-color: var(--sklearn-color-fitted-level-2);\n",
       "}\n",
       "\n",
       "/* Specification for estimator info (e.g. \"i\" and \"?\") */\n",
       "\n",
       "/* Common style for \"i\" and \"?\" */\n",
       "\n",
       ".sk-estimator-doc-link,\n",
       "a:link.sk-estimator-doc-link,\n",
       "a:visited.sk-estimator-doc-link {\n",
       "  float: right;\n",
       "  font-size: smaller;\n",
       "  line-height: 1em;\n",
       "  font-family: monospace;\n",
       "  background-color: var(--sklearn-color-background);\n",
       "  border-radius: 1em;\n",
       "  height: 1em;\n",
       "  width: 1em;\n",
       "  text-decoration: none !important;\n",
       "  margin-left: 1ex;\n",
       "  /* unfitted */\n",
       "  border: var(--sklearn-color-unfitted-level-1) 1pt solid;\n",
       "  color: var(--sklearn-color-unfitted-level-1);\n",
       "}\n",
       "\n",
       ".sk-estimator-doc-link.fitted,\n",
       "a:link.sk-estimator-doc-link.fitted,\n",
       "a:visited.sk-estimator-doc-link.fitted {\n",
       "  /* fitted */\n",
       "  border: var(--sklearn-color-fitted-level-1) 1pt solid;\n",
       "  color: var(--sklearn-color-fitted-level-1);\n",
       "}\n",
       "\n",
       "/* On hover */\n",
       "div.sk-estimator:hover .sk-estimator-doc-link:hover,\n",
       ".sk-estimator-doc-link:hover,\n",
       "div.sk-label-container:hover .sk-estimator-doc-link:hover,\n",
       ".sk-estimator-doc-link:hover {\n",
       "  /* unfitted */\n",
       "  background-color: var(--sklearn-color-unfitted-level-3);\n",
       "  color: var(--sklearn-color-background);\n",
       "  text-decoration: none;\n",
       "}\n",
       "\n",
       "div.sk-estimator.fitted:hover .sk-estimator-doc-link.fitted:hover,\n",
       ".sk-estimator-doc-link.fitted:hover,\n",
       "div.sk-label-container:hover .sk-estimator-doc-link.fitted:hover,\n",
       ".sk-estimator-doc-link.fitted:hover {\n",
       "  /* fitted */\n",
       "  background-color: var(--sklearn-color-fitted-level-3);\n",
       "  color: var(--sklearn-color-background);\n",
       "  text-decoration: none;\n",
       "}\n",
       "\n",
       "/* Span, style for the box shown on hovering the info icon */\n",
       ".sk-estimator-doc-link span {\n",
       "  display: none;\n",
       "  z-index: 9999;\n",
       "  position: relative;\n",
       "  font-weight: normal;\n",
       "  right: .2ex;\n",
       "  padding: .5ex;\n",
       "  margin: .5ex;\n",
       "  width: min-content;\n",
       "  min-width: 20ex;\n",
       "  max-width: 50ex;\n",
       "  color: var(--sklearn-color-text);\n",
       "  box-shadow: 2pt 2pt 4pt #999;\n",
       "  /* unfitted */\n",
       "  background: var(--sklearn-color-unfitted-level-0);\n",
       "  border: .5pt solid var(--sklearn-color-unfitted-level-3);\n",
       "}\n",
       "\n",
       ".sk-estimator-doc-link.fitted span {\n",
       "  /* fitted */\n",
       "  background: var(--sklearn-color-fitted-level-0);\n",
       "  border: var(--sklearn-color-fitted-level-3);\n",
       "}\n",
       "\n",
       ".sk-estimator-doc-link:hover span {\n",
       "  display: block;\n",
       "}\n",
       "\n",
       "/* \"?\"-specific style due to the `<a>` HTML tag */\n",
       "\n",
       "#sk-container-id-1 a.estimator_doc_link {\n",
       "  float: right;\n",
       "  font-size: 1rem;\n",
       "  line-height: 1em;\n",
       "  font-family: monospace;\n",
       "  background-color: var(--sklearn-color-background);\n",
       "  border-radius: 1rem;\n",
       "  height: 1rem;\n",
       "  width: 1rem;\n",
       "  text-decoration: none;\n",
       "  /* unfitted */\n",
       "  color: var(--sklearn-color-unfitted-level-1);\n",
       "  border: var(--sklearn-color-unfitted-level-1) 1pt solid;\n",
       "}\n",
       "\n",
       "#sk-container-id-1 a.estimator_doc_link.fitted {\n",
       "  /* fitted */\n",
       "  border: var(--sklearn-color-fitted-level-1) 1pt solid;\n",
       "  color: var(--sklearn-color-fitted-level-1);\n",
       "}\n",
       "\n",
       "/* On hover */\n",
       "#sk-container-id-1 a.estimator_doc_link:hover {\n",
       "  /* unfitted */\n",
       "  background-color: var(--sklearn-color-unfitted-level-3);\n",
       "  color: var(--sklearn-color-background);\n",
       "  text-decoration: none;\n",
       "}\n",
       "\n",
       "#sk-container-id-1 a.estimator_doc_link.fitted:hover {\n",
       "  /* fitted */\n",
       "  background-color: var(--sklearn-color-fitted-level-3);\n",
       "}\n",
       "</style><div id=\"sk-container-id-1\" class=\"sk-top-container\"><div class=\"sk-text-repr-fallback\"><pre>MultinomialNB()</pre><b>In a Jupyter environment, please rerun this cell to show the HTML representation or trust the notebook. <br />On GitHub, the HTML representation is unable to render, please try loading this page with nbviewer.org.</b></div><div class=\"sk-container\" hidden><div class=\"sk-item\"><div class=\"sk-estimator fitted sk-toggleable\"><input class=\"sk-toggleable__control sk-hidden--visually\" id=\"sk-estimator-id-1\" type=\"checkbox\" checked><label for=\"sk-estimator-id-1\" class=\"sk-toggleable__label fitted sk-toggleable__label-arrow fitted\">&nbsp;&nbsp;MultinomialNB<a class=\"sk-estimator-doc-link fitted\" rel=\"noreferrer\" target=\"_blank\" href=\"https://scikit-learn.org/1.5/modules/generated/sklearn.naive_bayes.MultinomialNB.html\">?<span>Documentation for MultinomialNB</span></a><span class=\"sk-estimator-doc-link fitted\">i<span>Fitted</span></span></label><div class=\"sk-toggleable__content fitted\"><pre>MultinomialNB()</pre></div> </div></div></div></div>"
      ],
      "text/plain": [
       "MultinomialNB()"
      ]
     },
     "execution_count": 120,
     "metadata": {},
     "output_type": "execute_result"
    }
   ],
   "source": [
    "\n",
    "\n",
    "X = vectorizer.fit_transform(data['processed_comment'])\n",
    "y = data['label']\n",
    "\n",
    "X_train, X_test, y_train, y_test = train_test_split(X, y, test_size=0.2, random_state=42)\n",
    "\n",
    "model = MultinomialNB()\n",
    "model.fit(X_train, y_train)\n",
    "\n"
   ]
  },
  {
   "cell_type": "markdown",
   "metadata": {},
   "source": [
    "### Model Score"
   ]
  },
  {
   "cell_type": "code",
   "execution_count": 124,
   "metadata": {},
   "outputs": [
    {
     "name": "stdout",
     "output_type": "stream",
     "text": [
      "              precision    recall  f1-score   support\n",
      "\n",
      "  hatespeech       0.68      0.64      0.66      1325\n",
      "      normal       0.53      0.87      0.66      1502\n",
      "   offensive       0.61      0.15      0.24      1195\n",
      "\n",
      "    accuracy                           0.58      4022\n",
      "   macro avg       0.60      0.55      0.52      4022\n",
      "weighted avg       0.60      0.58      0.53      4022\n",
      "\n",
      "Train Score: 0.7394790824889662\n",
      "Test Score: 0.5808055693684734\n"
     ]
    }
   ],
   "source": [
    "\n",
    "y_pred = model.predict(X_test)\n",
    "\n",
    "\n",
    "print(classification_report(y_test, y_pred))\n",
    "\n",
    "print('Train Score:', model.score(X_train, y_train))\n",
    "\n",
    "print('Test Score:', model.score(X_test, y_test))\n",
    "\n",
    "\n",
    "\n"
   ]
  },
  {
   "cell_type": "markdown",
   "metadata": {},
   "source": [
    "### Conclusion \n",
    "\n",
    "After preprocessing and training the model, the accuracy of the classification model on the test set is approximately 58.0%, which is a good starting point for cyberbullying detection. The model's precision, recall, and F1-score for each label (hatespeech, offensive, and aggressive) also show promising results. The model can be further fine-tuned or improved by exploring additional preprocessing techniques, adjusting hyperparameters, and exploring different classification algorithms.\n",
    "\n"
   ]
  }
 ],
 "metadata": {
  "kernelspec": {
   "display_name": "Python 3",
   "language": "python",
   "name": "python3"
  },
  "language_info": {
   "codemirror_mode": {
    "name": "ipython",
    "version": 3
   },
   "file_extension": ".py",
   "mimetype": "text/x-python",
   "name": "python",
   "nbconvert_exporter": "python",
   "pygments_lexer": "ipython3",
   "version": "3.12.2"
  }
 },
 "nbformat": 4,
 "nbformat_minor": 2
}
