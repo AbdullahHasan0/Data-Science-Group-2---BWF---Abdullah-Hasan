{
 "cells": [
  {
   "cell_type": "markdown",
   "id": "1969ee56-ee9e-4365-a0a6-1210ce1c35ad",
   "metadata": {},
   "source": [
    "# <span style = \"color : purple \">Tip Calculator</span>\n",
    "\n",
    "In this program , user need to give total bill , percentage of tip and in how many people bill should split"
   ]
  },
  {
   "cell_type": "code",
   "execution_count": 9,
   "id": "53231cd1-240f-482e-8c1f-bb2d44032364",
   "metadata": {},
   "outputs": [
    {
     "name": "stdin",
     "output_type": "stream",
     "text": [
      "Enter Amount Of Bill :\n",
      " -1000\n",
      "Enter tip percentage without % sign :\n",
      " 10\n",
      "Enter number of people: \n",
      " 4\n"
     ]
    },
    {
     "name": "stdout",
     "output_type": "stream",
     "text": [
      "Total Bill = -1000.0\n",
      "Tip Amount = -100.0\n",
      "Total Bill + Tip Amount  = -1100.0\n",
      "Bill Per Person = -275.0\n"
     ]
    }
   ],
   "source": [
    "total_bill = float(input(\"Enter Amount Of Bill :\\n\"))\n",
    "if (total_bill >= 0):\n",
    "    tip_percentage = float(input(\"Enter tip percentage without % sign :\\n\"))\n",
    "    if (tip_percentage >= 0):\n",
    "        no_of_payers = int(input(\"Enter number of people: \\n\"))\n",
    "        if (no_of_payers >= 1):\n",
    "            tip_amount = tip_percentage/100 * total_bill\n",
    "            total_amount = total_bill + tip_amount\n",
    "            bill_per_person = total_amount / no_of_payers\n",
    "            print(f\"Total Bill = {total_bill}\")\n",
    "            print(f\"Tip Amount = {tip_amount}\")\n",
    "            print(f\"Total Bill + Tip Amount  = {total_amount}\")\n",
    "            print(f\"Bill Per Person = {bill_per_person}\")\n",
    "        else:\n",
    "            print(\"Number of people should be greater than 0\")\n",
    "            \n",
    "    else:\n",
    "        print(\"Tip percentage should be greater than 0\")\n",
    "else:\n",
    "    print(\"Total bill should be greater than 0\")"
   ]
  },
  {
   "cell_type": "markdown",
   "id": "44d8a9ac-eef7-4c5e-b125-15b353de2ea6",
   "metadata": {},
   "source": [
    "# <span style = \"color : blue\"> Simple Arithmetic Operations </span>\n",
    "\n",
    "It is a simple calculator that ask 2 numbers from user and apply different operations on them "
   ]
  },
  {
   "cell_type": "code",
   "execution_count": 11,
   "id": "7f2193db-f923-44bf-9d26-8b8975c106aa",
   "metadata": {},
   "outputs": [
    {
     "name": "stdin",
     "output_type": "stream",
     "text": [
      "Enter First Number:\n",
      " 2\n",
      "Enter Second Number:\n",
      " 10\n"
     ]
    },
    {
     "name": "stdout",
     "output_type": "stream",
     "text": [
      "Sum : 2.0 + 10.0 = 12.0\n",
      "Difference: 2.0 - 10.0 = -8.0\n",
      "Difference: 10.0 - 2.0 = 8.0\n",
      "Product :2.0 * 10.0 = 20.0\n",
      "Qoutient : 2.0 / 10.0 = 0.2\n",
      "Qoutient : 10.0 / 2.0 = 5.0\n",
      "Ramainder : 2.0 % 10.0 = 2.0\n",
      "Remainder : 10.0 % 2.0 = 0.0\n",
      "Power :  2.0 ^ 10.0 = 1024.0 \n",
      "Power: 10.0 ^ 2.0 = 100.0\n"
     ]
    }
   ],
   "source": [
    "num1 = float(input(\"Enter First Number:\\n\"))\n",
    "num2 = float(input(\"Enter Second Number:\\n\"))\n",
    "print(f\"Sum : {num1} + {num2} = {num1+num2}\")\n",
    "print(f\"Difference: {num1} - {num2} = {num1-num2}\")\n",
    "print(f\"Difference: {num2} - {num1} = {num2-num1}\")\n",
    "print(f\"Product :{num1} * {num2} = {num1*num2}\")\n",
    "print(f\"Qoutient : {num1} / {num2} = {num1/num2}\")\n",
    "print(f\"Qoutient : {num2} / {num1} = {num2/num1}\")\n",
    "print(f\"Ramainder : {num1} % {num2} = {num1%num2}\")\n",
    "print(f\"Remainder : {num2} % {num1} = {num2%num1}\")\n",
    "print(f\"Power :  {num1} ^ {num2} = {num1**num2} \")\n",
    "print(f\"Power: {num2} ^ {num1} = {num2**num1}\")"
   ]
  },
  {
   "cell_type": "code",
   "execution_count": null,
   "id": "91e9488c-15c0-4e9c-a37c-8003d2b1d3ed",
   "metadata": {},
   "outputs": [],
   "source": []
  }
 ],
 "metadata": {
  "kernelspec": {
   "display_name": "Python 3 (ipykernel)",
   "language": "python",
   "name": "python3"
  },
  "language_info": {
   "codemirror_mode": {
    "name": "ipython",
    "version": 3
   },
   "file_extension": ".py",
   "mimetype": "text/x-python",
   "name": "python",
   "nbconvert_exporter": "python",
   "pygments_lexer": "ipython3",
   "version": "3.12.2"
  }
 },
 "nbformat": 4,
 "nbformat_minor": 5
}
