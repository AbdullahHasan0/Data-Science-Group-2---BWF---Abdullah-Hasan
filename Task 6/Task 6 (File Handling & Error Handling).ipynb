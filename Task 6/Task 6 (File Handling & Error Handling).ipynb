{
 "cells": [
  {
   "cell_type": "markdown",
   "metadata": {},
   "source": [
    "# File Handling\n",
    "\n",
    "***File handling is an important part of any programming language.***\n",
    "\n",
    "***File handling is a way to store and retrieve data from a file using program.***\n",
    "\n",
    "## File Handling In Python\n",
    "\n",
    "1. File Handling Support: Python allows users to read and write files easily.\n",
    "\n",
    "2. Simplicity: Python's file handling is straightforward compared to other languages.\n",
    "\n",
    "3. File Types: Python differentiates between text and binary files.\n",
    "\n",
    "4. Text Files: Lines in text files are sequences of characters.\n",
    "\n",
    "5. End of Line (EOL) Characters: Special characters, like commas or newlines, terminate each line.\n",
    "\n",
    "6. Read and Write Operations: Basic operations include reading from and writing to files.\n",
    "\n",
    "7. Ease of Use: Python's file handling is both powerful and user-friendly.\n",
    "\n",
    "---\n",
    "\n",
    "## File Handling Functions In Python\n",
    "---\n",
    "### Open a new file\n",
    "\n",
    "**COMMAND:** <br>\n",
    "<br>\n",
    "<span style=\"color: green; font-size: 32px;\">f = open(filename, mode)</span>\n",
    "\n",
    "---\n",
    "\n",
    "#### Note: \n",
    "Filename and mode should enclosed in quotation marks(\").\n",
    "\n",
    "<br>\n",
    "\n",
    "**Where the following mode is supported:**\n",
    "\n",
    "- r: open an existing file for a read operation.\n",
    "- w: open an existing file for a write operation. If the file already contains some data, then it will be overridden but if the file is not present then it creates the file as well.\n",
    "- a:  open an existing file for append operation. It won’t override existing data.\n",
    "- r+:  To read and write data into the file. This mode does not override the existing data, but you can modify the data starting from the beginning of the file.\n",
    "- w+: To write and read data. It overwrites the previous file if one exists, it will truncate the file to zero length or create a file if it does not exist.\n",
    "- a+: To append and read data from the file. It won’t override existing data.\n",
    "\n",
    "---\n",
    "\n",
    "### Close a file\n",
    "\n",
    "**COMMAND:** <br>\n",
    "<br>\n",
    "<span style=\"color: red; font-size: 32px;\">f.close()</span>\n",
    "\n",
    "---\n",
    "\n",
    "### Read a file\n",
    "\n",
    "**COMMAND:** <br>\n",
    "<br>\n",
    "<span style=\"color: skyblue; font-size: 32px;\">f.read()</span>\n",
    "\n",
    "---\n",
    "\n",
    "### Working In Read Mode\n",
    "\n",
    "There is more than one way to read a file using Python.\n",
    "\n",
    "<br>\n",
    "\n",
    "---\n",
    "1. ***Using for loop*** <br>\n",
    "<br>\n",
    "**\"f = open(filename,mode)\"** command will open the file and using loop we will read the whole file line by line\n",
    "---\n"
   ]
  },
  {
   "cell_type": "code",
   "execution_count": 1,
   "metadata": {},
   "outputs": [
    {
     "name": "stdout",
     "output_type": "stream",
     "text": [
      "Hello World!\n",
      "\n",
      "My Name is Abdullah Hasan\n",
      "\n",
      "I am a Computer Science Student\n"
     ]
    }
   ],
   "source": [
    "file = open('read.txt','r')\n",
    "\n",
    "for line in file:\n",
    "    print(line)\n",
    "    \n",
    "file.close()\n"
   ]
  },
  {
   "cell_type": "markdown",
   "metadata": {},
   "source": [
    "---\n",
    "2. ***Using read() method*** <br>\n",
    "<br>\n",
    "read() method will read the entire file at one go if no number is specified in method\n",
    "---\n",
    "\n"
   ]
  },
  {
   "cell_type": "code",
   "execution_count": 2,
   "metadata": {},
   "outputs": [
    {
     "name": "stdout",
     "output_type": "stream",
     "text": [
      "Hello World!\n",
      "My Name is Abdullah Hasan\n",
      "I am a Computer Science Student\n"
     ]
    }
   ],
   "source": [
    "file = open('read.txt','r')\n",
    "print(file.read())\n",
    "file.close()"
   ]
  },
  {
   "cell_type": "markdown",
   "metadata": {},
   "source": [
    "---\n",
    "3. ***Using with() method*** <br>\n",
    "The with statement in Python is used for cleaner and more readable exception handling. It simplifies managing resources like file streams and ensures proper acquisition and release of resources, eliminating the need to explicitly call file.close().\n",
    "---\n"
   ]
  },
  {
   "cell_type": "code",
   "execution_count": 3,
   "metadata": {},
   "outputs": [
    {
     "name": "stdout",
     "output_type": "stream",
     "text": [
      "Hello World!\n",
      "My Name is Abdullah Hasan\n",
      "I am a Computer Science Student\n"
     ]
    }
   ],
   "source": [
    "with open ('read.txt','r') as file:\n",
    "    print(file.read())"
   ]
  },
  {
   "cell_type": "markdown",
   "metadata": {},
   "source": [
    "---\n",
    "4. ***Reading Specified Number Of Characters*** <br>\n",
    "Python allows reading a specified number of characters from a file directly, retrieving them as a string\n",
    "---"
   ]
  },
  {
   "cell_type": "code",
   "execution_count": 4,
   "metadata": {},
   "outputs": [
    {
     "name": "stdout",
     "output_type": "stream",
     "text": [
      "Hello\n"
     ]
    }
   ],
   "source": [
    "with open ('read.txt','r') as file:\n",
    "    print(file.read(5))"
   ]
  },
  {
   "cell_type": "markdown",
   "metadata": {},
   "source": [
    "---\n",
    "### Writing a file\n",
    "\n",
    "**COMMAND:** <br>\n",
    "<br>\n",
    "<span style=\"color: purple; font-size: 32px;\">f.write(\"Some String\")</span>\n",
    "\n",
    "---\n"
   ]
  },
  {
   "cell_type": "markdown",
   "metadata": {},
   "source": [
    "### Working In Write Mode\n",
    "\n",
    "There is also more than one way to write a file using Python.\n",
    "\n",
    "<br>\n",
    "\n",
    "---\n",
    "1. ***Using write() method*** <br>\n",
    "<br>\n",
    "**\"f.write(\"String Here\",\"w\")\"** command will open the file if exists or create the file if file is not exist and write in that file.It will overwrite the existing file\n",
    "---"
   ]
  },
  {
   "cell_type": "code",
   "execution_count": 7,
   "metadata": {},
   "outputs": [
    {
     "name": "stdout",
     "output_type": "stream",
     "text": [
      "This is a temp line\n"
     ]
    }
   ],
   "source": [
    "file = open(\"temp.txt\",\"w\") # This will create the file if it doesn't exist\n",
    "file.write(\"This is a temp line\")\n",
    "file.close()\n",
    "file = open(\"temp.txt\",'r')\n",
    "print(file.read())\n",
    "file.close()\n",
    "\n"
   ]
  },
  {
   "cell_type": "markdown",
   "metadata": {},
   "source": [
    "\n",
    "---\n",
    "2. ***Using with() method*** <br>\n",
    "<br>\n",
    "The with statement in Python is used for cleaner and more readable exception handling. It simplifies managing resources like file streams and ensures proper acquisition and release of resources, eliminating the need to explicitly call file.close().\n",
    "---"
   ]
  },
  {
   "cell_type": "code",
   "execution_count": 14,
   "metadata": {},
   "outputs": [
    {
     "name": "stdout",
     "output_type": "stream",
     "text": [
      "This is an another temp line \n",
      "this is multi line writing\n",
      "Lets write something\n"
     ]
    }
   ],
   "source": [
    "with open(\"temp.txt\",'w') as f:\n",
    "    f.write(\"This is an another temp line \\nthis is multi line writing\\nLets write something\")\n",
    "\n",
    "with open(\"temp.txt\",'r') as f:\n",
    "    print(f.read())"
   ]
  },
  {
   "cell_type": "markdown",
   "metadata": {},
   "source": [
    "### Working In Appending Mode\n",
    "\n",
    "Appending add string at the end of the file.\n",
    "\n",
    "<br>\n",
    "\n",
    "---\n",
    "1. ***Using 'a' mode*** <br>\n",
    "<br>\n",
    "**\"f.write(\"String Here\",\"a\")\"** command will open the file if exists or create the file if file is not exist and write in that file.It will append the string at the end of existing file\n",
    "---"
   ]
  },
  {
   "cell_type": "code",
   "execution_count": 28,
   "metadata": {},
   "outputs": [
    {
     "name": "stdout",
     "output_type": "stream",
     "text": [
      "This is an another temp line \n",
      "this is multi line writing\n",
      "Lets write something\n",
      "\n",
      "This is will be written at the end of the file\n"
     ]
    }
   ],
   "source": [
    "f = open(\"temp.txt\", \"a\")\n",
    "f.write(\"\\nThis is will be written at the end of the file\")\n",
    "\n",
    "with open (\"temp.txt\", \"r\") as f:\n",
    "    print(f.read())\n"
   ]
  },
  {
   "cell_type": "markdown",
   "metadata": {},
   "source": [
    "---"
   ]
  },
  {
   "cell_type": "markdown",
   "metadata": {},
   "source": [
    "# Exception Handling\n",
    "***Exception handling in programming involves a structured approach to handling unexpected events that may arise during program execution. Its purpose is to prevent program crashes by effectively managing these events, thereby ensuring the program operates smoothly without interruption.***\n"
   ]
  },
  {
   "cell_type": "markdown",
   "metadata": {},
   "source": [
    "## Different types of exceptions in python:\n",
    "\n",
    "- SyntaxError: This exception is raised when the interpreter encounters a syntax error in the code, such as a misspelled keyword, a missing colon, or an unbalanced parenthesis.\n",
    "\n",
    "- TypeError: This exception is raised when an operation or function is applied to an object of the wrong type, such as adding a string to an integer.\n",
    "\n",
    "- NameError: This exception is raised when a variable or function name is not found in the current scope.\n",
    "\n",
    "- IndexError: This exception is raised when an index is out of range for a list, tuple, or other sequence types.\n",
    "\n",
    "- KeyError: This exception is raised when a key is not found in a dictionary.\n",
    "\n",
    "- ValueError: This exception is raised when a function or method is called with an invalid argument or input, such as trying to convert a string to an integer when the string does not represent a valid integer.\n",
    "\n",
    "- AttributeError: This exception is raised when an attribute or method is not found on an object, such as trying to access a non-existent attribute of a class instance.\n",
    "\n",
    "- IOError: This exception is raised when an I/O operation, such as reading or writing a file, fails due to an input/output error.\n",
    "\n",
    "- ZeroDivisionError: This exception is raised when an attempt is made to divide a number by zero.\n",
    "\n",
    "- ImportError: This exception is raised when an import statement fails to find or load a module."
   ]
  },
  {
   "cell_type": "markdown",
   "metadata": {},
   "source": [
    "## Error Exception statements:\n",
    "\n",
    "The `try` block lets you test a block of code for errors.\n",
    "\n",
    "The `except` block lets you handle the error.\n",
    "\n",
    "The `else` block lets you execute code when there is no error.\n",
    "\n",
    "The `finally` block lets you execute code, regardless of the result of the try- and except blocks.\n"
   ]
  },
  {
   "cell_type": "markdown",
   "metadata": {},
   "source": [
    "## Basic Exception Handling with try-except"
   ]
  },
  {
   "cell_type": "code",
   "execution_count": 40,
   "metadata": {},
   "outputs": [
    {
     "name": "stdout",
     "output_type": "stream",
     "text": [
      "Program Ended\n",
      "4.0\n",
      "\n",
      "Program Ended\n",
      "0.0\n",
      "\n",
      "Program Ended\n",
      "0 can't be divide\n"
     ]
    }
   ],
   "source": [
    "def divide(a,b):\n",
    "    try:\n",
    "        c = a/b\n",
    "    except ZeroDivisionError:\n",
    "        return \"0 can't be divide\"\n",
    "    except:\n",
    "        print(\"An Error occurred\")\n",
    "    else:\n",
    "        return c\n",
    "    finally:\n",
    "        print(\"Program Ended\") \n",
    "\n",
    "if __name__ == \"__main__\":\n",
    "    # num1 = int(input(\"Enter 1st Number: \\n\"))\n",
    "    # num2 = int(input(\"Enter 2nd Number: \\n\"))\n",
    "    print(divide(12,3))\n",
    "    print()\n",
    "    print(divide(0,3))\n",
    "    print()\n",
    "    print(divide(5,0))\n",
    "\n"
   ]
  },
  {
   "cell_type": "markdown",
   "metadata": {},
   "source": [
    "## Raise an exception\n",
    "\n",
    "The `raise` statement allows you to raise an exception manually.\n",
    "We are using above code again and i want to raise an exception if user input an negative value"
   ]
  },
  {
   "cell_type": "code",
   "execution_count": 43,
   "metadata": {},
   "outputs": [
    {
     "ename": "Exception",
     "evalue": "Number can't be negative",
     "output_type": "error",
     "traceback": [
      "\u001b[1;31m---------------------------------------------------------------------------\u001b[0m",
      "\u001b[1;31mException\u001b[0m                                 Traceback (most recent call last)",
      "Cell \u001b[1;32mIn[43], line 17\u001b[0m\n\u001b[0;32m     15\u001b[0m num2 \u001b[38;5;241m=\u001b[39m \u001b[38;5;28mint\u001b[39m(\u001b[38;5;28minput\u001b[39m(\u001b[38;5;124m\"\u001b[39m\u001b[38;5;124mEnter 2nd Number: \u001b[39m\u001b[38;5;130;01m\\n\u001b[39;00m\u001b[38;5;124m\"\u001b[39m))\n\u001b[0;32m     16\u001b[0m \u001b[38;5;28;01mif\u001b[39;00m num1 \u001b[38;5;241m<\u001b[39m \u001b[38;5;241m0\u001b[39m \u001b[38;5;129;01mor\u001b[39;00m num2 \u001b[38;5;241m<\u001b[39m \u001b[38;5;241m0\u001b[39m:\n\u001b[1;32m---> 17\u001b[0m     \u001b[38;5;28;01mraise\u001b[39;00m \u001b[38;5;167;01mException\u001b[39;00m(\u001b[38;5;124m\"\u001b[39m\u001b[38;5;124mNumber can\u001b[39m\u001b[38;5;124m'\u001b[39m\u001b[38;5;124mt be negative\u001b[39m\u001b[38;5;124m\"\u001b[39m)\n\u001b[0;32m     18\u001b[0m \u001b[38;5;28;01melse\u001b[39;00m:\n\u001b[0;32m     19\u001b[0m     \u001b[38;5;28mprint\u001b[39m(divide(num1,num2))\n",
      "\u001b[1;31mException\u001b[0m: Number can't be negative"
     ]
    }
   ],
   "source": [
    "def divide(a,b):\n",
    "    try:\n",
    "        c = a/b\n",
    "    except ZeroDivisionError:\n",
    "        return \"0 can't be divide\"\n",
    "    except:\n",
    "        print(\"An Error occurred\")\n",
    "    else:\n",
    "        return c\n",
    "    finally:\n",
    "        print(\"Program Ended\") \n",
    "\n",
    "if __name__ == \"__main__\":\n",
    "    num1 = int(input(\"Enter 1st Number: \\n\"))\n",
    "    num2 = int(input(\"Enter 2nd Number: \\n\"))\n",
    "    if num1 < 0 or num2 < 0:\n",
    "        raise Exception(\"Number can't be negative\")\n",
    "    else:\n",
    "        print(divide(num1,num2))\n",
    "    \n"
   ]
  },
  {
   "cell_type": "code",
   "execution_count": null,
   "metadata": {},
   "outputs": [],
   "source": []
  }
 ],
 "metadata": {
  "kernelspec": {
   "display_name": "Python 3",
   "language": "python",
   "name": "python3"
  },
  "language_info": {
   "codemirror_mode": {
    "name": "ipython",
    "version": 3
   },
   "file_extension": ".py",
   "mimetype": "text/x-python",
   "name": "python",
   "nbconvert_exporter": "python",
   "pygments_lexer": "ipython3",
   "version": "3.12.2"
  }
 },
 "nbformat": 4,
 "nbformat_minor": 2
}
