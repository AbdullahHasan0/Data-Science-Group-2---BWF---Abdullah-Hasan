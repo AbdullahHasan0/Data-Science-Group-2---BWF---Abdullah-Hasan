{
 "cells": [
  {
   "cell_type": "markdown",
   "id": "60493311-0d59-4f7b-b3a8-bab2d1fac17b",
   "metadata": {},
   "source": [
    "# Data manipulation with Pandas (indexing, selection, grouping)"
   ]
  },
  {
   "cell_type": "code",
   "execution_count": 1,
   "id": "9dda2fc3-1e2f-4fb8-ba80-6dd5e376f1da",
   "metadata": {},
   "outputs": [],
   "source": [
    "import numpy as np\n",
    "import pandas as pd\n",
    "import random as rd"
   ]
  },
  {
   "cell_type": "markdown",
   "id": "4e86ddca-ade5-4946-84d7-a898ed3053e1",
   "metadata": {},
   "source": [
    "1. **Load a DataFrame from a CSV file. Display the first and last five rows of the DataFrame.**"
   ]
  },
  {
   "cell_type": "code",
   "execution_count": 18,
   "id": "518d8581-0e69-402d-99a9-f9e8d5aa08e2",
   "metadata": {},
   "outputs": [
    {
     "name": "stdout",
     "output_type": "stream",
     "text": [
      "\n",
      "First Five Rows\n",
      "\n",
      "   age  gender     bmi  children smoker     region      charges\n",
      "0   19  female  27.900         0    yes  southwest  16884.92400\n",
      "1   18    male  33.770         1     no  southeast   1725.55230\n",
      "2   28    male  33.000         3     no  southeast   4449.46200\n",
      "3   33    male  22.705         0     no  northwest  21984.47061\n",
      "4   32    male  28.880         0     no  northwest   3866.85520\n",
      "\n",
      "Last Five Rows\n",
      "\n",
      "      age  gender    bmi  children smoker     region     charges\n",
      "1333   50    male  30.97         3     no  northwest  10600.5483\n",
      "1334   18  female  31.92         0     no  northeast   2205.9808\n",
      "1335   18  female  36.85         0     no  southeast   1629.8335\n",
      "1336   21  female  25.80         0     no  southwest   2007.9450\n",
      "1337   61  female  29.07         0    yes  northwest  29141.3603\n"
     ]
    }
   ],
   "source": [
    "data = pd.read_csv(\"insurance.csv\")\n",
    "print(f\"\\nFirst Five Rows\")\n",
    "print(f\"\\n{data.head()}\")\n",
    "print(f\"\\nLast Five Rows\")\n",
    "print(f\"\\n{data.tail()}\")"
   ]
  },
  {
   "cell_type": "markdown",
   "id": "c678a1d5-f769-4751-96d8-a6e0e01f4124",
   "metadata": {},
   "source": [
    "2. **Set a specific column as the index of the DataFrame.**"
   ]
  },
  {
   "cell_type": "code",
   "execution_count": 21,
   "id": "69e191c6-bde2-4dc8-b603-f0ea0cf4ea88",
   "metadata": {},
   "outputs": [
    {
     "name": "stdout",
     "output_type": "stream",
     "text": [
      "     gender     bmi  children smoker     region      charges\n",
      "age                                                         \n",
      "19   female  27.900         0    yes  southwest  16884.92400\n",
      "18     male  33.770         1     no  southeast   1725.55230\n",
      "28     male  33.000         3     no  southeast   4449.46200\n",
      "33     male  22.705         0     no  northwest  21984.47061\n",
      "32     male  28.880         0     no  northwest   3866.85520\n"
     ]
    }
   ],
   "source": [
    "#Setting 'age' column as a index\n",
    "data.set_index(\"age\",inplace=True)\n",
    "print(data.head())"
   ]
  },
  {
   "cell_type": "markdown",
   "id": "e3cf5677-4eb1-418b-83ab-80a354f385b9",
   "metadata": {},
   "source": [
    "3. **Select a specific column and display its values.**\n"
   ]
  },
  {
   "cell_type": "code",
   "execution_count": 131,
   "id": "d28d0efa-67ce-40ab-8f59-fc7ea175b4d6",
   "metadata": {},
   "outputs": [
    {
     "name": "stdout",
     "output_type": "stream",
     "text": [
      "\n",
      "Method1\n",
      "\n",
      "0       27.900\n",
      "1       33.770\n",
      "2       33.000\n",
      "3       22.705\n",
      "4       28.880\n",
      "         ...  \n",
      "1333    30.970\n",
      "1334    31.920\n",
      "1335    36.850\n",
      "1336    25.800\n",
      "1337    29.070\n",
      "Name: bmi, Length: 1338, dtype: float64\n",
      "\n",
      "Method 2\n",
      "\n",
      "0       27.900\n",
      "1       33.770\n",
      "2       33.000\n",
      "3       22.705\n",
      "4       28.880\n",
      "         ...  \n",
      "1333    30.970\n",
      "1334    31.920\n",
      "1335    36.850\n",
      "1336    25.800\n",
      "1337    29.070\n",
      "Name: bmi, Length: 1338, dtype: float64\n"
     ]
    }
   ],
   "source": [
    "#Reinitializing data so that the data index resets\n",
    "data = pd.read_csv('insurance.csv')\n",
    "print(\"\\nMethod1\\n\")\n",
    "# Selecting 'bmi' column and printing it\n",
    "print(data['bmi']) # Method 1\n",
    "print(\"\\nMethod 2\\n\")\n",
    "# Selecting 'bmi' column and printing it\n",
    "print(data.bmi) #Method 2"
   ]
  },
  {
   "cell_type": "markdown",
   "id": "4749a982-6be1-4390-9a6a-c83747247ec9",
   "metadata": {},
   "source": [
    "4. **Select multiple columns and display the resulting DataFrame.**"
   ]
  },
  {
   "cell_type": "code",
   "execution_count": 27,
   "id": "3188e519-f452-4d66-a277-cb90cdd06261",
   "metadata": {},
   "outputs": [
    {
     "name": "stdout",
     "output_type": "stream",
     "text": [
      "      age     bmi  gender\n",
      "0      19  27.900  female\n",
      "1      18  33.770    male\n",
      "2      28  33.000    male\n",
      "3      33  22.705    male\n",
      "4      32  28.880    male\n",
      "...   ...     ...     ...\n",
      "1333   50  30.970    male\n",
      "1334   18  31.920  female\n",
      "1335   18  36.850  female\n",
      "1336   21  25.800  female\n",
      "1337   61  29.070  female\n",
      "\n",
      "[1338 rows x 3 columns]\n"
     ]
    }
   ],
   "source": [
    "# Selecting 'age' , 'bmi' and 'gender' columns\n",
    "print(data[['age','bmi','gender']])"
   ]
  },
  {
   "cell_type": "markdown",
   "id": "97768e55-f4b8-4250-b9dd-b60314f5449e",
   "metadata": {},
   "source": [
    "5. **Select a subset of rows using the .loc method.**"
   ]
  },
  {
   "cell_type": "code",
   "execution_count": 50,
   "id": "ac257de1-836c-4cd3-8941-821e1f75134a",
   "metadata": {},
   "outputs": [
    {
     "name": "stdout",
     "output_type": "stream",
     "text": [
      "      Names  Marks Assignments\n",
      "0     Ahsan     40         yes\n",
      "1      Umer     79          no\n",
      "2  Abdullah     51         yes\n",
      "3      Anas     68          no\n",
      "4     Arqam     50          no\n",
      "\n",
      "Using loc Funciton\n",
      "\n",
      "      Names  Marks\n",
      "1      Umer     79\n",
      "2  Abdullah     51\n",
      "3      Anas     68\n",
      "4     Arqam     50\n",
      "5     Ashir     51\n"
     ]
    }
   ],
   "source": [
    "# Using my customly created Data in Task 12\n",
    "\n",
    "#randomly producing Marks Array\n",
    "marksArray = np.random.randint(40,90,10)\n",
    "\n",
    "#Creating Name Array\n",
    "namesArray = [\"Ahsan\",\"Umer\",\"Abdullah\",\"Anas\",\"Arqam\",\"Ashir\",\"Abdur Rehman\",\"Habib\",\"Rauhan\",\"Hassan\"]\n",
    "\n",
    "#Making Dataframe\n",
    "customData = pd.DataFrame(namesArray,columns = [\"Names\"])\n",
    "customData[\"Marks\"] = marksArray \n",
    "\n",
    "# Randomly producing Assignments columns\n",
    "customData[\"Assignments\"] = [\"yes\" if random.random()>0.5 else \"no\" for i in range(len(customData))]\n",
    "print(customData.head())\n",
    "\n",
    "print(\"\\nUsing loc Funciton\\n\")\n",
    "# using loc function \n",
    "print(customData.loc[1:5,[\"Names\",\"Marks\"]])"
   ]
  },
  {
   "cell_type": "markdown",
   "id": "46150eb4-8890-4910-b93d-96a37cd027a2",
   "metadata": {},
   "source": [
    "6. **Select a subset of rows and columns using the .iloc method.**"
   ]
  },
  {
   "cell_type": "code",
   "execution_count": 57,
   "id": "c788a135-4bee-4ac8-8026-a779dea21efb",
   "metadata": {},
   "outputs": [
    {
     "name": "stdout",
     "output_type": "stream",
     "text": [
      "      Names  Marks Assignments\n",
      "0     Ahsan     84          no\n",
      "1      Umer     61          no\n",
      "2  Abdullah     86         yes\n",
      "3      Anas     41          no\n",
      "4     Arqam     47          no\n",
      "\n",
      " Using iloc Function\n",
      "\n",
      "          Names Assignments\n",
      "5         Ashir         yes\n",
      "6  Abdur Rehman          no\n",
      "7         Habib          no\n",
      "8        Rauhan         yes\n",
      "9        Hassan          no\n"
     ]
    }
   ],
   "source": [
    "# Using my customly created Data in Task 12\n",
    "\n",
    "#randomly producing Marks Array\n",
    "marksArray = np.random.randint(40,90,10)\n",
    "\n",
    "#Creating Name Array\n",
    "namesArray = [\"Ahsan\",\"Umer\",\"Abdullah\",\"Anas\",\"Arqam\",\"Ashir\",\"Abdur Rehman\",\"Habib\",\"Rauhan\",\"Hassan\"]\n",
    "\n",
    "#Making Dataframe\n",
    "customData = pd.DataFrame(namesArray,columns = [\"Names\"])\n",
    "customData[\"Marks\"] = marksArray \n",
    "\n",
    "# Randomly producing Assignments columns\n",
    "customData[\"Assignments\"] = [\"yes\" if random.random()>0.5 else \"no\" for i in range(len(customData))]\n",
    "print(customData.head())\n",
    "\n",
    "print(\"\\n Using iloc Function\\n\")\n",
    "#Using iloc Function\n",
    "print(customData.iloc[5:,[0,2]]) #here i am making subset of rows after 5 rows and with columns (Names(0),Assignment(1))"
   ]
  },
  {
   "cell_type": "markdown",
   "id": "d4f4bc70-b6f4-44f0-8adc-e4bb00c9cd3b",
   "metadata": {},
   "source": [
    "7. **Filter rows based on a condition.**"
   ]
  },
  {
   "cell_type": "code",
   "execution_count": 65,
   "id": "a1ef92f6-380a-4210-a55b-f0ab1c71d63b",
   "metadata": {},
   "outputs": [
    {
     "name": "stdout",
     "output_type": "stream",
     "text": [
      "      age  gender     bmi  children smoker     region      charges\n",
      "23     34  female  31.920         1    yes  northeast  37701.87680\n",
      "34     28    male  36.400         1    yes  southwest  51194.55914\n",
      "38     35    male  36.670         1    yes  northeast  39774.27630\n",
      "49     36    male  35.200         1    yes  southeast  38709.17600\n",
      "52     48    male  28.000         1    yes  southwest  23568.27200\n",
      "...   ...     ...     ...       ...    ...        ...          ...\n",
      "1208   37  female  25.555         1    yes  northeast  20296.86345\n",
      "1218   46  female  34.600         1    yes  southwest  41661.60200\n",
      "1249   32    male  33.630         1    yes  northeast  37607.52770\n",
      "1278   39    male  29.925         1    yes  northeast  22462.04375\n",
      "1284   61    male  36.300         1    yes  southwest  47403.88000\n",
      "\n",
      "[61 rows x 7 columns]\n"
     ]
    }
   ],
   "source": [
    "# Now i am using my imported data 'insurance.csv'\n",
    "filteredData = data[(data['children']==1) & (data['smoker']=='yes')] # Now i am filtering data on the basis of childrens = 1 and should be smoker = 1\n",
    "print(filteredData)"
   ]
  },
  {
   "cell_type": "markdown",
   "id": "8743c43c-533a-4606-a371-25e546bf3220",
   "metadata": {},
   "source": [
    "8. **Group the DataFrame by a specific column and calculate the mean of each group.**"
   ]
  },
  {
   "cell_type": "code",
   "execution_count": 75,
   "id": "d00fe796-d536-4b05-a6bc-cb01797e4389",
   "metadata": {},
   "outputs": [
    {
     "name": "stdout",
     "output_type": "stream",
     "text": [
      "              age        bmi  children       charges\n",
      "gender                                              \n",
      "female  39.503021  30.377749  1.074018  12569.578844\n",
      "male    38.917160  30.943129  1.115385  13956.751178\n"
     ]
    }
   ],
   "source": [
    "# i am using 'insurance' dataset and grouping by gender\n",
    "groupedDataFrame = data.groupby(['gender'])\n",
    "meanGroupedData = groupedDataFrame.mean(numeric_only=True)\n",
    "print(meanGroupedData)"
   ]
  },
  {
   "cell_type": "markdown",
   "id": "540e7577-a4b0-4297-b89b-2aa43732b027",
   "metadata": {},
   "source": [
    "9. **Group the DataFrame by multiple columns and calculate the sum of each group.**\n"
   ]
  },
  {
   "cell_type": "code",
   "execution_count": 80,
   "id": "cc836c1f-eb59-4898-b1b1-3f4e6ba827bf",
   "metadata": {},
   "outputs": [
    {
     "name": "stdout",
     "output_type": "stream",
     "text": [
      "                     age        bmi  children       charges\n",
      "gender smoker                                              \n",
      "female no      39.691042  30.539525  1.087751   8762.297300\n",
      "       yes     38.608696  29.608261  1.008696  30678.996276\n",
      "male   no      39.061896  30.770580  1.092843   8087.204731\n",
      "       yes     38.446541  31.504182  1.188679  33042.005975\n"
     ]
    }
   ],
   "source": [
    "# i also using 'insurance' dataset\n",
    "multiGroupedData = data.groupby(['gender','smoker'])\n",
    "meanMultiGroupedData = multiGroupedData.mean(numeric_only = True)\n",
    "print(meanMultiGroupedData)"
   ]
  },
  {
   "cell_type": "markdown",
   "id": "810e7e4e-e2ce-4e83-ba01-3e330c8993d6",
   "metadata": {},
   "source": [
    "10. **Use the agg method to apply multiple aggregation functions to grouped data.**\n"
   ]
  },
  {
   "cell_type": "code",
   "execution_count": 94,
   "id": "ff6efe16-073f-45fb-8388-8e867fafaa57",
   "metadata": {},
   "outputs": [
    {
     "name": "stdout",
     "output_type": "stream",
     "text": [
      "\n",
      " Using Built-in Funciton\n",
      "\n",
      "            bmi           age\n",
      "sum   41027.625  52459.000000\n",
      "mean        NaN     39.207025\n",
      "\n",
      " Using Custom Funciton\n",
      "\n",
      "            bmi    age\n",
      "maxValue  53.13     64\n",
      "sum         NaN  52459\n"
     ]
    }
   ],
   "source": [
    "# using 'insurance' dataset\n",
    "\n",
    "#Using Built-in funcitons\n",
    "print(\"\\n Using Built-in Funciton\\n\")\n",
    "result = data.agg({\"bmi\":\"sum\", \"age\":[\"mean\",\"sum\"]})\n",
    "print(result)\n",
    "\n",
    "#Using Custom Function\n",
    "print(\"\\n Using Custom Funciton\\n\")\n",
    "\n",
    "def maxValue (data):\n",
    "    return data.max()\n",
    "result = data.agg({'bmi':maxValue,\"age\":[maxValue,\"sum\"]})\n",
    "print(result)\n",
    "    "
   ]
  },
  {
   "cell_type": "markdown",
   "id": "7baf515c-33a5-4993-8947-a52ea5f3504b",
   "metadata": {},
   "source": [
    "11. **Calculate the size of each group**"
   ]
  },
  {
   "cell_type": "code",
   "execution_count": 109,
   "id": "e0f79875-cb18-4e70-85b3-25dd42875a0c",
   "metadata": {},
   "outputs": [
    {
     "name": "stdout",
     "output_type": "stream",
     "text": [
      "\n",
      "Grouped Data\n",
      "\n",
      "                       age        bmi       charges\n",
      "gender children                                    \n",
      "female 0         38.346021  30.361522  11905.714276\n",
      "       1         39.506329  30.052658  12161.360414\n",
      "       2         40.512605  30.649790  13941.317326\n",
      "       3         42.181818  30.436429  13865.605066\n",
      "       4         42.000000  31.943182  13937.674562\n",
      "       5         37.000000  30.620625   9854.006419\n",
      "male   0         38.543860  30.741719  12832.696736\n",
      "       1         39.403614  31.166145  13273.522458\n",
      "       2         38.396694  31.300992  16187.095325\n",
      "       3         40.975000  30.922937  16789.167419\n",
      "       4         36.642857  30.957500  13782.284829\n",
      "       5         34.500000  28.792500   7931.658310\n",
      "\n",
      "Size Of Each Group\n",
      "\n",
      "gender  children\n",
      "female  0           289\n",
      "        1           158\n",
      "        2           119\n",
      "        3            77\n",
      "        4            11\n",
      "        5             8\n",
      "male    0           285\n",
      "        1           166\n",
      "        2           121\n",
      "        3            80\n",
      "        4            14\n",
      "        5            10\n",
      "dtype: int64\n"
     ]
    }
   ],
   "source": [
    "#Using \"insurance\" dataset\n",
    "print(\"\\nGrouped Data\\n\")\n",
    "filteredData = data.groupby([\"gender\",\"children\"])\n",
    "meanfilteredData = filteredData.mean(numeric_only=True)\n",
    "print(meanfilteredData)\n",
    "\n",
    "#For Checking Size of each group\n",
    "\n",
    "print(\"\\nSize Of Each Group\\n\")\n",
    "print(filteredData.size())"
   ]
  },
  {
   "cell_type": "markdown",
   "id": "db14cb7b-3023-4c35-85e9-65656e289b91",
   "metadata": {},
   "source": [
    "12. **Select rows based on multiple conditions.**"
   ]
  },
  {
   "cell_type": "code",
   "execution_count": 112,
   "id": "e6d057bb-e364-4c09-a4a7-1eeda034a2e7",
   "metadata": {},
   "outputs": [
    {
     "name": "stdout",
     "output_type": "stream",
     "text": [
      "      age gender    bmi  children smoker     region      charges\n",
      "62     64   male  24.70         1     no  northwest  30166.61817\n",
      "337    62   male  27.55         1     no  northwest  13937.66650\n",
      "379    62   male  31.46         1     no  southeast  27000.98473\n",
      "418    64   male  39.16         1     no  southeast  14418.28040\n",
      "475    61   male  28.31         1    yes  northwest  28868.66390\n",
      "717    60   male  24.32         1     no  northwest  13112.60480\n",
      "1068   63   male  21.66         1     no  northwest  14349.85440\n",
      "1284   61   male  36.30         1    yes  southwest  47403.88000\n"
     ]
    }
   ],
   "source": [
    "# Again using 'insurance' dataset\n",
    "\n",
    "# Now Selecting Row Baseds On The Male who is over 60 and have only 1 children\n",
    "\n",
    "filteredData = data[(data['gender']=='male')&(data['age']>=60)&(data['children']==1)]\n",
    "\n",
    "print(filteredData)"
   ]
  },
  {
   "cell_type": "markdown",
   "id": "d4c1e987-b280-4bd9-ba88-3e33db5731f6",
   "metadata": {},
   "source": [
    "13 **Use the query method to filter rows**."
   ]
  },
  {
   "cell_type": "code",
   "execution_count": 114,
   "id": "de06ebea-3a36-49b7-9ed3-e701b9e4e6a8",
   "metadata": {},
   "outputs": [
    {
     "name": "stdout",
     "output_type": "stream",
     "text": [
      "      age gender    bmi  children smoker     region      charges\n",
      "62     64   male  24.70         1     no  northwest  30166.61817\n",
      "337    62   male  27.55         1     no  northwest  13937.66650\n",
      "379    62   male  31.46         1     no  southeast  27000.98473\n",
      "418    64   male  39.16         1     no  southeast  14418.28040\n",
      "475    61   male  28.31         1    yes  northwest  28868.66390\n",
      "717    60   male  24.32         1     no  northwest  13112.60480\n",
      "1068   63   male  21.66         1     no  northwest  14349.85440\n",
      "1284   61   male  36.30         1    yes  southwest  47403.88000\n"
     ]
    }
   ],
   "source": [
    "# Now Applying Above Conditions using pandas query\n",
    "filteredData = data.query(\"gender == 'male' and age>=60 and children == 1\")\n",
    "print(filteredData)"
   ]
  },
  {
   "cell_type": "markdown",
   "id": "90d3ab1d-119d-4c4d-8dcc-83b0edb8f06a",
   "metadata": {},
   "source": [
    "14. **Use 'isin' to filter rows based on a list of values.**"
   ]
  },
  {
   "cell_type": "code",
   "execution_count": 126,
   "id": "020dba62-69e0-4fbd-af7f-e393d3cade8b",
   "metadata": {},
   "outputs": [
    {
     "name": "stdout",
     "output_type": "stream",
     "text": [
      "\n",
      "Data Based On Multiple Conditions\n",
      "\n",
      "      age gender    bmi  children smoker     region      charges\n",
      "62     64   male  24.70         1     no  northwest  30166.61817\n",
      "337    62   male  27.55         1     no  northwest  13937.66650\n",
      "379    62   male  31.46         1     no  southeast  27000.98473\n",
      "418    64   male  39.16         1     no  southeast  14418.28040\n",
      "475    61   male  28.31         1    yes  northwest  28868.66390\n",
      "717    60   male  24.32         1     no  northwest  13112.60480\n",
      "1068   63   male  21.66         1     no  northwest  14349.85440\n",
      "1284   61   male  36.30         1    yes  southwest  47403.88000\n"
     ]
    }
   ],
   "source": [
    "# Now Applying Above Condition using isin function\n",
    "print(\"\\nData Based On Multiple Conditions\\n\")\n",
    "ConditionalData1 = data['gender'].isin(['male'])\n",
    "ConditionalData2 = data['children'].isin([1])\n",
    "ConditionalData3 = data['age']>=60\n",
    "\n",
    "print(data[ConditionalData1 & ConditionalData2 & ConditionalData3])"
   ]
  },
  {
   "cell_type": "markdown",
   "id": "4a28ce4f-2a74-4712-ac6c-dea47ec03f2a",
   "metadata": {},
   "source": [
    "15. **Select specific columns and rename them**"
   ]
  },
  {
   "cell_type": "code",
   "execution_count": 136,
   "id": "950998f5-a4da-412c-9629-a2e433403318",
   "metadata": {},
   "outputs": [
    {
     "name": "stdout",
     "output_type": "stream",
     "text": [
      "\n",
      "Data Before Renaming\n",
      "\n",
      "   age  gender     bmi  children smoker     region      charges\n",
      "0   19  female  27.900         0    yes  southwest  16884.92400\n",
      "1   18    male  33.770         1     no  southeast   1725.55230\n",
      "2   28    male  33.000         3     no  southeast   4449.46200\n",
      "3   33    male  22.705         0     no  northwest  21984.47061\n",
      "4   32    male  28.880         0     no  northwest   3866.85520\n",
      "\n",
      "Data After Renaming\n"
     ]
    },
    {
     "data": {
      "text/html": [
       "<div>\n",
       "<style scoped>\n",
       "    .dataframe tbody tr th:only-of-type {\n",
       "        vertical-align: middle;\n",
       "    }\n",
       "\n",
       "    .dataframe tbody tr th {\n",
       "        vertical-align: top;\n",
       "    }\n",
       "\n",
       "    .dataframe thead th {\n",
       "        text-align: right;\n",
       "    }\n",
       "</style>\n",
       "<table border=\"1\" class=\"dataframe\">\n",
       "  <thead>\n",
       "    <tr style=\"text-align: right;\">\n",
       "      <th></th>\n",
       "      <th>Age</th>\n",
       "      <th>gender</th>\n",
       "      <th>Body Mass Index</th>\n",
       "      <th>children</th>\n",
       "      <th>smoker</th>\n",
       "      <th>region</th>\n",
       "      <th>charges</th>\n",
       "    </tr>\n",
       "  </thead>\n",
       "  <tbody>\n",
       "    <tr>\n",
       "      <th>0</th>\n",
       "      <td>19</td>\n",
       "      <td>female</td>\n",
       "      <td>27.900</td>\n",
       "      <td>0</td>\n",
       "      <td>yes</td>\n",
       "      <td>southwest</td>\n",
       "      <td>16884.92400</td>\n",
       "    </tr>\n",
       "    <tr>\n",
       "      <th>1</th>\n",
       "      <td>18</td>\n",
       "      <td>male</td>\n",
       "      <td>33.770</td>\n",
       "      <td>1</td>\n",
       "      <td>no</td>\n",
       "      <td>southeast</td>\n",
       "      <td>1725.55230</td>\n",
       "    </tr>\n",
       "    <tr>\n",
       "      <th>2</th>\n",
       "      <td>28</td>\n",
       "      <td>male</td>\n",
       "      <td>33.000</td>\n",
       "      <td>3</td>\n",
       "      <td>no</td>\n",
       "      <td>southeast</td>\n",
       "      <td>4449.46200</td>\n",
       "    </tr>\n",
       "    <tr>\n",
       "      <th>3</th>\n",
       "      <td>33</td>\n",
       "      <td>male</td>\n",
       "      <td>22.705</td>\n",
       "      <td>0</td>\n",
       "      <td>no</td>\n",
       "      <td>northwest</td>\n",
       "      <td>21984.47061</td>\n",
       "    </tr>\n",
       "    <tr>\n",
       "      <th>4</th>\n",
       "      <td>32</td>\n",
       "      <td>male</td>\n",
       "      <td>28.880</td>\n",
       "      <td>0</td>\n",
       "      <td>no</td>\n",
       "      <td>northwest</td>\n",
       "      <td>3866.85520</td>\n",
       "    </tr>\n",
       "  </tbody>\n",
       "</table>\n",
       "</div>"
      ],
      "text/plain": [
       "   Age  gender  Body Mass Index  children smoker     region      charges\n",
       "0   19  female           27.900         0    yes  southwest  16884.92400\n",
       "1   18    male           33.770         1     no  southeast   1725.55230\n",
       "2   28    male           33.000         3     no  southeast   4449.46200\n",
       "3   33    male           22.705         0     no  northwest  21984.47061\n",
       "4   32    male           28.880         0     no  northwest   3866.85520"
      ]
     },
     "execution_count": 136,
     "metadata": {},
     "output_type": "execute_result"
    }
   ],
   "source": [
    "#Renaming 'bmi' to 'Body Mass Index' and 'age' to 'Age'\n",
    "data = pd.read_csv('insurance.csv') #importing data so that it rename to origral everytime this cell runs\n",
    "print(\"\\nData Before Renaming\\n\")\n",
    "print(data.head())\n",
    "\n",
    "print(\"\\nData After Renaming\")\n",
    "data.rename(columns = {'bmi':\"Body Mass Index\",\"age\":\"Age\"},inplace=True)\n",
    "data.head()"
   ]
  },
  {
   "cell_type": "markdown",
   "id": "210236de-d024-4088-a7b1-9f74ff65bd46",
   "metadata": {},
   "source": [
    "# Mini Project\n",
    "## Analyzing Sales Data\n",
    "\n",
    "1. **Loading the Data**"
   ]
  },
  {
   "cell_type": "code",
   "execution_count": 159,
   "id": "f60c23c5-dac0-4358-be78-b97aecc91441",
   "metadata": {},
   "outputs": [
    {
     "name": "stdout",
     "output_type": "stream",
     "text": [
      "           Region         Category    Product  Quantity  UnitPrice\n",
      "OrderDate                                                         \n",
      "2023-01-01   East  Office Supplies       Pens        10       1.99\n",
      "2023-01-02   West       Technology     Laptop         2     899.99\n",
      "2023-01-02   East        Furniture      Chair         5      49.99\n",
      "2023-01-03  South  Office Supplies  Notebooks         3       4.99\n",
      "2023-01-04   West       Technology      Mouse        15      19.99\n",
      "        Quantity   UnitPrice\n",
      "count  21.000000   21.000000\n",
      "mean    5.238095  156.656667\n",
      "std     4.773937  233.999003\n",
      "min     1.000000    0.990000\n",
      "25%     2.000000    4.990000\n",
      "50%     4.000000   49.990000\n",
      "75%     6.000000  199.990000\n",
      "max    20.000000  899.990000\n",
      "['Office Supplies' 'Technology' 'Furniture']\n"
     ]
    }
   ],
   "source": [
    "# Sales data taken from chatGPT\n",
    "salesData = pd.read_csv('sales.csv')\n",
    "#Setting OrderDate As Index so i can do time based analysis\n",
    "salesData.set_index(\"OrderDate\",inplace = True)\n",
    "print(salesData.head())\n",
    "print(salesData.describe())\n"
   ]
  },
  {
   "cell_type": "code",
   "execution_count": 191,
   "id": "f4c87423-8662-4139-acda-44e7ecbe1aac",
   "metadata": {},
   "outputs": [
    {
     "name": "stdout",
     "output_type": "stream",
     "text": [
      "\n",
      "All Categories\n",
      "\n",
      "['Office Supplies' 'Technology' 'Furniture']\n",
      "\n",
      "All Products\n",
      "\n",
      "['Pens' 'Laptop' 'Chair' 'Notebooks' 'Mouse' 'Pencils' 'Desk' 'Keyboard'\n",
      " 'Paper' 'Table' 'Monitor' 'Stapler' 'Printer' 'Markers' 'Sofa' 'Scissors'\n",
      " 'Tablet' 'File Folders' 'Bookshelf' 'Headphones' 'Tape']\n"
     ]
    }
   ],
   "source": [
    "print(\"\\nAll Categories\\n\")\n",
    "print(salesData.Category.unique())\n",
    "print(\"\\nAll Products\\n\")\n",
    "print(salesData.Product.unique())"
   ]
  },
  {
   "cell_type": "markdown",
   "id": "1cc5b521-10b7-4c91-b43b-47e5c2c10704",
   "metadata": {},
   "source": [
    "2. **Data Filtering and Selection**"
   ]
  },
  {
   "cell_type": "code",
   "execution_count": 212,
   "id": "2dd6c13e-7169-4b8e-a59c-4661aacfcb5a",
   "metadata": {},
   "outputs": [
    {
     "name": "stdout",
     "output_type": "stream",
     "text": [
      "Total Sales In East Region: 2936.4300000000003\n",
      "\n",
      "Total Sales In West Region: 3648.5999999999995\n",
      "\n",
      "Total Sales In South Region: 638.87\n",
      "\n",
      "Total Sales In North Region: 0.0\n",
      "\n",
      "Total Sales In Office Supply Category : 294.34\n",
      "\n",
      "Total Sales In Technology Category: 4599.67\n",
      "\n",
      "Total Sales In Furniture Category: 2329.8900000000003\n",
      "\n",
      "Sales Of First 10 Days: 1533.9\n",
      "\n",
      "Sales Of Last 10 Days: 1755.89\n",
      "\n",
      "The Total Sales Of Pens: 19.9\n",
      "\n",
      "The Highest Quantity Sold is: 20 Which is Paper\n",
      "\n",
      "\n",
      "The Lowest Quantity Sold is: 1 Which is Table\n",
      "\n"
     ]
    },
    {
     "name": "stderr",
     "output_type": "stream",
     "text": [
      "C:\\Users\\Syed Abdullah\\AppData\\Local\\Temp\\ipykernel_15680\\721457509.py:6: SettingWithCopyWarning: \n",
      "A value is trying to be set on a copy of a slice from a DataFrame.\n",
      "Try using .loc[row_indexer,col_indexer] = value instead\n",
      "\n",
      "See the caveats in the documentation: https://pandas.pydata.org/pandas-docs/stable/user_guide/indexing.html#returning-a-view-versus-a-copy\n",
      "  eastSales['Total Sales']= eastSales['UnitPrice'] * eastSales[\"Quantity\"]\n",
      "C:\\Users\\Syed Abdullah\\AppData\\Local\\Temp\\ipykernel_15680\\721457509.py:7: SettingWithCopyWarning: \n",
      "A value is trying to be set on a copy of a slice from a DataFrame.\n",
      "Try using .loc[row_indexer,col_indexer] = value instead\n",
      "\n",
      "See the caveats in the documentation: https://pandas.pydata.org/pandas-docs/stable/user_guide/indexing.html#returning-a-view-versus-a-copy\n",
      "  westSales['Total Sales']= westSales['UnitPrice'] * westSales[\"Quantity\"]\n",
      "C:\\Users\\Syed Abdullah\\AppData\\Local\\Temp\\ipykernel_15680\\721457509.py:8: SettingWithCopyWarning: \n",
      "A value is trying to be set on a copy of a slice from a DataFrame.\n",
      "Try using .loc[row_indexer,col_indexer] = value instead\n",
      "\n",
      "See the caveats in the documentation: https://pandas.pydata.org/pandas-docs/stable/user_guide/indexing.html#returning-a-view-versus-a-copy\n",
      "  southSales['Total Sales']= southSales['UnitPrice'] * southSales[\"Quantity\"]\n",
      "C:\\Users\\Syed Abdullah\\AppData\\Local\\Temp\\ipykernel_15680\\721457509.py:21: SettingWithCopyWarning: \n",
      "A value is trying to be set on a copy of a slice from a DataFrame.\n",
      "Try using .loc[row_indexer,col_indexer] = value instead\n",
      "\n",
      "See the caveats in the documentation: https://pandas.pydata.org/pandas-docs/stable/user_guide/indexing.html#returning-a-view-versus-a-copy\n",
      "  officeSupSales['Total Sales'] = officeSupSales['UnitPrice'] * officeSupSales['Quantity']\n",
      "C:\\Users\\Syed Abdullah\\AppData\\Local\\Temp\\ipykernel_15680\\721457509.py:22: SettingWithCopyWarning: \n",
      "A value is trying to be set on a copy of a slice from a DataFrame.\n",
      "Try using .loc[row_indexer,col_indexer] = value instead\n",
      "\n",
      "See the caveats in the documentation: https://pandas.pydata.org/pandas-docs/stable/user_guide/indexing.html#returning-a-view-versus-a-copy\n",
      "  technologySales['Total Sales'] = technologySales['UnitPrice'] * technologySales['Quantity']\n",
      "C:\\Users\\Syed Abdullah\\AppData\\Local\\Temp\\ipykernel_15680\\721457509.py:23: SettingWithCopyWarning: \n",
      "A value is trying to be set on a copy of a slice from a DataFrame.\n",
      "Try using .loc[row_indexer,col_indexer] = value instead\n",
      "\n",
      "See the caveats in the documentation: https://pandas.pydata.org/pandas-docs/stable/user_guide/indexing.html#returning-a-view-versus-a-copy\n",
      "  furnitureSales['Total Sales'] = furnitureSales['UnitPrice'] * furnitureSales['Quantity']\n",
      "C:\\Users\\Syed Abdullah\\AppData\\Local\\Temp\\ipykernel_15680\\721457509.py:47: SettingWithCopyWarning: \n",
      "A value is trying to be set on a copy of a slice from a DataFrame.\n",
      "Try using .loc[row_indexer,col_indexer] = value instead\n",
      "\n",
      "See the caveats in the documentation: https://pandas.pydata.org/pandas-docs/stable/user_guide/indexing.html#returning-a-view-versus-a-copy\n",
      "  penSales[\"Total Sales\"] = penSales['Quantity']*penSales['UnitPrice']\n"
     ]
    }
   ],
   "source": [
    "#Finding Sales Data Region Wise\n",
    "eastSales = salesData[salesData[\"Region\"]==\"East\"]\n",
    "westSales = salesData[salesData[\"Region\"]=='West']\n",
    "southSales = salesData[salesData[\"Region\"]=='South']\n",
    "northSales = salesData[salesData[\"Region\"]=='North']\n",
    "eastSales['Total Sales']= eastSales['UnitPrice'] * eastSales[\"Quantity\"]\n",
    "westSales['Total Sales']= westSales['UnitPrice'] * westSales[\"Quantity\"]\n",
    "southSales['Total Sales']= southSales['UnitPrice'] * southSales[\"Quantity\"]\n",
    "northSales['Total Sales']= northSales['UnitPrice'] * northSales[\"Quantity\"]\n",
    "\n",
    "\n",
    "print(f\"Total Sales In East Region: {eastSales[\"Total Sales\"].sum()}\\n\")\n",
    "print(f\"Total Sales In West Region: {westSales['Total Sales'].sum()}\\n\")\n",
    "print(f\"Total Sales In South Region: {southSales['Total Sales'].sum()}\\n\")\n",
    "print(f\"Total Sales In North Region: {northSales['Total Sales'].sum()}\\n\")\n",
    "\n",
    "#Finding Sales Data Category Wise\n",
    "officeSupSales= salesData[salesData[\"Category\"]==\"Office Supplies\"]\n",
    "technologySales= salesData[salesData[\"Category\"]==\"Technology\"]\n",
    "furnitureSales= salesData[salesData[\"Category\"]==\"Furniture\"]\n",
    "officeSupSales['Total Sales'] = officeSupSales['UnitPrice'] * officeSupSales['Quantity']\n",
    "technologySales['Total Sales'] = technologySales['UnitPrice'] * technologySales['Quantity']\n",
    "furnitureSales['Total Sales'] = furnitureSales['UnitPrice'] * furnitureSales['Quantity']\n",
    "\n",
    "print(f\"Total Sales In Office Supply Category : {officeSupSales['Total Sales'].sum()}\\n\")\n",
    "print(f\"Total Sales In Technology Category: {technologySales['Total Sales'].sum()}\\n\")\n",
    "print(f\"Total Sales In Furniture Category: {furnitureSales['Total Sales'].sum()}\\n\")\n",
    "\n",
    "# Converting OrderDate datatype to Datetime\n",
    "salesData.index= pd.to_datetime(salesData.index)\n",
    "\n",
    "\n",
    "\n",
    "#Finding Sales Of First 10 Days\n",
    "\n",
    "\n",
    "salesFirst10days = salesData[(salesData.index>='2023-01-01')&(salesData.index<'2023-01-10')]\n",
    "print(f\"Sales Of First 10 Days: {salesFirst10days['UnitPrice'].sum()}\\n\")\n",
    "\n",
    "#Finding Sales Of Last 10 Days\n",
    "salesLast10days = salesData[(salesData.index>='2023-01-10')&(salesData.index<='2023-01-20')]\n",
    "print(f\"Sales Of Last 10 Days: {salesLast10days['UnitPrice'].sum()}\\n\")\n",
    "\n",
    "\n",
    "#Finding Sales Product Wise\n",
    "penSales = salesData.loc[salesData['Product']==\"Pens\"]\n",
    "penSales[\"Total Sales\"] = penSales['Quantity']*penSales['UnitPrice']\n",
    "totalPenSales = penSales['Total Sales'].sum()\n",
    "\n",
    "print(f\"The Total Sales Of Pens: {totalPenSales}\")\n",
    "\n",
    "\n",
    "#Finding The highest quantity sold\n",
    "highestQuantityProduct = salesData.loc[salesData[\"Quantity\"].idxmax()]\n",
    "print(f\"\\nThe Highest Quantity Sold is: {highestQuantityProduct['Quantity']} Which is {highestQuantityProduct[\"Product\"]}\\n\")\n",
    "\n",
    "\n",
    "#Finding The lowest quantity sold\n",
    "lowestQuantityProduct = salesData.loc[salesData[\"Quantity\"].idxmin()]\n",
    "print(f\"\\nThe Lowest Quantity Sold is: {lowestQuantityProduct['Quantity']} Which is {lowestQuantityProduct[\"Product\"]}\\n\")\n"
   ]
  }
 ],
 "metadata": {
  "kernelspec": {
   "display_name": "Python 3 (ipykernel)",
   "language": "python",
   "name": "python3"
  },
  "language_info": {
   "codemirror_mode": {
    "name": "ipython",
    "version": 3
   },
   "file_extension": ".py",
   "mimetype": "text/x-python",
   "name": "python",
   "nbconvert_exporter": "python",
   "pygments_lexer": "ipython3",
   "version": "3.12.2"
  }
 },
 "nbformat": 4,
 "nbformat_minor": 5
}
