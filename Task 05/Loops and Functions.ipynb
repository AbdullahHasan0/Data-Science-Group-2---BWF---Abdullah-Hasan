{
 "cells": [
  {
   "cell_type": "markdown",
   "id": "b1d5743b-ed42-4e2a-a5a8-f3fbb7867a44",
   "metadata": {},
   "source": [
    "# LOOPS\n",
    "\n",
    "### Types Of Loops\n",
    "1. for\n",
    "2. while"
   ]
  },
  {
   "cell_type": "markdown",
   "id": "5a5e9c80-2c2c-44fb-af83-bab568f6fe75",
   "metadata": {},
   "source": [
    "## For Loop\n",
    "Practice Code\n",
    "\n",
    "## Printing Number Table\n"
   ]
  },
  {
   "cell_type": "code",
   "execution_count": 2,
   "id": "d7bf9e19-d28f-4d0e-92ef-76da79d59892",
   "metadata": {},
   "outputs": [
    {
     "name": "stdin",
     "output_type": "stream",
     "text": [
      "Enter Any Number : \n",
      " 12\n",
      "How Many Multiples you want ?: \n",
      "  10\n"
     ]
    },
    {
     "name": "stdout",
     "output_type": "stream",
     "text": [
      "12 x 1 = 12\n",
      "12 x 2 = 24\n",
      "12 x 3 = 36\n",
      "12 x 4 = 48\n",
      "12 x 5 = 60\n",
      "12 x 6 = 72\n",
      "12 x 7 = 84\n",
      "12 x 8 = 96\n",
      "12 x 9 = 108\n",
      "12 x 10 = 120\n"
     ]
    }
   ],
   "source": [
    "num = int(input(\"Enter Any Number : \\n\")) # Input : Enter any number\n",
    "mul = int (input(\"How Many Multiples you want ?: \\n \")) # Input : Enter how much longer the table is. \n",
    "for i in range (1,mul+1): # Run the loop from 1 to mul\n",
    "    print(f\"{num} x {i} = {num*i}\") # Print the table"
   ]
  },
  {
   "cell_type": "markdown",
   "id": "f2fbb712-b37b-4dcd-a072-5efc2b64343b",
   "metadata": {},
   "source": [
    "## Factorial Calculation"
   ]
  },
  {
   "cell_type": "code",
   "execution_count": 6,
   "id": "55ced8e9-47ee-41d6-9bcd-b5e477ee0c83",
   "metadata": {},
   "outputs": [
    {
     "name": "stdin",
     "output_type": "stream",
     "text": [
      "Enter A Number :\n",
      " 10\n"
     ]
    },
    {
     "name": "stdout",
     "output_type": "stream",
     "text": [
      "3628800\n"
     ]
    }
   ],
   "source": [
    "num = int(input(\"Enter A Number :\\n\")) # Input : Enter number\n",
    "sum = 1 # Sum = 1 because Fictorial of 0 and 1 is 1\n",
    "for i in range (2,num+1): # Loop run from 2 to num\n",
    "    sum *= i # add sum * i into sum\n",
    "\n",
    "print(sum)\n",
    "    \n",
    "    "
   ]
  },
  {
   "cell_type": "markdown",
   "id": "b4bb161a-ccd3-4d28-a652-52186f57f26e",
   "metadata": {},
   "source": [
    "## String Reversal"
   ]
  },
  {
   "cell_type": "code",
   "execution_count": 25,
   "id": "f81fba9e-43ff-4f58-ab30-2b6e1149f036",
   "metadata": {},
   "outputs": [
    {
     "name": "stdout",
     "output_type": "stream",
     "text": [
      "DLROW ,OLLEH\n"
     ]
    }
   ],
   "source": [
    "str = \"HELLO, WORLD\" #Given string\n",
    "new_str = \"\" #New string \n",
    "for i in range(len(str)-1,-1,-1): #Loop run from lenght of 'str' from 0 .\n",
    "    new_str += str[i]\n",
    "\n",
    "print(new_str)\n",
    "    "
   ]
  },
  {
   "cell_type": "markdown",
   "id": "b8319a38-01f7-40ee-92d5-1b5542a329d8",
   "metadata": {},
   "source": [
    "## While Loop\n",
    "Practice Codes same as above , but now using while loop\n",
    "\n",
    "## Printing Number Table"
   ]
  },
  {
   "cell_type": "code",
   "execution_count": 27,
   "id": "22b4fbeb-82a9-4900-b3b7-817e121a6424",
   "metadata": {},
   "outputs": [
    {
     "name": "stdin",
     "output_type": "stream",
     "text": [
      "Enter A Number 10\n",
      "How Many Multiples You Want 9\n"
     ]
    },
    {
     "name": "stdout",
     "output_type": "stream",
     "text": [
      "10 x 1 = 10\n",
      "10 x 2 = 20\n",
      "10 x 3 = 30\n",
      "10 x 4 = 40\n",
      "10 x 5 = 50\n",
      "10 x 6 = 60\n",
      "10 x 7 = 70\n",
      "10 x 8 = 80\n",
      "10 x 9 = 90\n"
     ]
    }
   ],
   "source": [
    "num = int(input(\"Enter A Number\"))\n",
    "mul = int(input(\"How Many Multiples You Want\"))\n",
    "i = 1 \n",
    "while (i <= mul):\n",
    "    print(f\"{num} x {i} = {num*i}\")\n",
    "    i+=1"
   ]
  },
  {
   "cell_type": "markdown",
   "id": "b2fa81e3-e96e-4fda-afe6-882b34c63b2b",
   "metadata": {},
   "source": [
    "## Factorial Calculation"
   ]
  },
  {
   "cell_type": "code",
   "execution_count": 31,
   "id": "d508a6dd-6276-43da-b1e2-b190431eb3de",
   "metadata": {},
   "outputs": [
    {
     "name": "stdin",
     "output_type": "stream",
     "text": [
      "Enter A Number :\n",
      " 3\n"
     ]
    },
    {
     "name": "stdout",
     "output_type": "stream",
     "text": [
      "6\n"
     ]
    }
   ],
   "source": [
    "num = int(input(\"Enter A Number :\\n\"))\n",
    "i = 2\n",
    "sum = 1 \n",
    "while (i <= num):\n",
    "    sum*=i\n",
    "    i+=1\n",
    "\n",
    "print(sum)\n",
    "    "
   ]
  },
  {
   "cell_type": "markdown",
   "id": "adfa2e7f-ff69-4b0c-93a0-7449bdefda0d",
   "metadata": {},
   "source": [
    "##  String  Reversal"
   ]
  },
  {
   "cell_type": "code",
   "execution_count": 34,
   "id": "a7999210-b695-41df-850b-4c4e9027f571",
   "metadata": {},
   "outputs": [
    {
     "name": "stdout",
     "output_type": "stream",
     "text": [
      "DLROW ,OLLEH\n"
     ]
    }
   ],
   "source": [
    "str = \"HELLO, WORLD\"\n",
    "new_str = \"\"\n",
    "i = len(str)-1\n",
    "while (i >= 0):\n",
    "    new_str += str[i]\n",
    "    i-=1\n",
    "\n",
    "print(new_str)"
   ]
  },
  {
   "cell_type": "markdown",
   "id": "fc05ef03-5132-48e5-af99-d1cc953a9f0d",
   "metadata": {},
   "source": [
    "## FUNCTIONS\n",
    "\n",
    "## Function for checking if number is even or odd"
   ]
  },
  {
   "cell_type": "code",
   "execution_count": 40,
   "id": "ab50632b-6405-407e-b8eb-a7422a386d20",
   "metadata": {},
   "outputs": [
    {
     "data": {
      "text/plain": [
       "'Number is even'"
      ]
     },
     "execution_count": 40,
     "metadata": {},
     "output_type": "execute_result"
    }
   ],
   "source": [
    "def evenorodd(num):\n",
    "    if (num%2==0):\n",
    "        return \"Number is even\"\n",
    "    else:\n",
    "        return \"Number is odd\"\n",
    "\n",
    "evenorodd(8)"
   ]
  },
  {
   "cell_type": "markdown",
   "id": "a3f66428-5f97-4f70-8ed8-56ca58cf314d",
   "metadata": {},
   "source": [
    "## Function to check can a string convert to number or not"
   ]
  },
  {
   "cell_type": "code",
   "execution_count": 68,
   "id": "689d6970-e060-4b9e-81ca-d36a75c19662",
   "metadata": {},
   "outputs": [
    {
     "name": "stdout",
     "output_type": "stream",
     "text": [
      "Not Possible\n"
     ]
    }
   ],
   "source": [
    "def canConvert (str):\n",
    "    try :\n",
    "        if(type(int(str))== type(0)):\n",
    "            return \"Possible\"\n",
    "    except:\n",
    "        return(\"Not Possible\")\n",
    "\n",
    "# print(type(int(\"321o\")))\n",
    "print(canConvert(\"-321*2\"))"
   ]
  },
  {
   "cell_type": "code",
   "execution_count": null,
   "id": "b1472bd7-206e-4815-9729-04d183f7419c",
   "metadata": {},
   "outputs": [],
   "source": []
  }
 ],
 "metadata": {
  "kernelspec": {
   "display_name": "Python 3 (ipykernel)",
   "language": "python",
   "name": "python3"
  },
  "language_info": {
   "codemirror_mode": {
    "name": "ipython",
    "version": 3
   },
   "file_extension": ".py",
   "mimetype": "text/x-python",
   "name": "python",
   "nbconvert_exporter": "python",
   "pygments_lexer": "ipython3",
   "version": "3.12.2"
  }
 },
 "nbformat": 4,
 "nbformat_minor": 5
}
