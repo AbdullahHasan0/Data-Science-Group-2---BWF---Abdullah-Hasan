{
 "cells": [
  {
   "cell_type": "markdown",
   "metadata": {},
   "source": [
    "<h1 align = 'center'> <font color = 'yellow'>Feature Engineering</font></h1>"
   ]
  },
  {
   "cell_type": "markdown",
   "metadata": {},
   "source": [
    "<h1 align = \"center\"> <font color = 'green'> Task 1: Feature Selection </font></h1>\n",
    "\n"
   ]
  },
  {
   "cell_type": "markdown",
   "metadata": {},
   "source": [
    "#### What is Feature Selection ? \n",
    "\n",
    "Feature selection is the process of selecting the most relevant features (variables) from a dataset for use in machine learning models. It helps improve the accuracy and efficiency of the models by reducing the redundancy and noise in the dataset.It is usually used as a pre-processing step before doing the actual learning.\n",
    "\n",
    "---\n",
    "<h4 align = 'center' ><font color = lime> Types Of Features Selection Methods</font></h4>   \n",
    "\n",
    "---\n",
    "\n",
    "---\n",
    "\n",
    "<h3 align = 'center'><font color = \"#1589FF\">Supervised Feature Selection </font></h3>\n",
    "\n",
    "---\n",
    "#### What are Supervised Features Selection ?\n",
    "\n",
    "Supervised feature selection methods involve training a model with labeled data to predict the target variable. The selected features are then considered relevant based on their importance or relevance to the model's performance.\n",
    "\n",
    "#### Methods:\n",
    "\n",
    "- Filter Methods:  These methods evaluate the relevance of features based on their intrinsic statistical properties(like mean , variance , Correlation, Distribution ,etc). Features that show strong statistical relationships with the target variable are considered relevant. Some of the common algorithms used in filter methods are:\n",
    "\n",
    "  - Pearson Correlation Coefficient (Pearson's r)\n",
    "  - Chi Squared\n",
    "  - ANOVA Coefficient\n",
    "\n",
    "- Wrapper Methods: These methods evaluate a subset of features and select the best subset based on a given criterion (e.g., accuracy, F1 score). Some examples are given below:\n",
    "\n",
    "  - Recursive Feature Elimination (RFE)\n",
    "  - Genetic Algorithms\n",
    "\n",
    "- Embedded Methods: These methods learn the feature importance during the model training process.Some of the algorithms are given below:\n",
    "\n",
    "  - Lasso Regularization\n",
    "  - Decision Tree\n",
    "\n",
    "---\n",
    "\n",
    "<h3 align = center><font color = 'AAF0D1'>Unsupervised Features Selection </font></h3>\n",
    "\n",
    "---\n",
    "\n",
    "#### What are Unsupervised Features Selection ?\n",
    "\n",
    "Unsupervised feature selection methods involve uncovering patterns and relationships within the dataset without the target variable. These methods are useful for dimensionality reduction, anomaly detection, and clustering.\n",
    "\n",
    "--- \n",
    "\n",
    "\n",
    "\n",
    "Based on the input and target variables , we can choose our feature selection methods.\n",
    "\n",
    "For example:\n",
    "\n",
    "* Input (Numerical) -> Output (Numerical)\n",
    "\n",
    "we can use pearson's correlation coefficient method.\n",
    "\n",
    "* Input (Categorical) -> Output (Categorical)\n",
    "\n",
    "we can use chi-square method.\n",
    "\n",
    "* Input (Numerical) -> Output (Categorical)\n",
    "\n",
    "we can use ANOVA method.\n",
    "\n",
    "---\n",
    "\n"
   ]
  },
  {
   "cell_type": "markdown",
   "metadata": {},
   "source": [
    "<h2 align = center><font color = '00A36C'> Importing Necessary Libraries 📚 </h2></font>\n",
    "\n",
    "---"
   ]
  },
  {
   "cell_type": "code",
   "execution_count": 62,
   "metadata": {},
   "outputs": [],
   "source": [
    "import numpy as np\n",
    "import pandas as pd\n",
    "import seaborn as sns\n",
    "import matplotlib.pyplot as plt"
   ]
  },
  {
   "cell_type": "markdown",
   "metadata": {},
   "source": [
    "\n",
    "---\n",
    "<h2 align = center> Importing Built-in Dataset from Seaborn 📄</h2>\n",
    "\n",
    "---"
   ]
  },
  {
   "cell_type": "code",
   "execution_count": 63,
   "metadata": {},
   "outputs": [],
   "source": [
    "data = sns.load_dataset('diamonds')"
   ]
  },
  {
   "cell_type": "markdown",
   "metadata": {},
   "source": [
    "---\n",
    "<h2 align = center> <font color = \"#728C00\"> Data Exploration 🔍 </font></h2>   \n",
    "\n",
    "---"
   ]
  },
  {
   "cell_type": "markdown",
   "metadata": {},
   "source": [
    "### Data Columns"
   ]
  },
  {
   "cell_type": "code",
   "execution_count": 64,
   "metadata": {},
   "outputs": [
    {
     "data": {
      "text/plain": [
       "Index(['carat', 'cut', 'color', 'clarity', 'depth', 'table', 'price', 'x', 'y',\n",
       "       'z'],\n",
       "      dtype='object')"
      ]
     },
     "execution_count": 64,
     "metadata": {},
     "output_type": "execute_result"
    }
   ],
   "source": [
    "data.columns"
   ]
  },
  {
   "cell_type": "markdown",
   "metadata": {},
   "source": [
    "### Dataset Features Datatypes"
   ]
  },
  {
   "cell_type": "code",
   "execution_count": 65,
   "metadata": {},
   "outputs": [
    {
     "data": {
      "text/plain": [
       "carat       float64\n",
       "cut        category\n",
       "color      category\n",
       "clarity    category\n",
       "depth       float64\n",
       "table       float64\n",
       "price         int64\n",
       "x           float64\n",
       "y           float64\n",
       "z           float64\n",
       "dtype: object"
      ]
     },
     "execution_count": 65,
     "metadata": {},
     "output_type": "execute_result"
    }
   ],
   "source": [
    "data.dtypes"
   ]
  },
  {
   "cell_type": "markdown",
   "metadata": {},
   "source": [
    "### Data Head"
   ]
  },
  {
   "cell_type": "code",
   "execution_count": 66,
   "metadata": {},
   "outputs": [
    {
     "data": {
      "text/html": [
       "<div>\n",
       "<style scoped>\n",
       "    .dataframe tbody tr th:only-of-type {\n",
       "        vertical-align: middle;\n",
       "    }\n",
       "\n",
       "    .dataframe tbody tr th {\n",
       "        vertical-align: top;\n",
       "    }\n",
       "\n",
       "    .dataframe thead th {\n",
       "        text-align: right;\n",
       "    }\n",
       "</style>\n",
       "<table border=\"1\" class=\"dataframe\">\n",
       "  <thead>\n",
       "    <tr style=\"text-align: right;\">\n",
       "      <th></th>\n",
       "      <th>carat</th>\n",
       "      <th>cut</th>\n",
       "      <th>color</th>\n",
       "      <th>clarity</th>\n",
       "      <th>depth</th>\n",
       "      <th>table</th>\n",
       "      <th>price</th>\n",
       "      <th>x</th>\n",
       "      <th>y</th>\n",
       "      <th>z</th>\n",
       "    </tr>\n",
       "  </thead>\n",
       "  <tbody>\n",
       "    <tr>\n",
       "      <th>0</th>\n",
       "      <td>0.23</td>\n",
       "      <td>Ideal</td>\n",
       "      <td>E</td>\n",
       "      <td>SI2</td>\n",
       "      <td>61.5</td>\n",
       "      <td>55.0</td>\n",
       "      <td>326</td>\n",
       "      <td>3.95</td>\n",
       "      <td>3.98</td>\n",
       "      <td>2.43</td>\n",
       "    </tr>\n",
       "    <tr>\n",
       "      <th>1</th>\n",
       "      <td>0.21</td>\n",
       "      <td>Premium</td>\n",
       "      <td>E</td>\n",
       "      <td>SI1</td>\n",
       "      <td>59.8</td>\n",
       "      <td>61.0</td>\n",
       "      <td>326</td>\n",
       "      <td>3.89</td>\n",
       "      <td>3.84</td>\n",
       "      <td>2.31</td>\n",
       "    </tr>\n",
       "    <tr>\n",
       "      <th>2</th>\n",
       "      <td>0.23</td>\n",
       "      <td>Good</td>\n",
       "      <td>E</td>\n",
       "      <td>VS1</td>\n",
       "      <td>56.9</td>\n",
       "      <td>65.0</td>\n",
       "      <td>327</td>\n",
       "      <td>4.05</td>\n",
       "      <td>4.07</td>\n",
       "      <td>2.31</td>\n",
       "    </tr>\n",
       "    <tr>\n",
       "      <th>3</th>\n",
       "      <td>0.29</td>\n",
       "      <td>Premium</td>\n",
       "      <td>I</td>\n",
       "      <td>VS2</td>\n",
       "      <td>62.4</td>\n",
       "      <td>58.0</td>\n",
       "      <td>334</td>\n",
       "      <td>4.20</td>\n",
       "      <td>4.23</td>\n",
       "      <td>2.63</td>\n",
       "    </tr>\n",
       "    <tr>\n",
       "      <th>4</th>\n",
       "      <td>0.31</td>\n",
       "      <td>Good</td>\n",
       "      <td>J</td>\n",
       "      <td>SI2</td>\n",
       "      <td>63.3</td>\n",
       "      <td>58.0</td>\n",
       "      <td>335</td>\n",
       "      <td>4.34</td>\n",
       "      <td>4.35</td>\n",
       "      <td>2.75</td>\n",
       "    </tr>\n",
       "  </tbody>\n",
       "</table>\n",
       "</div>"
      ],
      "text/plain": [
       "   carat      cut color clarity  depth  table  price     x     y     z\n",
       "0   0.23    Ideal     E     SI2   61.5   55.0    326  3.95  3.98  2.43\n",
       "1   0.21  Premium     E     SI1   59.8   61.0    326  3.89  3.84  2.31\n",
       "2   0.23     Good     E     VS1   56.9   65.0    327  4.05  4.07  2.31\n",
       "3   0.29  Premium     I     VS2   62.4   58.0    334  4.20  4.23  2.63\n",
       "4   0.31     Good     J     SI2   63.3   58.0    335  4.34  4.35  2.75"
      ]
     },
     "execution_count": 66,
     "metadata": {},
     "output_type": "execute_result"
    }
   ],
   "source": [
    "data.head()"
   ]
  },
  {
   "cell_type": "markdown",
   "metadata": {},
   "source": [
    "### Checking Null Values"
   ]
  },
  {
   "cell_type": "code",
   "execution_count": 67,
   "metadata": {},
   "outputs": [
    {
     "data": {
      "text/plain": [
       "carat      0\n",
       "cut        0\n",
       "color      0\n",
       "clarity    0\n",
       "depth      0\n",
       "table      0\n",
       "price      0\n",
       "x          0\n",
       "y          0\n",
       "z          0\n",
       "dtype: int64"
      ]
     },
     "execution_count": 67,
     "metadata": {},
     "output_type": "execute_result"
    }
   ],
   "source": [
    "data.isnull().sum()"
   ]
  },
  {
   "cell_type": "markdown",
   "metadata": {},
   "source": [
    "### Checking Catagorical Features"
   ]
  },
  {
   "cell_type": "code",
   "execution_count": 68,
   "metadata": {},
   "outputs": [
    {
     "name": "stdout",
     "output_type": "stream",
     "text": [
      "['E', 'I', 'J', 'H', 'F', 'G', 'D']\n",
      "Categories (7, object): ['D', 'E', 'F', 'G', 'H', 'I', 'J']\n",
      "['Ideal', 'Premium', 'Good', 'Very Good', 'Fair']\n",
      "Categories (5, object): ['Ideal', 'Premium', 'Very Good', 'Good', 'Fair']\n",
      "['SI2', 'SI1', 'VS1', 'VS2', 'VVS2', 'VVS1', 'I1', 'IF']\n",
      "Categories (8, object): ['IF', 'VVS1', 'VVS2', 'VS1', 'VS2', 'SI1', 'SI2', 'I1']\n"
     ]
    }
   ],
   "source": [
    "print(data['color'].unique())\n",
    "\n",
    "print(data['cut'].unique())\n",
    "\n",
    "print(data['clarity'].unique())\n"
   ]
  },
  {
   "cell_type": "markdown",
   "metadata": {},
   "source": [
    "### Converting Categorical Features To Numerical Features"
   ]
  },
  {
   "cell_type": "code",
   "execution_count": 69,
   "metadata": {},
   "outputs": [],
   "source": [
    "data['color'] = data['color'].astype('category').cat.codes\n",
    "data['cut'] = data['cut'].astype('category').cat.codes\n",
    "data['clarity'] = data['clarity'].astype('category').cat.codes"
   ]
  },
  {
   "cell_type": "markdown",
   "metadata": {},
   "source": [
    "### Printing First 5 Rows Of Data"
   ]
  },
  {
   "cell_type": "code",
   "execution_count": 70,
   "metadata": {},
   "outputs": [
    {
     "data": {
      "text/html": [
       "<div>\n",
       "<style scoped>\n",
       "    .dataframe tbody tr th:only-of-type {\n",
       "        vertical-align: middle;\n",
       "    }\n",
       "\n",
       "    .dataframe tbody tr th {\n",
       "        vertical-align: top;\n",
       "    }\n",
       "\n",
       "    .dataframe thead th {\n",
       "        text-align: right;\n",
       "    }\n",
       "</style>\n",
       "<table border=\"1\" class=\"dataframe\">\n",
       "  <thead>\n",
       "    <tr style=\"text-align: right;\">\n",
       "      <th></th>\n",
       "      <th>carat</th>\n",
       "      <th>cut</th>\n",
       "      <th>color</th>\n",
       "      <th>clarity</th>\n",
       "      <th>depth</th>\n",
       "      <th>table</th>\n",
       "      <th>price</th>\n",
       "      <th>x</th>\n",
       "      <th>y</th>\n",
       "      <th>z</th>\n",
       "    </tr>\n",
       "  </thead>\n",
       "  <tbody>\n",
       "    <tr>\n",
       "      <th>0</th>\n",
       "      <td>0.23</td>\n",
       "      <td>0</td>\n",
       "      <td>1</td>\n",
       "      <td>6</td>\n",
       "      <td>61.5</td>\n",
       "      <td>55.0</td>\n",
       "      <td>326</td>\n",
       "      <td>3.95</td>\n",
       "      <td>3.98</td>\n",
       "      <td>2.43</td>\n",
       "    </tr>\n",
       "    <tr>\n",
       "      <th>1</th>\n",
       "      <td>0.21</td>\n",
       "      <td>1</td>\n",
       "      <td>1</td>\n",
       "      <td>5</td>\n",
       "      <td>59.8</td>\n",
       "      <td>61.0</td>\n",
       "      <td>326</td>\n",
       "      <td>3.89</td>\n",
       "      <td>3.84</td>\n",
       "      <td>2.31</td>\n",
       "    </tr>\n",
       "    <tr>\n",
       "      <th>2</th>\n",
       "      <td>0.23</td>\n",
       "      <td>3</td>\n",
       "      <td>1</td>\n",
       "      <td>3</td>\n",
       "      <td>56.9</td>\n",
       "      <td>65.0</td>\n",
       "      <td>327</td>\n",
       "      <td>4.05</td>\n",
       "      <td>4.07</td>\n",
       "      <td>2.31</td>\n",
       "    </tr>\n",
       "    <tr>\n",
       "      <th>3</th>\n",
       "      <td>0.29</td>\n",
       "      <td>1</td>\n",
       "      <td>5</td>\n",
       "      <td>4</td>\n",
       "      <td>62.4</td>\n",
       "      <td>58.0</td>\n",
       "      <td>334</td>\n",
       "      <td>4.20</td>\n",
       "      <td>4.23</td>\n",
       "      <td>2.63</td>\n",
       "    </tr>\n",
       "    <tr>\n",
       "      <th>4</th>\n",
       "      <td>0.31</td>\n",
       "      <td>3</td>\n",
       "      <td>6</td>\n",
       "      <td>6</td>\n",
       "      <td>63.3</td>\n",
       "      <td>58.0</td>\n",
       "      <td>335</td>\n",
       "      <td>4.34</td>\n",
       "      <td>4.35</td>\n",
       "      <td>2.75</td>\n",
       "    </tr>\n",
       "  </tbody>\n",
       "</table>\n",
       "</div>"
      ],
      "text/plain": [
       "   carat  cut  color  clarity  depth  table  price     x     y     z\n",
       "0   0.23    0      1        6   61.5   55.0    326  3.95  3.98  2.43\n",
       "1   0.21    1      1        5   59.8   61.0    326  3.89  3.84  2.31\n",
       "2   0.23    3      1        3   56.9   65.0    327  4.05  4.07  2.31\n",
       "3   0.29    1      5        4   62.4   58.0    334  4.20  4.23  2.63\n",
       "4   0.31    3      6        6   63.3   58.0    335  4.34  4.35  2.75"
      ]
     },
     "execution_count": 70,
     "metadata": {},
     "output_type": "execute_result"
    }
   ],
   "source": [
    "data.head()"
   ]
  },
  {
   "cell_type": "markdown",
   "metadata": {},
   "source": [
    "#### Note: \n",
    "All the features are in numerical form so now we find correlation between them"
   ]
  },
  {
   "cell_type": "markdown",
   "metadata": {},
   "source": [
    "---\n",
    "<h2 align = center><font color = '#EB5406'> Using Calculating Correlation 🧮 </font></h2>   \n",
    "\n",
    "---"
   ]
  },
  {
   "cell_type": "code",
   "execution_count": 71,
   "metadata": {},
   "outputs": [],
   "source": [
    "corMat=data.corr()"
   ]
  },
  {
   "cell_type": "markdown",
   "metadata": {},
   "source": [
    "### Plotting Correlation Matrix"
   ]
  },
  {
   "cell_type": "code",
   "execution_count": 72,
   "metadata": {},
   "outputs": [
    {
     "data": {
      "text/plain": [
       "<Axes: >"
      ]
     },
     "execution_count": 72,
     "metadata": {},
     "output_type": "execute_result"
    },
    {
     "data": {
      "image/png": "[encoded data removed]",
      "text/plain": [
       "<Figure size 640x480 with 2 Axes>"
      ]
     },
     "metadata": {},
     "output_type": "display_data"
    }
   ],
   "source": [
    "sns.heatmap(data=corMat,cmap='coolwarm',linewidths=3,linecolor='black',annot=True)"
   ]
  },
  {
   "cell_type": "markdown",
   "metadata": {},
   "source": [
    "### Now if i take 'price' as my target or output variabel."
   ]
  },
  {
   "cell_type": "code",
   "execution_count": 73,
   "metadata": {},
   "outputs": [
    {
     "name": "stdout",
     "output_type": "stream",
     "text": [
      "price      1.000000\n",
      "carat      0.921591\n",
      "x          0.884435\n",
      "y          0.865421\n",
      "z          0.861249\n",
      "color      0.172511\n",
      "clarity    0.146800\n",
      "table      0.127134\n",
      "cut        0.053491\n",
      "depth     -0.010647\n",
      "Name: price, dtype: float64\n"
     ]
    }
   ],
   "source": [
    "print(corMat['price'].sort_values(ascending=False))\n",
    "\n"
   ]
  },
  {
   "cell_type": "markdown",
   "metadata": {},
   "source": [
    "---\n",
    "<h3 align = center> <font color = '#4863A0' > Interpretation 🔎 </font> </h3>\n",
    "\n",
    "---\n",
    "\n",
    "The correlation matrix shows the correlation between the features. It helps us understand the relationships between different variables. In this case, the features 'carat',  'x', 'y', and 'z' have high positive correlation with 'price'. This means that as these features increase, 'price' also increases.\n",
    "\n",
    "All the other features doesn't have much correlation with the feature 'price'. "
   ]
  },
  {
   "cell_type": "markdown",
   "metadata": {},
   "source": [
    "---\n",
    "<h2 align = center><font color = F67280> Now Using Chi-Squared Method (Filter Method) 📏 </font>\n",
    "\n",
    "---"
   ]
  },
  {
   "cell_type": "code",
   "execution_count": 74,
   "metadata": {},
   "outputs": [
    {
     "data": {
      "text/plain": [
       "Index(['carat', 'cut', 'color', 'clarity'], dtype='object')"
      ]
     },
     "execution_count": 74,
     "metadata": {},
     "output_type": "execute_result"
    }
   ],
   "source": [
    "from sklearn.feature_selection import SelectKBest , chi2\n",
    "\n",
    "inputFeatures = data.drop('price',axis =1)\n",
    "targetFeatures = data['price']\n",
    "\n",
    "selector = SelectKBest(chi2 , k = 4)\n",
    "\n",
    "selector.fit(inputFeatures , targetFeatures)\n",
    "\n",
    "selectedFeatures = selector.get_support()\n",
    "\n",
    "inputFeatures.columns[selectedFeatures]"
   ]
  },
  {
   "cell_type": "markdown",
   "metadata": {},
   "source": [
    "---\n",
    "<h3 align = center> <font color = '#4863A0' > Interpretation 🔎 </font> </h3>\n",
    "\n",
    "---\n",
    "Chi-Squared giving different features than the correlation matrix , because they both calculate the different things.The correlation matrix measures the linear relationship between pairs of features, providing a coefficient ranging from -1 (perfect negative correlation) to 1 (perfect positive correlation).\n",
    "\n",
    "\n",
    "Where ,the chi-squared test is a statistical test used to determine if there is a significant association between categorical features and a target variable. When applied to feature selection, it measures the dependency between each feature and the target variable, assuming both are categorical\n",
    "\n",
    "Since out target variable is numeric and continuous, the features which the correlation matrix give us is more relevant to us.\n",
    "\n"
   ]
  },
  {
   "cell_type": "markdown",
   "metadata": {},
   "source": [
    "---\n",
    "<h2 align = center> <font color = '#FD1C03'> Now Using Mutual Information Method (Filter Method) 📏</font>\n",
    "   \n",
    "---"
   ]
  },
  {
   "cell_type": "code",
   "execution_count": 75,
   "metadata": {},
   "outputs": [
    {
     "data": {
      "text/plain": [
       "Index(['carat', 'x', 'y', 'z'], dtype='object')"
      ]
     },
     "execution_count": 75,
     "metadata": {},
     "output_type": "execute_result"
    }
   ],
   "source": [
    "from sklearn.feature_selection import mutual_info_regression\n",
    "\n",
    "selector = SelectKBest(mutual_info_regression , k = 4)\n",
    "selector.fit(inputFeatures , targetFeatures)\n",
    "selectedFeatures = selector.get_support()\n",
    "inputFeatures.columns[selectedFeatures]\n"
   ]
  },
  {
   "cell_type": "markdown",
   "metadata": {},
   "source": [
    "---\n",
    "<h3 align = center> <font color = '#4863A0' > Interpretation 🔎 </font> </h3>\n",
    "\n",
    "---\n",
    "\n",
    "Mutual information is a non-parametric statistical test that measures the dependency between two random variables. It calculates the mutual information between each feature and the target variable, providing a value between 0 and 1.\n",
    "\n",
    "When applied to feature selection, it measures the mutual information between each feature and the target variable, considering the relationship between the variables. In this case, the Mutual Information method gives us more relevant features compared to the correlation matrix and chi-squared method.\n",
    "\n",
    "So, based on the correlation, chi-squared, and mutual information methods, the relevant features for predicting the price of diamonds are 'carat', 'x', 'y', 'z',color and 'clarity'. These features have high correlation with 'price' and are also relevant based on the other methods used."
   ]
  },
  {
   "cell_type": "markdown",
   "metadata": {},
   "source": [
    "### Dropped features\n",
    "\n",
    "1. The 'x', 'y', and 'z' features are dropped because 'carat' is a more comprehensive measure of the diamond's size, and it has a stronger relationship with 'price'.\n",
    "\n",
    "2. 'table'\n",
    " \n",
    "3. 'depth' "
   ]
  },
  {
   "cell_type": "markdown",
   "metadata": {},
   "source": [
    "---\n",
    "<h3 align = center><font color = 1AA260> Selected Features ✅ </font></h3>\n",
    "\n",
    "---\n",
    "\n",
    "1. 'carat', This features shows the weight of diamond , which is a strong factor which increases the price of diamond.\n",
    "\n",
    "\n",
    "2. 'color', This features represents the color of diamond. It is an ordinal feature and it has a relationship with 'price'. Higher the color, higher the price.\n",
    "\n",
    "3. 'clarity', This features represents the clarity of diamond. It is an ordinal feature and it has a relationship with 'price'. Higher the clarity, higher the price.\n",
    "\n",
    "These features are highly relevant to predict the price of diamonds. They have a strong correlation with 'price' and a relationship with each other and with 'color' and 'clarity'. The correlation matrix, chi-squared, and mutual information methods have provided the same relevant features.\n",
    "\n"
   ]
  },
  {
   "cell_type": "markdown",
   "metadata": {},
   "source": [
    "---\n",
    "<h3 align = center> <font color = #DAEE01> Model Training 🏋️ </font></h3>\n",
    "\n",
    "---\n",
    "\n",
    "Now that we have selected the relevant features, we can train a machine learning model to predict the price of diamonds.\n",
    "\n",
    "Let's use a simple linear regression model for this purpose."
   ]
  },
  {
   "cell_type": "code",
   "execution_count": 120,
   "metadata": {},
   "outputs": [
    {
     "name": "stdout",
     "output_type": "stream",
     "text": [
      "The Model Score is 0.9014959079109778\n"
     ]
    }
   ],
   "source": [
    "\n",
    "from sklearn.model_selection import train_test_split\n",
    "from sklearn.linear_model import LinearRegression\n",
    "\n",
    "\n",
    "X = data[['carat','color', 'clarity']]\n",
    "\n",
    "y = data['price']\n",
    "\n",
    "X_train, X_test, y_train, y_test = train_test_split(X, y, test_size=0.2, random_state=42)\n",
    "\n",
    "\n",
    "model = LinearRegression()\n",
    "\n",
    "model.fit(X_train, y_train)\n",
    "\n",
    "print(f\"The Model Score is {model.score(X_test, y_test)}\")\n",
    "\n"
   ]
  },
  {
   "cell_type": "markdown",
   "metadata": {},
   "source": [
    "---\n",
    "<h3 align = center> <font color = '#4863A0' > Interpretation 🔎 </font> </h3>\n",
    "\n",
    "---\n",
    "\n",
    "\n",
    "The 𝑅^2 score of 0.901 indicates that the linear regression model explains 90.1% of the variance in the target variable."
   ]
  },
  {
   "cell_type": "markdown",
   "metadata": {},
   "source": [
    "---\n",
    "<h2 align = center><font color =\"#9AFEFF\" > Task 2: Feature Transformation 💱 </font></h3>\n",
    "\n",
    "---"
   ]
  },
  {
   "cell_type": "markdown",
   "metadata": {},
   "source": [
    "___\n",
    "<h2 align = center><font color = \"#006A4E\" > Applying Normalization Using Min-Max Scaling ⚖️ </font></h2>\n",
    "\n",
    "___"
   ]
  },
  {
   "cell_type": "markdown",
   "metadata": {},
   "source": [
    "### Formula\n",
    "\n",
    "$ X_{\\text{scaled}} = \\frac{X - X_{\\min}}{X_{\\max} - X_{\\min}}$ \n",
    "\n",
    "\n"
   ]
  },
  {
   "cell_type": "code",
   "execution_count": 91,
   "metadata": {},
   "outputs": [],
   "source": [
    "def minMaxScaling(x):\n",
    "    return (x - np.min(x)) / (np.max(x) - np.min(x))\n",
    "\n",
    "dataScaled = data.apply(minMaxScaling)\n"
   ]
  },
  {
   "cell_type": "markdown",
   "metadata": {},
   "source": [
    "### Checking The Scaled Data\n",
    "\n"
   ]
  },
  {
   "cell_type": "code",
   "execution_count": 94,
   "metadata": {},
   "outputs": [
    {
     "name": "stdout",
     "output_type": "stream",
     "text": [
      "First Five Rows OF Input Features\n",
      "\n",
      "      carat   cut     color   clarity     depth     table         x         y  \\\n",
      "0  0.006237  0.00  0.166667  0.857143  0.513889  0.230769  0.367784  0.067572   \n",
      "1  0.002079  0.25  0.166667  0.714286  0.466667  0.346154  0.362197  0.065195   \n",
      "2  0.006237  0.75  0.166667  0.428571  0.386111  0.423077  0.377095  0.069100   \n",
      "3  0.018711  0.25  0.833333  0.571429  0.538889  0.288462  0.391061  0.071817   \n",
      "4  0.022869  0.75  1.000000  0.857143  0.563889  0.288462  0.404097  0.073854   \n",
      "\n",
      "          z  \n",
      "0  0.076415  \n",
      "1  0.072642  \n",
      "2  0.072642  \n",
      "3  0.082704  \n",
      "4  0.086478  \n",
      "\n",
      "First Five Rows OF Target Feature\n",
      "\n",
      "0    0.000000\n",
      "1    0.000000\n",
      "2    0.000054\n",
      "3    0.000433\n",
      "4    0.000487\n",
      "Name: price, dtype: float64\n"
     ]
    }
   ],
   "source": [
    "inputFeaturesScaled = dataScaled.drop('price',axis =1 )\n",
    "targetFeaturesScaled = dataScaled['price']\n",
    "\n",
    "print(\"First Five Rows OF Input Features\\n\")\n",
    "print(inputFeaturesScaled.head())\n",
    "print(\"\\nFirst Five Rows OF Target Feature\\n\")\n",
    "\n",
    "print(targetFeaturesScaled.head())\n"
   ]
  },
  {
   "cell_type": "markdown",
   "metadata": {},
   "source": [
    "---\n",
    "<h3 align = center> <font color = #DAEE01> Model Evaluation 📃  </font></h3>\n",
    "\n",
    "---\n",
    "\n",
    "I am evaluating the model on the basis of same selected input features as above evaluated model"
   ]
  },
  {
   "cell_type": "code",
   "execution_count": 119,
   "metadata": {},
   "outputs": [
    {
     "name": "stdout",
     "output_type": "stream",
     "text": [
      "The Model Score is 0.9056643685073514\n"
     ]
    }
   ],
   "source": [
    "\n",
    "from sklearn.model_selection import train_test_split\n",
    "from sklearn.linear_model import LinearRegression\n",
    "\n",
    "\n",
    "X = inputFeaturesScaled\n",
    "\n",
    "y = targetFeaturesScaled\n",
    "\n",
    "X_train, X_test, y_train, y_test = train_test_split(X, y, test_size=0.2,random_state=42)\n",
    "\n",
    "\n",
    "model = LinearRegression()\n",
    "\n",
    "model.fit(X_train, y_train)\n",
    "\n",
    "print(f\"The Model Score is {model.score(X_test, y_test)}\")\n",
    "\n"
   ]
  },
  {
   "cell_type": "markdown",
   "metadata": {},
   "source": [
    "---\n",
    "<h3 align = center> <font color = '#4863A0' > Interpretation 🔎 </font> </h3>\n",
    "\n",
    "---\n",
    "\n",
    "Normalization using min-max saling does change the score little bit. Like from 0.901 to 0.905"
   ]
  },
  {
   "cell_type": "markdown",
   "metadata": {},
   "source": [
    "---\n",
    "<h2 align = center><font color = \"#F778A1\">Applying Standardization Using Z-Score Normalization 📉</h2></font>   \n",
    "\n",
    "---"
   ]
  },
  {
   "cell_type": "markdown",
   "metadata": {},
   "source": [
    "### Formula\n",
    "\n",
    "$ X_{\\text{scaled}} = \\frac{X - \\mu}{\\sigma}$ \n",
    "\n"
   ]
  },
  {
   "cell_type": "code",
   "execution_count": 116,
   "metadata": {},
   "outputs": [],
   "source": [
    "def zScoreNormalization(x):\n",
    "    return (x - np.mean(x)) / np.std(x)\n",
    "\n",
    "dataNormalized = data.apply(zScoreNormalization)"
   ]
  },
  {
   "cell_type": "markdown",
   "metadata": {},
   "source": [
    "### Checking the Normalized Data"
   ]
  },
  {
   "cell_type": "code",
   "execution_count": 117,
   "metadata": {},
   "outputs": [
    {
     "name": "stdout",
     "output_type": "stream",
     "text": [
      "First Five Rows OF Input Features\n",
      "\n",
      "      carat       cut     color   clarity     depth     table         x  \\\n",
      "0 -1.198168 -0.981473 -0.937163  1.245215 -0.174092 -1.099672 -1.587837   \n",
      "1 -1.240361 -0.085889 -0.937163  0.638095 -1.360738  1.585529 -1.641325   \n",
      "2 -1.198168  1.705279 -0.937163 -0.576145 -3.385019  3.375663 -1.498691   \n",
      "3 -1.071587 -0.085889  1.414272  0.030975  0.454133  0.242928 -1.364971   \n",
      "4 -1.029394  1.705279  2.002131  1.245215  1.082358  0.242928 -1.240167   \n",
      "\n",
      "          y         z  \n",
      "0 -1.536196 -1.571129  \n",
      "1 -1.658774 -1.741175  \n",
      "2 -1.457395 -1.741175  \n",
      "3 -1.317305 -1.287720  \n",
      "4 -1.212238 -1.117674  \n",
      "\n",
      "First Five Rows OF Target Feature\n",
      "\n",
      "0   -0.904095\n",
      "1   -0.904095\n",
      "2   -0.903844\n",
      "3   -0.902090\n",
      "4   -0.901839\n",
      "Name: price, dtype: float64\n"
     ]
    }
   ],
   "source": [
    "\n",
    "\n",
    "inputFeaturesNormalized = dataNormalized.drop('price',axis =1 )\n",
    "targetFeaturesNormalized = dataNormalized['price']\n",
    "\n",
    "print(\"First Five Rows OF Input Features\\n\")\n",
    "print(inputFeaturesNormalized.head())\n",
    "\n",
    "print(\"\\nFirst Five Rows OF Target Feature\\n\")\n",
    "print(targetFeaturesNormalized.head())\n",
    "\n",
    "\n"
   ]
  },
  {
   "cell_type": "markdown",
   "metadata": {},
   "source": [
    "---\n",
    "<h3 align = center> <font color = #DAEE01> Model Evaluation 📃  </font></h3>\n",
    "\n",
    "---\n",
    "\n",
    "I am evaluating the model on the basis of same selected input features as above evaluated model"
   ]
  },
  {
   "cell_type": "code",
   "execution_count": 118,
   "metadata": {},
   "outputs": [
    {
     "name": "stdout",
     "output_type": "stream",
     "text": [
      "The Model Score is 0.9056643685073519\n"
     ]
    }
   ],
   "source": [
    "\n",
    "from sklearn.model_selection import train_test_split\n",
    "from sklearn.linear_model import LinearRegression\n",
    "\n",
    "\n",
    "X = inputFeaturesNormalized\n",
    "\n",
    "y = targetFeaturesNormalized\n",
    "\n",
    "X_train, X_test, y_train, y_test = train_test_split(X, y, test_size=0.2,random_state=42)\n",
    "\n",
    "\n",
    "model = LinearRegression()\n",
    "\n",
    "model.fit(X_train, y_train)\n",
    "\n",
    "print(f\"The Model Score is {model.score(X_test, y_test)}\")\n",
    "\n",
    "\n"
   ]
  },
  {
   "cell_type": "markdown",
   "metadata": {},
   "source": [
    "---\n",
    "<h3 align = center> <font color = '#4863A0' > Interpretation 🔎 </font> </h3>\n",
    "\n",
    "---\n",
    "\n",
    "Standardization using Z-score normalization does change the score slightly. Like from 0.901 to 0.905 as well."
   ]
  },
  {
   "cell_type": "markdown",
   "metadata": {},
   "source": [
    "---\n",
    "<h2 align = center><font color = \"#F535AA\"> Applying Log Transformation 🧮   \n",
    "</font></h2>   \n",
    "\n",
    "---\n"
   ]
  },
  {
   "cell_type": "markdown",
   "metadata": {},
   "source": [
    "### Formula \n",
    "\n",
    "$ X_{\\text{scaled}} = \\log(X)$ \n",
    "\n",
    "\n"
   ]
  },
  {
   "cell_type": "code",
   "execution_count": 124,
   "metadata": {},
   "outputs": [],
   "source": [
    "def logTransformation(x):\n",
    "    return np.log(x + 1e-10)\n",
    "\n",
    "dataTransformed = data.apply(logTransformation)"
   ]
  },
  {
   "cell_type": "markdown",
   "metadata": {},
   "source": [
    "### Checking the transformed Data"
   ]
  },
  {
   "cell_type": "code",
   "execution_count": 125,
   "metadata": {},
   "outputs": [
    {
     "name": "stdout",
     "output_type": "stream",
     "text": [
      "First Five Rows OF Input Features\n",
      "\n",
      "      carat           cut         color   clarity     depth     table  \\\n",
      "0 -1.469676 -2.302585e+01  1.000000e-10  1.791759  4.119037  4.007333   \n",
      "1 -1.560648  1.000000e-10  1.000000e-10  1.609438  4.091006  4.110874   \n",
      "2 -1.469676  1.098612e+00  1.000000e-10  1.098612  4.041295  4.174387   \n",
      "3 -1.237874  1.000000e-10  1.609438e+00  1.386294  4.133565  4.060443   \n",
      "4 -1.171183  1.098612e+00  1.791759e+00  1.791759  4.147885  4.060443   \n",
      "\n",
      "          x         y         z  \n",
      "0  1.373716  1.381282  0.887891  \n",
      "1  1.358409  1.345472  0.837248  \n",
      "2  1.398717  1.403643  0.837248  \n",
      "3  1.435085  1.442202  0.966984  \n",
      "4  1.467874  1.470176  1.011601  \n",
      "\n",
      "First Five Rows OF Target Feature\n",
      "\n",
      "0    5.786897\n",
      "1    5.786897\n",
      "2    5.789960\n",
      "3    5.811141\n",
      "4    5.814131\n",
      "Name: price, dtype: float64\n"
     ]
    }
   ],
   "source": [
    "\n",
    "\n",
    "inputFeaturesTransformed = dataTransformed.drop('price',axis =1 )\n",
    "targetFeaturesTransformed = dataTransformed['price']\n",
    "\n",
    "print(\"First Five Rows OF Input Features\\n\")\n",
    "print(inputFeaturesTransformed.head())\n",
    "\n",
    "print(\"\\nFirst Five Rows OF Target Feature\\n\")\n",
    "print(targetFeaturesTransformed.head())\n"
   ]
  },
  {
   "cell_type": "markdown",
   "metadata": {},
   "source": [
    "---\n",
    "<h3 align = center> <font color = #DAEE01> Model Evaluation 📃  </font></h3>\n",
    "\n",
    "---\n",
    "\n",
    "I am evaluating the model on the basis of same selected input features as above evaluated model"
   ]
  },
  {
   "cell_type": "code",
   "execution_count": 146,
   "metadata": {},
   "outputs": [
    {
     "name": "stdout",
     "output_type": "stream",
     "text": [
      "The Model Score is 0.9432799255607881\n"
     ]
    }
   ],
   "source": [
    "\n",
    "from sklearn.model_selection import train_test_split\n",
    "from sklearn.linear_model import LinearRegression\n",
    "\n",
    "\n",
    "X = inputFeaturesTransformed\n",
    "\n",
    "y = targetFeaturesTransformed\n",
    "\n",
    "X_train, X_test, y_train, y_test = train_test_split(X, y, test_size=0.2,random_state=42)\n",
    "\n",
    "\n",
    "model = LinearRegression()\n",
    "\n",
    "model.fit(X_train, y_train)\n",
    "\n",
    "print(f\"The Model Score is {model.score(X_test, y_test)}\")\n",
    "\n"
   ]
  },
  {
   "cell_type": "markdown",
   "metadata": {},
   "source": [
    "---\n",
    "<h3 align = center> <font color = '#4863A0' > Interpretation 🔎 </font> </h3>\n",
    "\n",
    "---\n",
    "\n",
    "Log transformation changes the model performance very much. from 0.901 to 0.94."
   ]
  },
  {
   "cell_type": "markdown",
   "metadata": {},
   "source": [
    "--- \n",
    "<h2 align = center> <font color = \"#08A04B\"> Result ✔️\n",
    "\n",
    "</font></h2>\n",
    "\n",
    "---"
   ]
  },
  {
   "cell_type": "markdown",
   "metadata": {},
   "source": [
    "So i've applied Min-Max Scaling , Z-score normalization and Log transformation. \n",
    "\n",
    "- Min-Max Scaling gave  the slightly better model performance with a score of 0.905(previous was 0.901).\n",
    "\n",
    "- Z-score normalization also gave the same model performance as Min-Max Scaling.\n",
    "\n",
    "- Log transformation gave the best model performance with a score of 0.94(previous was 0.905)."
   ]
  },
  {
   "cell_type": "markdown",
   "metadata": {},
   "source": [
    "---\n",
    "<h2 align = center> <font color = '#5865F2'>Task 3: Feature Creation 🏗️</font> </h2>\n",
    "\n",
    "---"
   ]
  },
  {
   "cell_type": "markdown",
   "metadata": {},
   "source": [
    "\n",
    "I am using the same diamond dataset for this Task. As we already can see there are x , y and z values that tells the length , width and height of the diamond . So i am combining these 3 values to find volume of the diamond.And also i am multiplying carat and depth of diamond columns to make another feature called \"carat&depth\" \n"
   ]
  },
  {
   "cell_type": "code",
   "execution_count": 200,
   "metadata": {},
   "outputs": [
    {
     "name": "stdout",
     "output_type": "stream",
     "text": [
      "0    38.202030\n",
      "1    34.505856\n",
      "2    38.076885\n",
      "3    46.724580\n",
      "4    51.917250\n",
      "Name: volume, dtype: float64\n",
      "0    14.145\n",
      "1    12.558\n",
      "2    13.087\n",
      "3    18.096\n",
      "4    19.623\n",
      "Name: carat&depth, dtype: float64\n",
      "0     6\n",
      "1     5\n",
      "2     3\n",
      "3    20\n",
      "4    36\n",
      "Name: color&clarity, dtype: int8\n"
     ]
    }
   ],
   "source": [
    "data['volume'] = data['x']*data['y']*data['z']\n",
    "data['carat&depth'] = data['carat']*data['depth'] \n",
    "data['color&clarity'] = data['color']*data['clarity']\n",
    "\n",
    "print(data['volume'].head())\n",
    "print(data['carat&depth'].head())\n",
    "print(data['color&clarity'].head())"
   ]
  },
  {
   "cell_type": "markdown",
   "metadata": {},
   "source": [
    "Now i am evaluating the model with old features and new features"
   ]
  },
  {
   "cell_type": "markdown",
   "metadata": {},
   "source": [
    "<h3 align = center><font color = '#822EFF' >Using Old Features</h3></font>"
   ]
  },
  {
   "cell_type": "code",
   "execution_count": 193,
   "metadata": {},
   "outputs": [
    {
     "name": "stdout",
     "output_type": "stream",
     "text": [
      "The Model Score is 0.9014959079109778\n"
     ]
    }
   ],
   "source": [
    "\n",
    "from sklearn.model_selection import train_test_split\n",
    "from sklearn.linear_model import LinearRegression\n",
    "\n",
    "\n",
    "X = data[['carat','color', 'clarity']]\n",
    "y = targetFeatures\n",
    "\n",
    "X_train, X_test, y_train, y_test = train_test_split(X, y, test_size=0.2,random_state=42)\n",
    "\n",
    "model = LinearRegression()\n",
    "model.fit(X_train, y_train)\n",
    "\n",
    "print(f\"The Model Score is {model.score(X_test, y_test)}\")\n",
    "\n",
    "\n",
    "\n"
   ]
  },
  {
   "cell_type": "markdown",
   "metadata": {},
   "source": [
    "<h3 align = center><font color = \"E45E9D\">Using New Features</h3></font>"
   ]
  },
  {
   "cell_type": "markdown",
   "metadata": {},
   "source": [
    "I am replacing 'carat' feature with 'volume' ,'color' feature with 'color&clarity',and adding 'carat&depth' feature"
   ]
  },
  {
   "cell_type": "code",
   "execution_count": 201,
   "metadata": {},
   "outputs": [
    {
     "name": "stdout",
     "output_type": "stream",
     "text": [
      "The New Features Model Score is 0.8779905923782279\n"
     ]
    }
   ],
   "source": [
    "\n",
    "from sklearn.model_selection import train_test_split\n",
    "from sklearn.linear_model import LinearRegression\n",
    "\n",
    "new_features = data[['volume','cut&clarity','carat&depth']]\n",
    "\n",
    "new_featuresScaling = new_features.apply(minMaxScaling)\n",
    "new_featuresNormalization = new_features.apply(zScoreNormalization)\n",
    "new_featuresTransformed = new_features.apply(logTransformation)\n",
    "\n",
    "X = new_features\n",
    "# xScaled = new_featuresScaling[['volume','color&clarity','carat&depth',]]\n",
    "# xNormalized = new_featuresNormalization[['volume','color&clarity','carat&depth',]]\n",
    "# xTransformed = new_featuresTransformed[['volume','color&clarity','carat&depth',]]\n",
    "\n",
    "y = targetFeatures\n",
    "\n",
    "X_train, X_test, y_train, y_test = train_test_split(X, y, test_size=0.2,random_state=42)\n",
    "\n",
    "\n",
    "model = LinearRegression()\n",
    "model.fit(X_train, y_train)\n",
    "print(f\"The New Features Model Score is {model.score(X_test, y_test)}\")\n",
    "\n",
    "\n",
    "# y = targetFeaturesScaled\n",
    "\n",
    "# X_train, X_test, y_train, y_test = train_test_split(xScaled, y, test_size=0.2,random_state=42)\n",
    "# model = LinearRegression()\n",
    "# model.fit(X_train, y_train)\n",
    "\n",
    "# print(f\"The Scaled Model Score is {model.score(X_test, y_test)}\")\n",
    "\n",
    "\n",
    "\n",
    "# y = targetFeaturesTransformed\n",
    "\n",
    "# X_train, X_test, y_train, y_test = train_test_split(xTransformed, y, test_size=0.2,random_state=42)\n",
    "# model = LinearRegression()\n",
    "# model.fit(X_train, y_train)\n",
    "\n",
    "# print(f\"The Transformed Model Score is {model.score(X_test, y_test)}\")\n",
    "\n",
    "\n",
    "\n",
    "# y = targetFeaturesNormalized\n",
    "\n",
    "# X_train, X_test, y_train, y_test = train_test_split(xNormalized, y, test_size=0.2,random_state=42)\n",
    "# model = LinearRegression()\n",
    "# model.fit(X_train, y_train)\n",
    "\n",
    "# print(f\"The Normalized Model Score is {model.score(X_test, y_test)}\")\n",
    "\n"
   ]
  },
  {
   "cell_type": "markdown",
   "metadata": {},
   "source": [
    "--- \n",
    "<h2 align = center> <font color = \"#08A04B\"> Result ✔️\n",
    "\n",
    "</font></h2>\n",
    "\n",
    "---\n",
    "\n",
    "After creating new features from existing ones, the model performed worse with the new features. The scores are as follows:\n",
    "\n",
    "- Original Model Score: 0.905 \n",
    "\n",
    "- New Features Model Score : 0.877"
   ]
  },
  {
   "cell_type": "markdown",
   "metadata": {},
   "source": [
    "---\n",
    "<h2 align = center> <font color = '#FFA600'>Task 4: Polynomial Features 🏗️</font> </h2>\n",
    "\n",
    "---"
   ]
  },
  {
   "cell_type": "markdown",
   "metadata": {},
   "source": [
    "---\n",
    "<h3 align = center> <font color = #DAEE01>Orignal Selected Features Model Training 🏋️ </font></h3>\n",
    "\n",
    "---"
   ]
  },
  {
   "cell_type": "code",
   "execution_count": 267,
   "metadata": {},
   "outputs": [
    {
     "name": "stdout",
     "output_type": "stream",
     "text": [
      "The Original Model Score is 0.9014959079109778\n"
     ]
    },
    {
     "data": {
      "image/png": "[encoded data removed]",
      "text/plain": [
       "<Figure size 640x480 with 1 Axes>"
      ]
     },
     "metadata": {},
     "output_type": "display_data"
    },
    {
     "name": "stdout",
     "output_type": "stream",
     "text": [
      "Training Score: 0.9025557287246223\n",
      "Test Score: 0.9014959079109778\n"
     ]
    }
   ],
   "source": [
    "import matplotlib.pyplot as plt\n",
    "\n",
    "X = data[['carat','color', 'clarity']]\n",
    "y = data['price']\n",
    "\n",
    "X_train, X_test, y_train, y_test = train_test_split(X, y, test_size=0.2, random_state=42)\n",
    "\n",
    "model = LinearRegression()\n",
    "model.fit(X_train, y_train)\n",
    "\n",
    "print(f\"The Original Model Score is {model.score(X_test, y_test)}\")\n",
    "\n",
    "predictions = model.predict(X_test)\n",
    "\n",
    "plt.scatter(y_test, predictions, color='blue')\n",
    "plt.plot([y_test.min(), y_test.max()], [y_test.min(), y_test.max()], color='red', linestyle='--')\n",
    "plt.xlabel(\"Actual Prices\")\n",
    "plt.ylabel(\"Predicted Prices\")\n",
    "plt.title(\"Actual vs Predicted Prices\")\n",
    "plt.show()\n",
    "\n"
   ]
  },
  {
   "cell_type": "markdown",
   "metadata": {},
   "source": [
    "### Interpretation\n",
    "\n",
    "The original linear regression model has a score of approximately 0.905 on the test set. This means that the model can explain about 90.5% of the variability in the target variable (price) using the given features (carat, color, clarity).\n",
    "\n",
    "The plot shows a scatter plot of actual prices and predicted prices. The red line represents a line, which would indicate perfect prediction. In this case, the model is slightly underfitting the data, as the points are not perfectly on the line.\n",
    "\n",
    "To improve the model's performance, we can try adding polynomial features to the dataset. Polynomial features will create new features that are powers of existing features, which can help capture non-linear relationships between the features and the target variable.\n",
    "\n",
    "Let's implement polynomial features and train a new model."
   ]
  },
  {
   "cell_type": "markdown",
   "metadata": {},
   "source": [
    "---\n",
    "<h3 align = center> <font color = #DAEE01> Polynomial Selected Features Model Training 🏋️ </font></h3>\n",
    "\n",
    "---"
   ]
  },
  {
   "cell_type": "code",
   "execution_count": 268,
   "metadata": {},
   "outputs": [
    {
     "name": "stdout",
     "output_type": "stream",
     "text": [
      "The Polynomial Model Score is 0.9737283595221654\n"
     ]
    },
    {
     "data": {
      "image/png": "[encoded data removed]",
      "text/plain": [
       "<Figure size 640x480 with 1 Axes>"
      ]
     },
     "metadata": {},
     "output_type": "display_data"
    }
   ],
   "source": [
    "from sklearn.preprocessing import PolynomialFeatures\n",
    "X = data[['carat','color', 'clarity']]\n",
    "y = data['price']\n",
    "\n",
    "poly = PolynomialFeatures(degree=4)\n",
    "\n",
    "x_poly = poly.fit_transform(X)\n",
    "\n",
    "X_train, X_test, y_train, y_test = train_test_split(x_poly, y, test_size=0.2, random_state=42)\n",
    "\n",
    "\n",
    "model = LinearRegression()\n",
    "model.fit(X_train,y_train)\n",
    "\n",
    "print(f\"The Polynomial Model Score is {model.score(X_test, y_test)}\")\n",
    "\n",
    "\n",
    "\n",
    "predictions = model.predict(X_test)\n",
    "\n",
    "\n",
    "plt.scatter(y_test, predictions, color='blue')\n",
    "plt.plot([y_test.min(), y_test.max()], [y_test.min(), y_test.max()], color='red', linestyle='--')\n",
    "plt.xlabel(\"Actual Prices\")\n",
    "plt.ylabel(\"Predicted Prices\")\n",
    "plt.title(\"Actual vs Predicted Prices\")\n",
    "plt.show()\n",
    "\n"
   ]
  },
  {
   "cell_type": "markdown",
   "metadata": {},
   "source": [
    "### Interpretation\n",
    "\n",
    "The polynomial regression model with degree 4 has a score of approximately 0.974 on the test set. This means that the model can explain about 97.4% of the variability in the target variable (price) using the given features (carat, color, clarity) after adding polynomial features.\n",
    "\n",
    "The plot shows a scatter plot of actual prices and predicted prices. The red line represents a line, which would indicate perfect prediction. In this case, the model is slightly overfitting the data, as the points are not perfectly on the line.\n",
    "\n",
    "To further improve the model's performance, we can try adjusting the degree of the polynomial features or experimenting with other regression algorithms, such as Ridge Regression or Lasso Regression.\n"
   ]
  },
  {
   "cell_type": "markdown",
   "metadata": {},
   "source": [
    "\n",
    "--- \n",
    "<h2 align = center> <font color = \"#08A04B\"> Result ✔️\n",
    "\n",
    "</font></h2>\n",
    "\n",
    "---"
   ]
  },
  {
   "cell_type": "markdown",
   "metadata": {},
   "source": [
    "\n",
    "\n",
    "1. The original selected features linear regression model has a score of approximately 0.901 on the test set.\n",
    "\n",
    "2. The polynomial selected features linear regression model with degree 4 has a score of approximately 0.974 on the test set.\n",
    "\n",
    "\n",
    "\n",
    " The Polynomial Features model provides better performance compared to the original feature model.\n"
   ]
  },
  {
   "cell_type": "markdown",
   "metadata": {},
   "source": [
    "---\n",
    "<h2 align = center> <font color = '#FFA600'>Task 5: Handling Categorical Features 🗒️ </font> </h2>\n",
    "\n",
    "---"
   ]
  },
  {
   "cell_type": "code",
   "execution_count": 269,
   "metadata": {},
   "outputs": [],
   "source": [
    "# making new copy of data.\n",
    "\n",
    "data = sns.load_dataset('diamonds')\n"
   ]
  },
  {
   "cell_type": "markdown",
   "metadata": {},
   "source": [
    "<h3> Exploring Categorical Data </h3>"
   ]
  },
  {
   "cell_type": "code",
   "execution_count": 270,
   "metadata": {},
   "outputs": [
    {
     "data": {
      "text/plain": [
       "carat       float64\n",
       "cut        category\n",
       "color      category\n",
       "clarity    category\n",
       "depth       float64\n",
       "table       float64\n",
       "price         int64\n",
       "x           float64\n",
       "y           float64\n",
       "z           float64\n",
       "dtype: object"
      ]
     },
     "execution_count": 270,
     "metadata": {},
     "output_type": "execute_result"
    }
   ],
   "source": [
    "# First Finding the Categorical Data\n",
    "\n",
    "data.dtypes"
   ]
  },
  {
   "cell_type": "markdown",
   "metadata": {},
   "source": [
    "---\n",
    "<h2 align = center><font color = \"#E55B3C\"> Using Label Encoding 🏷️</font><h2>   \n",
    "\n",
    "---"
   ]
  },
  {
   "cell_type": "markdown",
   "metadata": {},
   "source": [
    "### Converting Categorical Data One By One"
   ]
  },
  {
   "cell_type": "markdown",
   "metadata": {},
   "source": [
    "#### Converting \"cut\" features"
   ]
  },
  {
   "cell_type": "code",
   "execution_count": 273,
   "metadata": {},
   "outputs": [
    {
     "name": "stdout",
     "output_type": "stream",
     "text": [
      "[2 3 1 4 0]\n",
      "[2 3 1 4 0]\n"
     ]
    }
   ],
   "source": [
    "from sklearn.preprocessing import LabelEncoder\n",
    "\n",
    "encoder = LabelEncoder()\n",
    "\n",
    "data['cut'] = encoder.fit_transform(data['cut'])\n",
    "\n",
    "print(data['cut'].unique())\n"
   ]
  },
  {
   "cell_type": "markdown",
   "metadata": {},
   "source": [
    "#### Converting \"color\" feature"
   ]
  },
  {
   "cell_type": "code",
   "execution_count": 275,
   "metadata": {},
   "outputs": [
    {
     "name": "stdout",
     "output_type": "stream",
     "text": [
      "[1 5 6 4 2 3 0]\n"
     ]
    }
   ],
   "source": [
    "data['color'] = encoder.fit_transform(data['color'])\n",
    "print(data['color'].unique())\n"
   ]
  },
  {
   "cell_type": "markdown",
   "metadata": {},
   "source": [
    "#### Converting \"clarity\" feature"
   ]
  },
  {
   "cell_type": "code",
   "execution_count": 276,
   "metadata": {},
   "outputs": [
    {
     "name": "stdout",
     "output_type": "stream",
     "text": [
      "[3 2 4 5 7 6 0 1]\n"
     ]
    }
   ],
   "source": [
    "\n",
    "data['clarity'] = encoder.fit_transform(data['clarity'])\n",
    "\n",
    "print(data['clarity'].unique())"
   ]
  },
  {
   "cell_type": "markdown",
   "metadata": {},
   "source": [
    "---\n",
    "<h3 align = center> <font color = #DAEE01> Model Training 🏋️ </font></h3>\n",
    "\n",
    "---"
   ]
  },
  {
   "cell_type": "code",
   "execution_count": 278,
   "metadata": {},
   "outputs": [
    {
     "name": "stdout",
     "output_type": "stream",
     "text": [
      "The Model Score Using Label Encoding is 0.885139743367963\n"
     ]
    }
   ],
   "source": [
    "# I am not removing any features from the training data.\n",
    "\n",
    "model = LinearRegression()\n",
    "\n",
    "x =data.drop('price',axis=1)\n",
    "\n",
    "y = data['price']\n",
    "\n",
    "X_train, X_test, y_train, y_test = train_test_split(x, y, test_size=0.2, random_state=42)\n",
    "\n",
    "model.fit(X_train, y_train)\n",
    "\n",
    "print(f\"The Model Score Using Label Encoding is {model.score(X_test, y_test)}\")"
   ]
  },
  {
   "cell_type": "markdown",
   "metadata": {},
   "source": [
    "---\n",
    "<h2 align = center><font color = \"#FF007F\"> Using One Hot Encoding 🔥</font><h2>   \n",
    "\n",
    "---"
   ]
  },
  {
   "cell_type": "code",
   "execution_count": 288,
   "metadata": {},
   "outputs": [],
   "source": [
    "# making new copy of data.\n",
    "\n",
    "encoded = sns.load_dataset('diamonds')\n",
    "\n"
   ]
  },
  {
   "cell_type": "markdown",
   "metadata": {},
   "source": [
    "#### Converting Features"
   ]
  },
  {
   "cell_type": "code",
   "execution_count": 289,
   "metadata": {},
   "outputs": [
    {
     "name": "stdout",
     "output_type": "stream",
     "text": [
      "Index(['carat', 'depth', 'table', 'price', 'x', 'y', 'z', 'cut_Ideal',\n",
      "       'cut_Premium', 'cut_Very Good', 'cut_Good', 'cut_Fair', 'clarity_IF',\n",
      "       'clarity_VVS1', 'clarity_VVS2', 'clarity_VS1', 'clarity_VS2',\n",
      "       'clarity_SI1', 'clarity_SI2', 'clarity_I1', 'color_D', 'color_E',\n",
      "       'color_F', 'color_G', 'color_H', 'color_I', 'color_J'],\n",
      "      dtype='object')\n"
     ]
    }
   ],
   "source": [
    "encodedData = pd.get_dummies(encoded,columns=['cut','clarity','color'])\n",
    "print(encodedData.columns)\n",
    "\n",
    "\n"
   ]
  },
  {
   "cell_type": "markdown",
   "metadata": {},
   "source": [
    "---\n",
    "<h3 align = center> <font color = #DAEE01> Model Training 🏋️ </font></h3>\n",
    "\n",
    "---"
   ]
  },
  {
   "cell_type": "code",
   "execution_count": 290,
   "metadata": {},
   "outputs": [
    {
     "name": "stdout",
     "output_type": "stream",
     "text": [
      "The Model Score Using One Hot Encoding is 0.9189335470284822\n"
     ]
    }
   ],
   "source": [
    "x = encodedData.drop('price',axis=1)\n",
    "y = encodedData['price']\n",
    "\n",
    "X_train, X_test, y_train, y_test = train_test_split(x, y, test_size=0.2, random_state=42)\n",
    "\n",
    "model.fit(X_train, y_train)\n",
    "\n",
    "print(f\"The Model Score Using One Hot Encoding is {model.score(X_test, y_test)}\")"
   ]
  },
  {
   "cell_type": "markdown",
   "metadata": {},
   "source": [
    "\n",
    "--- \n",
    "<h2 align = center> <font color = \"#08A04B\"> Result ✔️\n",
    "\n",
    "</font></h2>\n",
    "\n",
    "---"
   ]
  },
  {
   "cell_type": "markdown",
   "metadata": {},
   "source": [
    "\n",
    "1. The model's score using Label Encoding is approximately 0.885.\n",
    "2. The model's score using One Hot Encoding is approximately 0.918.\n",
    "\n",
    "The One Hot Encoding model provides better performance compared to the Label Encoding model.But the dimension of the data increases, which means we can tradeoff accuracy with the space\n"
   ]
  }
 ],
 "metadata": {
  "kernelspec": {
   "display_name": "Python 3",
   "language": "python",
   "name": "python3"
  },
  "language_info": {
   "codemirror_mode": {
    "name": "ipython",
    "version": 3
   },
   "file_extension": ".py",
   "mimetype": "text/x-python",
   "name": "python",
   "nbconvert_exporter": "python",
   "pygments_lexer": "ipython3",
   "version": "3.12.2"
  }
 },
 "nbformat": 4,
 "nbformat_minor": 2
}
