{
 "cells": [
  {
   "cell_type": "markdown",
   "id": "585fefa8-790b-43bc-bbe7-1b96b6770aad",
   "metadata": {},
   "source": [
    "## 1. Caesar Cipher\n",
    "it is an type of symmetric cipher . It is an very basic cipher which uses shifting of alphabets to encode and decode"
   ]
  },
  {
   "cell_type": "code",
   "execution_count": 49,
   "id": "9cc60e94-1eb0-49ad-b992-17d81b2f6ee9",
   "metadata": {},
   "outputs": [
    {
     "name": "stdin",
     "output_type": "stream",
     "text": [
      "Enter The Text :\n",
      " KJ\n",
      "Enter The Number Of Shift:\n",
      " 4\n",
      "Do you want to encode or decode:\n",
      " encode\n"
     ]
    },
    {
     "name": "stdout",
     "output_type": "stream",
     "text": [
      "on\n"
     ]
    }
   ],
   "source": [
    "# List of lowercase letters\n",
    "letters = ['a','b','c','d','e','f','g','h','i','j','k','l','m','n','o','p','q','r','s','t',\n",
    "           'u','v','w','x','y','z']\n",
    "\n",
    "# Caesar cipher function\n",
    "def caesar_cipher(text, shift, choice):\n",
    "    new_sentence = \"\"  # Initialize an empty string to store the encoded/decoded  sentence\n",
    "    for char in text:  # Iterate through each character in the input\n",
    "        if char in letters:  # Check if the character is in the above list called 'letter'\n",
    "            index = letters.index(char)  # Find the index of the character in the list\n",
    "            if choice == 'encode': #Choice For encoding and decoding\n",
    "                new_index = (index + shift) % 26  # Apply the Caesar cipher encoding\n",
    "            else:\n",
    "                new_index = (index - shift) % 26  # Apply the Caesar cipher decoding\n",
    "            new_char = letters[new_index]  # Get the new character after applying the cipher\n",
    "            new_sentence += new_char  # Add the new character to the variable 'new_sentence'\n",
    "        else: # Keep Symbols or the characters which aren't in above list unchanged\n",
    "            new_sentence += char  # Add non-alphabetic characters to the result unchanged\n",
    "\n",
    "    return new_sentence  # Return the final result after processing the entire input text\n",
    "\n",
    "if __name__ == '__main__':\n",
    "    text = input(\"Enter The Text :\\n\").lower()\n",
    "    shift= int(input(\"Enter The Number Of Shift:\\n\"))\n",
    "    direction = input(\"Do you want to encode or decode:\\n\")\n",
    "    print(caesar_cipher(text,shift,direction))\n"
   ]
  },
  {
   "cell_type": "markdown",
   "id": "e8d18184-7c69-4ac3-ac41-40675f01aea3",
   "metadata": {},
   "source": [
    "## 2. Number Guessing Game\n",
    "In this program computer choose a random number in the range of 1 to 50 and player(user) will have 5 chances to guess the number. Can You Guess It ?"
   ]
  },
  {
   "cell_type": "code",
   "execution_count": 39,
   "id": "695236da-88ca-4465-b8b4-327d9395aa29",
   "metadata": {},
   "outputs": [
    {
     "name": "stdout",
     "output_type": "stream",
     "text": [
      "Number is from 1-50. Start Guessing\n"
     ]
    },
    {
     "name": "stdin",
     "output_type": "stream",
     "text": [
      "Enter a number 12\n"
     ]
    },
    {
     "name": "stdout",
     "output_type": "stream",
     "text": [
      "Guess A Lower Number\n",
      "No. Of Guesses Left = 4\n"
     ]
    },
    {
     "name": "stdin",
     "output_type": "stream",
     "text": [
      "Enter a number 6\n"
     ]
    },
    {
     "name": "stdout",
     "output_type": "stream",
     "text": [
      "Guess A Higher Number\n",
      "No. Of Guesses Left = 3\n"
     ]
    },
    {
     "name": "stdin",
     "output_type": "stream",
     "text": [
      "Enter a number 8\n"
     ]
    },
    {
     "name": "stdout",
     "output_type": "stream",
     "text": [
      "Guess A Higher Number\n",
      "No. Of Guesses Left = 2\n"
     ]
    },
    {
     "name": "stdin",
     "output_type": "stream",
     "text": [
      "Enter a number 10\n"
     ]
    },
    {
     "name": "stdout",
     "output_type": "stream",
     "text": [
      "Guess A Lower Number\n",
      "No. Of Guesses Left = 1\n"
     ]
    },
    {
     "name": "stdin",
     "output_type": "stream",
     "text": [
      "Enter a number 9\n"
     ]
    },
    {
     "name": "stdout",
     "output_type": "stream",
     "text": [
      "You Guess The Number!!\n",
      "Congrats, You Won in 5 chances\n"
     ]
    }
   ],
   "source": [
    "#### import random # It is an python built-in module \n",
    "noOfGuesses = 5\n",
    "compNum = random.randint(1,50) # This will generate random number in the range of 1 to 50\n",
    "result = 0  # this is an bool value for checking the result of the game\n",
    "print(\"Number is from 1-50. Start Guessing\")\n",
    "\n",
    "\n",
    "while (noOfGuesses > 0): # This while loop runs until player (user) have chances left\n",
    "    userGuess = int(input(\"Enter a number\"))\n",
    "    if(userGuess > 50 or userGuess < 1): # this is the check for if user put value less than 0 or greater 100\n",
    "        print(\"Please Guess Number In The Range Of 1-50\")\n",
    "    if(userGuess == compNum): # this condition checks if the guess is correct \n",
    "        print(\"You Guess The Number!!\")\n",
    "        result = 1\n",
    "        break\n",
    "    elif(userGuess < compNum): # this condition checks if guessed number is greater \n",
    "        print(\"Guess A Higher Number\")\n",
    "        noOfGuesses -=1\n",
    "        print(f\"No. Of Guesses Left = {noOfGuesses}\")\n",
    "    else: # this checks if the guessed number is lower\n",
    "        print(\"Guess A Lower Number\")\n",
    "        noOfGuesses -=1\n",
    "        print(f\"No. Of Guesses Left = {noOfGuesses}\")\n",
    "\n",
    "if(result == 1):\n",
    "    print(f\"Congrats, You Won in {6 - noOfGuesses} chances\")\n",
    "else:\n",
    "    print(f\"You Lose , The Number Was {compNum}\")\n",
    "        \n",
    "    "
   ]
  },
  {
   "cell_type": "markdown",
   "id": "21ae53d8-2c0d-455a-af4d-f1c2b3c33632",
   "metadata": {},
   "source": [
    "## 3. Virtual Coin Toss\n",
    "This program is for tossing the virtual coin"
   ]
  },
  {
   "cell_type": "code",
   "execution_count": 43,
   "id": "995f6972-bc77-4f53-bcb6-27b94d285c73",
   "metadata": {},
   "outputs": [
    {
     "name": "stdout",
     "output_type": "stream",
     "text": [
      "Heads\n"
     ]
    }
   ],
   "source": [
    "import random\n",
    "side = random.choice([\"Heads\", \"Tails\"])  # Randomly choose either \"Heads\" or \"Tails\" from the list\n",
    "print(side)"
   ]
  },
  {
   "cell_type": "markdown",
   "id": "7fcc4b7c-6d4d-4953-9f1f-5aa60f9ae7f9",
   "metadata": {},
   "source": [
    "## 4. Hangman\n",
    "This is the code of popular game hangman"
   ]
  },
  {
   "cell_type": "code",
   "execution_count": 53,
   "id": "bbf53885-c6cf-44c5-9016-951b61f3570c",
   "metadata": {},
   "outputs": [
    {
     "name": "stdout",
     "output_type": "stream",
     "text": [
      "Welcome To Hangman Game!! \n",
      "\n",
      "\n",
      " ['_', '_', '_', '_', '_', '_']\n",
      "\n",
      "\n"
     ]
    },
    {
     "name": "stdin",
     "output_type": "stream",
     "text": [
      "Guess A Letter :\n",
      " ba\n"
     ]
    },
    {
     "name": "stdout",
     "output_type": "stream",
     "text": [
      "\n",
      " ['_', '_', '_', '_', '_', '_']\n",
      "\n",
      "\n"
     ]
    },
    {
     "name": "stdin",
     "output_type": "stream",
     "text": [
      "Guess A Letter :\n",
      " b\n"
     ]
    },
    {
     "name": "stdout",
     "output_type": "stream",
     "text": [
      "\n",
      " ['b', '_', 'b', '_', '_', '_']\n",
      "\n",
      "\n"
     ]
    },
    {
     "name": "stdin",
     "output_type": "stream",
     "text": [
      "Guess A Letter :\n",
      " a\n"
     ]
    },
    {
     "name": "stdout",
     "output_type": "stream",
     "text": [
      "\n",
      " ['b', 'a', 'b', '_', '_', '_']\n",
      "\n",
      "\n"
     ]
    },
    {
     "name": "stdin",
     "output_type": "stream",
     "text": [
      "Guess A Letter :\n",
      " o\n"
     ]
    },
    {
     "name": "stdout",
     "output_type": "stream",
     "text": [
      "\n",
      " ['b', 'a', 'b', 'o', 'o', '_']\n",
      "\n",
      "\n"
     ]
    },
    {
     "name": "stdin",
     "output_type": "stream",
     "text": [
      "Guess A Letter :\n",
      " n\n"
     ]
    },
    {
     "name": "stdout",
     "output_type": "stream",
     "text": [
      "\n",
      "Congratulations, You Won!!. The Word Was baboon\n"
     ]
    }
   ],
   "source": [
    "def Hangman():\n",
    "    print(\"Welcome To Hangman Game!! \\n\")\n",
    "    word_list = [\"aardvark\", \"baboon\", \"camel\"] # list of words\n",
    "    choosen_word = random.choice(word_list) # this will choose the random word from above list \n",
    "    display = [] # this list is for showing blanks\n",
    "    live = 6 # total lives\n",
    "\n",
    "    for letter in choosen_word:\n",
    "        display += \"_\" # this will add blanks  \n",
    "    while(True):\n",
    "        if \"_\" not in display: # if all blanks filled\n",
    "            print(f\"\\nCongratulations, You Won!!. The Word Was {choosen_word}\")\n",
    "            break\n",
    "        else: # else show the guessed characters and blanks\n",
    "            print(\"\\n\",display) \n",
    "            print(\"\\n\")\n",
    "            guess = input(\"Guess A Letter :\\n\").lower() #Take input\n",
    "\n",
    "            if guess in choosen_word: #if guessed character is in choosen word\n",
    "                if guess not in display: # and not already guessed\n",
    "                    for i in range(len(choosen_word)): # check whole word , where guessed character lies\n",
    "                        if choosen_word[i] == guess: \n",
    "                            display[i] = guess # replace the blank with character\n",
    "\n",
    "                else: # if character already guessed\n",
    "                    print(\"\\nAlready Guessed That Letter!\\n\")\n",
    "            else: #if guessed character not in choosen word\n",
    "                if live == 0: # if life = 0\n",
    "                    print('\\nYou Lost!')\n",
    "                    print(\"The Word Was\",choosen_word)\n",
    "                    break\n",
    "                print(\"\\nWrong Guess! Try Again.\\n\")\n",
    "                live-=1 # decrement live by 1 everytime guess wrong\n",
    "                print(\"Total Lives Remaining =\",live) # this will show the remaining lives\n",
    "\n",
    "if __name__ == \"__main__\":\n",
    "    Hangman()"
   ]
  },
  {
   "cell_type": "markdown",
   "id": "cc01f10e-b2c0-4028-b6f4-91be01bb2bf2",
   "metadata": {},
   "source": [
    "## Pattern Printing"
   ]
  },
  {
   "cell_type": "markdown",
   "id": "a8a410e8-cb52-4dc9-8422-f6512bfc39b9",
   "metadata": {},
   "source": [
    "### 1st Pattern"
   ]
  },
  {
   "cell_type": "code",
   "execution_count": 68,
   "id": "129a8578-7411-48e9-a3a7-95e535318d1a",
   "metadata": {},
   "outputs": [
    {
     "name": "stdin",
     "output_type": "stream",
     "text": [
      "Enter No. Of Rows 5\n"
     ]
    },
    {
     "name": "stdout",
     "output_type": "stream",
     "text": [
      "\n",
      "     *\n",
      "    ***\n",
      "   *****\n",
      "  *******\n",
      " *********"
     ]
    }
   ],
   "source": [
    "rows = int(input(\"Enter No. Of Rows\"))\n",
    "for i in range(1,rows+1):\n",
    "    print()\n",
    "    for k in range ((rows+1)-i):\n",
    "        print(\" \",end = \"\")\n",
    "    for j in range (i*2-1):\n",
    "        print(\"*\",end='')\n",
    "        \n",
    "    "
   ]
  },
  {
   "cell_type": "markdown",
   "id": "c07f65af-2dfb-4bc7-b7a0-483efa20674a",
   "metadata": {},
   "source": [
    "### 2nd Pattern"
   ]
  },
  {
   "cell_type": "code",
   "execution_count": 78,
   "id": "ab16de5d-db47-4d1d-a799-96cea8e6c609",
   "metadata": {},
   "outputs": [
    {
     "name": "stdin",
     "output_type": "stream",
     "text": [
      "Enter No. Of Rows 10\n"
     ]
    },
    {
     "name": "stdout",
     "output_type": "stream",
     "text": [
      "\n",
      "          A \n",
      "         A B \n",
      "        A B C \n",
      "       A B C D \n",
      "      A B C D E \n",
      "     A B C D E F \n",
      "    A B C D E F G \n",
      "   A B C D E F G H \n",
      "  A B C D E F G H I \n",
      " A B C D E F G H I J "
     ]
    }
   ],
   "source": [
    "rows = int(input(\"Enter No. Of Rows\"))\n",
    "for i in range(1,rows+1):\n",
    "    char = ord('A') # Storing ASCII code of A\n",
    "    print()\n",
    "    for k in range ((rows +1)-i):\n",
    "        print(\" \", end = \"\")\n",
    "    for j in range(i):\n",
    "        print(chr(char),end = \" \")\n",
    "        char = char + 1"
   ]
  },
  {
   "cell_type": "markdown",
   "id": "790db5e6-01d2-488f-a51b-d1e665c036d4",
   "metadata": {},
   "source": [
    "### 3rd Pattern"
   ]
  },
  {
   "cell_type": "code",
   "execution_count": 95,
   "id": "e586ebb6-c47f-40b1-afb6-0c35b444a6f2",
   "metadata": {},
   "outputs": [
    {
     "name": "stdin",
     "output_type": "stream",
     "text": [
      "Enter No. Of Rows 5\n"
     ]
    },
    {
     "name": "stdout",
     "output_type": "stream",
     "text": [
      "\n",
      "*********\n",
      " *******\n",
      "  *****\n",
      "   ***\n",
      "    *"
     ]
    }
   ],
   "source": [
    "rows = int(input(\"Enter No. Of Rows\"))\n",
    "for i in range(1,rows+1):\n",
    "    print()\n",
    "    for j in range (i-1):\n",
    "        print(\" \",end='')\n",
    "    for k in range ((rows*2-1)-(i-1)*2):\n",
    "        print(\"*\",end = \"\")\n",
    "    \n",
    "        \n",
    "    "
   ]
  },
  {
   "cell_type": "markdown",
   "id": "b57220ab-9377-4b4f-b6f1-2a34cf3e5cca",
   "metadata": {},
   "source": [
    "### 4th Pattern"
   ]
  },
  {
   "cell_type": "code",
   "execution_count": 97,
   "id": "36cd298f-bf8a-4860-b0a4-3cc8e2931698",
   "metadata": {},
   "outputs": [
    {
     "name": "stdin",
     "output_type": "stream",
     "text": [
      "Enter No. Of Rows 5\n"
     ]
    },
    {
     "name": "stdout",
     "output_type": "stream",
     "text": [
      "*  \n",
      "* *  \n",
      "* * *  \n",
      "* * * *  \n",
      "* * * * *  \n"
     ]
    }
   ],
   "source": [
    "rows = int(input(\"Enter No. Of Rows\"))\n",
    "for i in range(1,rows+1):\n",
    "    print(\"* \" * i , end = \" \")\n",
    "    print()\n",
    "    "
   ]
  },
  {
   "cell_type": "markdown",
   "id": "ad42806c-a9f3-45e0-b752-a21af53815e2",
   "metadata": {},
   "source": [
    "### 5th Pattern"
   ]
  },
  {
   "cell_type": "code",
   "execution_count": 100,
   "id": "af2d3e73-36ce-4b96-b079-02d001c8af6c",
   "metadata": {},
   "outputs": [
    {
     "name": "stdin",
     "output_type": "stream",
     "text": [
      "Enter No. Of Rows 5\n"
     ]
    },
    {
     "name": "stdout",
     "output_type": "stream",
     "text": [
      "\n",
      "1 \n",
      "2 3 \n",
      "4 5 6 \n",
      "7 8 9 10 \n",
      "11 12 13 14 15 "
     ]
    }
   ],
   "source": [
    "rows = int(input(\"Enter No. Of Rows\"))\n",
    "number = 1 \n",
    "for i in range(1,rows+1):\n",
    "    print()\n",
    "    for j in range (i):\n",
    "        print(f\"{number} \",end = \"\")\n",
    "        number +=1\n",
    "    "
   ]
  }
 ],
 "metadata": {
  "kernelspec": {
   "display_name": "Python 3 (ipykernel)",
   "language": "python",
   "name": "python3"
  },
  "language_info": {
   "codemirror_mode": {
    "name": "ipython",
    "version": 3
   },
   "file_extension": ".py",
   "mimetype": "text/x-python",
   "name": "python",
   "nbconvert_exporter": "python",
   "pygments_lexer": "ipython3",
   "version": "3.12.2"
  }
 },
 "nbformat": 4,
 "nbformat_minor": 5
}
