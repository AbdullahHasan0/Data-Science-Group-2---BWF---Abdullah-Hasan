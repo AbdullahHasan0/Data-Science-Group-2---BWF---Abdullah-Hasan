{
 "cells": [
  {
   "cell_type": "markdown",
   "id": "885f1ecf-a6ac-4cc4-bdae-03be2c69665c",
   "metadata": {},
   "source": [
    "***Serial No : 19***"
   ]
  },
  {
   "cell_type": "code",
   "execution_count": 3,
   "id": "c60613ef-7dcb-49ef-8b85-7014c6d96186",
   "metadata": {},
   "outputs": [],
   "source": [
    "import numpy as np"
   ]
  },
  {
   "cell_type": "markdown",
   "id": "c032c947-19fa-4b2f-81f6-f3d66387e3e4",
   "metadata": {},
   "source": [
    "# Indexing And Slicing"
   ]
  },
  {
   "cell_type": "markdown",
   "id": "17c880ac-ae17-4009-ba16-1811148a5b1c",
   "metadata": {},
   "source": [
    "1. Given a 2D array of shape (6, 6), extract a 2x2 sub-array starting from the element at position (1, 1)."
   ]
  },
  {
   "cell_type": "code",
   "execution_count": 12,
   "id": "a3b4002a-6c4d-438b-8b66-48689f1a5030",
   "metadata": {},
   "outputs": [
    {
     "name": "stdout",
     "output_type": "stream",
     "text": [
      "[ 1  2  3  4  5  6  7  8  9 10 11 12 13 14 15 16 17 18 19 20 21 22 23 24\n",
      " 25 26 27 28 29 30 31 32 33 34 35 36]\n",
      "\n",
      "[[ 1  2  3  4  5  6]\n",
      " [ 7  8  9 10 11 12]\n",
      " [13 14 15 16 17 18]\n",
      " [19 20 21 22 23 24]\n",
      " [25 26 27 28 29 30]\n",
      " [31 32 33 34 35 36]]\n",
      "\n",
      "[[ 8  9]\n",
      " [14 15]]\n"
     ]
    }
   ],
   "source": [
    "# Making 1D Array Filled with numbers from 1 to 36\n",
    "array = np.arange(1,37)\n",
    "print(array)\n",
    "print()\n",
    "# Changing it into 6x6 matrix or (6,6) shape\n",
    "array=array.reshape(6,6)\n",
    "print(array)\n",
    "print()\n",
    "# Now Slicing the 2x2 matrix from (1,1) element\n",
    "print(array[1:3 , 1:3])"
   ]
  },
  {
   "cell_type": "markdown",
   "id": "9c89b81e-718e-4118-aa0b-7cc781703fea",
   "metadata": {},
   "source": [
    "2. From a 3D array of shape (3, 2, 1), extract all elements in the first two rows and all columns of the second slice along the third axis."
   ]
  },
  {
   "cell_type": "code",
   "execution_count": 18,
   "id": "eae7ab0a-a999-46a5-b1f2-e68aadcea3df",
   "metadata": {},
   "outputs": [
    {
     "name": "stdout",
     "output_type": "stream",
     "text": [
      "[1 2 3 4 5 6]\n",
      "\n",
      "[[[1]\n",
      "  [2]]\n",
      "\n",
      " [[3]\n",
      "  [4]]\n",
      "\n",
      " [[5]\n",
      "  [6]]]\n",
      "\n",
      "[[3]\n",
      " [4]]\n"
     ]
    }
   ],
   "source": [
    "# Making 1D Array Filled with numbers from 1 to 6\n",
    "array = np.arange(1,7)\n",
    "print(array)\n",
    "print()\n",
    "# Changing it into(3,2,1) shape\n",
    "array=array.reshape(3,2,1)\n",
    "print(array)\n",
    "print()\n",
    "# Extracting All elements from first 2 rows and all the columns of 2nd slice along the third axis\n",
    "print(array[1,:2,:])"
   ]
  },
  {
   "cell_type": "markdown",
   "id": "38e4cf78-f502-4dba-8e0b-46eedc38d896",
   "metadata": {},
   "source": [
    "3. Given an array of integers, use fancy indexing to extract elements at positions [1, 3, 4, 6].\n"
   ]
  },
  {
   "cell_type": "code",
   "execution_count": 27,
   "id": "fe0dee99-1d7a-4b76-bf63-eb400d64713c",
   "metadata": {},
   "outputs": [
    {
     "name": "stdout",
     "output_type": "stream",
     "text": [
      "[193 203 244  24 182  85  22  85  69 240]\n",
      "\n",
      "[203  24 182  22]\n",
      "[203  24 182  22]\n"
     ]
    }
   ],
   "source": [
    "# Making 1D Array Filled with random numbers from 10 to 300\n",
    "array = np.random.randint(10,310,10)\n",
    "print(array)\n",
    "print()\n",
    "\n",
    "#Fancy Indexing\n",
    "\n",
    "# Integer Array Indexing\n",
    "indices = np.array([1,3,4,6])\n",
    "elements = array[indices]\n",
    "print(elements)\n",
    "\n",
    "# Boolean Array Indexing\n",
    "\n",
    "indices = np.array([False,True,False,True,True,False,True,False,False,False])\n",
    "element = array[indices]\n",
    "print(element)"
   ]
  },
  {
   "cell_type": "markdown",
   "id": "a7efc825-b280-4a19-9e10-2fb0e6733e67",
   "metadata": {},
   "source": [
    "4. Given a 2D array, use fancy indexing to select rows [0, 2, 2] and columns [1, 3]."
   ]
  },
  {
   "cell_type": "code",
   "execution_count": 41,
   "id": "76f43b65-feaa-4119-bdac-b172e9056b51",
   "metadata": {},
   "outputs": [
    {
     "name": "stdout",
     "output_type": "stream",
     "text": [
      "[ 1  2  3  4  5  6  7  8  9 10 11 12 13 14 15 16]\n",
      "\n",
      "[[ 1  2  3  4]\n",
      " [ 5  6  7  8]\n",
      " [ 9 10 11 12]\n",
      " [13 14 15 16]]\n",
      "\n",
      "Rows\n",
      "[[ 1  2  3  4]\n",
      " [ 9 10 11 12]\n",
      " [ 9 10 11 12]]\n",
      "Columns\n",
      "[[ 2  4]\n",
      " [ 6  8]\n",
      " [10 12]\n",
      " [14 16]]\n"
     ]
    }
   ],
   "source": [
    "# Making 1D Array Filled with numbers from 1 to 16\n",
    "array = np.arange(1,17)\n",
    "print(array)\n",
    "print()\n",
    "#Reshaping it in to shape(2,2) \n",
    "array=array.reshape(4,4)\n",
    "print(array)\n",
    "print()\n",
    "\n",
    "#Now Finding Rows\n",
    "print(\"Rows\")\n",
    "rows_indices = np.array([0,2,2])\n",
    "rows = array[rows_indices]\n",
    "print(rows)\n",
    "\n",
    "#Now Finding Columns\n",
    "print(\"Columns\")\n",
    "columns_indices = np.array([1,3])\n",
    "columns = array[:,columns_indices]\n",
    "\n",
    "print(columns)\n",
    "\n",
    "\n"
   ]
  },
  {
   "cell_type": "code",
   "execution_count": null,
   "id": "f0341b49-69e7-4c35-b7a6-b6e93db4dbe0",
   "metadata": {},
   "outputs": [],
   "source": []
  }
 ],
 "metadata": {
  "kernelspec": {
   "display_name": "Python 3 (ipykernel)",
   "language": "python",
   "name": "python3"
  },
  "language_info": {
   "codemirror_mode": {
    "name": "ipython",
    "version": 3
   },
   "file_extension": ".py",
   "mimetype": "text/x-python",
   "name": "python",
   "nbconvert_exporter": "python",
   "pygments_lexer": "ipython3",
   "version": "3.12.2"
  }
 },
 "nbformat": 4,
 "nbformat_minor": 5
}
