{
 "cells": [
  {
   "cell_type": "markdown",
   "id": "885f1ecf-a6ac-4cc4-bdae-03be2c69665c",
   "metadata": {},
   "source": [
    "***Serial No : 19***"
   ]
  },
  {
   "cell_type": "code",
   "execution_count": 2,
   "id": "c60613ef-7dcb-49ef-8b85-7014c6d96186",
   "metadata": {},
   "outputs": [],
   "source": [
    "import numpy as np"
   ]
  },
  {
   "cell_type": "markdown",
   "id": "c032c947-19fa-4b2f-81f6-f3d66387e3e4",
   "metadata": {},
   "source": [
    "# Indexing And Slicing"
   ]
  },
  {
   "cell_type": "markdown",
   "id": "17c880ac-ae17-4009-ba16-1811148a5b1c",
   "metadata": {},
   "source": [
    "1. Given a 2D array of shape (6, 6), extract a 2x2 sub-array starting from the element at position (1, 1)."
   ]
  },
  {
   "cell_type": "code",
   "execution_count": 12,
   "id": "a3b4002a-6c4d-438b-8b66-48689f1a5030",
   "metadata": {},
   "outputs": [
    {
     "name": "stdout",
     "output_type": "stream",
     "text": [
      "[ 1  2  3  4  5  6  7  8  9 10 11 12 13 14 15 16 17 18 19 20 21 22 23 24\n",
      " 25 26 27 28 29 30 31 32 33 34 35 36]\n",
      "\n",
      "[[ 1  2  3  4  5  6]\n",
      " [ 7  8  9 10 11 12]\n",
      " [13 14 15 16 17 18]\n",
      " [19 20 21 22 23 24]\n",
      " [25 26 27 28 29 30]\n",
      " [31 32 33 34 35 36]]\n",
      "\n",
      "[[ 8  9]\n",
      " [14 15]]\n"
     ]
    }
   ],
   "source": [
    "# Making 1D Array Filled with numbers from 1 to 36\n",
    "array = np.arange(1,37)\n",
    "print(array)\n",
    "print()\n",
    "# Changing it into 6x6 matrix or (6,6) shape\n",
    "array=array.reshape(6,6)\n",
    "print(array)\n",
    "print()\n",
    "# Now Slicing the 2x2 matrix from (1,1) element\n",
    "print(array[1:3 , 1:3])"
   ]
  },
  {
   "cell_type": "markdown",
   "id": "9c89b81e-718e-4118-aa0b-7cc781703fea",
   "metadata": {},
   "source": [
    "2. From a 3D array of shape (3, 2, 1), extract all elements in the first two rows and all columns of the second slice along the third axis."
   ]
  },
  {
   "cell_type": "code",
   "execution_count": 18,
   "id": "eae7ab0a-a999-46a5-b1f2-e68aadcea3df",
   "metadata": {},
   "outputs": [
    {
     "name": "stdout",
     "output_type": "stream",
     "text": [
      "[1 2 3 4 5 6]\n",
      "\n",
      "[[[1]\n",
      "  [2]]\n",
      "\n",
      " [[3]\n",
      "  [4]]\n",
      "\n",
      " [[5]\n",
      "  [6]]]\n",
      "\n",
      "[[3]\n",
      " [4]]\n"
     ]
    }
   ],
   "source": [
    "# Making 1D Array Filled with numbers from 1 to 6\n",
    "array = np.arange(1,7)\n",
    "print(array)\n",
    "print()\n",
    "# Changing it into(3,2,1) shape\n",
    "array=array.reshape(3,2,1)\n",
    "print(array)\n",
    "print()\n",
    "# Extracting All elements from first 2 rows and all the columns of 2nd slice along the third axis\n",
    "print(array[1,:2,:])"
   ]
  },
  {
   "cell_type": "markdown",
   "id": "38e4cf78-f502-4dba-8e0b-46eedc38d896",
   "metadata": {},
   "source": [
    "3. Given an array of integers, use fancy indexing to extract elements at positions [1, 3, 4, 6].\n"
   ]
  },
  {
   "cell_type": "code",
   "execution_count": 27,
   "id": "fe0dee99-1d7a-4b76-bf63-eb400d64713c",
   "metadata": {},
   "outputs": [
    {
     "name": "stdout",
     "output_type": "stream",
     "text": [
      "[193 203 244  24 182  85  22  85  69 240]\n",
      "\n",
      "[203  24 182  22]\n",
      "[203  24 182  22]\n"
     ]
    }
   ],
   "source": [
    "# Making 1D Array Filled with random numbers from 10 to 300\n",
    "array = np.random.randint(10,310,10)\n",
    "print(array)\n",
    "print()\n",
    "\n",
    "#Fancy Indexing\n",
    "\n",
    "# Integer Array Indexing\n",
    "indices = np.array([1,3,4,6])\n",
    "elements = array[indices]\n",
    "print(elements)\n",
    "\n",
    "# Boolean Array Indexing\n",
    "\n",
    "indices = np.array([False,True,False,True,True,False,True,False,False,False])\n",
    "element = array[indices]\n",
    "print(element)"
   ]
  },
  {
   "cell_type": "markdown",
   "id": "a7efc825-b280-4a19-9e10-2fb0e6733e67",
   "metadata": {},
   "source": [
    "4. Given a 2D array, use fancy indexing to select rows [0, 2, 2] and columns [1, 3]."
   ]
  },
  {
   "cell_type": "code",
   "execution_count": 42,
   "id": "76f43b65-feaa-4119-bdac-b172e9056b51",
   "metadata": {},
   "outputs": [
    {
     "name": "stdout",
     "output_type": "stream",
     "text": [
      "[ 1  2  3  4  5  6  7  8  9 10 11 12 13 14 15 16]\n",
      "\n",
      "[[ 1  2  3  4]\n",
      " [ 5  6  7  8]\n",
      " [ 9 10 11 12]\n",
      " [13 14 15 16]]\n",
      "\n",
      "Rows\n",
      "[[ 1  2  3  4]\n",
      " [ 9 10 11 12]\n",
      " [ 9 10 11 12]]\n",
      "\n",
      "Columns\n",
      "[[ 2  4]\n",
      " [ 6  8]\n",
      " [10 12]\n",
      " [14 16]]\n"
     ]
    }
   ],
   "source": [
    "# Making 1D Array Filled with numbers from 1 to 16\n",
    "array = np.arange(1,17)\n",
    "print(array)\n",
    "print()\n",
    "#Reshaping it in to shape(2,2) \n",
    "array=array.reshape(4,4)\n",
    "print(array)\n",
    "print()\n",
    "\n",
    "#Now Finding Rows\n",
    "print(\"Rows\")\n",
    "rows_indices = np.array([0,2,2])\n",
    "rows = array[rows_indices]\n",
    "print(rows)\n",
    "print()\n",
    "\n",
    "#Now Finding Columns\n",
    "print(\"Columns\")\n",
    "columns_indices = np.array([1,3])\n",
    "columns = array[:,columns_indices]\n",
    "print(columns)\n",
    "\n",
    "\n"
   ]
  },
  {
   "cell_type": "markdown",
   "id": "6d7bf8fc-75cf-4e38-9a86-6fe674adb9f4",
   "metadata": {},
   "source": [
    "5. From a 1D array of random integers, extract all elements that are greater than 8."
   ]
  },
  {
   "cell_type": "code",
   "execution_count": 57,
   "id": "df3729a9-13ef-48a0-859b-612c416c6702",
   "metadata": {},
   "outputs": [
    {
     "name": "stdout",
     "output_type": "stream",
     "text": [
      "[ 1  6  2  3  6  5 18 17  5 16 14  7  5 19 16  7  9 11 17 13]\n",
      "\n",
      "Answer\n",
      "\n",
      "[18 17 16 14 19 16  9 11 17 13]\n"
     ]
    }
   ],
   "source": [
    "# Making 1D Array Filled with random numbers from 1 to 300\n",
    "array = np.random.randint(1,20,20)\n",
    "print(array)\n",
    "array = array[array > 8]\n",
    "print()\n",
    "print(\"Answer\\n\")\n",
    "print(array)\n"
   ]
  },
  {
   "cell_type": "markdown",
   "id": "e75b9509-5d46-4917-93f4-cfa2460a29d6",
   "metadata": {},
   "source": [
    "6. Given a 2D array of shape (6, 6), replace all elements greater than 13 with the value 0."
   ]
  },
  {
   "cell_type": "code",
   "execution_count": 75,
   "id": "0a67d5cb-f84f-4809-bb19-408645f260d7",
   "metadata": {},
   "outputs": [
    {
     "name": "stdout",
     "output_type": "stream",
     "text": [
      "[ 8 11  9 10 11  4  2  4 16  8 10  5  2 19 13  9 19 17 12 14  3 16 19 19\n",
      " 19  8 10 18  9  5 13 19 15 16  2 11]\n",
      "\n",
      "[[ 8 11  9 10 11  4]\n",
      " [ 2  4 16  8 10  5]\n",
      " [ 2 19 13  9 19 17]\n",
      " [12 14  3 16 19 19]\n",
      " [19  8 10 18  9  5]\n",
      " [13 19 15 16  2 11]]\n",
      "\n",
      "[[ 8 11  9 10 11  4]\n",
      " [ 2  4  0  8 10  5]\n",
      " [ 2  0 13  9  0  0]\n",
      " [12  0  3  0  0  0]\n",
      " [ 0  8 10  0  9  5]\n",
      " [13  0  0  0  2 11]] \n",
      "\n",
      "[[ 8 11  9 10 11  4]\n",
      " [ 2  4  0  8 10  5]\n",
      " [ 2  0 13  9  0  0]\n",
      " [12  0  3  0  0  0]\n",
      " [ 0  8 10  0  9  5]\n",
      " [13  0  0  0  2 11]]\n"
     ]
    }
   ],
   "source": [
    "# Making 1D Array Filled with numbers from 1 to 36\n",
    "array = np.random.randint(1,20,36)\n",
    "print(array)\n",
    "print()\n",
    "# Changing it into 6x6 matrix or (6,6) shape\n",
    "array=array.reshape(6,6)\n",
    "print(array)\n",
    "print()\n",
    "\n",
    "# Now we are replacing number greater than 13 with the value of 0\n",
    "\n",
    "\n",
    "\n",
    "array[array>13]=0\n",
    "print(array,'\\n')\n",
    "\n",
    "# Using numpy built in function\n",
    "\n",
    "finalArray = np.where(array>13 , 0,array)\n",
    "print(finalArray)\n",
    "\n",
    "\n"
   ]
  },
  {
   "cell_type": "markdown",
   "id": "ae0bc1a3-4246-4362-b8df-098a2cf7b2e5",
   "metadata": {},
   "source": [
    "# Broadcasting"
   ]
  },
  {
   "cell_type": "markdown",
   "id": "3631757c-5b10-4ffb-8b20-8b1fe96c58d6",
   "metadata": {},
   "source": [
    "1. Add a 1D array of shape (3,) to each row of a 2D array of shape (4, 3)."
   ]
  },
  {
   "cell_type": "code",
   "execution_count": 86,
   "id": "243dd246-86ce-4352-abca-43da152dc64b",
   "metadata": {},
   "outputs": [
    {
     "name": "stdout",
     "output_type": "stream",
     "text": [
      "\n",
      " Array of shape(4,3)\n",
      "[[ 1  2  3]\n",
      " [ 4  5  6]\n",
      " [ 7  8  9]\n",
      " [10 11 12]]\n",
      "\n",
      "Array of shape (1,3)\n",
      "[[1 2 3]]\n",
      "\n",
      "Final Array\n",
      "[[ 2  4  6]\n",
      " [ 5  7  9]\n",
      " [ 8 10 12]\n",
      " [11 13 15]]\n"
     ]
    }
   ],
   "source": [
    "# Making 2D array of shape (4,3)\n",
    "array1 = np.arange(1,13).reshape(4,3)\n",
    "print('\\n Array of shape(4,3)')\n",
    "print(array1)\n",
    "\n",
    "# Making 1D array of shape (1,3)\n",
    "print('\\nArray of shape (1,3)',)\n",
    "array2 = np.arange(1,4).reshape(1,3)\n",
    "print(array2)\n",
    "\n",
    "finalArray = array1 + array2\n",
    "print(f\"\\nFinal Array\\n{finalArray}\")\n"
   ]
  },
  {
   "cell_type": "markdown",
   "id": "3b438637-8bb7-4d42-aed9-87c221a0505d",
   "metadata": {},
   "source": [
    "2. Multiply a 2D array of shape (3, 3) by a 1D array of shape (3,)."
   ]
  },
  {
   "cell_type": "code",
   "execution_count": 88,
   "id": "a0c7c274-1eab-4996-967e-ce73ee476a62",
   "metadata": {},
   "outputs": [
    {
     "name": "stdout",
     "output_type": "stream",
     "text": [
      "\n",
      " Array of shape(3,3)\n",
      "[[1 2 3]\n",
      " [4 5 6]\n",
      " [7 8 9]]\n",
      "\n",
      "Array of shape (1,3)\n",
      "[[1 2 3]]\n",
      "\n",
      "Final Array\n",
      "[[ 1  4  9]\n",
      " [ 4 10 18]\n",
      " [ 7 16 27]]\n"
     ]
    }
   ],
   "source": [
    "# Making 2D array of shape (3,3)\n",
    "array1 = np.arange(1,10).reshape(3,3)\n",
    "print('\\n Array of shape(3,3)')\n",
    "print(array1)\n",
    "\n",
    "# Making 1D array of shape (1,3)\n",
    "print('\\nArray of shape (1,3)',)\n",
    "array2 = np.arange(1,4).reshape(1,3)\n",
    "print(array2)\n",
    "\n",
    "finalArray = array1 * array2\n",
    "print(f\"\\nFinal Array\\n{finalArray}\")\n"
   ]
  },
  {
   "cell_type": "markdown",
   "id": "348efd5d-f528-43b3-ba96-923cf8df7ecb",
   "metadata": {},
   "source": [
    "3. Create two 2D arrays of shapes (3, 1) and (1, 4) respectively, and perform element-wise addition.\n"
   ]
  },
  {
   "cell_type": "code",
   "execution_count": 94,
   "id": "ea2ed9af-39dd-4f5c-bba1-cee923d651c1",
   "metadata": {},
   "outputs": [
    {
     "name": "stdout",
     "output_type": "stream",
     "text": [
      "Array of shape (3,1)\n",
      " [[0]\n",
      " [1]\n",
      " [2]] \n",
      "\n",
      "Array of shape (1,4) \n",
      " [[0 1 2 3]] \n",
      "\n",
      "A new array of shape (3,4) will be create \n",
      " [[0 1 2 3]\n",
      " [1 2 3 4]\n",
      " [2 3 4 5]] \n",
      "array3\n"
     ]
    }
   ],
   "source": [
    "array1 = np.arange(3).reshape(3,1)\n",
    "print(f\"Array of shape (3,1)\\n {array1} \\n\")\n",
    "array2 = np.arange(4).reshape(1,4)\n",
    "print(f\"Array of shape (1,4) \\n {array2} \\n\")\n",
    "\n",
    "array3 = array1 + array2 \n",
    "print(f\"A new array of shape (3,4) will be create \\n {array3} \\narray3\")\n"
   ]
  },
  {
   "cell_type": "markdown",
   "id": "b8498454-9f11-4620-89b7-4c8ee372df64",
   "metadata": {},
   "source": [
    "4. Given a 3D array of shape (2, 3, 4), add a 2D array of shape (3, 4) to each 2D slice along the first axis."
   ]
  },
  {
   "cell_type": "code",
   "execution_count": 104,
   "id": "b45e8375-51ec-4b7e-9219-dd8bfd655160",
   "metadata": {},
   "outputs": [
    {
     "name": "stdout",
     "output_type": "stream",
     "text": [
      "3D Array of shape (2,3,4)\n",
      "[[[ 0  1  2  3]\n",
      "  [ 4  5  6  7]\n",
      "  [ 8  9 10 11]]\n",
      "\n",
      " [[12 13 14 15]\n",
      "  [16 17 18 19]\n",
      "  [20 21 22 23]]]\n",
      "\n",
      "2D Array of shape (3,4)\n",
      "[[ 0  1  2  3]\n",
      " [ 4  5  6  7]\n",
      " [ 8  9 10 11]]\n",
      "\n",
      "3D Array of shape (2,3,4)\n",
      "[[[ 0  2  4  6]\n",
      "  [ 8 10 12 14]\n",
      "  [16 18 20 22]]\n",
      "\n",
      " [[12 14 16 18]\n",
      "  [20 22 24 26]\n",
      "  [28 30 32 34]]]\n",
      "\n"
     ]
    }
   ],
   "source": [
    "array3d = np.arange(24).reshape(2,3,4)\n",
    "print(f\"3D Array of shape (2,3,4)\\n{array3d}\\n\")\n",
    "\n",
    "array2d = np.arange(12).reshape(3,4)\n",
    "print(f\"2D Array of shape (3,4)\\n{array2d}\\n\")\n",
    "\n",
    "\n",
    "finalArray = array3d + array2d\n",
    "print(f\"3D Array of shape (2,3,4)\\n{finalArray}\\n\")"
   ]
  },
  {
   "cell_type": "markdown",
   "id": "b9720d19-8c74-4615-8bff-410fd42252f2",
   "metadata": {},
   "source": [
    "# See More"
   ]
  },
  {
   "cell_type": "markdown",
   "id": "2e00d2be-a4d3-47f5-865c-98b30d754072",
   "metadata": {},
   "source": [
    "1. Given a 2D array, use slicing to extract every second row and every second column, then add a 1D array to each row of the sliced array.\n"
   ]
  },
  {
   "cell_type": "code",
   "execution_count": 117,
   "id": "7ba42004-2f4b-4592-bb32-67ef973620b6",
   "metadata": {},
   "outputs": [
    {
     "name": "stdout",
     "output_type": "stream",
     "text": [
      "\n",
      " Orignal 2D Array:\n",
      "[[ 0  1  2  3  4  5]\n",
      " [ 6  7  8  9 10 11]\n",
      " [12 13 14 15 16 17]\n",
      " [18 19 20 21 22 23]\n",
      " [24 25 26 27 28 29]\n",
      " [30 31 32 33 34 35]]\n",
      "\n",
      " Sliced Array:\n",
      "[[ 0  2  4]\n",
      " [12 14 16]\n",
      " [24 26 28]]\n",
      "\n",
      " 1D Array:\n",
      "[[ 1  3  5]\n",
      " [13 15 17]\n",
      " [25 27 29]]\n",
      "\n",
      " Final Array:\n",
      "[[ 1  3  5]\n",
      " [13 15 17]\n",
      " [25 27 29]]\n"
     ]
    }
   ],
   "source": [
    "array2d = np.arange(36).reshape(6,6)\n",
    "print(f\"\\n Orignal 2D Array:\\n{array2d}\")\n",
    "\n",
    "\n",
    "slicedArray = array2d[::2,::2]\n",
    "print(f\"\\n Sliced Array:\\n{slicedArray}\")\n",
    "\n",
    "array1d = np.array([1])\n",
    "print(f\"\\n 1D Array:\\n{finalArray}\")\n",
    "\n",
    "finalArray=slicedArray + array1d\n",
    "print(f\"\\n Final Array:\\n{finalArray}\")"
   ]
  },
  {
   "cell_type": "markdown",
   "id": "5a3123ab-8b03-4287-b4fa-c4f80b7559fb",
   "metadata": {},
   "source": [
    "2. From a 3D array of shape (3, 2, 1), extract a sub-array using slicing and then use broadcasting to subtract a 2D array from each slice along the third axis."
   ]
  },
  {
   "cell_type": "code",
   "execution_count": 19,
   "id": "694171af-a350-4f54-a152-d92e732d3b6c",
   "metadata": {},
   "outputs": [
    {
     "name": "stdout",
     "output_type": "stream",
     "text": [
      "Orignal 3d Array\n",
      " \n",
      "[[[0]\n",
      "  [1]]\n",
      "\n",
      " [[2]\n",
      "  [3]]\n",
      "\n",
      " [[4]\n",
      "  [5]]]\n",
      "Extracted Sub Array\n",
      " \n",
      "[[[0]]\n",
      "\n",
      " [[2]]\n",
      "\n",
      " [[4]]]\n",
      "\n",
      "Orignal 2d Array\n",
      " \n",
      "[[1]\n",
      " [2]]\n",
      "\n",
      "Final Array\n",
      " \n",
      "[[[ 1]\n",
      "  [ 2]]\n",
      "\n",
      " [[-1]\n",
      "  [ 0]]\n",
      "\n",
      " [[-3]\n",
      "  [-2]]]\n"
     ]
    }
   ],
   "source": [
    "print(f\"Orignal 3d Array\\n \")\n",
    "array3d = np.arange(6).reshape(3,2,1)\n",
    "print(array3d)\n",
    "\n",
    "#sub_array (Extracting first element of every slice)\n",
    "print(f\"Extracted Sub Array\\n \")\n",
    "subArray = array3d[:,:1,:1]\n",
    "print(subArray)\n",
    "print()\n",
    "\n",
    "#2D Array\n",
    "print(f\"Orignal 2d Array\\n \")\n",
    "\n",
    "array2d = np.array([[1],[2]])\n",
    "print(array2d)\n",
    "print()\n",
    "\n",
    "print(f\"Final Array\\n \")\n",
    "\n",
    "finalArray = array2d - subArray\n",
    "print(finalArray)"
   ]
  },
  {
   "cell_type": "markdown",
   "id": "ea410ae9-dee1-4510-b9cc-44597a5b44f8",
   "metadata": {},
   "source": [
    "3. Given a 2D array, extract the diagonal elements and create a 1D array."
   ]
  },
  {
   "cell_type": "code",
   "execution_count": 26,
   "id": "335d1799-438a-4e13-b9ae-61bf6d2f324d",
   "metadata": {},
   "outputs": [
    {
     "name": "stdout",
     "output_type": "stream",
     "text": [
      "\n",
      "2D Array\n",
      "\n",
      "[[ 0  1  2  3  4  5]\n",
      " [ 6  7  8  9 10 11]\n",
      " [12 13 14 15 16 17]\n",
      " [18 19 20 21 22 23]\n",
      " [24 25 26 27 28 29]\n",
      " [30 31 32 33 34 35]]\n",
      "\n",
      "Diagonals\n",
      "\n",
      "[ 0  7 14 21 28 35]\n"
     ]
    }
   ],
   "source": [
    "print(f\"\\n2D Array\\n\")\n",
    "array2d = np.arange(36).reshape(6,6)\n",
    "print(array2d)\n",
    "\n",
    "print(f\"\\nDiagonals\\n\")\n",
    "\n",
    "diagonals = np.diag(array2d)\n",
    "print(diagonals)\n",
    "\n"
   ]
  },
  {
   "cell_type": "markdown",
   "id": "0964f3d9-96e8-413b-9f52-c2f49bec6967",
   "metadata": {},
   "source": [
    "4. Use slicing to reverse the order of elements in each row of a 2D array"
   ]
  },
  {
   "cell_type": "code",
   "execution_count": null,
   "id": "077bb196-23f9-453f-aa42-2ba361222246",
   "metadata": {},
   "outputs": [],
   "source": [
    "print(f\"\\nOrignal 2D Array\")\n",
    "array2d = np.arange(25).reshape(5,5)\n",
    "print(array2d)\n",
    "\n",
    "print(f\"\\nReversed 2D Array\\n\")\n",
    "reversedarray2d = array2d[::,::-1]\n",
    "print(reversedarray2d)"
   ]
  },
  {
   "cell_type": "markdown",
   "id": "464e3740-4133-4632-89cb-5ec2656f8fc3",
   "metadata": {},
   "source": [
    "5. Given a 3D array of shape (7, 6, 5), use slicing to extract a sub-array of shape (2, 3, 4) and then use broadcasting to add a 1D array of shape (4,) to each row along the third axis.\n"
   ]
  },
  {
   "cell_type": "code",
   "execution_count": 44,
   "id": "4818fced-9101-4dec-aa93-e22c725eb570",
   "metadata": {},
   "outputs": [
    {
     "name": "stdout",
     "output_type": "stream",
     "text": [
      "\n",
      " 3D Array Of Shape(7,6,5)\n",
      "\n",
      "[[[  0   1   2   3   4]\n",
      "  [  5   6   7   8   9]\n",
      "  [ 10  11  12  13  14]\n",
      "  [ 15  16  17  18  19]\n",
      "  [ 20  21  22  23  24]\n",
      "  [ 25  26  27  28  29]]\n",
      "\n",
      " [[ 30  31  32  33  34]\n",
      "  [ 35  36  37  38  39]\n",
      "  [ 40  41  42  43  44]\n",
      "  [ 45  46  47  48  49]\n",
      "  [ 50  51  52  53  54]\n",
      "  [ 55  56  57  58  59]]\n",
      "\n",
      " [[ 60  61  62  63  64]\n",
      "  [ 65  66  67  68  69]\n",
      "  [ 70  71  72  73  74]\n",
      "  [ 75  76  77  78  79]\n",
      "  [ 80  81  82  83  84]\n",
      "  [ 85  86  87  88  89]]\n",
      "\n",
      " [[ 90  91  92  93  94]\n",
      "  [ 95  96  97  98  99]\n",
      "  [100 101 102 103 104]\n",
      "  [105 106 107 108 109]\n",
      "  [110 111 112 113 114]\n",
      "  [115 116 117 118 119]]\n",
      "\n",
      " [[120 121 122 123 124]\n",
      "  [125 126 127 128 129]\n",
      "  [130 131 132 133 134]\n",
      "  [135 136 137 138 139]\n",
      "  [140 141 142 143 144]\n",
      "  [145 146 147 148 149]]\n",
      "\n",
      " [[150 151 152 153 154]\n",
      "  [155 156 157 158 159]\n",
      "  [160 161 162 163 164]\n",
      "  [165 166 167 168 169]\n",
      "  [170 171 172 173 174]\n",
      "  [175 176 177 178 179]]\n",
      "\n",
      " [[180 181 182 183 184]\n",
      "  [185 186 187 188 189]\n",
      "  [190 191 192 193 194]\n",
      "  [195 196 197 198 199]\n",
      "  [200 201 202 203 204]\n",
      "  [205 206 207 208 209]]]\n",
      "\n",
      " Sub Array Of Shape(2,3,4)\n",
      "[[[ 0  1  2  3]\n",
      "  [ 5  6  7  8]\n",
      "  [10 11 12 13]]\n",
      "\n",
      " [[30 31 32 33]\n",
      "  [35 36 37 38]\n",
      "  [40 41 42 43]]]\n",
      "\n",
      " 1D Array Of Shape (,4)\n",
      "\n",
      "Broadcasting\n",
      "\n",
      "[[[ 1  3  5  7]\n",
      "  [ 6  8 10 12]\n",
      "  [11 13 15 17]]\n",
      "\n",
      " [[31 33 35 37]\n",
      "  [36 38 40 42]\n",
      "  [41 43 45 47]]]\n"
     ]
    }
   ],
   "source": [
    "print(f\"\\n 3D Array Of Shape(7,6,5)\\n\")\n",
    "array3d = np.arange(210).reshape(7,6,5)\n",
    "print(array3d)\n",
    "\n",
    "print(f\"\\n Sub Array Of Shape(2,3,4)\")\n",
    "subArray = array3d[:2 , :3 , :4]\n",
    "print(subArray)\n",
    "\n",
    "print(f\"\\n 1D Array Of Shape (,4)\")\n",
    "array1d = np.array([1,2,3,4])\n",
    "\n",
    "print(f\"\\nBroadcasting\\n\")\n",
    "finalArray = array1d + subArray\n",
    "print(finalArray)\n"
   ]
  },
  {
   "cell_type": "markdown",
   "id": "51d700de-ab67-4fac-9da9-863729c4e2ab",
   "metadata": {},
   "source": [
    "6. Create a 2D array and use both slicing and broadcasting to set the last column to the sum of the first two columns for each row."
   ]
  },
  {
   "cell_type": "code",
   "execution_count": 46,
   "id": "e0675e76-e48b-4483-9a72-eaebdf45f760",
   "metadata": {},
   "outputs": [
    {
     "name": "stdout",
     "output_type": "stream",
     "text": [
      "Original array:\n",
      "[[ 0  1  2  3]\n",
      " [ 4  5  6  7]\n",
      " [ 8  9 10 11]\n",
      " [12 13 14 15]]\n",
      "\n",
      "Modified array:\n",
      "[[ 0  1  2  1]\n",
      " [ 4  5  6  9]\n",
      " [ 8  9 10 17]\n",
      " [12 13 14 25]]\n"
     ]
    }
   ],
   "source": [
    "# 2D Array Of Shape (5, 5)\n",
    "array2d = np.arange(16).reshape(4,4)\n",
    "\n",
    "print(\"Original array:\")\n",
    "print(array2d)\n",
    "\n",
    "# Use slicing and broadcasting to set the last column to the sum of the first two columns for each row\n",
    "array2d[:, -1] = array2d[:, 0] + array2d[:, 1]\n",
    "\n",
    "print(\"\\nModified array:\")\n",
    "print(array2d)\n"
   ]
  }
 ],
 "metadata": {
  "kernelspec": {
   "display_name": "Python 3 (ipykernel)",
   "language": "python",
   "name": "python3"
  },
  "language_info": {
   "codemirror_mode": {
    "name": "ipython",
    "version": 3
   },
   "file_extension": ".py",
   "mimetype": "text/x-python",
   "name": "python",
   "nbconvert_exporter": "python",
   "pygments_lexer": "ipython3",
   "version": "3.12.2"
  }
 },
 "nbformat": 4,
 "nbformat_minor": 5
}
