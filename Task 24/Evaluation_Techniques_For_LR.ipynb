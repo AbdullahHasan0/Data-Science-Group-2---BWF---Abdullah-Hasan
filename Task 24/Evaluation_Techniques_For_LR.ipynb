{
 "cells": [
  {
   "cell_type": "markdown",
   "metadata": {},
   "source": [
    "<h1 align = center> <font color = \"#66FF99\">Evaluation Techniques for Regression Models</font></h1>\n",
    "<h1 align = center> <font color = \"#66FF99\"></font></h1>"
   ]
  },
  {
   "cell_type": "markdown",
   "metadata": {},
   "source": [
    "#### What are Evaluation Techniques ?\n",
    "\n",
    "Evaluation techniques are essential for assessing the performance of regression models. They help identify the best model and tune hyperparameters to improve prediction accuracy. Here are some common evaluation techniques:\n",
    "\n",
    "1. Mean Absolute Error (MAE): This metric calculates the average absolute difference between predicted and actual values. It is less sensitive to outliers compared to the Mean Squared Error (MSE).   \n",
    "\n",
    "\n",
    "2. Mean Squared Error (MSE): This metric calculates the average squared difference between predicted and actual values. It penalizes larger errors more heavily, making it more suitable for situations where outliers are more important.   \n",
    "\n",
    "\n",
    "3. Root Mean Squared Error (RMSE): This metric calculates the square root of the Mean Squared Error. It is similar to MSE, but it's more interpretable as it's in the same units as the target variable.   \n",
    "\n",
    "\n",
    "4. Root Mean Squared Log Error (RMSLE): This metric calculates the square root of the Mean Squared Log Error. \n",
    "\n",
    "\n",
    "5. R-squared: This metric measures the proportion of the variance in the target variable that is explained by the model. It ranges from 0 to 1, where 1 indicates a perfect fit and 0 indicates no fit. R-squared can be used to compare different regression models and determine the best-fit model.   \n",
    "\n",
    "\n",
    "6. Adjusted R-squared: This metric is similar to R-squared, but it accounts for the number of features in the model. It helps to determine the performance of the model in a more controlled environment.   \n",
    "\n",
    "\n",
    "7. Confidence Intervals: These are used to estimate the uncertainty in the predicted values. They provide a range of values that the true value is likely to fall within.   \n",
    "\n",
    "\n",
    "8. Cross-Validation: This technique divides the dataset into multiple subsets, trains the model on a subset, and evaluates its performance on the remaining subset. It helps to estimate the model's performance on unseen data and provides a more accurate measure of its performance.   \n",
    "\n",
    "\n",
    "9. Residual Plots: These plots help to identify any patterns or trends in the residuals (errors) of the model.   \n",
    "\n",
    "10. Leverage Points: These are data points that have a high leverage on the regression line. They can be influential in determining the model's performance and should be carefully examined.   \n",
    " \n",
    "\n",
    "11. Influential Observations: These are data points that have a substantial impact on the regression model, either by having a large impact on the predicted values or by having a strong influence on the model's parameters. They should be removed from the dataset before training the model.   \n",
    "\n",
    "\n",
    "These evaluation techniques can help you compare different regression models, tune hyperparameters, and make informed decisions about the performance of your predictive models.\n",
    "\n"
   ]
  },
  {
   "cell_type": "markdown",
   "metadata": {},
   "source": [
    "#### Why we require evaluation metrics ? \n",
    "\n",
    "Evaluation metrics help us understand the performance of the regression models and make informed decisions about their effectiveness and reliability. They provide a clear understanding of the model's accuracy, reliability, and interpretability. By comparing different evaluation metrics, we can identify the best-performing model and make more informed predictions.   \n",
    "\n",
    "\n",
    "\n"
   ]
  },
  {
   "cell_type": "markdown",
   "metadata": {},
   "source": [
    "<h2 align = center> <font color = \"#EEAFBB\">Importing Necessary Libraries</font></h2>\n"
   ]
  },
  {
   "cell_type": "code",
   "execution_count": 149,
   "metadata": {},
   "outputs": [],
   "source": [
    "import pandas as pd\n",
    "import numpy as np\n",
    "import matplotlib.pyplot as plt\n",
    "from sklearn.model_selection import train_test_split\n",
    "from sklearn.linear_model import LinearRegression\n",
    "from sklearn.metrics import mean_absolute_error\n",
    "from sklearn.metrics import mean_squared_error\n",
    "from sklearn.metrics import root_mean_squared_error\n",
    "from sklearn.metrics import root_mean_squared_log_error\n",
    "from sklearn.metrics import r2_score\n",
    "import matplotlib.pyplot as plt\n"
   ]
  },
  {
   "cell_type": "markdown",
   "metadata": {},
   "source": [
    "<h2 align = center> <font color = \"#16AFBB\">Importing Dataset</font></h2>\n"
   ]
  },
  {
   "cell_type": "code",
   "execution_count": 101,
   "metadata": {},
   "outputs": [],
   "source": [
    "data = pd.read_csv('Salary.csv')\n"
   ]
  },
  {
   "cell_type": "markdown",
   "metadata": {},
   "source": [
    "<h3 align = center> <font color = \"cream\">Exploring Data</font></h3>\n"
   ]
  },
  {
   "cell_type": "code",
   "execution_count": 102,
   "metadata": {},
   "outputs": [
    {
     "data": {
      "text/plain": [
       "Index(['Age', 'Gender', 'Education Level', 'Job Title', 'Years of Experience',\n",
       "       'Salary'],\n",
       "      dtype='object')"
      ]
     },
     "execution_count": 102,
     "metadata": {},
     "output_type": "execute_result"
    }
   ],
   "source": [
    "data.columns"
   ]
  },
  {
   "cell_type": "code",
   "execution_count": 103,
   "metadata": {},
   "outputs": [
    {
     "data": {
      "text/plain": [
       "Age                    float64\n",
       "Gender                  object\n",
       "Education Level         object\n",
       "Job Title               object\n",
       "Years of Experience    float64\n",
       "Salary                 float64\n",
       "dtype: object"
      ]
     },
     "execution_count": 103,
     "metadata": {},
     "output_type": "execute_result"
    }
   ],
   "source": [
    "data.dtypes"
   ]
  },
  {
   "cell_type": "code",
   "execution_count": 104,
   "metadata": {},
   "outputs": [
    {
     "data": {
      "text/plain": [
       "Age                    0\n",
       "Gender                 0\n",
       "Education Level        0\n",
       "Job Title              0\n",
       "Years of Experience    0\n",
       "Salary                 0\n",
       "dtype: int64"
      ]
     },
     "execution_count": 104,
     "metadata": {},
     "output_type": "execute_result"
    }
   ],
   "source": [
    "data.isnull().sum()\n",
    "data.dropna(inplace=True,axis=0)\n",
    "data.isnull().sum()\n"
   ]
  },
  {
   "cell_type": "markdown",
   "metadata": {},
   "source": [
    "<h2 align = center> <font color = \"#BBAEEB\">Preprocessing</font></h2>\n"
   ]
  },
  {
   "cell_type": "code",
   "execution_count": 112,
   "metadata": {},
   "outputs": [
    {
     "data": {
      "text/plain": [
       "array([1, 2, 3, 0])"
      ]
     },
     "execution_count": 112,
     "metadata": {},
     "output_type": "execute_result"
    }
   ],
   "source": [
    "data['Education Level'].unique()"
   ]
  },
  {
   "cell_type": "markdown",
   "metadata": {},
   "source": [
    "There are many same degrees with different name, So here i am handling them"
   ]
  },
  {
   "cell_type": "code",
   "execution_count": 106,
   "metadata": {},
   "outputs": [],
   "source": [
    "data['Education Level'] = data['Education Level'].replace({\"Bachelor's Degree\":\"Bachelor's\" , \"Master's Degree\":\"Master's\" , 'PhD' :'phD'})"
   ]
  },
  {
   "cell_type": "code",
   "execution_count": 107,
   "metadata": {},
   "outputs": [
    {
     "data": {
      "text/plain": [
       "array([\"Bachelor's\", \"Master's\", 'phD', 'High School'], dtype=object)"
      ]
     },
     "execution_count": 107,
     "metadata": {},
     "output_type": "execute_result"
    }
   ],
   "source": [
    "data['Education Level'].unique()"
   ]
  },
  {
   "cell_type": "markdown",
   "metadata": {},
   "source": [
    "We handled the same degrees with different names"
   ]
  },
  {
   "cell_type": "markdown",
   "metadata": {},
   "source": [
    "<h3 align = center> <font color = \"#BFFFBB\">Encoding the Categorical Data</font></h3>\n"
   ]
  },
  {
   "cell_type": "code",
   "execution_count": 108,
   "metadata": {},
   "outputs": [
    {
     "name": "stderr",
     "output_type": "stream",
     "text": [
      "C:\\Users\\Syed Abdullah\\AppData\\Local\\Temp\\ipykernel_14236\\2707144198.py:1: FutureWarning: Downcasting behavior in `replace` is deprecated and will be removed in a future version. To retain the old behavior, explicitly call `result.infer_objects(copy=False)`. To opt-in to the future behavior, set `pd.set_option('future.no_silent_downcasting', True)`\n",
      "  data['Education Level'] = data['Education Level'].replace({'High School':0,\"Bachelor's\":1 , \"Master's\":2 ,'phD' : 3 })\n"
     ]
    }
   ],
   "source": [
    "data['Education Level'] = data['Education Level'].replace({'High School':0,\"Bachelor's\":1 , \"Master's\":2 ,'phD' : 3 })\n",
    "data = pd.get_dummies(data,columns=['Gender'])\n"
   ]
  },
  {
   "cell_type": "markdown",
   "metadata": {},
   "source": [
    "<h2 align = center> <font color = \"#16AEEB\">Training Model</font></h2>\n"
   ]
  },
  {
   "cell_type": "code",
   "execution_count": 110,
   "metadata": {},
   "outputs": [
    {
     "name": "stdout",
     "output_type": "stream",
     "text": [
      "[128763.19649076  94632.84152315  77443.3459296  ... 120762.15878417\n",
      " 114342.17917827  79714.55177167]\n"
     ]
    },
    {
     "data": {
      "text/plain": [
       "0.6963831481277618"
      ]
     },
     "execution_count": 110,
     "metadata": {},
     "output_type": "execute_result"
    }
   ],
   "source": [
    "X = data.drop(columns=['Salary',\"Age\",\"Job Title\"],axis = 1)\n",
    "y = data['Salary']\n",
    "\n",
    "X_train ,X_test , y_train ,  y_test = train_test_split(X,y , test_size=0.2 , random_state=42)\n",
    "\n",
    "model = LinearRegression()\n",
    "model.fit(X_train, y_train)\n",
    "\n",
    "yPredicted = model.predict(X_test)\n",
    "print(yPredicted)\n",
    "\n",
    "model.score(X_test,y_test)\n",
    "\n"
   ]
  },
  {
   "cell_type": "markdown",
   "metadata": {},
   "source": [
    "<h1 align = center> <font color = \"#AA00BB\">Mean Absolute Error</font></h1>\n",
    "<h1 align = center> <font color = \"#66FF99\"></font></h1>\n"
   ]
  },
  {
   "cell_type": "markdown",
   "metadata": {},
   "source": [
    "#### What is Mean Absolute Error (MAE) ?\n",
    "\n",
    "MAE is the average absolute difference between the predicted and actual values. It measures the average difference between the predicted and actual values, regardless of their magnitude. It is less sensitive to outliers compared to the Mean Squared Error (MSE).\n",
    "\n",
    "\\begin{equation}\n",
    "\\text{MAE} = \\frac{1}{n} \\sum_{i=1}^{n} \\left| y_{\\text{actual},i} - y_{\\text{predicted},i} \\right|\n",
    "\\end{equation}\n"
   ]
  },
  {
   "cell_type": "markdown",
   "metadata": {},
   "source": [
    "#### Advantages:\n",
    "\n",
    "- Easy to interpret: It's easy to understand the average difference between predicted and actual values.\n",
    "- Doesn't require the model to be linear: MAE can be used with any regression model, regardless of the underlying assumptions.\n",
    "- Provides a measure of the average error: It gives an average measure of the difference between the predicted and actual values, regardless of their magnitude.\n",
    "- Robust to outliers: MAE is less sensitive to outliers compared to MSE, which can help identify and correct errors more effectively.\n",
    "\n",
    "#### Disadvantages:\n",
    "\n",
    "- Doesn't directly provide insights into the direction of the error: MAE doesn't provide any information about whether the error is due to a positive or negative prediction.\n",
    "- Doesn't provide a measure of the relative error: MAE doesn't provide any information about how much the error is relative to the actual value.\n",
    "\n"
   ]
  },
  {
   "cell_type": "markdown",
   "metadata": {},
   "source": [
    "### Implemantation"
   ]
  },
  {
   "cell_type": "code",
   "execution_count": 113,
   "metadata": {},
   "outputs": [
    {
     "name": "stdout",
     "output_type": "stream",
     "text": [
      "22940.05446498384\n"
     ]
    }
   ],
   "source": [
    "MAEsumError = 0 \n",
    "\n",
    "\n",
    "for i in range (len(y_test)):\n",
    "    MAEsumError += abs(y_test.iloc[i] - yPredicted[i])\n",
    "\n",
    "\n",
    "MAE =  MAEsumError/len(y_test)\n",
    "\n",
    "print(MAE)"
   ]
  },
  {
   "cell_type": "markdown",
   "metadata": {},
   "source": [
    "\n",
    "<h2 align = center> <font color = \"#6188FA\">Validating Using Scikit Learn</font></h2>\n"
   ]
  },
  {
   "cell_type": "code",
   "execution_count": 114,
   "metadata": {},
   "outputs": [
    {
     "name": "stdout",
     "output_type": "stream",
     "text": [
      "MAE 22940.054464983823\n"
     ]
    }
   ],
   "source": [
    "print(\"MAE\",mean_absolute_error(y_test,yPredicted))"
   ]
  },
  {
   "cell_type": "markdown",
   "metadata": {},
   "source": [
    "### Interpretation \n",
    "\n",
    "The Mean Absolute Error (MAE) calculated using Scikit Learn and our own implementation is approximately 22940. This means that, on average, the predicted salary is 25054 less than the actual salary. This result is reasonable because we used only few features of given dataset for prediction."
   ]
  },
  {
   "cell_type": "markdown",
   "metadata": {},
   "source": [
    "\n",
    "<h1 align = center> <font color = \"#AA00BB\">Mean Squared Error</font></h1>"
   ]
  },
  {
   "cell_type": "markdown",
   "metadata": {},
   "source": [
    "#### What is the mean squared error ?\n",
    "\n",
    "MSE is the average squared difference between the predicted and actual values. It measures the average squared difference between the predicted and actual values, taking into account the square of the differences. It penalizes larger errors more heavily compared to the Mean Absolute Error (MAE).\n",
    "\n",
    "\\begin{equation}\n",
    "\\text{MSE} = \\frac{1}{n} \\sum_{i=1}^{n} \\left( y_{\\text{actual},i} - y_{\\text{predicted},i} \\right)^2\n",
    "\\end{equation}"
   ]
  },
  {
   "cell_type": "markdown",
   "metadata": {},
   "source": [
    "#### Advantages :\n",
    "\n",
    "- It provides a clear indication of the average squared difference between the predicted and actual values.\n",
    "- It helps to understand the spread of the predicted values compared to the actual values.\n",
    "- It is less sensitive to outliers compared to the Mean Absolute Error (MAE).\n",
    "\n",
    "### Disadvantages :\n",
    "\n",
    "- It can be difficult to interpret, as it involves squaring the differences.\n",
    "- It does not provide a clear indication of the average difference between the predicted and actual values.\n",
    "\n",
    "\n",
    "\n"
   ]
  },
  {
   "cell_type": "markdown",
   "metadata": {},
   "source": [
    "### Implementation"
   ]
  },
  {
   "cell_type": "code",
   "execution_count": 115,
   "metadata": {},
   "outputs": [
    {
     "name": "stdout",
     "output_type": "stream",
     "text": [
      "865751080.2885832\n"
     ]
    }
   ],
   "source": [
    "MSEsumError = 0 \n",
    "\n",
    "\n",
    "for i in range (len(y_test)):\n",
    "    MSEsumError += (y_test.iloc[i] - yPredicted[i])**2\n",
    "\n",
    "\n",
    "MSE =  MSEsumError/len(y_test)\n",
    "\n",
    "print(MSE)"
   ]
  },
  {
   "cell_type": "markdown",
   "metadata": {},
   "source": [
    "\n",
    "<h2 align = center> <font color = \"#61BBF3\">Validating Using Scikit Learn</font></h2>\n"
   ]
  },
  {
   "cell_type": "code",
   "execution_count": 116,
   "metadata": {},
   "outputs": [
    {
     "name": "stdout",
     "output_type": "stream",
     "text": [
      "MSE 865751080.2885829\n"
     ]
    }
   ],
   "source": [
    "\n",
    "print(\"MSE\",mean_squared_error(y_test,yPredicted))\n"
   ]
  },
  {
   "cell_type": "markdown",
   "metadata": {},
   "source": [
    "### Interpretation\n",
    "\n",
    "The Mean Squared Error (MSE) calculated using Scikit Learn and our own implementation is approximately 865751080. This means that, on average, the predicted salary is 982050061 more than the actual salary squared. This result is reasonable because we used only few features of given dataset for prediction.\n",
    "\n",
    " \n",
    "\n"
   ]
  },
  {
   "cell_type": "markdown",
   "metadata": {},
   "source": [
    "<h1 align = center> <font color = \"#AA00BB\">Root Mean Squared Error</font></h1>"
   ]
  },
  {
   "cell_type": "markdown",
   "metadata": {},
   "source": [
    "#### What is the root mean squared error ? \n",
    "\n",
    "RMSE is the square root of the Mean Squared Error. It measures the average difference between the predicted and actual values, taking into account the square root of the differences. It is less sensitive to outliers compared to the Mean Absolute Error (MAE) and the Mean Squared Error (MSE).\n",
    "\n",
    "\\begin{equation}\n",
    "\\text{RMSE} = \\sqrt{\\frac{1}{n} \\sum_{i=1}^{n} \\left( y_{\\text{actual},i} - y_{\\text{predicted},i} \\right)^2}\n",
    "\\end{equation}"
   ]
  },
  {
   "cell_type": "markdown",
   "metadata": {},
   "source": [
    "#### Advantages:\n",
    "- The output value you get is in the same unit as the required output variable which makes interpretation of loss easy.\n",
    "- It helps to understand the spread of the predicted values compared to the actual values.\n",
    "- It is less sensitive to outliers compared to the Mean Absolute Error (MAE) and the Mean Squared Error (MSE).\n",
    "\n",
    "### Disadvantages:\n",
    "\n",
    "- It can be difficult to interpret, as it involves taking the square root of the Mean Squared Error.\n",
    "- It is not that robust to outliers as compared to MAE.\n",
    "\n",
    "\n"
   ]
  },
  {
   "cell_type": "markdown",
   "metadata": {},
   "source": [
    "### Implementation\n"
   ]
  },
  {
   "cell_type": "code",
   "execution_count": 122,
   "metadata": {},
   "outputs": [
    {
     "name": "stdout",
     "output_type": "stream",
     "text": [
      "29423.648317103423\n"
     ]
    }
   ],
   "source": [
    "RMSEsumError = 0 \n",
    "\n",
    "\n",
    "for i in range (len(y_test)):\n",
    "    RMSEsumError += (y_test.iloc[i] - yPredicted[i])**2\n",
    "\n",
    "\n",
    "RMSE = np.sqrt(RMSEsumError/len(y_test))\n",
    "\n",
    "print(RMSE)"
   ]
  },
  {
   "cell_type": "markdown",
   "metadata": {},
   "source": [
    "\n",
    "<h2 align = center> <font color = \"#BBAA87\">Validating Using Scikit Learn</font></h2>\n"
   ]
  },
  {
   "cell_type": "code",
   "execution_count": 120,
   "metadata": {},
   "outputs": [
    {
     "name": "stdout",
     "output_type": "stream",
     "text": [
      "RMSE 29423.64831710342\n"
     ]
    }
   ],
   "source": [
    "\n",
    "print(\"RMSE\",root_mean_squared_error(y_test,yPredicted))\n"
   ]
  },
  {
   "cell_type": "markdown",
   "metadata": {},
   "source": [
    "### Interpretation\n",
    "\n",
    "The Root Mean Squared Error (RMSE) calculated using Scikit Learn and our own implementation is approximately 29423.64. This means that, on average, the predicted salary is 29423.64 more than the actual salary. This result is reasonable because we used only few features of given the dataset for prediction. "
   ]
  },
  {
   "cell_type": "markdown",
   "metadata": {},
   "source": [
    "<h1 align = center> <font color = \"#AAAA00\">Root Mean Squared Log Error</font></h1>\n",
    "\n",
    "#### What is the root mean squared log error?\n",
    "\n",
    "RMSLE is the square root of the Mean Squared Logarithmic Error. It measures the average difference between the logarithms of the predicted and actual values, taking into account the square root of the differences. It is less sensitive to outliers compared to the Mean Absolute Error (MAE) and the Mean Squared Error (MSE).\n",
    "\n",
    "\\begin{equation}\n",
    "\\text{RMSLE} = \\sqrt{\\frac{1}{n} \\sum_{i=1}^{n} \\left( \\log\\left(y_{\\text{predicted},i} + 1\\right) - \\log\\left(y_{\\text{actual},i} + 1\\right) \\right)^2}\n",
    "\\end{equation}\n",
    "\n"
   ]
  },
  {
   "cell_type": "markdown",
   "metadata": {},
   "source": [
    "\n",
    "### Implementation\n",
    "\n",
    "\n",
    "\n"
   ]
  },
  {
   "cell_type": "code",
   "execution_count": 129,
   "metadata": {},
   "outputs": [
    {
     "name": "stdout",
     "output_type": "stream",
     "text": [
      "0.3231749322963715\n"
     ]
    }
   ],
   "source": [
    "import numpy as np\n",
    "\n",
    "RMSLEsumError = 0 \n",
    "\n",
    "for i in range(len(y_test)):\n",
    "    RMSLEsumError += (np.log(yPredicted[i] + 1) - np.log(y_test.iloc[i] + 1))**2\n",
    "\n",
    "RMSLE = np.sqrt(RMSLEsumError / len(y_test))\n",
    "\n",
    "print(RMSLE)\n"
   ]
  },
  {
   "cell_type": "markdown",
   "metadata": {},
   "source": [
    "\n",
    "<h2 align = center> <font color = \"#BBFF07\">Validating Using Scikit Learn</font></h2>\n"
   ]
  },
  {
   "cell_type": "code",
   "execution_count": 125,
   "metadata": {},
   "outputs": [
    {
     "name": "stdout",
     "output_type": "stream",
     "text": [
      "RMSLE 0.32317493229637156\n"
     ]
    }
   ],
   "source": [
    "print(\"RMSLE\",root_mean_squared_log_error(y_test,yPredicted))\n",
    "\n"
   ]
  },
  {
   "cell_type": "markdown",
   "metadata": {},
   "source": [
    "### Interpretation\n"
   ]
  },
  {
   "cell_type": "markdown",
   "metadata": {},
   "source": [
    "A RMSLE of 0.323 suggests that, on average, the logarithmic difference between your predicted and actual values is 0.323 units. This means there’s a moderate level of error in the predictions.\n",
    "\n",
    "\n",
    "\n"
   ]
  },
  {
   "cell_type": "markdown",
   "metadata": {},
   "source": [
    "<h1 align = center> <font color = \"#AAFF77\">R Squared</font></h1>\n"
   ]
  },
  {
   "cell_type": "markdown",
   "metadata": {},
   "source": [
    "#### What is R Squared ?\n",
    "\n",
    "R-squared is a statistical measure that represents the proportion of the variance for a dependent variable that's explained by an independent variable or variables in a regression model. It ranges from 0 to 1, where 1 indicates that the dependent variable is perfectly explained by the independent variable(s), and 0 indicates that the independent variable(s) do not contribute to explaining the dependent variable at all.\n",
    "\n",
    "\\begin{equation}\n",
    "R^2 = 1- \\frac{\\text{SSR}}{\\text{SST}}\n",
    "\\end{equation}\n",
    "\n",
    "\n",
    "\n",
    "\n",
    "\n",
    "\n",
    "\n",
    "\n"
   ]
  },
  {
   "cell_type": "markdown",
   "metadata": {},
   "source": [
    "#### Advantages:\n",
    "\n",
    "- It provides a clear measure of the proportion of the variance for a dependent variable that's explained by an independent variable or variables in a regression model.\n",
    "- It can be used to compare the goodness of fit of different regression models.\n",
    "\n",
    "### Disadvantages:\n",
    "\n",
    "- It can be difficult to interpret, as it involves comparing the explained variance to the total variance.\n",
    "- It does not provide a measure of the overall significance of the independent variables.\n",
    "\n",
    "\n"
   ]
  },
  {
   "cell_type": "markdown",
   "metadata": {},
   "source": [
    "### Implementation"
   ]
  },
  {
   "cell_type": "code",
   "execution_count": 135,
   "metadata": {},
   "outputs": [
    {
     "name": "stdout",
     "output_type": "stream",
     "text": [
      "0.6964246145371722\n"
     ]
    }
   ],
   "source": [
    "yMean = np.mean(y)\n",
    "yMean\n",
    "\n",
    "SST = np.sum((y_test - yMean)**2)\n",
    "\n",
    "SSR = np.sum((y_test - yPredicted)**2)\n",
    "\n",
    "R_squared = 1 - (SSR / SST)\n",
    "\n",
    "print(R_squared)"
   ]
  },
  {
   "cell_type": "markdown",
   "metadata": {},
   "source": [
    "\n",
    "<h2 align = center> <font color = \"#55FFEE\">Validating Using Scikit Learn</font></h2>\n"
   ]
  },
  {
   "cell_type": "code",
   "execution_count": 138,
   "metadata": {},
   "outputs": [
    {
     "name": "stdout",
     "output_type": "stream",
     "text": [
      "R^2 0.6963831481277618\n"
     ]
    }
   ],
   "source": [
    "print(\"R^2\",r2_score(y_test,yPredicted))"
   ]
  },
  {
   "cell_type": "markdown",
   "metadata": {},
   "source": [
    "### Interpretation\n",
    "\n",
    "The R-squared value calculated using Scikit Learn and our own implementation is approximately 0.696. This means that, on average, the predicted salary explains 69.6% of the variance in the actual salary. This result is reasonable because we used only few features of given the dataset for prediction. \n"
   ]
  },
  {
   "cell_type": "markdown",
   "metadata": {},
   "source": [
    "<h1 align = center> <font color = \"#AA0077\">Adjusted R Squared</font></h1>\n",
    "\n",
    "#### What is Adjusted R Squared ?\n",
    "\n",
    "Adjusted R-squared is a statistical measure that adjusts the R-squared value for the number of independent variables in a regression model to account for the effects of multiple factors. It is calculated as follows:\n",
    "\n",
    "\\begin{equation}\n",
    "\\text{Adjusted R}^2 = 1 - \\left({1 - R^2} \\right) \\times \\frac{n - 1}{n - p - 1}\n",
    "\\end{equation}\n",
    "\n",
    "Where:\n",
    "\n",
    "- R^2 is the R-squared value\n",
    "\n",
    "- n is the number of data points\n",
    "\n",
    "- p is the number of independent variables\n",
    "\n",
    "- Adjusted R^2 is the adjusted R-squared value\n",
    "\n",
    "### Advantages:\n",
    "\n",
    "- It provides a more accurate measure of the proportion of the variance for a dependent variable that's explained by an independent variable or variables in a regression model.\n",
    "- It accounts for the effects of multiple factors in the model.\n",
    "\n",
    "### Disadvantages:\n",
    "\n",
    "- It can be difficult to interpret, as it involves comparing the adjusted R-squared value to the R-squared value.\n",
    "\n",
    "- It does not provide a measure of the overall significance of the independent variables.\n",
    "\n"
   ]
  },
  {
   "cell_type": "markdown",
   "metadata": {},
   "source": [
    "### Implementation"
   ]
  },
  {
   "cell_type": "code",
   "execution_count": 141,
   "metadata": {},
   "outputs": [
    {
     "name": "stdout",
     "output_type": "stream",
     "text": [
      "0.6952867757610746\n"
     ]
    }
   ],
   "source": [
    "\n",
    "\n",
    "import numpy as np\n",
    "\n",
    "n = len(y_test)\n",
    "\n",
    "p = len(X_test.columns)\n",
    "\n",
    "R_squared = 1 - (SSR / SST)\n",
    "\n",
    "Adjusted_R_squared = 1 - (((1 - R_squared)) * (n - 1) / (n - p - 1))\n",
    "\n",
    "print(Adjusted_R_squared)\n",
    "\n"
   ]
  },
  {
   "cell_type": "markdown",
   "metadata": {},
   "source": [
    "<h1 align = center> <font color = \"#8899FF\">Mean Absolute Percentage Error</font></h1>"
   ]
  },
  {
   "cell_type": "markdown",
   "metadata": {},
   "source": [
    "\n",
    "#### What is Mean Absolute Percentage Error ?\n",
    "\n",
    "MAPE is a statistical measure that calculates the average absolute percentage error of the predicted values compared to the actual values. It is calculated as follows:\n",
    "\n",
    "\\begin{equation}\n",
    "\\text{MAPE} = \\frac{1}{n} \\sum_{i=1}^{n} \\left| \\frac{y_{\\text{actual},i} - y_{\\text{predicted},i}}{y_{\\text{actual},i}} \\right| \\times 100\\%\n",
    "\\end{equation}\n",
    "\n",
    "### Advantages:\n",
    "\n",
    "- It provides a clear measure of the average percentage error of the predicted values compared to the actual values.\n",
    "- It can be used to compare the performance of different regression models.\n",
    "\n",
    "### Disadvantages:\n",
    "\n",
    "- It can be difficult to interpret, as it involves calculating the absolute percentage error and then dividing it by the actual value.\n",
    "- It does not account for the direction of the error."
   ]
  },
  {
   "cell_type": "markdown",
   "metadata": {},
   "source": [
    "### Implementation"
   ]
  },
  {
   "cell_type": "code",
   "execution_count": 145,
   "metadata": {},
   "outputs": [
    {
     "name": "stdout",
     "output_type": "stream",
     "text": [
      "33.943549835750005\n"
     ]
    }
   ],
   "source": [
    "\n",
    "MAPEsumError = 0 \n",
    "\n",
    "for i in range(len(y_test)):\n",
    "    MAPEsumError += abs((y_test.iloc[i] - yPredicted[i]) / y_test.iloc[i])\n",
    "\n",
    "\n",
    "MAPE = (MAPEsumError / len(y_test))*100\n",
    "\n",
    "print(MAPE)\n",
    "\n"
   ]
  },
  {
   "cell_type": "code",
   "execution_count": 147,
   "metadata": {},
   "outputs": [
    {
     "data": {
      "text/plain": [
       "np.float64(0.3394354983574998)"
      ]
     },
     "execution_count": 147,
     "metadata": {},
     "output_type": "execute_result"
    }
   ],
   "source": [
    "from sklearn.metrics import mean_absolute_percentage_error\n",
    "\n",
    "mean_absolute_percentage_error(y_test, yPredicted)"
   ]
  },
  {
   "cell_type": "markdown",
   "metadata": {},
   "source": [
    "### Interpretation\n",
    "\n",
    "The Mean Absolute Percentage Error (MAPE) calculated using Scikit Learn and our own implementation is approximately 33.94%. This means that, on average, the predicted salary is 33.94% more than the actual salary. This result is reasonable because we used only few features of given the dataset for prediction. \n"
   ]
  },
  {
   "cell_type": "markdown",
   "metadata": {},
   "source": [
    "<h1 align = center> <font color = \"#AAA9FB\">Residual Plots</font></h1>"
   ]
  },
  {
   "cell_type": "markdown",
   "metadata": {},
   "source": [
    "\n",
    "#### What is residual plots?\n",
    "\n",
    "Residual plots are graphical tools used to assess the quality of a regression model. They help to identify any patterns or outliers in the residuals, which can indicate potential issues with the model's assumptions.\n",
    "\n"
   ]
  },
  {
   "cell_type": "markdown",
   "metadata": {},
   "source": [
    "### Implementation"
   ]
  },
  {
   "cell_type": "code",
   "execution_count": 150,
   "metadata": {},
   "outputs": [
    {
     "data": {
      "image/png": "[encoded data removed]",
      "text/plain": [
       "<Figure size 640x480 with 1 Axes>"
      ]
     },
     "metadata": {},
     "output_type": "display_data"
    }
   ],
   "source": [
    "\n",
    "residuals = y_test - yPredicted\n",
    "\n",
    "plt.scatter(yPredicted, residuals)\n",
    "\n",
    "plt.xlabel(\"Predicted Salary\")\n",
    "\n",
    "plt.ylabel(\"Residuals\")\n",
    "\n",
    "plt.show()\n",
    "\n",
    "\n",
    "\n"
   ]
  },
  {
   "cell_type": "markdown",
   "metadata": {},
   "source": [
    "### Interpretation \n",
    "\n",
    "The residual plot shows a scatter plot of the predicted salary (on the x-axis) versus the residuals (on the y-axis). If the model is a good fit, the residuals should be randomly scattered around the horizontal line at zero. However, if there are any patterns or outliers, they may indicate that the model's assumptions are not met. In this case, it seems that there may be some heteroscedasticity in the residuals, meaning that the variance of the residuals may not be constant across the range of predicted salaries. This could potentially affect the accuracy of the model's predictions.\n"
   ]
  }
 ],
 "metadata": {
  "kernelspec": {
   "display_name": "Python 3",
   "language": "python",
   "name": "python3"
  },
  "language_info": {
   "codemirror_mode": {
    "name": "ipython",
    "version": 3
   },
   "file_extension": ".py",
   "mimetype": "text/x-python",
   "name": "python",
   "nbconvert_exporter": "python",
   "pygments_lexer": "ipython3",
   "version": "3.12.2"
  }
 },
 "nbformat": 4,
 "nbformat_minor": 2
}
